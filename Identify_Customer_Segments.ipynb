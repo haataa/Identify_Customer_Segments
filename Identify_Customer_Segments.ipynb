{
 "cells": [
  {
   "cell_type": "markdown",
   "metadata": {},
   "source": [
    "# Project: Identify Customer Segments\n",
    "\n",
    "In this project, you will apply unsupervised learning techniques to identify segments of the population that form the core customer base for a mail-order sales company in Germany. These segments can then be used to direct marketing campaigns towards audiences that will have the highest expected rate of returns. The data that you will use has been provided by our partners at Bertelsmann Arvato Analytics, and represents a real-life data science task."
   ]
  },
  {
   "cell_type": "code",
   "execution_count": 159,
   "metadata": {},
   "outputs": [],
   "source": [
    "# import libraries here; add more as necessary\n",
    "import numpy as np\n",
    "import pandas as pd\n",
    "import matplotlib.pyplot as plt\n",
    "import seaborn as sns\n",
    "import ast\n",
    "from sklearn.preprocessing import Imputer\n",
    "from sklearn.preprocessing import StandardScaler\n",
    "from sklearn.decomposition import PCA\n",
    "from sklearn.cluster import KMeans\n",
    "from scipy.stats import itemfreq, chisquare\n",
    "# magic word for producing visualizations in notebook\n",
    "%matplotlib inline"
   ]
  },
  {
   "cell_type": "markdown",
   "metadata": {},
   "source": [
    "### Step 0: Load the Data\n",
    "\n",
    "There are four files associated with this project (not including this one):\n",
    "\n",
    "- `Udacity_AZDIAS_Subset.csv`: Demographics data for the general population of Germany; 891211 persons (rows) x 85 features (columns).\n",
    "- `Udacity_CUSTOMERS_Subset.csv`: Demographics data for customers of a mail-order company; 191652 persons (rows) x 85 features (columns).\n",
    "- `Data_Dictionary.md`: Detailed information file about the features in the provided datasets.\n",
    "- `AZDIAS_Feature_Summary.csv`: Summary of feature attributes for demographics data; 85 features (rows) x 4 columns\n",
    "\n",
    "Each row of the demographics files represents a single person, but also includes information outside of individuals, including information about their household, building, and neighborhood. You will use this information to cluster the general population into groups with similar demographic properties. Then, you will see how the people in the customers dataset fit into those created clusters. The hope here is that certain clusters are over-represented in the customers data, as compared to the general population; those over-represented clusters will be assumed to be part of the core userbase. This information can then be used for further applications, such as targeting for a marketing campaign.\n",
    "\n",
    "To start off with, load in the demographics data for the general population into a pandas DataFrame, and do the same for the feature attributes summary. Note for all of the `.csv` data files in this project: they're semicolon (`;`) delimited, so you'll need an additional argument in your [`read_csv()`](https://pandas.pydata.org/pandas-docs/stable/generated/pandas.read_csv.html) call to read in the data properly. Also, considering the size of the main dataset, it may take some time for it to load completely.\n",
    "\n",
    "Once the dataset is loaded, it's recommended that you take a little bit of time just browsing the general structure of the dataset and feature summary file. You'll be getting deep into the innards of the cleaning in the first major step of the project, so gaining some general familiarity can help you get your bearings."
   ]
  },
  {
   "cell_type": "code",
   "execution_count": 160,
   "metadata": {},
   "outputs": [],
   "source": [
    "# Load in the general demographics data.\n",
    "azdias = pd.read_csv('./data/Udacity_AZDIAS_Subset.csv', sep=';') \n",
    "\n",
    "# Load in the feature summary file.\n",
    "feat_info = pd.read_csv('./data/AZDIAS_Feature_Summary.csv', sep=';') "
   ]
  },
  {
   "cell_type": "code",
   "execution_count": 161,
   "metadata": {},
   "outputs": [
    {
     "name": "stdout",
     "output_type": "stream",
     "text": [
      "(891221, 85)\n",
      "<class 'pandas.core.frame.DataFrame'>\n",
      "RangeIndex: 891221 entries, 0 to 891220\n",
      "Data columns (total 85 columns):\n",
      "AGER_TYP                 891221 non-null int64\n",
      "ALTERSKATEGORIE_GROB     891221 non-null int64\n",
      "ANREDE_KZ                891221 non-null int64\n",
      "CJT_GESAMTTYP            886367 non-null float64\n",
      "FINANZ_MINIMALIST        891221 non-null int64\n",
      "FINANZ_SPARER            891221 non-null int64\n",
      "FINANZ_VORSORGER         891221 non-null int64\n",
      "FINANZ_ANLEGER           891221 non-null int64\n",
      "FINANZ_UNAUFFAELLIGER    891221 non-null int64\n",
      "FINANZ_HAUSBAUER         891221 non-null int64\n",
      "FINANZTYP                891221 non-null int64\n",
      "GEBURTSJAHR              891221 non-null int64\n",
      "GFK_URLAUBERTYP          886367 non-null float64\n",
      "GREEN_AVANTGARDE         891221 non-null int64\n",
      "HEALTH_TYP               891221 non-null int64\n",
      "LP_LEBENSPHASE_FEIN      886367 non-null float64\n",
      "LP_LEBENSPHASE_GROB      886367 non-null float64\n",
      "LP_FAMILIE_FEIN          886367 non-null float64\n",
      "LP_FAMILIE_GROB          886367 non-null float64\n",
      "LP_STATUS_FEIN           886367 non-null float64\n",
      "LP_STATUS_GROB           886367 non-null float64\n",
      "NATIONALITAET_KZ         891221 non-null int64\n",
      "PRAEGENDE_JUGENDJAHRE    891221 non-null int64\n",
      "RETOURTYP_BK_S           886367 non-null float64\n",
      "SEMIO_SOZ                891221 non-null int64\n",
      "SEMIO_FAM                891221 non-null int64\n",
      "SEMIO_REL                891221 non-null int64\n",
      "SEMIO_MAT                891221 non-null int64\n",
      "SEMIO_VERT               891221 non-null int64\n",
      "SEMIO_LUST               891221 non-null int64\n",
      "SEMIO_ERL                891221 non-null int64\n",
      "SEMIO_KULT               891221 non-null int64\n",
      "SEMIO_RAT                891221 non-null int64\n",
      "SEMIO_KRIT               891221 non-null int64\n",
      "SEMIO_DOM                891221 non-null int64\n",
      "SEMIO_KAEM               891221 non-null int64\n",
      "SEMIO_PFLICHT            891221 non-null int64\n",
      "SEMIO_TRADV              891221 non-null int64\n",
      "SHOPPER_TYP              891221 non-null int64\n",
      "SOHO_KZ                  817722 non-null float64\n",
      "TITEL_KZ                 817722 non-null float64\n",
      "VERS_TYP                 891221 non-null int64\n",
      "ZABEOTYP                 891221 non-null int64\n",
      "ALTER_HH                 817722 non-null float64\n",
      "ANZ_PERSONEN             817722 non-null float64\n",
      "ANZ_TITEL                817722 non-null float64\n",
      "HH_EINKOMMEN_SCORE       872873 non-null float64\n",
      "KK_KUNDENTYP             306609 non-null float64\n",
      "W_KEIT_KIND_HH           783619 non-null float64\n",
      "WOHNDAUER_2008           817722 non-null float64\n",
      "ANZ_HAUSHALTE_AKTIV      798073 non-null float64\n",
      "ANZ_HH_TITEL             794213 non-null float64\n",
      "GEBAEUDETYP              798073 non-null float64\n",
      "KONSUMNAEHE              817252 non-null float64\n",
      "MIN_GEBAEUDEJAHR         798073 non-null float64\n",
      "OST_WEST_KZ              798073 non-null object\n",
      "WOHNLAGE                 798073 non-null float64\n",
      "CAMEO_DEUG_2015          792242 non-null object\n",
      "CAMEO_DEU_2015           792242 non-null object\n",
      "CAMEO_INTL_2015          792242 non-null object\n",
      "KBA05_ANTG1              757897 non-null float64\n",
      "KBA05_ANTG2              757897 non-null float64\n",
      "KBA05_ANTG3              757897 non-null float64\n",
      "KBA05_ANTG4              757897 non-null float64\n",
      "KBA05_BAUMAX             757897 non-null float64\n",
      "KBA05_GBZ                757897 non-null float64\n",
      "BALLRAUM                 797481 non-null float64\n",
      "EWDICHTE                 797481 non-null float64\n",
      "INNENSTADT               797481 non-null float64\n",
      "GEBAEUDETYP_RASTER       798066 non-null float64\n",
      "KKK                      770025 non-null float64\n",
      "MOBI_REGIO               757897 non-null float64\n",
      "ONLINE_AFFINITAET        886367 non-null float64\n",
      "REGIOTYP                 770025 non-null float64\n",
      "KBA13_ANZAHL_PKW         785421 non-null float64\n",
      "PLZ8_ANTG1               774706 non-null float64\n",
      "PLZ8_ANTG2               774706 non-null float64\n",
      "PLZ8_ANTG3               774706 non-null float64\n",
      "PLZ8_ANTG4               774706 non-null float64\n",
      "PLZ8_BAUMAX              774706 non-null float64\n",
      "PLZ8_HHZ                 774706 non-null float64\n",
      "PLZ8_GBZ                 774706 non-null float64\n",
      "ARBEIT                   794005 non-null float64\n",
      "ORTSGR_KLS9              794005 non-null float64\n",
      "RELAT_AB                 794005 non-null float64\n",
      "dtypes: float64(49), int64(32), object(4)\n",
      "memory usage: 578.0+ MB\n",
      "None\n"
     ]
    }
   ],
   "source": [
    "# Check the structure of the data after it's loaded.\n",
    "# azdias data has shape (891221, 85)\n",
    "print(azdias.shape)\n",
    "print(azdias.info())"
   ]
  },
  {
   "cell_type": "code",
   "execution_count": 162,
   "metadata": {},
   "outputs": [
    {
     "name": "stdout",
     "output_type": "stream",
     "text": [
      "   AGER_TYP  ALTERSKATEGORIE_GROB  ANREDE_KZ  CJT_GESAMTTYP  \\\n",
      "0        -1                     2          1            2.0   \n",
      "1        -1                     1          2            5.0   \n",
      "\n",
      "   FINANZ_MINIMALIST  FINANZ_SPARER  FINANZ_VORSORGER  FINANZ_ANLEGER  \\\n",
      "0                  3              4                 3               5   \n",
      "1                  1              5                 2               5   \n",
      "\n",
      "   FINANZ_UNAUFFAELLIGER  FINANZ_HAUSBAUER    ...     PLZ8_ANTG1  PLZ8_ANTG2  \\\n",
      "0                      5                 3    ...            NaN         NaN   \n",
      "1                      4                 5    ...            2.0         3.0   \n",
      "\n",
      "   PLZ8_ANTG3  PLZ8_ANTG4  PLZ8_BAUMAX  PLZ8_HHZ  PLZ8_GBZ  ARBEIT  \\\n",
      "0         NaN         NaN          NaN       NaN       NaN     NaN   \n",
      "1         2.0         1.0          1.0       5.0       4.0     3.0   \n",
      "\n",
      "   ORTSGR_KLS9  RELAT_AB  \n",
      "0          NaN       NaN  \n",
      "1          5.0       4.0  \n",
      "\n",
      "[2 rows x 85 columns]\n"
     ]
    }
   ],
   "source": [
    "# check first two rows\n",
    "print(azdias.head(2))"
   ]
  },
  {
   "cell_type": "code",
   "execution_count": 163,
   "metadata": {},
   "outputs": [
    {
     "name": "stdout",
     "output_type": "stream",
     "text": [
      "AGER_TYP                      0\n",
      "ALTERSKATEGORIE_GROB          0\n",
      "ANREDE_KZ                     0\n",
      "CJT_GESAMTTYP              4854\n",
      "FINANZ_MINIMALIST             0\n",
      "FINANZ_SPARER                 0\n",
      "FINANZ_VORSORGER              0\n",
      "FINANZ_ANLEGER                0\n",
      "FINANZ_UNAUFFAELLIGER         0\n",
      "FINANZ_HAUSBAUER              0\n",
      "FINANZTYP                     0\n",
      "GEBURTSJAHR                   0\n",
      "GFK_URLAUBERTYP            4854\n",
      "GREEN_AVANTGARDE              0\n",
      "HEALTH_TYP                    0\n",
      "LP_LEBENSPHASE_FEIN        4854\n",
      "LP_LEBENSPHASE_GROB        4854\n",
      "LP_FAMILIE_FEIN            4854\n",
      "LP_FAMILIE_GROB            4854\n",
      "LP_STATUS_FEIN             4854\n",
      "LP_STATUS_GROB             4854\n",
      "NATIONALITAET_KZ              0\n",
      "PRAEGENDE_JUGENDJAHRE         0\n",
      "RETOURTYP_BK_S             4854\n",
      "SEMIO_SOZ                     0\n",
      "SEMIO_FAM                     0\n",
      "SEMIO_REL                     0\n",
      "SEMIO_MAT                     0\n",
      "SEMIO_VERT                    0\n",
      "SEMIO_LUST                    0\n",
      "                          ...  \n",
      "OST_WEST_KZ               93148\n",
      "WOHNLAGE                  93148\n",
      "CAMEO_DEUG_2015           98979\n",
      "CAMEO_DEU_2015            98979\n",
      "CAMEO_INTL_2015           98979\n",
      "KBA05_ANTG1              133324\n",
      "KBA05_ANTG2              133324\n",
      "KBA05_ANTG3              133324\n",
      "KBA05_ANTG4              133324\n",
      "KBA05_BAUMAX             133324\n",
      "KBA05_GBZ                133324\n",
      "BALLRAUM                  93740\n",
      "EWDICHTE                  93740\n",
      "INNENSTADT                93740\n",
      "GEBAEUDETYP_RASTER        93155\n",
      "KKK                      121196\n",
      "MOBI_REGIO               133324\n",
      "ONLINE_AFFINITAET          4854\n",
      "REGIOTYP                 121196\n",
      "KBA13_ANZAHL_PKW         105800\n",
      "PLZ8_ANTG1               116515\n",
      "PLZ8_ANTG2               116515\n",
      "PLZ8_ANTG3               116515\n",
      "PLZ8_ANTG4               116515\n",
      "PLZ8_BAUMAX              116515\n",
      "PLZ8_HHZ                 116515\n",
      "PLZ8_GBZ                 116515\n",
      "ARBEIT                    97216\n",
      "ORTSGR_KLS9               97216\n",
      "RELAT_AB                  97216\n",
      "Length: 85, dtype: int64\n"
     ]
    }
   ],
   "source": [
    "# check null number for each col\n",
    "print(azdias.isnull().sum())"
   ]
  },
  {
   "cell_type": "code",
   "execution_count": 164,
   "metadata": {},
   "outputs": [
    {
     "name": "stdout",
     "output_type": "stream",
     "text": [
      "              attribute information_level         type missing_or_unknown\n",
      "0              AGER_TYP            person  categorical             [-1,0]\n",
      "1  ALTERSKATEGORIE_GROB            person      ordinal           [-1,0,9]\n",
      "2             ANREDE_KZ            person  categorical             [-1,0]\n",
      "3         CJT_GESAMTTYP            person  categorical                [0]\n",
      "4     FINANZ_MINIMALIST            person      ordinal               [-1]\n"
     ]
    }
   ],
   "source": [
    "# check feat_info data\n",
    "print(feat_info.head(5))"
   ]
  },
  {
   "cell_type": "markdown",
   "metadata": {},
   "source": [
    "> **Tip**: Add additional cells to keep everything in reasonably-sized chunks! Keyboard shortcut `esc --> a` (press escape to enter command mode, then press the 'A' key) adds a new cell before the active cell, and `esc --> b` adds a new cell after the active cell. If you need to convert an active cell to a markdown cell, use `esc --> m` and to convert to a code cell, use `esc --> y`. \n",
    "\n",
    "## Step 1: Preprocessing\n",
    "\n",
    "### Step 1.1: Assess Missing Data\n",
    "\n",
    "The feature summary file contains a summary of properties for each demographics data column. You will use this file to help you make cleaning decisions during this stage of the project. First of all, you should assess the demographics data in terms of missing data. Pay attention to the following points as you perform your analysis, and take notes on what you observe. Make sure that you fill in the **Discussion** cell with your findings and decisions at the end of each step that has one!\n",
    "\n",
    "#### Step 1.1.1: Convert Missing Value Codes to NaNs\n",
    "The fourth column of the feature attributes summary (loaded in above as `feat_info`) documents the codes from the data dictionary that indicate missing or unknown data. While the file encodes this as a list (e.g. `[-1,0]`), this will get read in as a string object. You'll need to do a little bit of parsing to make use of it to identify and clean the data. Convert data that matches a 'missing' or 'unknown' value code into a numpy NaN value. You might want to see how much data takes on a 'missing' or 'unknown' code, and how much data is naturally missing, as a point of interest.\n",
    "\n",
    "**As one more reminder, you are encouraged to add additional cells to break up your analysis into manageable chunks.**"
   ]
  },
  {
   "cell_type": "code",
   "execution_count": 165,
   "metadata": {},
   "outputs": [
    {
     "data": {
      "text/plain": [
       "array(['[-1,0]', '[-1,0,9]', '[0]', '[-1]', '[]', '[-1,9]', '[-1,X]',\n",
       "       '[XX]', '[-1,XX]'], dtype=object)"
      ]
     },
     "execution_count": 165,
     "metadata": {},
     "output_type": "execute_result"
    }
   ],
   "source": [
    "# Identify missing or unknown data values and convert them to NaNs.\n",
    "# check unique values\n",
    "# notice dtype is object\n",
    "feat_info.missing_or_unknown.unique()\n",
    "#feat_info.missing_or_unknown[1]"
   ]
  },
  {
   "cell_type": "code",
   "execution_count": 166,
   "metadata": {},
   "outputs": [],
   "source": [
    "# function to convert feat_info.missing_or_unknown into list type\n",
    "def object_to_list(s):\n",
    "    \"\"\"Modify item in list from string to list type\n",
    "    Args:\n",
    "    s: string.\n",
    "    \n",
    "    Returns:\n",
    "    s: list.\n",
    "    \"\"\"\n",
    "    if s=='[-1,X]':\n",
    "        return [-1,'X']\n",
    "    elif s=='[XX]':\n",
    "        return ['XX']\n",
    "    elif s=='[-1,XX]':\n",
    "        return [-1,'XX']\n",
    "    else:\n",
    "        return eval(s)"
   ]
  },
  {
   "cell_type": "code",
   "execution_count": 167,
   "metadata": {},
   "outputs": [],
   "source": [
    "# convert value type for feat_info.missing_or_unknown\n",
    "feat_info.missing_or_unknown = feat_info.missing_or_unknown.apply(object_to_list)"
   ]
  },
  {
   "cell_type": "code",
   "execution_count": 168,
   "metadata": {},
   "outputs": [],
   "source": [
    "# Create a dictionary to map column names to missing data encodings\n",
    "missing_data_encode = dict(zip(feat_info.attribute, feat_info.missing_or_unknown))"
   ]
  },
  {
   "cell_type": "code",
   "execution_count": 169,
   "metadata": {},
   "outputs": [
    {
     "name": "stdout",
     "output_type": "stream",
     "text": [
      "AGER_TYP\n",
      "AGER_TYP nans before:  0\n",
      "AGER_TYP nans after:  685843 \n",
      "\n",
      "ALTERSKATEGORIE_GROB\n",
      "ALTERSKATEGORIE_GROB nans before:  0\n",
      "ALTERSKATEGORIE_GROB nans after:  2881 \n",
      "\n",
      "ANREDE_KZ\n",
      "CJT_GESAMTTYP\n",
      "FINANZ_MINIMALIST\n",
      "FINANZ_SPARER\n",
      "FINANZ_VORSORGER\n",
      "FINANZ_ANLEGER\n",
      "FINANZ_UNAUFFAELLIGER\n",
      "FINANZ_HAUSBAUER\n",
      "FINANZTYP\n",
      "GEBURTSJAHR\n",
      "GEBURTSJAHR nans before:  0\n",
      "GEBURTSJAHR nans after:  392318 \n",
      "\n",
      "GFK_URLAUBERTYP\n",
      "GREEN_AVANTGARDE\n",
      "HEALTH_TYP\n",
      "HEALTH_TYP nans before:  0\n",
      "HEALTH_TYP nans after:  111196 \n",
      "\n",
      "LP_LEBENSPHASE_FEIN\n",
      "LP_LEBENSPHASE_FEIN nans before:  4854\n",
      "LP_LEBENSPHASE_FEIN nans after:  97632 \n",
      "\n",
      "LP_LEBENSPHASE_GROB\n",
      "LP_LEBENSPHASE_GROB nans before:  4854\n",
      "LP_LEBENSPHASE_GROB nans after:  94572 \n",
      "\n",
      "LP_FAMILIE_FEIN\n",
      "LP_FAMILIE_FEIN nans before:  4854\n",
      "LP_FAMILIE_FEIN nans after:  77792 \n",
      "\n",
      "LP_FAMILIE_GROB\n",
      "LP_FAMILIE_GROB nans before:  4854\n",
      "LP_FAMILIE_GROB nans after:  77792 \n",
      "\n",
      "LP_STATUS_FEIN\n",
      "LP_STATUS_GROB\n",
      "NATIONALITAET_KZ\n",
      "NATIONALITAET_KZ nans before:  0\n",
      "NATIONALITAET_KZ nans after:  108315 \n",
      "\n",
      "PRAEGENDE_JUGENDJAHRE\n",
      "PRAEGENDE_JUGENDJAHRE nans before:  0\n",
      "PRAEGENDE_JUGENDJAHRE nans after:  108164 \n",
      "\n",
      "RETOURTYP_BK_S\n",
      "SEMIO_SOZ\n",
      "SEMIO_FAM\n",
      "SEMIO_REL\n",
      "SEMIO_MAT\n",
      "SEMIO_VERT\n",
      "SEMIO_LUST\n",
      "SEMIO_ERL\n",
      "SEMIO_KULT\n",
      "SEMIO_RAT\n",
      "SEMIO_KRIT\n",
      "SEMIO_DOM\n",
      "SEMIO_KAEM\n",
      "SEMIO_PFLICHT\n",
      "SEMIO_TRADV\n",
      "SHOPPER_TYP\n",
      "SHOPPER_TYP nans before:  0\n",
      "SHOPPER_TYP nans after:  111196 \n",
      "\n",
      "SOHO_KZ\n",
      "TITEL_KZ\n",
      "TITEL_KZ nans before:  73499\n",
      "TITEL_KZ nans after:  889061 \n",
      "\n",
      "VERS_TYP\n",
      "VERS_TYP nans before:  0\n",
      "VERS_TYP nans after:  111196 \n",
      "\n",
      "ZABEOTYP\n",
      "ALTER_HH\n",
      "ALTER_HH nans before:  73499\n",
      "ALTER_HH nans after:  310267 \n",
      "\n",
      "ANZ_PERSONEN\n",
      "ANZ_TITEL\n",
      "HH_EINKOMMEN_SCORE\n",
      "KK_KUNDENTYP\n",
      "W_KEIT_KIND_HH\n",
      "W_KEIT_KIND_HH nans before:  107602\n",
      "W_KEIT_KIND_HH nans after:  147988 \n",
      "\n",
      "WOHNDAUER_2008\n",
      "ANZ_HAUSHALTE_AKTIV\n",
      "ANZ_HAUSHALTE_AKTIV nans before:  93148\n",
      "ANZ_HAUSHALTE_AKTIV nans after:  99611 \n",
      "\n",
      "ANZ_HH_TITEL\n",
      "GEBAEUDETYP\n",
      "KONSUMNAEHE\n",
      "MIN_GEBAEUDEJAHR\n",
      "OST_WEST_KZ\n",
      "WOHNLAGE\n",
      "CAMEO_DEUG_2015\n",
      "CAMEO_DEUG_2015 nans before:  98979\n",
      "CAMEO_DEUG_2015 nans after:  99352 \n",
      "\n",
      "CAMEO_DEU_2015\n",
      "CAMEO_DEU_2015 nans before:  98979\n",
      "CAMEO_DEU_2015 nans after:  99352 \n",
      "\n",
      "CAMEO_INTL_2015\n",
      "CAMEO_INTL_2015 nans before:  98979\n",
      "CAMEO_INTL_2015 nans after:  99352 \n",
      "\n",
      "KBA05_ANTG1\n",
      "KBA05_ANTG2\n",
      "KBA05_ANTG3\n",
      "KBA05_ANTG4\n",
      "KBA05_BAUMAX\n",
      "KBA05_BAUMAX nans before:  133324\n",
      "KBA05_BAUMAX nans after:  476524 \n",
      "\n",
      "KBA05_GBZ\n",
      "BALLRAUM\n",
      "EWDICHTE\n",
      "INNENSTADT\n",
      "GEBAEUDETYP_RASTER\n",
      "KKK\n",
      "KKK nans before:  121196\n",
      "KKK nans after:  158064 \n",
      "\n",
      "MOBI_REGIO\n",
      "ONLINE_AFFINITAET\n",
      "REGIOTYP\n",
      "REGIOTYP nans before:  121196\n",
      "REGIOTYP nans after:  158064 \n",
      "\n",
      "KBA13_ANZAHL_PKW\n",
      "PLZ8_ANTG1\n",
      "PLZ8_ANTG2\n",
      "PLZ8_ANTG3\n",
      "PLZ8_ANTG4\n",
      "PLZ8_BAUMAX\n",
      "PLZ8_HHZ\n",
      "PLZ8_GBZ\n",
      "ARBEIT\n",
      "ARBEIT nans before:  97216\n",
      "ARBEIT nans after:  97375 \n",
      "\n",
      "ORTSGR_KLS9\n",
      "ORTSGR_KLS9 nans before:  97216\n",
      "ORTSGR_KLS9 nans after:  97274 \n",
      "\n",
      "RELAT_AB\n",
      "RELAT_AB nans before:  97216\n",
      "RELAT_AB nans after:  97375 \n",
      "\n"
     ]
    }
   ],
   "source": [
    "# Convert to nans using the missing_data_encode dictionary\n",
    "# refer to this blog https://jkarakas.github.io/Customer-Demographics-Segmentation-/Customer_Segmentation.html\n",
    "dem_df = azdias.copy()\n",
    "for col in missing_data_encode.keys():\n",
    "    print(col)\n",
    "    nans_before = dem_df[col].isnull().sum()\n",
    "    # get missing value for the current col\n",
    "    missing_values = missing_data_encode[col]\n",
    "    # current col values\n",
    "    col_values = dem_df[col]\n",
    "    # get row index for missing values in col\n",
    "    missing_values_ridx = col_values.isin(missing_values)\n",
    "    # set missing values to nan\n",
    "    dem_df.loc[missing_values_ridx, col] = np.nan\n",
    "    nans_after = dem_df[col].isnull().sum()\n",
    "    if nans_after != nans_before:\n",
    "        print(col, 'nans before: ', nans_before)\n",
    "        print(col, 'nans after: ', nans_after, '\\n')"
   ]
  },
  {
   "cell_type": "markdown",
   "metadata": {},
   "source": [
    "#### Step 1.1.2: Assess Missing Data in Each Column\n",
    "\n",
    "How much missing data is present in each column? There are a few columns that are outliers in terms of the proportion of values that are missing. You will want to use matplotlib's [`hist()`](https://matplotlib.org/api/_as_gen/matplotlib.pyplot.hist.html) function to visualize the distribution of missing value counts to find these columns. Identify and document these columns. While some of these columns might have justifications for keeping or re-encoding the data, for this project you should just remove them from the dataframe. (Feel free to make remarks about these outlier columns in the discussion, however!)\n",
    "\n",
    "For the remaining features, are there any patterns in which columns have, or share, missing data?"
   ]
  },
  {
   "cell_type": "code",
   "execution_count": 170,
   "metadata": {},
   "outputs": [
    {
     "name": "stdout",
     "output_type": "stream",
     "text": [
      "AGER_TYP                685843\n",
      "ALTERSKATEGORIE_GROB      2881\n",
      "ANREDE_KZ                    0\n",
      "CJT_GESAMTTYP             4854\n",
      "FINANZ_MINIMALIST            0\n",
      "dtype: int64\n",
      "count    85.000000\n",
      "mean      0.110541\n",
      "std       0.164498\n",
      "min       0.000000\n",
      "25%       0.000000\n",
      "50%       0.104517\n",
      "75%       0.130736\n",
      "max       0.997576\n",
      "dtype: float64\n"
     ]
    }
   ],
   "source": [
    "# Perform an assessment of how much missing data there is in each column of the\n",
    "# dataset.\n",
    "col_miss_num = dem_df.isnull().sum()\n",
    "col_miss_per = (dem_df.isnull().mean())\n",
    "print(col_miss_num.head())\n",
    "print(col_miss_per.describe())"
   ]
  },
  {
   "cell_type": "markdown",
   "metadata": {},
   "source": [
    "The result shows that on average 11% data are missing. And the colunm with max missing rate is as high as 99.8%."
   ]
  },
  {
   "cell_type": "code",
   "execution_count": 171,
   "metadata": {},
   "outputs": [
    {
     "data": {
      "text/html": [
       "<div>\n",
       "<style scoped>\n",
       "    .dataframe tbody tr th:only-of-type {\n",
       "        vertical-align: middle;\n",
       "    }\n",
       "\n",
       "    .dataframe tbody tr th {\n",
       "        vertical-align: top;\n",
       "    }\n",
       "\n",
       "    .dataframe thead th {\n",
       "        text-align: right;\n",
       "    }\n",
       "</style>\n",
       "<table border=\"1\" class=\"dataframe\">\n",
       "  <thead>\n",
       "    <tr style=\"text-align: right;\">\n",
       "      <th></th>\n",
       "      <th>colname</th>\n",
       "      <th>misspre</th>\n",
       "      <th>information_level</th>\n",
       "      <th>type</th>\n",
       "    </tr>\n",
       "  </thead>\n",
       "  <tbody>\n",
       "    <tr>\n",
       "      <th>0</th>\n",
       "      <td>AGER_TYP</td>\n",
       "      <td>0.769554</td>\n",
       "      <td>person</td>\n",
       "      <td>categorical</td>\n",
       "    </tr>\n",
       "    <tr>\n",
       "      <th>1</th>\n",
       "      <td>ALTERSKATEGORIE_GROB</td>\n",
       "      <td>0.003233</td>\n",
       "      <td>person</td>\n",
       "      <td>ordinal</td>\n",
       "    </tr>\n",
       "  </tbody>\n",
       "</table>\n",
       "</div>"
      ],
      "text/plain": [
       "                colname   misspre information_level         type\n",
       "0              AGER_TYP  0.769554            person  categorical\n",
       "1  ALTERSKATEGORIE_GROB  0.003233            person      ordinal"
      ]
     },
     "execution_count": 171,
     "metadata": {},
     "output_type": "execute_result"
    }
   ],
   "source": [
    "# Investigate patterns in the amount of missing data in each column.\n",
    "col_miss_per = col_miss_per.to_frame()\n",
    "col_miss_per.reset_index(level=0, inplace=True)\n",
    "col_miss_per.columns = ['colname','misspre']\n",
    "col_miss_per['information_level'] = feat_info.information_level\n",
    "col_miss_per['type'] = feat_info.type\n",
    "col_miss_per.head(2)"
   ]
  },
  {
   "cell_type": "code",
   "execution_count": 172,
   "metadata": {},
   "outputs": [
    {
     "data": {
      "text/plain": [
       "(array([39., 40.,  0.,  1.,  1.,  1.,  1.,  1.,  0.,  1.]),\n",
       " array([0.        , 0.09975764, 0.19951527, 0.29927291, 0.39903054,\n",
       "        0.49878818, 0.59854582, 0.69830345, 0.79806109, 0.89781872,\n",
       "        0.99757636]),\n",
       " <a list of 10 Patch objects>)"
      ]
     },
     "execution_count": 172,
     "metadata": {},
     "output_type": "execute_result"
    },
    {
     "data": {
      "image/png": "[encoded data removed]",
      "text/plain": [
       "<Figure size 432x288 with 1 Axes>"
      ]
     },
     "metadata": {},
     "output_type": "display_data"
    }
   ],
   "source": [
    "# plot histgram to visualize distribution of missing rate\n",
    "plt.hist(col_miss_per.misspre)\n",
    "# according to both this historgram and the descriptive statistics above we can see that most missing rate are lower than 20%\n",
    "# so we should drop colunms that have missing rate larger than 20%"
   ]
  },
  {
   "cell_type": "code",
   "execution_count": 173,
   "metadata": {},
   "outputs": [
    {
     "name": "stdout",
     "output_type": "stream",
     "text": [
      "                       mean       max\n",
      "information_level                    \n",
      "building           0.103098  0.111769\n",
      "community          0.109222  0.109260\n",
      "household          0.205450  0.655967\n",
      "macrocell_plz8     0.129234  0.130736\n",
      "microcell_rr3      0.213779  0.534687\n",
      "microcell_rr4      0.111479  0.111479\n",
      "person             0.077389  0.997576\n",
      "postcode           0.105182  0.105182\n",
      "region_rr1         0.122856  0.177357\n",
      "                 mean       max\n",
      "type                           \n",
      "categorical  0.166904  0.997576\n",
      "interval     0.348137  0.348137\n",
      "mixed        0.174064  0.534687\n",
      "numeric      0.149856  0.440203\n",
      "ordinal      0.066846  0.177357\n"
     ]
    },
    {
     "name": "stderr",
     "output_type": "stream",
     "text": [
      "/home/jinpwa/anaconda3/lib/python3.6/site-packages/ipykernel_launcher.py:2: FutureWarning: using a dict on a Series for aggregation\n",
      "is deprecated and will be removed in a future version\n",
      "  \n",
      "/home/jinpwa/anaconda3/lib/python3.6/site-packages/ipykernel_launcher.py:3: FutureWarning: using a dict on a Series for aggregation\n",
      "is deprecated and will be removed in a future version\n",
      "  This is separate from the ipykernel package so we can avoid doing imports until\n"
     ]
    }
   ],
   "source": [
    "# explore pattern by group\n",
    "print(col_miss_per.groupby('information_level').misspre.agg({\"mean\" : \"mean\",\"max\":\"max\"}))\n",
    "print(col_miss_per.groupby('type').misspre.agg({\"mean\" : \"mean\",\"max\":\"max\"}))"
   ]
  },
  {
   "cell_type": "code",
   "execution_count": 174,
   "metadata": {},
   "outputs": [],
   "source": [
    "def plt_box(col_miss_per):\n",
    "    \"\"\"plot box plot of column missing rate\n",
    "    Args:\n",
    "    col_miss_per: data frame. Record missing rate for each column \n",
    "    and information level,type of each column\n",
    "    \n",
    "    Returns:\n",
    "    None. Print two box plot.\n",
    "    \"\"\"\n",
    "    fig, axes = plt.subplots(1,2, figsize=(15, 3))\n",
    "    ax1 = plt.subplot(1,2,1)\n",
    "    ax1 = sns.boxplot(y='information_level', x='misspre', data=col_miss_per, \n",
    "            width=0.5,palette=\"colorblind\")\n",
    "    ax2 = plt.subplot(1,2,2,sharey=ax1)\n",
    "    ax2 = sns.boxplot(y='type', x='misspre', data=col_miss_per, \n",
    "            width=0.5,palette=\"colorblind\")\n",
    "    plt.show()"
   ]
  },
  {
   "cell_type": "code",
   "execution_count": 175,
   "metadata": {},
   "outputs": [
    {
     "data": {
      "image/png": "[encoded data removed]",
      "text/plain": [
       "<Figure size 1080x216 with 2 Axes>"
      ]
     },
     "metadata": {},
     "output_type": "display_data"
    }
   ],
   "source": [
    "plt_box(col_miss_per)"
   ]
  },
  {
   "cell_type": "code",
   "execution_count": 176,
   "metadata": {},
   "outputs": [
    {
     "data": {
      "text/plain": [
       "0         AGER_TYP\n",
       "11     GEBURTSJAHR\n",
       "40        TITEL_KZ\n",
       "43        ALTER_HH\n",
       "47    KK_KUNDENTYP\n",
       "64    KBA05_BAUMAX\n",
       "Name: colname, dtype: object"
      ]
     },
     "execution_count": 176,
     "metadata": {},
     "output_type": "execute_result"
    }
   ],
   "source": [
    "# Remove the outlier columns from the dataset. (You'll perform other data\n",
    "# engineering tasks such as re-encoding and imputation later.)\n",
    "# find colnames that have high missing rate\n",
    "cols_remove = col_miss_per[col_miss_per.misspre > 0.2].colname            \n",
    "cols_remove\n"
   ]
  },
  {
   "cell_type": "code",
   "execution_count": 177,
   "metadata": {},
   "outputs": [
    {
     "data": {
      "text/plain": [
       "(891221, 79)"
      ]
     },
     "execution_count": 177,
     "metadata": {},
     "output_type": "execute_result"
    }
   ],
   "source": [
    "dem_df = dem_df.drop(cols_remove, axis=1)\n",
    "dem_df.shape"
   ]
  },
  {
   "cell_type": "code",
   "execution_count": 178,
   "metadata": {},
   "outputs": [
    {
     "data": {
      "text/plain": [
       "(array([31.,  1.,  0.,  0.,  7.,  9., 12., 10.,  6.,  3.]),\n",
       " array([0.        , 0.01773567, 0.03547134, 0.053207  , 0.07094267,\n",
       "        0.08867834, 0.10641401, 0.12414968, 0.14188535, 0.15962101,\n",
       "        0.17735668]),\n",
       " <a list of 10 Patch objects>)"
      ]
     },
     "execution_count": 178,
     "metadata": {},
     "output_type": "execute_result"
    },
    {
     "data": {
      "image/png": "[encoded data removed]",
      "text/plain": [
       "<Figure size 432x288 with 1 Axes>"
      ]
     },
     "metadata": {},
     "output_type": "display_data"
    }
   ],
   "source": [
    "# check histgram again\n",
    "col_miss_per_after = (dem_df.isnull().sum()/891221)\n",
    "col_miss_per_after = col_miss_per_after.to_frame()\n",
    "col_miss_per_after.reset_index(level=0, inplace=True)\n",
    "col_miss_per_after.columns = ['colname','misspre']\n",
    "col_miss_per_after['information_level'] = feat_info.information_level\n",
    "col_miss_per_after['type'] = feat_info.type\n",
    "plt.hist(col_miss_per_after.misspre)"
   ]
  },
  {
   "cell_type": "code",
   "execution_count": 179,
   "metadata": {},
   "outputs": [
    {
     "data": {
      "image/png": "[encoded data removed]",
      "text/plain": [
       "<Figure size 1080x216 with 2 Axes>"
      ]
     },
     "metadata": {},
     "output_type": "display_data"
    }
   ],
   "source": [
    "plt_box(col_miss_per_after)"
   ]
  },
  {
   "cell_type": "markdown",
   "metadata": {},
   "source": [
    "#### Discussion 1.1.2: Assess Missing Data in Each Column\n",
    "\n",
    "(Double click this cell and replace this text with your own text, reporting your observations regarding the amount of missing data in each column. Are there any patterns in missing values? Which columns were removed from the dataset?)\n",
    "\n",
    "According to descriptive statistics:\n",
    "1)there are on average 11.05% missing rate across colunms\n",
    "2)75% colunms has missing rate less than 13.07%\n",
    "\n",
    "According to boxplot of information level\n",
    "3)information level person tend to have higher unusual missing rates\n",
    "\n",
    "According to boxplot of type\n",
    "4)categorical type data tend to have higher unusual missing rates\n",
    "\n",
    "The colunms that are removed are those with missing rate higher than 20% :AGER_TYP,GEBURTSJAHR,TITEL_KZ,ALTER_HH,KK_KUNDENTYP,KBA05_BAUMAX\n",
    "\n"
   ]
  },
  {
   "cell_type": "markdown",
   "metadata": {},
   "source": [
    "#### Step 1.1.3: Assess Missing Data in Each Row\n",
    "\n",
    "Now, you'll perform a similar assessment for the rows of the dataset. How much data is missing in each row? As with the columns, you should see some groups of points that have a very different numbers of missing values. Divide the data into two subsets: one for data points that are above some threshold for missing values, and a second subset for points below that threshold.\n",
    "\n",
    "In order to know what to do with the outlier rows, we should see if the distribution of data values on columns that are not missing data (or are missing very little data) are similar or different between the two groups. Select at least five of these columns and compare the distribution of values.\n",
    "- You can use seaborn's [`countplot()`](https://seaborn.pydata.org/generated/seaborn.countplot.html) function to create a bar chart of code frequencies and matplotlib's [`subplot()`](https://matplotlib.org/api/_as_gen/matplotlib.pyplot.subplot.html) function to put bar charts for the two subplots side by side.\n",
    "- To reduce repeated code, you might want to write a function that can perform this comparison, taking as one of its arguments a column to be compared.\n",
    "\n",
    "Depending on what you observe in your comparison, this will have implications on how you approach your conclusions later in the analysis. If the distributions of non-missing features look similar between the data with many missing values and the data with few or no missing values, then we could argue that simply dropping those points from the analysis won't present a major issue. On the other hand, if the data with many missing values looks very different from the data with few or no missing values, then we should make a note on those data as special. We'll revisit these data later on. **Either way, you should continue your analysis for now using just the subset of the data with few or no missing values.**"
   ]
  },
  {
   "cell_type": "code",
   "execution_count": 180,
   "metadata": {},
   "outputs": [
    {
     "name": "stdout",
     "output_type": "stream",
     "text": [
      "count    891221.000000\n",
      "mean          0.071518\n",
      "std           0.167528\n",
      "min           0.000000\n",
      "25%           0.000000\n",
      "50%           0.000000\n",
      "75%           0.037975\n",
      "max           0.620253\n",
      "Name: row_miss_per, dtype: float64\n"
     ]
    },
    {
     "data": {
      "text/plain": [
       "(array([6.38947e+05, 4.55550e+04, 1.26070e+04, 3.62860e+04, 3.83060e+04,\n",
       "        3.04200e+03, 6.53700e+03, 4.02100e+03, 2.24300e+03, 7.24800e+03,\n",
       "        6.77000e+02, 1.60800e+03, 4.99000e+02, 1.29000e+02, 2.01000e+02,\n",
       "        1.14000e+02, 2.40000e+01, 1.70000e+01, 9.00000e+00, 2.06000e+02,\n",
       "        1.38010e+04, 3.91100e+03, 6.22000e+02, 4.98000e+02, 1.37000e+02,\n",
       "        3.77000e+02, 2.75240e+04, 4.94000e+02, 4.55780e+04, 3.00000e+00]),\n",
       " array([0.        , 0.02067511, 0.04135021, 0.06202532, 0.08270042,\n",
       "        0.10337553, 0.12405063, 0.14472574, 0.16540084, 0.18607595,\n",
       "        0.20675105, 0.22742616, 0.24810127, 0.26877637, 0.28945148,\n",
       "        0.31012658, 0.33080169, 0.35147679, 0.3721519 , 0.392827  ,\n",
       "        0.41350211, 0.43417722, 0.45485232, 0.47552743, 0.49620253,\n",
       "        0.51687764, 0.53755274, 0.55822785, 0.57890295, 0.59957806,\n",
       "        0.62025316]),\n",
       " <a list of 30 Patch objects>)"
      ]
     },
     "execution_count": 180,
     "metadata": {},
     "output_type": "execute_result"
    },
    {
     "data": {
      "image/png": "[encoded data removed]",
      "text/plain": [
       "<Figure size 432x288 with 1 Axes>"
      ]
     },
     "metadata": {},
     "output_type": "display_data"
    }
   ],
   "source": [
    "# How much data is missing in each row of the dataset?\n",
    "dem_df['row_miss_per'] = dem_df.isnull().mean(axis=1)\n",
    "print(dem_df.row_miss_per.describe())\n",
    "plt.hist(dem_df.row_miss_per, bins=30)\n"
   ]
  },
  {
   "cell_type": "code",
   "execution_count": 181,
   "metadata": {},
   "outputs": [
    {
     "name": "stdout",
     "output_type": "stream",
     "text": [
      "(747109, 80)\n",
      "(144112, 80)\n"
     ]
    }
   ],
   "source": [
    "# Write code to divide the data into two subsets based on the number of missing\n",
    "# values in each row.\n",
    "threshhold = 0.1\n",
    "\n",
    "dem_df_lowna = dem_df.loc[dem_df['row_miss_per'] < threshhold]\n",
    "dem_df_highna = dem_df.loc[dem_df['row_miss_per'] > threshhold]\n",
    "print(dem_df_lowna.shape)\n",
    "print(dem_df_highna.shape)"
   ]
  },
  {
   "cell_type": "code",
   "execution_count": 182,
   "metadata": {},
   "outputs": [
    {
     "name": "stdout",
     "output_type": "stream",
     "text": [
      "['ANREDE_KZ', 'FINANZ_MINIMALIST', 'FINANZ_SPARER', 'FINANZ_VORSORGER', 'FINANZ_ANLEGER', 'FINANZ_UNAUFFAELLIGER', 'FINANZ_HAUSBAUER', 'FINANZTYP', 'GREEN_AVANTGARDE', 'SEMIO_SOZ', 'SEMIO_FAM', 'SEMIO_REL', 'SEMIO_MAT', 'SEMIO_VERT', 'SEMIO_LUST', 'SEMIO_ERL', 'SEMIO_KULT', 'SEMIO_RAT', 'SEMIO_KRIT', 'SEMIO_DOM', 'SEMIO_KAEM', 'SEMIO_PFLICHT', 'SEMIO_TRADV', 'ZABEOTYP', 'row_miss_per']\n",
      "25\n"
     ]
    }
   ],
   "source": [
    "# Compare the distribution of values for at least five columns where there are\n",
    "# no or few missing values, between the two subsets.\n",
    "\n",
    "# find five columns that have no missing values for both data set\n",
    "common_col = ((dem_df_lowna.isnull().sum() == 0)&(dem_df_highna.isnull().sum() == 0))\n",
    "common_col = list(common_col[common_col == True].index)\n",
    "print(common_col)\n",
    "print(len(common_col))"
   ]
  },
  {
   "cell_type": "code",
   "execution_count": 183,
   "metadata": {},
   "outputs": [
    {
     "data": {
      "image/png": "[encoded data removed]",
      "text/plain": [
       "<Figure size 864x216 with 2 Axes>"
      ]
     },
     "metadata": {},
     "output_type": "display_data"
    },
    {
     "data": {
      "image/png": "[encoded data removed]",
      "text/plain": [
       "<Figure size 864x216 with 2 Axes>"
      ]
     },
     "metadata": {},
     "output_type": "display_data"
    },
    {
     "data": {
      "image/png": "[encoded data removed]",
      "text/plain": [
       "<Figure size 864x216 with 2 Axes>"
      ]
     },
     "metadata": {},
     "output_type": "display_data"
    },
    {
     "data": {
      "image/png": "[encoded data removed]",
      "text/plain": [
       "<Figure size 864x216 with 2 Axes>"
      ]
     },
     "metadata": {},
     "output_type": "display_data"
    },
    {
     "data": {
      "image/png": "[encoded data removed]",
      "text/plain": [
       "<Figure size 864x216 with 2 Axes>"
      ]
     },
     "metadata": {},
     "output_type": "display_data"
    },
    {
     "data": {
      "image/png": "[encoded data removed]",
      "text/plain": [
       "<Figure size 864x216 with 2 Axes>"
      ]
     },
     "metadata": {},
     "output_type": "display_data"
    },
    {
     "data": {
      "image/png": "[encoded data removed]",
      "text/plain": [
       "<Figure size 864x216 with 2 Axes>"
      ]
     },
     "metadata": {},
     "output_type": "display_data"
    },
    {
     "data": {
      "image/png": "[encoded data removed]",
      "text/plain": [
       "<Figure size 864x216 with 2 Axes>"
      ]
     },
     "metadata": {},
     "output_type": "display_data"
    },
    {
     "data": {
      "image/png": "[encoded data removed]",
      "text/plain": [
       "<Figure size 864x216 with 2 Axes>"
      ]
     },
     "metadata": {},
     "output_type": "display_data"
    },
    {
     "data": {
      "image/png": "[encoded data removed]",
      "text/plain": [
       "<Figure size 864x216 with 2 Axes>"
      ]
     },
     "metadata": {},
     "output_type": "display_data"
    },
    {
     "data": {
      "image/png": "[encoded data removed]",
      "text/plain": [
       "<Figure size 864x216 with 2 Axes>"
      ]
     },
     "metadata": {},
     "output_type": "display_data"
    },
    {
     "data": {
      "image/png": "[encoded data removed]",
      "text/plain": [
       "<Figure size 864x216 with 2 Axes>"
      ]
     },
     "metadata": {},
     "output_type": "display_data"
    },
    {
     "data": {
      "image/png": "[encoded data removed]",
      "text/plain": [
       "<Figure size 864x216 with 2 Axes>"
      ]
     },
     "metadata": {},
     "output_type": "display_data"
    },
    {
     "data": {
      "image/png": "[encoded data removed]",
      "text/plain": [
       "<Figure size 864x216 with 2 Axes>"
      ]
     },
     "metadata": {},
     "output_type": "display_data"
    },
    {
     "data": {
      "image/png": "[encoded data removed]",
      "text/plain": [
       "<Figure size 864x216 with 2 Axes>"
      ]
     },
     "metadata": {},
     "output_type": "display_data"
    },
    {
     "data": {
      "image/png": "[encoded data removed]",
      "text/plain": [
       "<Figure size 864x216 with 2 Axes>"
      ]
     },
     "metadata": {},
     "output_type": "display_data"
    },
    {
     "data": {
      "image/png": "[encoded data removed]",
      "text/plain": [
       "<Figure size 864x216 with 2 Axes>"
      ]
     },
     "metadata": {},
     "output_type": "display_data"
    },
    {
     "data": {
      "image/png": "[encoded data removed]",
      "text/plain": [
       "<Figure size 864x216 with 2 Axes>"
      ]
     },
     "metadata": {},
     "output_type": "display_data"
    },
    {
     "data": {
      "image/png": "[encoded data removed]",
      "text/plain": [
       "<Figure size 864x216 with 2 Axes>"
      ]
     },
     "metadata": {},
     "output_type": "display_data"
    },
    {
     "data": {
      "image/png": "[encoded data removed]",
      "text/plain": [
       "<Figure size 864x216 with 2 Axes>"
      ]
     },
     "metadata": {},
     "output_type": "display_data"
    },
    {
     "data": {
      "image/png": "[encoded data removed]",
      "text/plain": [
       "<Figure size 864x216 with 2 Axes>"
      ]
     },
     "metadata": {},
     "output_type": "display_data"
    },
    {
     "data": {
      "image/png": "[encoded data removed]",
      "text/plain": [
       "<Figure size 864x216 with 2 Axes>"
      ]
     },
     "metadata": {},
     "output_type": "display_data"
    },
    {
     "data": {
      "image/png": "[encoded data removed]",
      "text/plain": [
       "<Figure size 864x216 with 2 Axes>"
      ]
     },
     "metadata": {},
     "output_type": "display_data"
    },
    {
     "data": {
      "image/png": "[encoded data removed]",
      "text/plain": [
       "<Figure size 864x216 with 2 Axes>"
      ]
     },
     "metadata": {},
     "output_type": "display_data"
    },
    {
     "data": {
      "image/png": "[encoded data removed]",
      "text/plain": [
       "<Figure size 864x216 with 2 Axes>"
      ]
     },
     "metadata": {},
     "output_type": "display_data"
    }
   ],
   "source": [
    "# draw count plot to compare between two groups\n",
    "def draw_compare(colname,dem_df_lowna,dem_df_highna):\n",
    "    fig, axes = plt.subplots(1,2, figsize=(12, 3))\n",
    "    ax1 = plt.subplot(1,2,1)\n",
    "    ax1 = sns.countplot(dem_df_lowna[colname],color='g')\n",
    "    ax2 = plt.subplot(1,2,2,sharey=ax1)\n",
    "    ax2 = sns.countplot(dem_df_highna[colname],color='r')\n",
    "    plt.show()\n",
    "    \n",
    "for col in common_col:\n",
    "    draw_compare(col,dem_df_lowna,dem_df_highna)"
   ]
  },
  {
   "cell_type": "code",
   "execution_count": 184,
   "metadata": {},
   "outputs": [
    {
     "name": "stdout",
     "output_type": "stream",
     "text": [
      "(747109, 79)\n"
     ]
    }
   ],
   "source": [
    "# keep only the rows with low missing rate\n",
    "dem_df = dem_df_lowna\n",
    "# drop row missing rate colunm\n",
    "dem_df = dem_df.drop('row_miss_per', axis=1)\n",
    "print(dem_df.shape)"
   ]
  },
  {
   "cell_type": "markdown",
   "metadata": {},
   "source": [
    "#### Discussion 1.1.3: Assess Missing Data in Each Row\n",
    "\n",
    "(Double-click this cell and replace this text with your own text, reporting your observations regarding missing data in rows. Are the data with lots of missing values are qualitatively different from data with few or no missing values?)\n",
    "Yes, they are quite different in all colunms. The high missing value data should be remarked as special"
   ]
  },
  {
   "cell_type": "markdown",
   "metadata": {},
   "source": [
    "### Step 1.2: Select and Re-Encode Features\n",
    "\n",
    "Checking for missing data isn't the only way in which you can prepare a dataset for analysis. Since the unsupervised learning techniques to be used will only work on data that is encoded numerically, you need to make a few encoding changes or additional assumptions to be able to make progress. In addition, while almost all of the values in the dataset are encoded using numbers, not all of them represent numeric values. Check the third column of the feature summary (`feat_info`) for a summary of types of measurement.\n",
    "- For numeric and interval data, these features can be kept without changes.\n",
    "- Most of the variables in the dataset are ordinal in nature. While ordinal values may technically be non-linear in spacing, make the simplifying assumption that the ordinal variables can be treated as being interval in nature (that is, kept without any changes).\n",
    "- Special handling may be necessary for the remaining two variable types: categorical, and 'mixed'.\n",
    "\n",
    "In the first two parts of this sub-step, you will perform an investigation of the categorical and mixed-type features and make a decision on each of them, whether you will keep, drop, or re-encode each. Then, in the last part, you will create a new data frame with only the selected and engineered columns.\n",
    "\n",
    "Data wrangling is often the trickiest part of the data analysis process, and there's a lot of it to be done here. But stick with it: once you're done with this step, you'll be ready to get to the machine learning parts of the project!"
   ]
  },
  {
   "cell_type": "code",
   "execution_count": 185,
   "metadata": {},
   "outputs": [
    {
     "data": {
      "text/plain": [
       "type\n",
       "categorical    18\n",
       "mixed           6\n",
       "numeric         6\n",
       "ordinal        49\n",
       "Name: attribute, dtype: int64"
      ]
     },
     "execution_count": 185,
     "metadata": {},
     "output_type": "execute_result"
    }
   ],
   "source": [
    "# How many features are there of each data type?\n",
    "# drop the dropped colunms\n",
    "feat_info = feat_info[feat_info.attribute.isin(dem_df.columns)]\n",
    "# group by type and count\n",
    "feat_info.groupby('type').attribute.count()\n",
    "# so there are 18 colunms that belong to categorical and 6 belong to mixed\n"
   ]
  },
  {
   "cell_type": "markdown",
   "metadata": {},
   "source": [
    "#### Step 1.2.1: Re-Encode Categorical Features\n",
    "\n",
    "For categorical data, you would ordinarily need to encode the levels as dummy variables. Depending on the number of categories, perform one of the following:\n",
    "- For binary (two-level) categoricals that take numeric values, you can keep them without needing to do anything.\n",
    "- There is one binary variable that takes on non-numeric values. For this one, you need to re-encode the values as numbers or create a dummy variable.\n",
    "- For multi-level categoricals (three or more values), you can choose to encode the values using multiple dummy variables (e.g. via [OneHotEncoder](http://scikit-learn.org/stable/modules/generated/sklearn.preprocessing.OneHotEncoder.html)), or (to keep things straightforward) just drop them from the analysis. As always, document your choices in the Discussion section."
   ]
  },
  {
   "cell_type": "code",
   "execution_count": 186,
   "metadata": {},
   "outputs": [
    {
     "name": "stdout",
     "output_type": "stream",
     "text": [
      "             colname  uniquen    ftype\n",
      "0          ANREDE_KZ        2  float64\n",
      "1        OST_WEST_KZ        2   object\n",
      "2           VERS_TYP        2  float64\n",
      "3            SOHO_KZ        2  float64\n",
      "4   GREEN_AVANTGARDE        2  float64\n",
      "5   NATIONALITAET_KZ        3  float64\n",
      "6        SHOPPER_TYP        4  float64\n",
      "7     LP_STATUS_GROB        5  float64\n",
      "8    LP_FAMILIE_GROB        5  float64\n",
      "9          FINANZTYP        6  float64\n",
      "10          ZABEOTYP        6  float64\n",
      "11     CJT_GESAMTTYP        6  float64\n",
      "12       GEBAEUDETYP        7  float64\n",
      "13   CAMEO_DEUG_2015        9   object\n",
      "14    LP_STATUS_FEIN       10  float64\n",
      "15   LP_FAMILIE_FEIN       11  float64\n",
      "16   GFK_URLAUBERTYP       12  float64\n",
      "17    CAMEO_DEU_2015       44   object\n"
     ]
    }
   ],
   "source": [
    "# Assess categorical variables: which are binary, which are multi-level, and\n",
    "# which one needs to be re-encoded?\n",
    "col_cate_num = dem_df[feat_info[feat_info.type=='categorical'].attribute].nunique().sort_values()\n",
    "col_cate_num = col_cate_num.to_frame()\n",
    "col_cate_num.reset_index(level=0, inplace=True)\n",
    "col_cate_num.columns = ['colname','uniquen']\n",
    "col_cate_num['ftype'] = list(dem_df[list(col_cate_num.colname)].dtypes)\n",
    "#col_cate_num['ftype'] = [str(s) for s in col_cate_num['ftype']]\n",
    "print(col_cate_num)\n",
    "# there are five columns that are binary and colunms 'OST_WEST_KZ' is of type object need to change that one."
   ]
  },
  {
   "cell_type": "code",
   "execution_count": 187,
   "metadata": {},
   "outputs": [
    {
     "data": {
      "text/plain": [
       "array(['W', 'O'], dtype=object)"
      ]
     },
     "execution_count": 187,
     "metadata": {},
     "output_type": "execute_result"
    }
   ],
   "source": [
    "# check OST_WEST_KZ value\n",
    "dem_df['OST_WEST_KZ'].unique()"
   ]
  },
  {
   "cell_type": "code",
   "execution_count": 188,
   "metadata": {},
   "outputs": [],
   "source": [
    "# Re-encode categorical variable(s) to be kept in the analysis.\n",
    "# re-encode OST_WEST_KZ\n",
    "dem_df['OST_WEST_KZ'] = dem_df['OST_WEST_KZ'].map({'O':0,'W':1})"
   ]
  },
  {
   "cell_type": "code",
   "execution_count": 189,
   "metadata": {},
   "outputs": [
    {
     "data": {
      "text/plain": [
       "array([1, 0])"
      ]
     },
     "execution_count": 189,
     "metadata": {},
     "output_type": "execute_result"
    }
   ],
   "source": [
    "# check value change\n",
    "dem_df['OST_WEST_KZ'].unique()"
   ]
  },
  {
   "cell_type": "code",
   "execution_count": 191,
   "metadata": {},
   "outputs": [],
   "source": [
    "# function to one hot encoding categorical features\n",
    "def cate_one_hot(df,colname):\n",
    "    dummies = pd.get_dummies(df[colname])\n",
    "    dummies.columns = [colname+str(s) for s in  dummies.columns]\n",
    "    df.drop(colname,inplace=True, axis=1)\n",
    "    df = pd.concat([df, dummies], axis=1)\n",
    "    return df"
   ]
  },
  {
   "cell_type": "code",
   "execution_count": 193,
   "metadata": {},
   "outputs": [
    {
     "data": {
      "text/plain": [
       "5     NATIONALITAET_KZ\n",
       "6          SHOPPER_TYP\n",
       "7       LP_STATUS_GROB\n",
       "8      LP_FAMILIE_GROB\n",
       "9            FINANZTYP\n",
       "10            ZABEOTYP\n",
       "11       CJT_GESAMTTYP\n",
       "12         GEBAEUDETYP\n",
       "13     CAMEO_DEUG_2015\n",
       "14      LP_STATUS_FEIN\n",
       "15     LP_FAMILIE_FEIN\n",
       "16     GFK_URLAUBERTYP\n",
       "17      CAMEO_DEU_2015\n",
       "Name: colname, dtype: object"
      ]
     },
     "execution_count": 193,
     "metadata": {},
     "output_type": "execute_result"
    }
   ],
   "source": [
    "# find multi-category columns\n",
    "muti_cate_col = col_cate_num[col_cate_num.uniquen>2].colname\n",
    "muti_cate_col"
   ]
  },
  {
   "cell_type": "code",
   "execution_count": 194,
   "metadata": {},
   "outputs": [],
   "source": [
    "# one hot encoding for every multi category column\n",
    "for cname in muti_cate_col:\n",
    "    dem_df = cate_one_hot(dem_df,cname)"
   ]
  },
  {
   "cell_type": "code",
   "execution_count": 195,
   "metadata": {},
   "outputs": [
    {
     "data": {
      "text/plain": [
       "(747109, 194)"
      ]
     },
     "execution_count": 195,
     "metadata": {},
     "output_type": "execute_result"
    }
   ],
   "source": [
    "# check data frame shape\n",
    "dem_df.shape"
   ]
  },
  {
   "cell_type": "markdown",
   "metadata": {},
   "source": [
    "#### Discussion 1.2.1: Re-Encode Categorical Features\n",
    "\n",
    "(Double-click this cell and replace this text with your own text, reporting your findings and decisions regarding categorical features. Which ones did you keep, which did you drop, and what engineering steps did you perform?)\n",
    "\n",
    "There are 18 categorical features, five of them are binary features. And data type of feature OST_WEST_KZ is object. So I change it to numeric type. Other binary features stay the way they are. And I also one hot encoding multiple category columns."
   ]
  },
  {
   "cell_type": "markdown",
   "metadata": {},
   "source": [
    "#### Step 1.2.2: Engineer Mixed-Type Features\n",
    "\n",
    "There are a handful of features that are marked as \"mixed\" in the feature summary that require special treatment in order to be included in the analysis. There are two in particular that deserve attention; the handling of the rest are up to your own choices:\n",
    "- \"PRAEGENDE_JUGENDJAHRE\" combines information on three dimensions: generation by decade, movement (mainstream vs. avantgarde), and nation (east vs. west). While there aren't enough levels to disentangle east from west, you should create two new variables to capture the other two dimensions: an interval-type variable for decade, and a binary variable for movement.\n",
    "- \"CAMEO_INTL_2015\" combines information on two axes: wealth and life stage. Break up the two-digit codes by their 'tens'-place and 'ones'-place digits into two new ordinal variables (which, for the purposes of this project, is equivalent to just treating them as their raw numeric values).\n",
    "- If you decide to keep or engineer new features around the other mixed-type features, make sure you note your steps in the Discussion section.\n",
    "\n",
    "Be sure to check `Data_Dictionary.md` for the details needed to finish these tasks."
   ]
  },
  {
   "cell_type": "code",
   "execution_count": 196,
   "metadata": {},
   "outputs": [
    {
     "data": {
      "text/plain": [
       "PLZ8_BAUMAX               5\n",
       "WOHNLAGE                  8\n",
       "LP_LEBENSPHASE_GROB      12\n",
       "PRAEGENDE_JUGENDJAHRE    15\n",
       "CAMEO_INTL_2015          21\n",
       "LP_LEBENSPHASE_FEIN      40\n",
       "dtype: int64"
      ]
     },
     "execution_count": 196,
     "metadata": {},
     "output_type": "execute_result"
    }
   ],
   "source": [
    "# check general situation about mixed-type features\n",
    "dem_df[feat_info[feat_info.type=='mixed'].attribute].nunique().sort_values()"
   ]
  },
  {
   "cell_type": "code",
   "execution_count": 197,
   "metadata": {},
   "outputs": [
    {
     "name": "stdout",
     "output_type": "stream",
     "text": [
      "14.0    172952\n",
      "8.0     134165\n",
      "5.0      81722\n",
      "10.0     80527\n",
      "3.0      51784\n",
      "15.0     39536\n",
      "11.0     33173\n",
      "9.0      32493\n",
      "6.0      25120\n",
      "12.0     23337\n",
      "4.0      20068\n",
      "1.0      19583\n",
      "2.0       7340\n",
      "13.0      5300\n",
      "7.0       3888\n",
      "Name: PRAEGENDE_JUGENDJAHRE, dtype: int64\n"
     ]
    }
   ],
   "source": [
    "# Investigate \"PRAEGENDE_JUGENDJAHRE\" and engineer two new variables.\n",
    "print(dem_df.PRAEGENDE_JUGENDJAHRE.value_counts())"
   ]
  },
  {
   "cell_type": "markdown",
   "metadata": {},
   "source": [
    "# data dictionary\n",
    "-1: unknown\n",
    "\n",
    "0: unknown\n",
    "\n",
    "1: 40s - war years (Mainstream, E+W)\n",
    "\n",
    "2: 40s - reconstruction years (Avantgarde, E+W)\n",
    "\n",
    "3: 50s - economic miracle (Mainstream, E+W)\n",
    "\n",
    "4: 50s - milk bar / Individualisation (Avantgarde, E+W)\n",
    "\n",
    "5: 60s - economic miracle (Mainstream, E+W)\n",
    "\n",
    "6: 60s - generation 68 / student protestors (Avantgarde, W)\n",
    "\n",
    "7: 60s - opponents to the building of the Wall (Avantgarde, E)\n",
    "\n",
    "8: 70s - family orientation (Mainstream, E+W)\n",
    "\n",
    "9: 70s - peace movement (Avantgarde, E+W)\n",
    "\n",
    "10: 80s - Generation Golf (Mainstream, W)\n",
    "\n",
    "11: 80s - ecological awareness (Avantgarde, W)\n",
    "\n",
    "12: 80s - FDJ / communist party youth organisation (Mainstream, E)\n",
    "\n",
    "13: 80s - Swords into ploughshares (Avantgarde, E)\n",
    "\n",
    "14: 90s - digital media kids (Mainstream, E+W)\n",
    "\n",
    "15: 90s - ecological awareness (Avantgarde, E+W)"
   ]
  },
  {
   "cell_type": "code",
   "execution_count": 34,
   "metadata": {},
   "outputs": [],
   "source": [
    "# code for decade: \n",
    "# 1:40s\n",
    "# 2:50s\n",
    "# 3:60s\n",
    "# 4:70s\n",
    "# 5:80s\n",
    "# 6:90s\n",
    "# code for movement\n",
    "# 1:Mainstream\n",
    "# 2:Avantgarde"
   ]
  },
  {
   "cell_type": "code",
   "execution_count": 198,
   "metadata": {},
   "outputs": [],
   "source": [
    "# create map\n",
    "decade_map ={1: 1, 2: 1, \n",
    "             3: 2, 4: 2, \n",
    "             5: 3, 6: 3, 7:  3,\n",
    "             8: 4, 9: 4, \n",
    "             10: 5, 11: 5, 12: 5, 13: 5,\n",
    "             14: 6, 15: 6}\n",
    "movement_map = {1: 1, 3: 1, 5: 1, 8: 1, 10: 1, 12: 1, 14: 1,\n",
    "                2: 2, 4: 2, 6: 2, 7: 2, 9: 2, 11: 2, 13: 2, 15: 2}"
   ]
  },
  {
   "cell_type": "code",
   "execution_count": 199,
   "metadata": {},
   "outputs": [],
   "source": [
    "# transform values\n",
    "dem_df['DECADE'] = dem_df['PRAEGENDE_JUGENDJAHRE'].map(decade_map)\n",
    "dem_df['MOVEMENT'] = dem_df['PRAEGENDE_JUGENDJAHRE'].map(movement_map)"
   ]
  },
  {
   "cell_type": "code",
   "execution_count": 200,
   "metadata": {},
   "outputs": [
    {
     "name": "stdout",
     "output_type": "stream",
     "text": [
      "6.0    212488\n",
      "4.0    166658\n",
      "5.0    142337\n",
      "3.0    110730\n",
      "2.0     71852\n",
      "1.0     26923\n",
      "Name: DECADE, dtype: int64\n",
      "1.0    564070\n",
      "2.0    166918\n",
      "Name: MOVEMENT, dtype: int64\n"
     ]
    }
   ],
   "source": [
    "print(dem_df['DECADE'].value_counts())\n",
    "print(dem_df['MOVEMENT'].value_counts())"
   ]
  },
  {
   "cell_type": "code",
   "execution_count": 201,
   "metadata": {},
   "outputs": [
    {
     "name": "stdout",
     "output_type": "stream",
     "text": [
      "51    128033\n",
      "41     87902\n",
      "24     85759\n",
      "14     59027\n",
      "43     54044\n",
      "54     43637\n",
      "25     37564\n",
      "22     30589\n",
      "45     25124\n",
      "13     24528\n",
      "55     22681\n",
      "23     20328\n",
      "52     19627\n",
      "34     17537\n",
      "15     16296\n",
      "31     16285\n",
      "44     14117\n",
      "12     11980\n",
      "35      9882\n",
      "32      9777\n",
      "33      9161\n",
      "Name: CAMEO_INTL_2015, dtype: int64\n",
      "['51' '24' '12' '43' '54' '22' '14' '13' '15' '41' '34' '55' '33' '25' nan\n",
      " '23' '31' '52' '35' '45' '44' '32']\n"
     ]
    }
   ],
   "source": [
    "# Investigate \"CAMEO_INTL_2015\" and engineer two new variables.\n",
    "print(dem_df.CAMEO_INTL_2015.value_counts())\n",
    "print(dem_df.CAMEO_INTL_2015.unique())\n"
   ]
  },
  {
   "cell_type": "code",
   "execution_count": null,
   "metadata": {},
   "outputs": [],
   "source": [
    "# Data Dictionary:\n",
    "-1: unknown\n",
    "11: Wealthy Households - Pre-Family Couples & Singles\n",
    "12: Wealthy Households - Young Couples With Children\n",
    "13: Wealthy Households - Families With School Age Children\n",
    "14: Wealthy Households - Older Families & Mature Couples\n",
    "15: Wealthy Households - Elders In Retirement\n",
    "21: Prosperous Households - Pre-Family Couples & Singles\n",
    "22: Prosperous Households - Young Couples With Children\n",
    "23: Prosperous Households - Families With School Age Children\n",
    "24: Prosperous Households - Older Families & Mature Couples\n",
    "25: Prosperous Households - Elders In Retirement\n",
    "31: Comfortable Households - Pre-Family Couples & Singles\n",
    "32: Comfortable Households - Young Couples With Children\n",
    "33: Comfortable Households - Families With School Age Children\n",
    "34: Comfortable Households - Older Families & Mature Couples\n",
    "35: Comfortable Households - Elders In Retirement\n",
    "41: Less Affluent Households - Pre-Family Couples & Singles\n",
    "42: Less Affluent Households - Young Couples With Children\n",
    "43: Less Affluent Households - Families With School Age Children\n",
    "44: Less Affluent Households - Older Families & Mature Couples\n",
    "45: Less Affluent Households - Elders In Retirement\n",
    "51: Poorer Households - Pre-Family Couples & Singles\n",
    "52: Poorer Households - Young Couples With Children\n",
    "53: Poorer Households - Families With School Age Children\n",
    "54: Poorer Households - Older Families & Mature Couples\n",
    "55: Poorer Households - Elders In Retirement\n",
    "XX: unknown"
   ]
  },
  {
   "cell_type": "code",
   "execution_count": 202,
   "metadata": {},
   "outputs": [],
   "source": [
    "def get_digit(num,digit):\n",
    "    if not pd.isnull(num):\n",
    "        num = int(str(num)[digit])\n",
    "    return num\n",
    "dem_df['WEALTH'] = dem_df['CAMEO_INTL_2015'].apply(get_digit, digit=0)\n",
    "dem_df['LIFE_STAGE'] = dem_df['CAMEO_INTL_2015'].apply(get_digit, digit=1)"
   ]
  },
  {
   "cell_type": "code",
   "execution_count": 203,
   "metadata": {},
   "outputs": [
    {
     "name": "stdout",
     "output_type": "stream",
     "text": [
      "5.0    213978\n",
      "4.0    181187\n",
      "2.0    174240\n",
      "1.0    111831\n",
      "3.0     62642\n",
      "Name: WEALTH, dtype: int64\n",
      "1.0    232220\n",
      "4.0    220077\n",
      "5.0    111547\n",
      "3.0    108061\n",
      "2.0     71973\n",
      "Name: LIFE_STAGE, dtype: int64\n"
     ]
    }
   ],
   "source": [
    "print(dem_df['WEALTH'].value_counts())\n",
    "print(dem_df['LIFE_STAGE'].value_counts())"
   ]
  },
  {
   "cell_type": "code",
   "execution_count": 204,
   "metadata": {},
   "outputs": [
    {
     "data": {
      "text/plain": [
       "(747109, 192)"
      ]
     },
     "execution_count": 204,
     "metadata": {},
     "output_type": "execute_result"
    }
   ],
   "source": [
    "# drop mix-type features\n",
    "dem_df = dem_df.drop(feat_info[feat_info.type=='mixed'].attribute, axis=1)\n",
    "dem_df.shape"
   ]
  },
  {
   "cell_type": "markdown",
   "metadata": {},
   "source": [
    "#### Discussion 1.2.2: Engineer Mixed-Type Features\n",
    "\n",
    "(Double-click this cell and replace this text with your own text, reporting your findings and decisions regarding mixed-value features. Which ones did you keep, which did you drop, and what engineering steps did you perform?)\n",
    "\n",
    "There are six colunms that belong to mixed type. And I look into feature \"PRAEGENDE_JUGENDJAHRE\" ,which combines information on three dimensions: generation by decade, movement (mainstream vs. avantgarde), and nation (east vs. west). And I create two new features 'DECADE','MOVEMENT' to capture the two dimensions of original feature: an interval-type variable for decade, and a binary variable for movement.\n",
    "I also look into feature \"CAMEO_INTL_2015\" which combines information on two axes: wealth and life stage. Again I creat two new features 'WEALTH' and 'LIFE_STAGE' to capture meaning from the original feature. I break up the original two-digit codes by their 'tens'-place and 'ones'-place digits into two new ordinal variables.\n",
    "Other mixed type features are dropped for now."
   ]
  },
  {
   "cell_type": "markdown",
   "metadata": {},
   "source": [
    "#### Step 1.2.3: Complete Feature Selection\n",
    "\n",
    "In order to finish this step up, you need to make sure that your data frame now only has the columns that you want to keep. To summarize, the dataframe should consist of the following:\n",
    "- All numeric, interval, and ordinal type columns from the original dataset.\n",
    "- Binary categorical features (all numerically-encoded).\n",
    "- Engineered features from other multi-level categorical features and mixed features.\n",
    "\n",
    "Make sure that for any new columns that you have engineered, that you've excluded the original columns from the final dataset. Otherwise, their values will interfere with the analysis later on the project. For example, you should not keep \"PRAEGENDE_JUGENDJAHRE\", since its values won't be useful for the algorithm: only the values derived from it in the engineered features you created should be retained. As a reminder, your data should only be from **the subset with few or no missing values**."
   ]
  },
  {
   "cell_type": "code",
   "execution_count": 205,
   "metadata": {},
   "outputs": [
    {
     "data": {
      "text/plain": [
       "(747109, 192)"
      ]
     },
     "execution_count": 205,
     "metadata": {},
     "output_type": "execute_result"
    }
   ],
   "source": [
    "# If there are other re-engineering tasks you need to perform, make sure you\n",
    "# take care of them here. (Dealing with missing data will come in step 2.1.)\n",
    "# check shape\n",
    "dem_df.shape"
   ]
  },
  {
   "cell_type": "code",
   "execution_count": 206,
   "metadata": {},
   "outputs": [
    {
     "data": {
      "text/plain": [
       "Index(['ALTERSKATEGORIE_GROB', 'ANREDE_KZ', 'FINANZ_MINIMALIST',\n",
       "       'FINANZ_SPARER', 'FINANZ_VORSORGER', 'FINANZ_ANLEGER',\n",
       "       'FINANZ_UNAUFFAELLIGER', 'FINANZ_HAUSBAUER', 'GREEN_AVANTGARDE',\n",
       "       'HEALTH_TYP',\n",
       "       ...\n",
       "       'CAMEO_DEU_20158D', 'CAMEO_DEU_20159A', 'CAMEO_DEU_20159B',\n",
       "       'CAMEO_DEU_20159C', 'CAMEO_DEU_20159D', 'CAMEO_DEU_20159E', 'DECADE',\n",
       "       'MOVEMENT', 'WEALTH', 'LIFE_STAGE'],\n",
       "      dtype='object', length=192)"
      ]
     },
     "execution_count": 206,
     "metadata": {},
     "output_type": "execute_result"
    }
   ],
   "source": [
    "# check colunms\n",
    "dem_df.columns"
   ]
  },
  {
   "cell_type": "code",
   "execution_count": 207,
   "metadata": {},
   "outputs": [
    {
     "data": {
      "text/plain": [
       "array([dtype('float64'), dtype('int64'), dtype('uint8')], dtype=object)"
      ]
     },
     "execution_count": 207,
     "metadata": {},
     "output_type": "execute_result"
    }
   ],
   "source": [
    "# Do whatever you need to in order to ensure that the dataframe only contains\n",
    "# the columns that should be passed to the algorithm functions.\n",
    "dem_df.dtypes.unique()\n"
   ]
  },
  {
   "cell_type": "markdown",
   "metadata": {},
   "source": [
    "### Step 1.3: Create a Cleaning Function\n",
    "\n",
    "Even though you've finished cleaning up the general population demographics data, it's important to look ahead to the future and realize that you'll need to perform the same cleaning steps on the customer demographics data. In this substep, complete the function below to execute the main feature selection, encoding, and re-engineering steps you performed above. Then, when it comes to looking at the customer data in Step 3, you can just run this function on that DataFrame to get the trimmed dataset in a single step."
   ]
  },
  {
   "cell_type": "code",
   "execution_count": 208,
   "metadata": {},
   "outputs": [],
   "source": [
    "def clean_data(df,missing_data_encode,col_remove_highmissing,feat_info):\n",
    "    \"\"\"Perform feature trimming, re-encoding, and engineering for demographics data\n",
    "    \n",
    "    Args:\n",
    "    df: data frame. The data frame that need to be cleaned \n",
    "    missing_data_encode: dictionary. Key:column name. Value: missing value representor\n",
    "    col_remove_highmissing: list. Columns with high missing rate that need to be removed\n",
    "    feat_info: data frame. Feature info data.\n",
    "    \n",
    "    Returns:\n",
    "    df: data frame. Cleaned data frame.\n",
    "    df_highna: data frame. Data that has high na row values.\n",
    "    \"\"\"\n",
    "    \n",
    "    # Put in code here to execute all main cleaning steps:\n",
    "    # convert missing value codes into NaNs, ...\n",
    "    df = missing_code_to_nan(df,missing_data_encode)\n",
    "    print('process done missing code to nan')\n",
    "    \n",
    "    # remove selected columns and rows, ...\n",
    "    df = drop_high_missing_col(df,col_remove_highmissing)\n",
    "    df,df_highna = drop_high_missing_row(df,threshhold=0.1)\n",
    "    print('process done remove high missing rate colunms and rows')\n",
    "    \n",
    "    # select, re-encode, and engineer column values.\n",
    "    df = re_encode_categorical_feature(df,feat_info)\n",
    "    df = engineer_mixed_feature(df,feat_info)\n",
    "    print('process done re-encode and engineer')\n",
    "    \n",
    "    # Return the cleaned dataframe.\n",
    "    return df, df_highna\n",
    "    \n",
    "    \n",
    "def missing_code_to_nan(df,missing_data_encode):\n",
    "    for col in missing_data_encode.keys():\n",
    "        # get row index for missing values in col\n",
    "        missing_values_ridx = df[col].isin(missing_data_encode[col])\n",
    "        # set missing values to nan\n",
    "        df.loc[missing_values_ridx, col] = np.nan    \n",
    "    return df\n",
    "\n",
    "    \n",
    "def drop_high_missing_col(df,col_remove):\n",
    "    return df.drop(col_remove, axis=1)\n",
    "\n",
    "def drop_high_missing_row(df,threshhold=0.1):\n",
    "    df['row_miss_per'] = df.isnull().mean(axis=1)\n",
    "    df_lowna = df.loc[df['row_miss_per'] < threshhold].drop(['row_miss_per'], axis=1)\n",
    "    df_highna = df.loc[df['row_miss_per'] > threshhold].drop(['row_miss_per'], axis=1)\n",
    "    return df_lowna,df_highna\n",
    "    \n",
    "def re_encode_categorical_feature(df,feat_info):\n",
    "    # change binary feature OST_WEST_KZ to numeric\n",
    "    df['OST_WEST_KZ'] = df['OST_WEST_KZ'].map({'O':0,'W':1})\n",
    "    \n",
    "    # one hot multi-level features\n",
    "    col_cate_num = df[feat_info[feat_info.type=='categorical'].attribute].nunique().sort_values()\n",
    "    col_cate_num = col_cate_num.to_frame()\n",
    "    col_cate_num.reset_index(level=0, inplace=True)\n",
    "    col_cate_num.columns = ['colname','uniquen']\n",
    "    \n",
    "    muti_cate_col = col_cate_num[col_cate_num.uniquen>2].colname\n",
    "    for cname in muti_cate_col:\n",
    "        df = cate_one_hot(df,cname)\n",
    "    return df\n",
    "\n",
    "def engineer_mixed_feature(df,feat_info):\n",
    "    # engineer two features\n",
    "    df = enginee_PRAEGENDE_JUGENDJAHRE(df)\n",
    "    df = enginee_CAMEO_INTL_2015(df)\n",
    "    # drop mixed features\n",
    "    df = df.drop(feat_info[feat_info.type=='mixed'].attribute, axis=1)\n",
    "    return df\n",
    "\n",
    "def enginee_PRAEGENDE_JUGENDJAHRE(df):\n",
    "    decade_map ={1: 1, 2: 1, \n",
    "             3: 2, 4: 2, \n",
    "             5: 3, 6: 3, 7:  3,\n",
    "             8: 4, 9: 4, \n",
    "             10: 5, 11: 5, 12: 5, 13: 5,\n",
    "             14: 6, 15: 6}\n",
    "    movement_map = {1: 1, 3: 1, 5: 1, 8: 1, 10: 1, 12: 1, 14: 1,\n",
    "                2: 2, 4: 2, 6: 2, 7: 2, 9: 2, 11: 2, 13: 2, 15: 2}\n",
    "    \n",
    "    df['DECADE'] = df['PRAEGENDE_JUGENDJAHRE'].map(decade_map)\n",
    "    df['MOVEMENT'] = df['PRAEGENDE_JUGENDJAHRE'].map(movement_map)\n",
    "    return df\n",
    "\n",
    "def enginee_CAMEO_INTL_2015(df):\n",
    "    df['WEALTH'] = df['CAMEO_INTL_2015'].apply(get_digit, digit=0)\n",
    "    df['LIFE_STAGE'] = df['CAMEO_INTL_2015'].apply(get_digit, digit=1)\n",
    "    return df"
   ]
  },
  {
   "cell_type": "markdown",
   "metadata": {},
   "source": [
    "## Step 2: Feature Transformation\n",
    "\n",
    "### Step 2.1: Apply Feature Scaling\n",
    "\n",
    "Before we apply dimensionality reduction techniques to the data, we need to perform feature scaling so that the principal component vectors are not influenced by the natural differences in scale for features. Starting from this part of the project, you'll want to keep an eye on the [API reference page for sklearn](http://scikit-learn.org/stable/modules/classes.html) to help you navigate to all of the classes and functions that you'll need. In this substep, you'll need to check the following:\n",
    "\n",
    "- sklearn requires that data not have missing values in order for its estimators to work properly. So, before applying the scaler to your data, make sure that you've cleaned the DataFrame of the remaining missing values. This can be as simple as just removing all data points with missing data, or applying an [Imputer](http://scikit-learn.org/stable/modules/generated/sklearn.preprocessing.Imputer.html) to replace all missing values. You might also try a more complicated procedure where you temporarily remove missing values in order to compute the scaling parameters before re-introducing those missing values and applying imputation. Think about how much missing data you have and what possible effects each approach might have on your analysis, and justify your decision in the discussion section below.\n",
    "- For the actual scaling function, a [StandardScaler](http://scikit-learn.org/stable/modules/generated/sklearn.preprocessing.StandardScaler.html) instance is suggested, scaling each feature to mean 0 and standard deviation 1.\n",
    "- For these classes, you can make use of the `.fit_transform()` method to both fit a procedure to the data as well as apply the transformation to the data at the same time. Don't forget to keep the fit sklearn objects handy, since you'll be applying them to the customer demographics data towards the end of the project."
   ]
  },
  {
   "cell_type": "code",
   "execution_count": 209,
   "metadata": {},
   "outputs": [
    {
     "data": {
      "text/plain": [
       "count    192.000000\n",
       "mean       0.002236\n",
       "std        0.008320\n",
       "min        0.000000\n",
       "25%        0.000000\n",
       "50%        0.000000\n",
       "75%        0.000000\n",
       "max        0.060785\n",
       "dtype: float64"
      ]
     },
     "execution_count": 209,
     "metadata": {},
     "output_type": "execute_result"
    }
   ],
   "source": [
    "# check missing rate\n",
    "dem_df.isnull().mean().describe()"
   ]
  },
  {
   "cell_type": "code",
   "execution_count": 210,
   "metadata": {},
   "outputs": [
    {
     "name": "stderr",
     "output_type": "stream",
     "text": [
      "/home/jinpwa/anaconda3/lib/python3.6/site-packages/sklearn/utils/deprecation.py:66: DeprecationWarning: Class Imputer is deprecated; Imputer was deprecated in version 0.20 and will be removed in 0.22. Import impute.SimpleImputer from sklearn instead.\n",
      "  warnings.warn(msg, category=DeprecationWarning)\n"
     ]
    }
   ],
   "source": [
    "# computue possible scaling with temporarily removing missing values\n",
    "scaler = StandardScaler()\n",
    "scaler.fit(dem_df.dropna(axis=0))\n",
    "# imput missing values with mean\n",
    "imp = Imputer(missing_values=np.nan , strategy='mean', axis=0)\n",
    "dem_impute = imp.fit_transform(dem_df)\n"
   ]
  },
  {
   "cell_type": "code",
   "execution_count": 211,
   "metadata": {},
   "outputs": [
    {
     "data": {
      "text/html": [
       "<div>\n",
       "<style scoped>\n",
       "    .dataframe tbody tr th:only-of-type {\n",
       "        vertical-align: middle;\n",
       "    }\n",
       "\n",
       "    .dataframe tbody tr th {\n",
       "        vertical-align: top;\n",
       "    }\n",
       "\n",
       "    .dataframe thead th {\n",
       "        text-align: right;\n",
       "    }\n",
       "</style>\n",
       "<table border=\"1\" class=\"dataframe\">\n",
       "  <thead>\n",
       "    <tr style=\"text-align: right;\">\n",
       "      <th></th>\n",
       "      <th>ALTERSKATEGORIE_GROB</th>\n",
       "      <th>ANREDE_KZ</th>\n",
       "      <th>FINANZ_MINIMALIST</th>\n",
       "      <th>FINANZ_SPARER</th>\n",
       "      <th>FINANZ_VORSORGER</th>\n",
       "      <th>FINANZ_ANLEGER</th>\n",
       "      <th>FINANZ_UNAUFFAELLIGER</th>\n",
       "      <th>FINANZ_HAUSBAUER</th>\n",
       "      <th>GREEN_AVANTGARDE</th>\n",
       "      <th>HEALTH_TYP</th>\n",
       "      <th>...</th>\n",
       "      <th>CAMEO_DEU_20158D</th>\n",
       "      <th>CAMEO_DEU_20159A</th>\n",
       "      <th>CAMEO_DEU_20159B</th>\n",
       "      <th>CAMEO_DEU_20159C</th>\n",
       "      <th>CAMEO_DEU_20159D</th>\n",
       "      <th>CAMEO_DEU_20159E</th>\n",
       "      <th>DECADE</th>\n",
       "      <th>MOVEMENT</th>\n",
       "      <th>WEALTH</th>\n",
       "      <th>LIFE_STAGE</th>\n",
       "    </tr>\n",
       "  </thead>\n",
       "  <tbody>\n",
       "    <tr>\n",
       "      <th>count</th>\n",
       "      <td>747109.000000</td>\n",
       "      <td>747109.000000</td>\n",
       "      <td>747109.000000</td>\n",
       "      <td>747109.000000</td>\n",
       "      <td>747109.000000</td>\n",
       "      <td>747109.000000</td>\n",
       "      <td>747109.000000</td>\n",
       "      <td>747109.000000</td>\n",
       "      <td>747109.000000</td>\n",
       "      <td>747109.000000</td>\n",
       "      <td>...</td>\n",
       "      <td>747109.000000</td>\n",
       "      <td>747109.000000</td>\n",
       "      <td>747109.000000</td>\n",
       "      <td>747109.000000</td>\n",
       "      <td>747109.000000</td>\n",
       "      <td>747109.000000</td>\n",
       "      <td>747109.000000</td>\n",
       "      <td>747109.000000</td>\n",
       "      <td>747109.000000</td>\n",
       "      <td>747109.000000</td>\n",
       "    </tr>\n",
       "    <tr>\n",
       "      <th>mean</th>\n",
       "      <td>0.003698</td>\n",
       "      <td>0.015413</td>\n",
       "      <td>0.001930</td>\n",
       "      <td>0.008389</td>\n",
       "      <td>-0.000648</td>\n",
       "      <td>0.030617</td>\n",
       "      <td>0.024543</td>\n",
       "      <td>-0.011613</td>\n",
       "      <td>-0.026449</td>\n",
       "      <td>0.000891</td>\n",
       "      <td>...</td>\n",
       "      <td>-0.008769</td>\n",
       "      <td>-0.003031</td>\n",
       "      <td>-0.009810</td>\n",
       "      <td>-0.008391</td>\n",
       "      <td>-0.001255</td>\n",
       "      <td>0.023851</td>\n",
       "      <td>0.005359</td>\n",
       "      <td>-0.014822</td>\n",
       "      <td>-0.029240</td>\n",
       "      <td>-0.000760</td>\n",
       "    </tr>\n",
       "    <tr>\n",
       "      <th>std</th>\n",
       "      <td>0.997498</td>\n",
       "      <td>0.999536</td>\n",
       "      <td>1.006980</td>\n",
       "      <td>1.008161</td>\n",
       "      <td>0.995106</td>\n",
       "      <td>1.011898</td>\n",
       "      <td>1.009243</td>\n",
       "      <td>1.015730</td>\n",
       "      <td>0.982942</td>\n",
       "      <td>0.979313</td>\n",
       "      <td>...</td>\n",
       "      <td>0.972422</td>\n",
       "      <td>0.991067</td>\n",
       "      <td>0.975694</td>\n",
       "      <td>0.977819</td>\n",
       "      <td>0.996927</td>\n",
       "      <td>1.145438</td>\n",
       "      <td>0.995194</td>\n",
       "      <td>0.979819</td>\n",
       "      <td>1.003429</td>\n",
       "      <td>0.992829</td>\n",
       "    </tr>\n",
       "    <tr>\n",
       "      <th>min</th>\n",
       "      <td>-1.746287</td>\n",
       "      <td>-1.022678</td>\n",
       "      <td>-1.512226</td>\n",
       "      <td>-1.141397</td>\n",
       "      <td>-1.765054</td>\n",
       "      <td>-1.221852</td>\n",
       "      <td>-1.139026</td>\n",
       "      <td>-1.588887</td>\n",
       "      <td>-0.553672</td>\n",
       "      <td>-1.591635</td>\n",
       "      <td>...</td>\n",
       "      <td>-0.157429</td>\n",
       "      <td>-0.165818</td>\n",
       "      <td>-0.196773</td>\n",
       "      <td>-0.185007</td>\n",
       "      <td>-0.196619</td>\n",
       "      <td>-0.075861</td>\n",
       "      <td>-2.280170</td>\n",
       "      <td>-0.553672</td>\n",
       "      <td>-1.595951</td>\n",
       "      <td>-1.251111</td>\n",
       "    </tr>\n",
       "    <tr>\n",
       "      <th>25%</th>\n",
       "      <td>-0.772089</td>\n",
       "      <td>-1.022678</td>\n",
       "      <td>-0.777350</td>\n",
       "      <td>-1.141397</td>\n",
       "      <td>-1.045045</td>\n",
       "      <td>-1.221852</td>\n",
       "      <td>-1.139026</td>\n",
       "      <td>-0.856544</td>\n",
       "      <td>-0.553672</td>\n",
       "      <td>-0.273495</td>\n",
       "      <td>...</td>\n",
       "      <td>-0.157429</td>\n",
       "      <td>-0.165818</td>\n",
       "      <td>-0.196773</td>\n",
       "      <td>-0.185007</td>\n",
       "      <td>-0.196619</td>\n",
       "      <td>-0.075861</td>\n",
       "      <td>-0.902320</td>\n",
       "      <td>-0.553672</td>\n",
       "      <td>-0.909992</td>\n",
       "      <td>-1.251111</td>\n",
       "    </tr>\n",
       "    <tr>\n",
       "      <th>50%</th>\n",
       "      <td>0.202108</td>\n",
       "      <td>0.977825</td>\n",
       "      <td>-0.042475</td>\n",
       "      <td>0.219832</td>\n",
       "      <td>0.394972</td>\n",
       "      <td>0.158605</td>\n",
       "      <td>-0.410325</td>\n",
       "      <td>-0.124201</td>\n",
       "      <td>-0.553672</td>\n",
       "      <td>-0.273495</td>\n",
       "      <td>...</td>\n",
       "      <td>-0.157429</td>\n",
       "      <td>-0.165818</td>\n",
       "      <td>-0.196773</td>\n",
       "      <td>-0.185007</td>\n",
       "      <td>-0.196619</td>\n",
       "      <td>-0.075861</td>\n",
       "      <td>-0.213395</td>\n",
       "      <td>-0.553672</td>\n",
       "      <td>0.461926</td>\n",
       "      <td>0.082843</td>\n",
       "    </tr>\n",
       "    <tr>\n",
       "      <th>75%</th>\n",
       "      <td>1.176305</td>\n",
       "      <td>0.977825</td>\n",
       "      <td>0.692400</td>\n",
       "      <td>0.900446</td>\n",
       "      <td>1.114980</td>\n",
       "      <td>0.848833</td>\n",
       "      <td>1.047076</td>\n",
       "      <td>0.608142</td>\n",
       "      <td>-0.553672</td>\n",
       "      <td>1.044646</td>\n",
       "      <td>...</td>\n",
       "      <td>-0.157429</td>\n",
       "      <td>-0.165818</td>\n",
       "      <td>-0.196773</td>\n",
       "      <td>-0.185007</td>\n",
       "      <td>-0.196619</td>\n",
       "      <td>-0.075861</td>\n",
       "      <td>1.164455</td>\n",
       "      <td>-0.553672</td>\n",
       "      <td>1.147884</td>\n",
       "      <td>0.749820</td>\n",
       "    </tr>\n",
       "    <tr>\n",
       "      <th>max</th>\n",
       "      <td>1.176305</td>\n",
       "      <td>0.977825</td>\n",
       "      <td>1.427276</td>\n",
       "      <td>1.581061</td>\n",
       "      <td>1.114980</td>\n",
       "      <td>1.539061</td>\n",
       "      <td>1.775776</td>\n",
       "      <td>1.340485</td>\n",
       "      <td>1.806125</td>\n",
       "      <td>1.044646</td>\n",
       "      <td>...</td>\n",
       "      <td>6.352080</td>\n",
       "      <td>6.030712</td>\n",
       "      <td>5.081997</td>\n",
       "      <td>5.405210</td>\n",
       "      <td>5.085978</td>\n",
       "      <td>13.181985</td>\n",
       "      <td>1.164455</td>\n",
       "      <td>1.806125</td>\n",
       "      <td>1.147884</td>\n",
       "      <td>1.416797</td>\n",
       "    </tr>\n",
       "  </tbody>\n",
       "</table>\n",
       "<p>8 rows × 192 columns</p>\n",
       "</div>"
      ],
      "text/plain": [
       "       ALTERSKATEGORIE_GROB      ANREDE_KZ  FINANZ_MINIMALIST  FINANZ_SPARER  \\\n",
       "count         747109.000000  747109.000000      747109.000000  747109.000000   \n",
       "mean               0.003698       0.015413           0.001930       0.008389   \n",
       "std                0.997498       0.999536           1.006980       1.008161   \n",
       "min               -1.746287      -1.022678          -1.512226      -1.141397   \n",
       "25%               -0.772089      -1.022678          -0.777350      -1.141397   \n",
       "50%                0.202108       0.977825          -0.042475       0.219832   \n",
       "75%                1.176305       0.977825           0.692400       0.900446   \n",
       "max                1.176305       0.977825           1.427276       1.581061   \n",
       "\n",
       "       FINANZ_VORSORGER  FINANZ_ANLEGER  FINANZ_UNAUFFAELLIGER  \\\n",
       "count     747109.000000   747109.000000          747109.000000   \n",
       "mean          -0.000648        0.030617               0.024543   \n",
       "std            0.995106        1.011898               1.009243   \n",
       "min           -1.765054       -1.221852              -1.139026   \n",
       "25%           -1.045045       -1.221852              -1.139026   \n",
       "50%            0.394972        0.158605              -0.410325   \n",
       "75%            1.114980        0.848833               1.047076   \n",
       "max            1.114980        1.539061               1.775776   \n",
       "\n",
       "       FINANZ_HAUSBAUER  GREEN_AVANTGARDE     HEALTH_TYP      ...        \\\n",
       "count     747109.000000     747109.000000  747109.000000      ...         \n",
       "mean          -0.011613         -0.026449       0.000891      ...         \n",
       "std            1.015730          0.982942       0.979313      ...         \n",
       "min           -1.588887         -0.553672      -1.591635      ...         \n",
       "25%           -0.856544         -0.553672      -0.273495      ...         \n",
       "50%           -0.124201         -0.553672      -0.273495      ...         \n",
       "75%            0.608142         -0.553672       1.044646      ...         \n",
       "max            1.340485          1.806125       1.044646      ...         \n",
       "\n",
       "       CAMEO_DEU_20158D  CAMEO_DEU_20159A  CAMEO_DEU_20159B  CAMEO_DEU_20159C  \\\n",
       "count     747109.000000     747109.000000     747109.000000     747109.000000   \n",
       "mean          -0.008769         -0.003031         -0.009810         -0.008391   \n",
       "std            0.972422          0.991067          0.975694          0.977819   \n",
       "min           -0.157429         -0.165818         -0.196773         -0.185007   \n",
       "25%           -0.157429         -0.165818         -0.196773         -0.185007   \n",
       "50%           -0.157429         -0.165818         -0.196773         -0.185007   \n",
       "75%           -0.157429         -0.165818         -0.196773         -0.185007   \n",
       "max            6.352080          6.030712          5.081997          5.405210   \n",
       "\n",
       "       CAMEO_DEU_20159D  CAMEO_DEU_20159E         DECADE       MOVEMENT  \\\n",
       "count     747109.000000     747109.000000  747109.000000  747109.000000   \n",
       "mean          -0.001255          0.023851       0.005359      -0.014822   \n",
       "std            0.996927          1.145438       0.995194       0.979819   \n",
       "min           -0.196619         -0.075861      -2.280170      -0.553672   \n",
       "25%           -0.196619         -0.075861      -0.902320      -0.553672   \n",
       "50%           -0.196619         -0.075861      -0.213395      -0.553672   \n",
       "75%           -0.196619         -0.075861       1.164455      -0.553672   \n",
       "max            5.085978         13.181985       1.164455       1.806125   \n",
       "\n",
       "              WEALTH     LIFE_STAGE  \n",
       "count  747109.000000  747109.000000  \n",
       "mean       -0.029240      -0.000760  \n",
       "std         1.003429       0.992829  \n",
       "min        -1.595951      -1.251111  \n",
       "25%        -0.909992      -1.251111  \n",
       "50%         0.461926       0.082843  \n",
       "75%         1.147884       0.749820  \n",
       "max         1.147884       1.416797  \n",
       "\n",
       "[8 rows x 192 columns]"
      ]
     },
     "execution_count": 211,
     "metadata": {},
     "output_type": "execute_result"
    }
   ],
   "source": [
    "# Apply feature scaling to the general population demographics data.\n",
    "# transform data with the fitted scaler\n",
    "dem_scale = scaler.transform(dem_impute)\n",
    "dem_scale = pd.DataFrame(dem_scale, columns=dem_df.columns)\n",
    "dem_scale.describe()\n"
   ]
  },
  {
   "cell_type": "markdown",
   "metadata": {},
   "source": [
    "### Discussion 2.1: Apply Feature Scaling\n",
    "\n",
    "(Double-click this cell and replace this text with your own text, reporting your decisions regarding feature scaling.)\n",
    "\n",
    "There are 0.67% data that contain nan values. Simply drop the rows with nan values will lose critical information about the data. Impute with mean however will reduce variance. So best option is that train the scaler before impute. "
   ]
  },
  {
   "cell_type": "markdown",
   "metadata": {},
   "source": [
    "### Step 2.2: Perform Dimensionality Reduction\n",
    "\n",
    "On your scaled data, you are now ready to apply dimensionality reduction techniques.\n",
    "\n",
    "- Use sklearn's [PCA](http://scikit-learn.org/stable/modules/generated/sklearn.decomposition.PCA.html) class to apply principal component analysis on the data, thus finding the vectors of maximal variance in the data. To start, you should not set any parameters (so all components are computed) or set a number of components that is at least half the number of features (so there's enough features to see the general trend in variability).\n",
    "- Check out the ratio of variance explained by each principal component as well as the cumulative variance explained. Try plotting the cumulative or sequential values using matplotlib's [`plot()`](https://matplotlib.org/api/_as_gen/matplotlib.pyplot.plot.html) function. Based on what you find, select a value for the number of transformed features you'll retain for the clustering part of the project.\n",
    "- Once you've made a choice for the number of components to keep, make sure you re-fit a PCA instance to perform the decided-on transformation."
   ]
  },
  {
   "cell_type": "code",
   "execution_count": 212,
   "metadata": {},
   "outputs": [],
   "source": [
    "# Apply PCA to the data.\n",
    "pca = PCA()\n",
    "dem_pca = pca.fit_transform(dem_scale)"
   ]
  },
  {
   "cell_type": "code",
   "execution_count": 216,
   "metadata": {},
   "outputs": [],
   "source": [
    "# check components number should be the same as total features\n",
    "components_total = len(pca.explained_variance_ratio_)\n",
    "# generate sequence for plotting\n",
    "components = np.arange(components_total)"
   ]
  },
  {
   "cell_type": "code",
   "execution_count": 217,
   "metadata": {},
   "outputs": [
    {
     "data": {
      "text/plain": [
       "Text(0.5,1,'Cumulative Explained Variance vs No. of Principal Components')"
      ]
     },
     "execution_count": 217,
     "metadata": {},
     "output_type": "execute_result"
    },
    {
     "data": {
      "image/png": "[encoded data removed]",
      "text/plain": [
       "<Figure size 1080x360 with 2 Axes>"
      ]
     },
     "metadata": {},
     "output_type": "display_data"
    }
   ],
   "source": [
    "# Investigate the variance accounted for by each principal component.\n",
    "# refer to this blog:https://github.com/S-Tabor/udacity-customer-segmentation-project/blob/master/identify_customer_segments_final.ipynb\n",
    "fig, ax1 = plt.subplots(figsize=(15,5))\n",
    "\n",
    "ax1.bar(components,pca.explained_variance_ratio_)\n",
    "ax1.set_ylabel('Explained Variance', color=\"blue\")\n",
    "ax1.set_xlabel('Number of Components')\n",
    "\n",
    "ax2 = ax1.twinx() \n",
    "ax2.plot(np.cumsum(pca.explained_variance_ratio_), color=\"red\",marker='o')\n",
    "ax2.set_ylabel('Cumulative Explained Variance', color=\"red\")\n",
    "plt.title(\"Cumulative Explained Variance vs No. of Principal Components\")\n"
   ]
  },
  {
   "cell_type": "code",
   "execution_count": 223,
   "metadata": {},
   "outputs": [
    {
     "data": {
      "text/plain": [
       "0.6268273844966008"
      ]
     },
     "execution_count": 223,
     "metadata": {},
     "output_type": "execute_result"
    }
   ],
   "source": [
    "np.cumsum(pca.explained_variance_ratio_[:50])[-1]"
   ]
  },
  {
   "cell_type": "code",
   "execution_count": 224,
   "metadata": {},
   "outputs": [],
   "source": [
    "# Re-apply PCA to the data while selecting for number of components to retain.\n",
    "pca_50 = PCA(n_components=50)\n",
    "dem_pca_50 = pca_50.fit_transform(dem_scale)\n",
    "dem_pca_50_df = pd.DataFrame(dem_pca_50)"
   ]
  },
  {
   "cell_type": "markdown",
   "metadata": {},
   "source": [
    "### Discussion 2.2: Perform Dimensionality Reduction\n",
    "\n",
    "(Double-click this cell and replace this text with your own text, reporting your findings and decisions regarding dimensionality reduction. How many principal components / transformed features are you retaining for the next step of the analysis?)\n",
    "\n",
    "I use PCA method on the scaled dataset and plot explained variance against the number of components together with cumulative explained variance. I choose to keep 26 components to acheive a higher model accuracy. And I discover that the first ten components give a cum variance of 62%."
   ]
  },
  {
   "cell_type": "markdown",
   "metadata": {},
   "source": [
    "### Step 2.3: Interpret Principal Components\n",
    "\n",
    "Now that we have our transformed principal components, it's a nice idea to check out the weight of each variable on the first few components to see if they can be interpreted in some fashion.\n",
    "\n",
    "As a reminder, each principal component is a unit vector that points in the direction of highest variance (after accounting for the variance captured by earlier principal components). The further a weight is from zero, the more the principal component is in the direction of the corresponding feature. If two features have large weights of the same sign (both positive or both negative), then increases in one tend expect to be associated with increases in the other. To contrast, features with different signs can be expected to show a negative correlation: increases in one variable should result in a decrease in the other.\n",
    "\n",
    "- To investigate the features, you should map each weight to their corresponding feature name, then sort the features according to weight. The most interesting features for each principal component, then, will be those at the beginning and end of the sorted list. Use the data dictionary document to help you understand these most prominent features, their relationships, and what a positive or negative value on the principal component might indicate.\n",
    "- You should investigate and interpret feature associations from the first three principal components in this substep. To help facilitate this, you should write a function that you can call at any time to print the sorted list of feature weights, for the *i*-th principal component. This might come in handy in the next step of the project, when you interpret the tendencies of the discovered clusters."
   ]
  },
  {
   "cell_type": "code",
   "execution_count": 225,
   "metadata": {},
   "outputs": [
    {
     "name": "stdout",
     "output_type": "stream",
     "text": [
      "(50, 192)\n"
     ]
    },
    {
     "data": {
      "text/html": [
       "<div>\n",
       "<style scoped>\n",
       "    .dataframe tbody tr th:only-of-type {\n",
       "        vertical-align: middle;\n",
       "    }\n",
       "\n",
       "    .dataframe tbody tr th {\n",
       "        vertical-align: top;\n",
       "    }\n",
       "\n",
       "    .dataframe thead th {\n",
       "        text-align: right;\n",
       "    }\n",
       "</style>\n",
       "<table border=\"1\" class=\"dataframe\">\n",
       "  <thead>\n",
       "    <tr style=\"text-align: right;\">\n",
       "      <th></th>\n",
       "      <th>ALTERSKATEGORIE_GROB</th>\n",
       "      <th>ANREDE_KZ</th>\n",
       "      <th>FINANZ_MINIMALIST</th>\n",
       "      <th>FINANZ_SPARER</th>\n",
       "      <th>FINANZ_VORSORGER</th>\n",
       "      <th>FINANZ_ANLEGER</th>\n",
       "      <th>FINANZ_UNAUFFAELLIGER</th>\n",
       "      <th>FINANZ_HAUSBAUER</th>\n",
       "      <th>GREEN_AVANTGARDE</th>\n",
       "      <th>HEALTH_TYP</th>\n",
       "      <th>...</th>\n",
       "      <th>CAMEO_DEU_20158D</th>\n",
       "      <th>CAMEO_DEU_20159A</th>\n",
       "      <th>CAMEO_DEU_20159B</th>\n",
       "      <th>CAMEO_DEU_20159C</th>\n",
       "      <th>CAMEO_DEU_20159D</th>\n",
       "      <th>CAMEO_DEU_20159E</th>\n",
       "      <th>DECADE</th>\n",
       "      <th>MOVEMENT</th>\n",
       "      <th>WEALTH</th>\n",
       "      <th>LIFE_STAGE</th>\n",
       "    </tr>\n",
       "  </thead>\n",
       "  <tbody>\n",
       "    <tr>\n",
       "      <th>0</th>\n",
       "      <td>-0.0883</td>\n",
       "      <td>0.0124</td>\n",
       "      <td>-0.1930</td>\n",
       "      <td>0.1175</td>\n",
       "      <td>-0.0862</td>\n",
       "      <td>0.0559</td>\n",
       "      <td>0.0560</td>\n",
       "      <td>0.1490</td>\n",
       "      <td>-0.1038</td>\n",
       "      <td>0.0235</td>\n",
       "      <td>...</td>\n",
       "      <td>0.0244</td>\n",
       "      <td>0.0382</td>\n",
       "      <td>0.0554</td>\n",
       "      <td>0.0559</td>\n",
       "      <td>0.0576</td>\n",
       "      <td>0.0189</td>\n",
       "      <td>0.0776</td>\n",
       "      <td>-0.1023</td>\n",
       "      <td>0.1859</td>\n",
       "      <td>-0.1097</td>\n",
       "    </tr>\n",
       "    <tr>\n",
       "      <th>1</th>\n",
       "      <td>0.2309</td>\n",
       "      <td>0.0388</td>\n",
       "      <td>0.0864</td>\n",
       "      <td>-0.2277</td>\n",
       "      <td>0.2160</td>\n",
       "      <td>-0.2067</td>\n",
       "      <td>-0.2157</td>\n",
       "      <td>0.0891</td>\n",
       "      <td>-0.0099</td>\n",
       "      <td>-0.0509</td>\n",
       "      <td>...</td>\n",
       "      <td>0.0342</td>\n",
       "      <td>-0.0055</td>\n",
       "      <td>0.0034</td>\n",
       "      <td>0.0076</td>\n",
       "      <td>0.0133</td>\n",
       "      <td>0.0446</td>\n",
       "      <td>-0.2350</td>\n",
       "      <td>-0.0083</td>\n",
       "      <td>0.0610</td>\n",
       "      <td>0.0085</td>\n",
       "    </tr>\n",
       "    <tr>\n",
       "      <th>2</th>\n",
       "      <td>0.0156</td>\n",
       "      <td>-0.3463</td>\n",
       "      <td>0.1320</td>\n",
       "      <td>-0.0534</td>\n",
       "      <td>0.0451</td>\n",
       "      <td>-0.1560</td>\n",
       "      <td>-0.0416</td>\n",
       "      <td>-0.0672</td>\n",
       "      <td>0.0796</td>\n",
       "      <td>-0.0024</td>\n",
       "      <td>...</td>\n",
       "      <td>-0.0010</td>\n",
       "      <td>-0.0042</td>\n",
       "      <td>0.0119</td>\n",
       "      <td>0.0254</td>\n",
       "      <td>0.0110</td>\n",
       "      <td>-0.0019</td>\n",
       "      <td>-0.0494</td>\n",
       "      <td>0.0784</td>\n",
       "      <td>0.0148</td>\n",
       "      <td>-0.0143</td>\n",
       "    </tr>\n",
       "    <tr>\n",
       "      <th>3</th>\n",
       "      <td>-0.0208</td>\n",
       "      <td>0.0942</td>\n",
       "      <td>-0.0074</td>\n",
       "      <td>0.0104</td>\n",
       "      <td>-0.0129</td>\n",
       "      <td>-0.0611</td>\n",
       "      <td>0.0614</td>\n",
       "      <td>-0.0190</td>\n",
       "      <td>0.2823</td>\n",
       "      <td>-0.0127</td>\n",
       "      <td>...</td>\n",
       "      <td>-0.0161</td>\n",
       "      <td>-0.0044</td>\n",
       "      <td>-0.0086</td>\n",
       "      <td>0.0030</td>\n",
       "      <td>-0.0034</td>\n",
       "      <td>0.0047</td>\n",
       "      <td>0.0292</td>\n",
       "      <td>0.2822</td>\n",
       "      <td>-0.0659</td>\n",
       "      <td>0.0307</td>\n",
       "    </tr>\n",
       "    <tr>\n",
       "      <th>4</th>\n",
       "      <td>0.0520</td>\n",
       "      <td>-0.0275</td>\n",
       "      <td>0.0464</td>\n",
       "      <td>-0.0251</td>\n",
       "      <td>0.0321</td>\n",
       "      <td>0.0306</td>\n",
       "      <td>-0.1013</td>\n",
       "      <td>-0.0351</td>\n",
       "      <td>-0.1202</td>\n",
       "      <td>0.0030</td>\n",
       "      <td>...</td>\n",
       "      <td>0.0277</td>\n",
       "      <td>0.0620</td>\n",
       "      <td>0.0370</td>\n",
       "      <td>0.0187</td>\n",
       "      <td>0.0190</td>\n",
       "      <td>-0.0070</td>\n",
       "      <td>-0.0184</td>\n",
       "      <td>-0.1203</td>\n",
       "      <td>0.1106</td>\n",
       "      <td>-0.0598</td>\n",
       "    </tr>\n",
       "  </tbody>\n",
       "</table>\n",
       "<p>5 rows × 192 columns</p>\n",
       "</div>"
      ],
      "text/plain": [
       "   ALTERSKATEGORIE_GROB  ANREDE_KZ  FINANZ_MINIMALIST  FINANZ_SPARER  \\\n",
       "0               -0.0883     0.0124            -0.1930         0.1175   \n",
       "1                0.2309     0.0388             0.0864        -0.2277   \n",
       "2                0.0156    -0.3463             0.1320        -0.0534   \n",
       "3               -0.0208     0.0942            -0.0074         0.0104   \n",
       "4                0.0520    -0.0275             0.0464        -0.0251   \n",
       "\n",
       "   FINANZ_VORSORGER  FINANZ_ANLEGER  FINANZ_UNAUFFAELLIGER  FINANZ_HAUSBAUER  \\\n",
       "0           -0.0862          0.0559                 0.0560            0.1490   \n",
       "1            0.2160         -0.2067                -0.2157            0.0891   \n",
       "2            0.0451         -0.1560                -0.0416           -0.0672   \n",
       "3           -0.0129         -0.0611                 0.0614           -0.0190   \n",
       "4            0.0321          0.0306                -0.1013           -0.0351   \n",
       "\n",
       "   GREEN_AVANTGARDE  HEALTH_TYP     ...      CAMEO_DEU_20158D  \\\n",
       "0           -0.1038      0.0235     ...                0.0244   \n",
       "1           -0.0099     -0.0509     ...                0.0342   \n",
       "2            0.0796     -0.0024     ...               -0.0010   \n",
       "3            0.2823     -0.0127     ...               -0.0161   \n",
       "4           -0.1202      0.0030     ...                0.0277   \n",
       "\n",
       "   CAMEO_DEU_20159A  CAMEO_DEU_20159B  CAMEO_DEU_20159C  CAMEO_DEU_20159D  \\\n",
       "0            0.0382            0.0554            0.0559            0.0576   \n",
       "1           -0.0055            0.0034            0.0076            0.0133   \n",
       "2           -0.0042            0.0119            0.0254            0.0110   \n",
       "3           -0.0044           -0.0086            0.0030           -0.0034   \n",
       "4            0.0620            0.0370            0.0187            0.0190   \n",
       "\n",
       "   CAMEO_DEU_20159E  DECADE  MOVEMENT  WEALTH  LIFE_STAGE  \n",
       "0            0.0189  0.0776   -0.1023  0.1859     -0.1097  \n",
       "1            0.0446 -0.2350   -0.0083  0.0610      0.0085  \n",
       "2           -0.0019 -0.0494    0.0784  0.0148     -0.0143  \n",
       "3            0.0047  0.0292    0.2822 -0.0659      0.0307  \n",
       "4           -0.0070 -0.0184   -0.1203  0.1106     -0.0598  \n",
       "\n",
       "[5 rows x 192 columns]"
      ]
     },
     "execution_count": 225,
     "metadata": {},
     "output_type": "execute_result"
    }
   ],
   "source": [
    "# Map weights for the first principal component to corresponding feature names\n",
    "# and then print the linked values, sorted by weight.\n",
    "# HINT: Try defining a function here or in a new cell that you can reuse in the\n",
    "# other cells.\n",
    "\n",
    "# check general weights condition\n",
    "weights = pd.DataFrame(np.round(pca_50.components_, 4), columns = dem_scale.columns)\n",
    "print(weights.shape)\n",
    "weights.head()"
   ]
  },
  {
   "cell_type": "code",
   "execution_count": 226,
   "metadata": {},
   "outputs": [
    {
     "data": {
      "text/plain": [
       "<matplotlib.axes._subplots.AxesSubplot at 0x7f81be0d2208>"
      ]
     },
     "execution_count": 226,
     "metadata": {},
     "output_type": "execute_result"
    },
    {
     "data": {
      "image/png": "[encoded data removed]",
      "text/plain": [
       "<Figure size 1080x360 with 2 Axes>"
      ]
     },
     "metadata": {},
     "output_type": "display_data"
    }
   ],
   "source": [
    "# check general weights condition\n",
    "f, ax = plt.subplots(figsize=(15, 5))\n",
    "cmap = sns.diverging_palette(220, 10, as_cmap=True)\n",
    "sns.heatmap(weights,cmap=cmap)"
   ]
  },
  {
   "cell_type": "code",
   "execution_count": 231,
   "metadata": {},
   "outputs": [],
   "source": [
    "def get_cpn_feat_wgt(pca,dem_scale,cpn_num):\n",
    "    \"\"\"Give feature weight of n-th component of pca object\n",
    "    \n",
    "    Args:\n",
    "    pca: pca object. The fitted pca. \n",
    "    dem_scale: data frame. Original feature data frame.\n",
    "    cpn_num: int. n-th component.\n",
    "    \n",
    "    Returns:\n",
    "    weight_n: data frame. Feature weight of n-th component.\n",
    "    \"\"\"\n",
    "    \n",
    "    weights = pd.DataFrame(np.round(pca.components_, 4), columns = dem_scale.columns)\n",
    "    weight_n = weights.iloc[cpn_num - 1, :].sort_values()\n",
    "    weight_n = weight_n.to_frame()\n",
    "    weight_n.reset_index(level=0, inplace=True)\n",
    "    weight_n.columns = ['colname','weight']\n",
    "    return weight_n\n"
   ]
  },
  {
   "cell_type": "code",
   "execution_count": 228,
   "metadata": {},
   "outputs": [],
   "source": [
    "def get_topn_feat(cpn_feat_wgt,n=5):\n",
    "    \"\"\"Give feature weight of n-th component of pca object\n",
    "    \n",
    "    Args:\n",
    "    cpn_feat_wgt: data frame. The feature weight of a component.\n",
    "    n: int. The number of top and tail features we want to see.\n",
    "    \n",
    "    Returns:\n",
    "    top_n: data frame. Top N positive and N negative features and corresponding weight.\n",
    "    \"\"\"\n",
    "    tail_n = cpn_feat_wgt.head(n).reset_index(drop=True)\n",
    "    head_n = cpn_feat_wgt.tail(n).sort_values(by='weight',ascending=False).reset_index(drop=True)\n",
    "    top_n = pd.concat([head_n, tail_n], axis=1)\n",
    "    top_n.columns = ['top_pos_col','top_pos_col_weight','top_neg_col','top_neg_col_weight']\n",
    "    return top_n"
   ]
  },
  {
   "cell_type": "code",
   "execution_count": 237,
   "metadata": {},
   "outputs": [
    {
     "data": {
      "text/html": [
       "<style  type=\"text/css\" >\n",
       "    #T_fefd3df4_9a78_11e9_870d_000d3afd63d8row0_col1 {\n",
       "            width:  10em;\n",
       "             height:  80%;\n",
       "            background:  linear-gradient(90deg, transparent 0%, transparent 0.0%, #d65f5f 0.0%, #d65f5f 100.0%, transparent 100.0%);\n",
       "        }    #T_fefd3df4_9a78_11e9_870d_000d3afd63d8row0_col3 {\n",
       "            width:  10em;\n",
       "             height:  80%;\n",
       "            background:  linear-gradient(90deg, transparent 0%, transparent 0.0%, #d65f5f 0.0%, #d65f5f 100.0%, transparent 100.0%);\n",
       "        }    #T_fefd3df4_9a78_11e9_870d_000d3afd63d8row1_col1 {\n",
       "            width:  10em;\n",
       "             height:  80%;\n",
       "            background:  linear-gradient(90deg, transparent 0%, transparent 0.0%, #d65f5f 0.0%, #d65f5f 97.2%, transparent 97.2%);\n",
       "        }    #T_fefd3df4_9a78_11e9_870d_000d3afd63d8row1_col3 {\n",
       "            width:  10em;\n",
       "             height:  80%;\n",
       "            background:  linear-gradient(90deg, transparent 0%, transparent 6.0%, #d65f5f 6.0%, #d65f5f 100.0%, transparent 100.0%);\n",
       "        }    #T_fefd3df4_9a78_11e9_870d_000d3afd63d8row2_col1 {\n",
       "            width:  10em;\n",
       "             height:  80%;\n",
       "            background:  linear-gradient(90deg, transparent 0%, transparent 0.0%, #d65f5f 0.0%, #d65f5f 95.4%, transparent 95.4%);\n",
       "        }    #T_fefd3df4_9a78_11e9_870d_000d3afd63d8row2_col3 {\n",
       "            width:  10em;\n",
       "             height:  80%;\n",
       "            background:  linear-gradient(90deg, transparent 0%, transparent 7.5%, #d65f5f 7.5%, #d65f5f 100.0%, transparent 100.0%);\n",
       "        }    #T_fefd3df4_9a78_11e9_870d_000d3afd63d8row3_col1 {\n",
       "            width:  10em;\n",
       "             height:  80%;\n",
       "            background:  linear-gradient(90deg, transparent 0%, transparent 0.0%, #d65f5f 0.0%, #d65f5f 93.3%, transparent 93.3%);\n",
       "        }    #T_fefd3df4_9a78_11e9_870d_000d3afd63d8row3_col3 {\n",
       "            width:  10em;\n",
       "             height:  80%;\n",
       "            background:  linear-gradient(90deg, transparent 0%, transparent 10.9%, #d65f5f 10.9%, #d65f5f 100.0%, transparent 100.0%);\n",
       "        }    #T_fefd3df4_9a78_11e9_870d_000d3afd63d8row4_col1 {\n",
       "            width:  10em;\n",
       "             height:  80%;\n",
       "            background:  linear-gradient(90deg, transparent 0%, transparent 0.0%, #d65f5f 0.0%, #d65f5f 89.6%, transparent 89.6%);\n",
       "        }    #T_fefd3df4_9a78_11e9_870d_000d3afd63d8row4_col3 {\n",
       "            width:  10em;\n",
       "             height:  80%;\n",
       "            background:  linear-gradient(90deg, transparent 0%, transparent 11.7%, #d65f5f 11.7%, #d65f5f 100.0%, transparent 100.0%);\n",
       "        }</style>  \n",
       "<table id=\"T_fefd3df4_9a78_11e9_870d_000d3afd63d8\" > \n",
       "<thead>    <tr> \n",
       "        <th class=\"blank level0\" ></th> \n",
       "        <th class=\"col_heading level0 col0\" >top_pos_col</th> \n",
       "        <th class=\"col_heading level0 col1\" >top_pos_col_weight</th> \n",
       "        <th class=\"col_heading level0 col2\" >top_neg_col</th> \n",
       "        <th class=\"col_heading level0 col3\" >top_neg_col_weight</th> \n",
       "    </tr></thead> \n",
       "<tbody>    <tr> \n",
       "        <th id=\"T_fefd3df4_9a78_11e9_870d_000d3afd63d8level0_row0\" class=\"row_heading level0 row0\" >0</th> \n",
       "        <td id=\"T_fefd3df4_9a78_11e9_870d_000d3afd63d8row0_col0\" class=\"data row0 col0\" >LP_STATUS_GROB1.0</td> \n",
       "        <td id=\"T_fefd3df4_9a78_11e9_870d_000d3afd63d8row0_col1\" class=\"data row0 col1\" >0.1948</td> \n",
       "        <td id=\"T_fefd3df4_9a78_11e9_870d_000d3afd63d8row0_col2\" class=\"data row0 col2\" >MOBI_REGIO</td> \n",
       "        <td id=\"T_fefd3df4_9a78_11e9_870d_000d3afd63d8row0_col3\" class=\"data row0 col3\" >-0.2054</td> \n",
       "    </tr>    <tr> \n",
       "        <th id=\"T_fefd3df4_9a78_11e9_870d_000d3afd63d8level0_row1\" class=\"row_heading level0 row1\" >1</th> \n",
       "        <td id=\"T_fefd3df4_9a78_11e9_870d_000d3afd63d8row1_col0\" class=\"data row1 col0\" >HH_EINKOMMEN_SCORE</td> \n",
       "        <td id=\"T_fefd3df4_9a78_11e9_870d_000d3afd63d8row1_col1\" class=\"data row1 col1\" >0.1893</td> \n",
       "        <td id=\"T_fefd3df4_9a78_11e9_870d_000d3afd63d8row1_col2\" class=\"data row1 col2\" >FINANZ_MINIMALIST</td> \n",
       "        <td id=\"T_fefd3df4_9a78_11e9_870d_000d3afd63d8row1_col3\" class=\"data row1 col3\" >-0.193</td> \n",
       "    </tr>    <tr> \n",
       "        <th id=\"T_fefd3df4_9a78_11e9_870d_000d3afd63d8level0_row2\" class=\"row_heading level0 row2\" >2</th> \n",
       "        <td id=\"T_fefd3df4_9a78_11e9_870d_000d3afd63d8row2_col0\" class=\"data row2 col0\" >WEALTH</td> \n",
       "        <td id=\"T_fefd3df4_9a78_11e9_870d_000d3afd63d8row2_col1\" class=\"data row2 col1\" >0.1859</td> \n",
       "        <td id=\"T_fefd3df4_9a78_11e9_870d_000d3afd63d8row2_col2\" class=\"data row2 col2\" >KBA05_ANTG1</td> \n",
       "        <td id=\"T_fefd3df4_9a78_11e9_870d_000d3afd63d8row2_col3\" class=\"data row2 col3\" >-0.19</td> \n",
       "    </tr>    <tr> \n",
       "        <th id=\"T_fefd3df4_9a78_11e9_870d_000d3afd63d8level0_row3\" class=\"row_heading level0 row3\" >3</th> \n",
       "        <td id=\"T_fefd3df4_9a78_11e9_870d_000d3afd63d8row3_col0\" class=\"data row3 col0\" >PLZ8_ANTG3</td> \n",
       "        <td id=\"T_fefd3df4_9a78_11e9_870d_000d3afd63d8row3_col1\" class=\"data row3 col1\" >0.1818</td> \n",
       "        <td id=\"T_fefd3df4_9a78_11e9_870d_000d3afd63d8row3_col2\" class=\"data row3 col2\" >KBA05_GBZ</td> \n",
       "        <td id=\"T_fefd3df4_9a78_11e9_870d_000d3afd63d8row3_col3\" class=\"data row3 col3\" >-0.183</td> \n",
       "    </tr>    <tr> \n",
       "        <th id=\"T_fefd3df4_9a78_11e9_870d_000d3afd63d8level0_row4\" class=\"row_heading level0 row4\" >4</th> \n",
       "        <td id=\"T_fefd3df4_9a78_11e9_870d_000d3afd63d8row4_col0\" class=\"data row4 col0\" >PLZ8_ANTG4</td> \n",
       "        <td id=\"T_fefd3df4_9a78_11e9_870d_000d3afd63d8row4_col1\" class=\"data row4 col1\" >0.1745</td> \n",
       "        <td id=\"T_fefd3df4_9a78_11e9_870d_000d3afd63d8row4_col2\" class=\"data row4 col2\" >PLZ8_ANTG1</td> \n",
       "        <td id=\"T_fefd3df4_9a78_11e9_870d_000d3afd63d8row4_col3\" class=\"data row4 col3\" >-0.1813</td> \n",
       "    </tr></tbody> \n",
       "</table> "
      ],
      "text/plain": [
       "<pandas.io.formats.style.Styler at 0x7f81c22709b0>"
      ]
     },
     "execution_count": 237,
     "metadata": {},
     "output_type": "execute_result"
    }
   ],
   "source": [
    "cpn_wgt_1st = get_cpn_feat_wgt(pca_50,dem_scale,1)\n",
    "get_topn_feat(cpn_wgt_1st).style.bar(align='mid')"
   ]
  },
  {
   "cell_type": "markdown",
   "metadata": {},
   "source": [
    "Top 5 Positive\n",
    "\n",
    "- LP_STATUS_GROB1.0:low-income earners\n",
    "- HH_EINKOMMEN_SCORE:Estimated household net income (1: highest income, 6: very low income)\n",
    "- WEALTH: Household wealth - Engineered (1: Wealthy Households, 5: Poorer Households)\n",
    "- PLZ8_ANTG3: Number of 6-10 family houses in the PLZ8 region (0: no 6-10 family homes, 3: high share of 6-10 family homes)\n",
    "- PLZ8_ANTG4 : Number of 10+ family houses in the PLZ8 region (0: no 10+ family home, 2: - high share of 10+ family homes)\n",
    "\n",
    "Top 5 Negative\n",
    "\n",
    "- MOBI_REGIO : Movement patterns (1: very high movement, 6: none)\n",
    "- FINANZ_MINIMALIST : Financial typology - MINIMALIST: low financial interest (1: very high, 5: very low)\n",
    "- KBA05_ANTG1 : Number of 1-2 family houses in the microcell (0: no 1-2 family homes, 4: very high share of 1-2 family homes)\n",
    "- KBA05_GBZ: Number of buildings in the microcell(1: 1-2 buildings;5: >=23 buildings)\n",
    "- PLZ8_ANTG1: Number of 1-2 family houses in the PLZ8 region (0: no 1-2 family homes, 4: very high share of 1-2 family homes)\n",
    "\n",
    "So the first component captures **population density and income**"
   ]
  },
  {
   "cell_type": "code",
   "execution_count": 234,
   "metadata": {},
   "outputs": [
    {
     "data": {
      "text/html": [
       "<style  type=\"text/css\" >\n",
       "    #T_7cb47694_9a75_11e9_870d_000d3afd63d8row0_col1 {\n",
       "            width:  10em;\n",
       "             height:  80%;\n",
       "            background:  linear-gradient(90deg, transparent 0%, transparent 0.0%, #d65f5f 0.0%, #d65f5f 100.0%, transparent 100.0%);\n",
       "        }    #T_7cb47694_9a75_11e9_870d_000d3afd63d8row0_col3 {\n",
       "            width:  10em;\n",
       "             height:  80%;\n",
       "            background:  linear-gradient(90deg, transparent 0%, transparent 0.0%, #d65f5f 0.0%, #d65f5f 100.0%, transparent 100.0%);\n",
       "        }    #T_7cb47694_9a75_11e9_870d_000d3afd63d8row1_col1 {\n",
       "            width:  10em;\n",
       "             height:  80%;\n",
       "            background:  linear-gradient(90deg, transparent 0%, transparent 0.0%, #d65f5f 0.0%, #d65f5f 93.5%, transparent 93.5%);\n",
       "        }    #T_7cb47694_9a75_11e9_870d_000d3afd63d8row1_col3 {\n",
       "            width:  10em;\n",
       "             height:  80%;\n",
       "            background:  linear-gradient(90deg, transparent 0%, transparent 3.1%, #d65f5f 3.1%, #d65f5f 100.0%, transparent 100.0%);\n",
       "        }    #T_7cb47694_9a75_11e9_870d_000d3afd63d8row2_col1 {\n",
       "            width:  10em;\n",
       "             height:  80%;\n",
       "            background:  linear-gradient(90deg, transparent 0%, transparent 0.0%, #d65f5f 0.0%, #d65f5f 86.4%, transparent 86.4%);\n",
       "        }    #T_7cb47694_9a75_11e9_870d_000d3afd63d8row2_col3 {\n",
       "            width:  10em;\n",
       "             height:  80%;\n",
       "            background:  linear-gradient(90deg, transparent 0%, transparent 7.7%, #d65f5f 7.7%, #d65f5f 100.0%, transparent 100.0%);\n",
       "        }    #T_7cb47694_9a75_11e9_870d_000d3afd63d8row3_col1 {\n",
       "            width:  10em;\n",
       "             height:  80%;\n",
       "            background:  linear-gradient(90deg, transparent 0%, transparent 0.0%, #d65f5f 0.0%, #d65f5f 77.8%, transparent 77.8%);\n",
       "        }    #T_7cb47694_9a75_11e9_870d_000d3afd63d8row3_col3 {\n",
       "            width:  10em;\n",
       "             height:  80%;\n",
       "            background:  linear-gradient(90deg, transparent 0%, transparent 8.2%, #d65f5f 8.2%, #d65f5f 100.0%, transparent 100.0%);\n",
       "        }    #T_7cb47694_9a75_11e9_870d_000d3afd63d8row4_col1 {\n",
       "            width:  10em;\n",
       "             height:  80%;\n",
       "            background:  linear-gradient(90deg, transparent 0%, transparent 0.0%, #d65f5f 0.0%, #d65f5f 69.3%, transparent 69.3%);\n",
       "        }    #T_7cb47694_9a75_11e9_870d_000d3afd63d8row4_col3 {\n",
       "            width:  10em;\n",
       "             height:  80%;\n",
       "            background:  linear-gradient(90deg, transparent 0%, transparent 12.0%, #d65f5f 12.0%, #d65f5f 100.0%, transparent 100.0%);\n",
       "        }</style>  \n",
       "<table id=\"T_7cb47694_9a75_11e9_870d_000d3afd63d8\" > \n",
       "<thead>    <tr> \n",
       "        <th class=\"blank level0\" ></th> \n",
       "        <th class=\"col_heading level0 col0\" >top_pos_col</th> \n",
       "        <th class=\"col_heading level0 col1\" >top_pos_col_weight</th> \n",
       "        <th class=\"col_heading level0 col2\" >top_neg_col</th> \n",
       "        <th class=\"col_heading level0 col3\" >top_neg_col_weight</th> \n",
       "    </tr></thead> \n",
       "<tbody>    <tr> \n",
       "        <th id=\"T_7cb47694_9a75_11e9_870d_000d3afd63d8level0_row0\" class=\"row_heading level0 row0\" >0</th> \n",
       "        <td id=\"T_7cb47694_9a75_11e9_870d_000d3afd63d8row0_col0\" class=\"data row0 col0\" >ALTERSKATEGORIE_GROB</td> \n",
       "        <td id=\"T_7cb47694_9a75_11e9_870d_000d3afd63d8row0_col1\" class=\"data row0 col1\" >0.2309</td> \n",
       "        <td id=\"T_7cb47694_9a75_11e9_870d_000d3afd63d8row0_col2\" class=\"data row0 col2\" >DECADE</td> \n",
       "        <td id=\"T_7cb47694_9a75_11e9_870d_000d3afd63d8row0_col3\" class=\"data row0 col3\" >-0.235</td> \n",
       "    </tr>    <tr> \n",
       "        <th id=\"T_7cb47694_9a75_11e9_870d_000d3afd63d8level0_row1\" class=\"row_heading level0 row1\" >1</th> \n",
       "        <td id=\"T_7cb47694_9a75_11e9_870d_000d3afd63d8row1_col0\" class=\"data row1 col0\" >FINANZ_VORSORGER</td> \n",
       "        <td id=\"T_7cb47694_9a75_11e9_870d_000d3afd63d8row1_col1\" class=\"data row1 col1\" >0.216</td> \n",
       "        <td id=\"T_7cb47694_9a75_11e9_870d_000d3afd63d8row1_col2\" class=\"data row1 col2\" >FINANZ_SPARER</td> \n",
       "        <td id=\"T_7cb47694_9a75_11e9_870d_000d3afd63d8row1_col3\" class=\"data row1 col3\" >-0.2277</td> \n",
       "    </tr>    <tr> \n",
       "        <th id=\"T_7cb47694_9a75_11e9_870d_000d3afd63d8level0_row2\" class=\"row_heading level0 row2\" >2</th> \n",
       "        <td id=\"T_7cb47694_9a75_11e9_870d_000d3afd63d8row2_col0\" class=\"data row2 col0\" >ZABEOTYP3.0</td> \n",
       "        <td id=\"T_7cb47694_9a75_11e9_870d_000d3afd63d8row2_col1\" class=\"data row2 col1\" >0.1994</td> \n",
       "        <td id=\"T_7cb47694_9a75_11e9_870d_000d3afd63d8row2_col2\" class=\"data row2 col2\" >SEMIO_REL</td> \n",
       "        <td id=\"T_7cb47694_9a75_11e9_870d_000d3afd63d8row2_col3\" class=\"data row2 col3\" >-0.217</td> \n",
       "    </tr>    <tr> \n",
       "        <th id=\"T_7cb47694_9a75_11e9_870d_000d3afd63d8level0_row3\" class=\"row_heading level0 row3\" >3</th> \n",
       "        <td id=\"T_7cb47694_9a75_11e9_870d_000d3afd63d8row3_col0\" class=\"data row3 col0\" >SEMIO_ERL</td> \n",
       "        <td id=\"T_7cb47694_9a75_11e9_870d_000d3afd63d8row3_col1\" class=\"data row3 col1\" >0.1797</td> \n",
       "        <td id=\"T_7cb47694_9a75_11e9_870d_000d3afd63d8row3_col2\" class=\"data row3 col2\" >FINANZ_UNAUFFAELLIGER</td> \n",
       "        <td id=\"T_7cb47694_9a75_11e9_870d_000d3afd63d8row3_col3\" class=\"data row3 col3\" >-0.2157</td> \n",
       "    </tr>    <tr> \n",
       "        <th id=\"T_7cb47694_9a75_11e9_870d_000d3afd63d8level0_row4\" class=\"row_heading level0 row4\" >4</th> \n",
       "        <td id=\"T_7cb47694_9a75_11e9_870d_000d3afd63d8row4_col0\" class=\"data row4 col0\" >SEMIO_LUST</td> \n",
       "        <td id=\"T_7cb47694_9a75_11e9_870d_000d3afd63d8row4_col1\" class=\"data row4 col1\" >0.16</td> \n",
       "        <td id=\"T_7cb47694_9a75_11e9_870d_000d3afd63d8row4_col2\" class=\"data row4 col2\" >FINANZ_ANLEGER</td> \n",
       "        <td id=\"T_7cb47694_9a75_11e9_870d_000d3afd63d8row4_col3\" class=\"data row4 col3\" >-0.2067</td> \n",
       "    </tr></tbody> \n",
       "</table> "
      ],
      "text/plain": [
       "<pandas.io.formats.style.Styler at 0x7f81b9b5b860>"
      ]
     },
     "execution_count": 234,
     "metadata": {},
     "output_type": "execute_result"
    }
   ],
   "source": [
    "# Map weights for the second principal component to corresponding feature names\n",
    "# and then print the linked values, sorted by weight.\n",
    "cpn_wgt_2nd = get_cpn_feat_wgt(pca_50,dem_scale,2)\n",
    "get_topn_feat(cpn_wgt_2nd).style.bar(align='mid')"
   ]
  },
  {
   "cell_type": "markdown",
   "metadata": {},
   "source": [
    "Top 5 Positive\n",
    "\n",
    "- ALTERSKATEGORIE_GROB: Estimated age based on given name analysis (1: < 30 years old, 4: > 60 years old, 9: uniformly distributed)\n",
    "- FINANZ_VORSORGER: Financial be prepared(1: very high)\n",
    "- ZABEOTYP3.0: Energy consumption typology fair supplied\n",
    "- SEMIO_ERL: Personality typology - event-oriented ( 1: highest affinity, 7: lowest affinity)\n",
    "- SEMIO_LUST: Personality typology - sensual-minded ( 1: highest affinity, 7: lowest affinity)\n",
    "\n",
    "Top 5 Negative\n",
    "\n",
    "- DECADE: Person’s decade of youth (1: 40s , 6: 90s)\n",
    "- FINANZ_SPARER: Financial typology - money-saver (1: Very high, 5: Very low)\n",
    "- SEMIO_REL: Personality typology - religious ( 1: highest affinity, 7: lowest affinity)\n",
    "- FINANZ_UNAUFFAELLIGER: Financial typology - inconspicuous (1: Very high, 5: Very low)\n",
    "- FINANZ_ANLEGER: Financial typology - investor(1: Very high, 5: Very low)\n",
    "\n",
    "So the second component seems to indicate **age and personality**"
   ]
  },
  {
   "cell_type": "code",
   "execution_count": 235,
   "metadata": {},
   "outputs": [
    {
     "data": {
      "text/html": [
       "<style  type=\"text/css\" >\n",
       "    #T_15845028_9a77_11e9_870d_000d3afd63d8row0_col1 {\n",
       "            width:  10em;\n",
       "             height:  80%;\n",
       "            background:  linear-gradient(90deg, transparent 0%, transparent 0.0%, #d65f5f 0.0%, #d65f5f 100.0%, transparent 100.0%);\n",
       "        }    #T_15845028_9a77_11e9_870d_000d3afd63d8row0_col3 {\n",
       "            width:  10em;\n",
       "             height:  80%;\n",
       "            background:  linear-gradient(90deg, transparent 0%, transparent 0.0%, #d65f5f 0.0%, #d65f5f 100.0%, transparent 100.0%);\n",
       "        }    #T_15845028_9a77_11e9_870d_000d3afd63d8row1_col1 {\n",
       "            width:  10em;\n",
       "             height:  80%;\n",
       "            background:  linear-gradient(90deg, transparent 0%, transparent 0.0%, #d65f5f 0.0%, #d65f5f 80.5%, transparent 80.5%);\n",
       "        }    #T_15845028_9a77_11e9_870d_000d3afd63d8row1_col3 {\n",
       "            width:  10em;\n",
       "             height:  80%;\n",
       "            background:  linear-gradient(90deg, transparent 0%, transparent 10.9%, #d65f5f 10.9%, #d65f5f 100.0%, transparent 100.0%);\n",
       "        }    #T_15845028_9a77_11e9_870d_000d3afd63d8row2_col1 {\n",
       "            width:  10em;\n",
       "             height:  80%;\n",
       "            background:  linear-gradient(90deg, transparent 0%, transparent 0.0%, #d65f5f 0.0%, #d65f5f 80.0%, transparent 80.0%);\n",
       "        }    #T_15845028_9a77_11e9_870d_000d3afd63d8row2_col3 {\n",
       "            width:  10em;\n",
       "             height:  80%;\n",
       "            background:  linear-gradient(90deg, transparent 0%, transparent 20.4%, #d65f5f 20.4%, #d65f5f 100.0%, transparent 100.0%);\n",
       "        }    #T_15845028_9a77_11e9_870d_000d3afd63d8row3_col1 {\n",
       "            width:  10em;\n",
       "             height:  80%;\n",
       "            background:  linear-gradient(90deg, transparent 0%, transparent 0.0%, #d65f5f 0.0%, #d65f5f 76.8%, transparent 76.8%);\n",
       "        }    #T_15845028_9a77_11e9_870d_000d3afd63d8row3_col3 {\n",
       "            width:  10em;\n",
       "             height:  80%;\n",
       "            background:  linear-gradient(90deg, transparent 0%, transparent 24.7%, #d65f5f 24.7%, #d65f5f 100.0%, transparent 100.0%);\n",
       "        }    #T_15845028_9a77_11e9_870d_000d3afd63d8row4_col1 {\n",
       "            width:  10em;\n",
       "             height:  80%;\n",
       "            background:  linear-gradient(90deg, transparent 0%, transparent 0.0%, #d65f5f 0.0%, #d65f5f 42.0%, transparent 42.0%);\n",
       "        }    #T_15845028_9a77_11e9_870d_000d3afd63d8row4_col3 {\n",
       "            width:  10em;\n",
       "             height:  80%;\n",
       "            background:  linear-gradient(90deg, transparent 0%, transparent 40.1%, #d65f5f 40.1%, #d65f5f 100.0%, transparent 100.0%);\n",
       "        }</style>  \n",
       "<table id=\"T_15845028_9a77_11e9_870d_000d3afd63d8\" > \n",
       "<thead>    <tr> \n",
       "        <th class=\"blank level0\" ></th> \n",
       "        <th class=\"col_heading level0 col0\" >top_pos_col</th> \n",
       "        <th class=\"col_heading level0 col1\" >top_pos_col_weight</th> \n",
       "        <th class=\"col_heading level0 col2\" >top_neg_col</th> \n",
       "        <th class=\"col_heading level0 col3\" >top_neg_col_weight</th> \n",
       "    </tr></thead> \n",
       "<tbody>    <tr> \n",
       "        <th id=\"T_15845028_9a77_11e9_870d_000d3afd63d8level0_row0\" class=\"row_heading level0 row0\" >0</th> \n",
       "        <td id=\"T_15845028_9a77_11e9_870d_000d3afd63d8row0_col0\" class=\"data row0 col0\" >SEMIO_VERT</td> \n",
       "        <td id=\"T_15845028_9a77_11e9_870d_000d3afd63d8row0_col1\" class=\"data row0 col1\" >0.3232</td> \n",
       "        <td id=\"T_15845028_9a77_11e9_870d_000d3afd63d8row0_col2\" class=\"data row0 col2\" >ANREDE_KZ</td> \n",
       "        <td id=\"T_15845028_9a77_11e9_870d_000d3afd63d8row0_col3\" class=\"data row0 col3\" >-0.3463</td> \n",
       "    </tr>    <tr> \n",
       "        <th id=\"T_15845028_9a77_11e9_870d_000d3afd63d8level0_row1\" class=\"row_heading level0 row1\" >1</th> \n",
       "        <td id=\"T_15845028_9a77_11e9_870d_000d3afd63d8row1_col0\" class=\"data row1 col0\" >SEMIO_FAM</td> \n",
       "        <td id=\"T_15845028_9a77_11e9_870d_000d3afd63d8row1_col1\" class=\"data row1 col1\" >0.2602</td> \n",
       "        <td id=\"T_15845028_9a77_11e9_870d_000d3afd63d8row1_col2\" class=\"data row1 col2\" >SEMIO_KAEM</td> \n",
       "        <td id=\"T_15845028_9a77_11e9_870d_000d3afd63d8row1_col3\" class=\"data row1 col3\" >-0.3084</td> \n",
       "    </tr>    <tr> \n",
       "        <th id=\"T_15845028_9a77_11e9_870d_000d3afd63d8level0_row2\" class=\"row_heading level0 row2\" >2</th> \n",
       "        <td id=\"T_15845028_9a77_11e9_870d_000d3afd63d8row2_col0\" class=\"data row2 col0\" >SEMIO_SOZ</td> \n",
       "        <td id=\"T_15845028_9a77_11e9_870d_000d3afd63d8row2_col1\" class=\"data row2 col1\" >0.2586</td> \n",
       "        <td id=\"T_15845028_9a77_11e9_870d_000d3afd63d8row2_col2\" class=\"data row2 col2\" >SEMIO_DOM</td> \n",
       "        <td id=\"T_15845028_9a77_11e9_870d_000d3afd63d8row2_col3\" class=\"data row2 col3\" >-0.2756</td> \n",
       "    </tr>    <tr> \n",
       "        <th id=\"T_15845028_9a77_11e9_870d_000d3afd63d8level0_row3\" class=\"row_heading level0 row3\" >3</th> \n",
       "        <td id=\"T_15845028_9a77_11e9_870d_000d3afd63d8row3_col0\" class=\"data row3 col0\" >SEMIO_KULT</td> \n",
       "        <td id=\"T_15845028_9a77_11e9_870d_000d3afd63d8row3_col1\" class=\"data row3 col1\" >0.2483</td> \n",
       "        <td id=\"T_15845028_9a77_11e9_870d_000d3afd63d8row3_col2\" class=\"data row3 col2\" >SEMIO_KRIT</td> \n",
       "        <td id=\"T_15845028_9a77_11e9_870d_000d3afd63d8row3_col3\" class=\"data row3 col3\" >-0.2609</td> \n",
       "    </tr>    <tr> \n",
       "        <th id=\"T_15845028_9a77_11e9_870d_000d3afd63d8level0_row4\" class=\"row_heading level0 row4\" >4</th> \n",
       "        <td id=\"T_15845028_9a77_11e9_870d_000d3afd63d8row4_col0\" class=\"data row4 col0\" >FINANZTYP5.0</td> \n",
       "        <td id=\"T_15845028_9a77_11e9_870d_000d3afd63d8row4_col1\" class=\"data row4 col1\" >0.1357</td> \n",
       "        <td id=\"T_15845028_9a77_11e9_870d_000d3afd63d8row4_col2\" class=\"data row4 col2\" >SEMIO_ERL</td> \n",
       "        <td id=\"T_15845028_9a77_11e9_870d_000d3afd63d8row4_col3\" class=\"data row4 col3\" >-0.2073</td> \n",
       "    </tr></tbody> \n",
       "</table> "
      ],
      "text/plain": [
       "<pandas.io.formats.style.Styler at 0x7f81c2311f28>"
      ]
     },
     "execution_count": 235,
     "metadata": {},
     "output_type": "execute_result"
    }
   ],
   "source": [
    "# Map weights for the third principal component to corresponding feature names\n",
    "# and then print the linked values, sorted by weight.\n",
    "cpn_wgt_3rd = get_cpn_feat_wgt(pca_50,dem_scale,3)\n",
    "get_topn_feat(cpn_wgt_3rd).style.bar(align='mid')\n"
   ]
  },
  {
   "cell_type": "markdown",
   "metadata": {},
   "source": [
    "Top 5 Positive\n",
    "\n",
    "- SEMIO_VERT: Personality typology - VERT: dreamful (1: highest affinity, 7: lowest affinity)\n",
    "- SEMIO_FAM: Personality typology - family-minded ( 1: highest affinity, 7: lowest affinity)\n",
    "- SEMIO_SOZ: Personality typology - SOZ: socially-minded (1: highest affinity, 7: lowest affinity)\n",
    "- SEMIO_KULT: Personality typology - cultural-minded ( 1: highest affinity, 7: lowest affinity)\n",
    "- FINANZTYP: Most descriptive financial type for individual  investor\n",
    "\n",
    "Top 5 Negative\n",
    "\n",
    "- ANREDE_KZ: Gender ( 1: male, 2: female)\n",
    "- SEMIO_KAEM: Personality typology - KAEM: combative attitude ( 1: highest affinity, 7: lowest affinity)\n",
    "- SEMIO_DOM: Personality typology - DOM: dominant-minded ( 1: highest affinity, 7: lowest affinity)\n",
    "- SEMIO_KRIT: Personality typology - KRIT: critical-minded ( 1: highest affinity, 7: lowest affinity)\n",
    "- SEMIO_ERL: Personality typology - event-oriented( 1: highest affinity, 7: lowest affinity) \n",
    "\n",
    "So The third component seems to indicate **gender and personality**"
   ]
  },
  {
   "cell_type": "code",
   "execution_count": 286,
   "metadata": {},
   "outputs": [
    {
     "data": {
      "text/html": [
       "<style  type=\"text/css\" >\n",
       "    #T_3a442502_9b42_11e9_870d_000d3afd63d8row0_col1 {\n",
       "            width:  10em;\n",
       "             height:  80%;\n",
       "            background:  linear-gradient(90deg, transparent 0%, transparent 0.0%, #d65f5f 0.0%, #d65f5f 100.0%, transparent 100.0%);\n",
       "        }    #T_3a442502_9b42_11e9_870d_000d3afd63d8row0_col3 {\n",
       "            width:  10em;\n",
       "             height:  80%;\n",
       "            background:  linear-gradient(90deg, transparent 0%, transparent 0.0%, #d65f5f 0.0%, #d65f5f 100.0%, transparent 100.0%);\n",
       "        }    #T_3a442502_9b42_11e9_870d_000d3afd63d8row1_col1 {\n",
       "            width:  10em;\n",
       "             height:  80%;\n",
       "            background:  linear-gradient(90deg, transparent 0%, transparent 0.0%, #d65f5f 0.0%, #d65f5f 100.0%, transparent 100.0%);\n",
       "        }    #T_3a442502_9b42_11e9_870d_000d3afd63d8row1_col3 {\n",
       "            width:  10em;\n",
       "             height:  80%;\n",
       "            background:  linear-gradient(90deg, transparent 0%, transparent 6.0%, #d65f5f 6.0%, #d65f5f 100.0%, transparent 100.0%);\n",
       "        }    #T_3a442502_9b42_11e9_870d_000d3afd63d8row2_col1 {\n",
       "            width:  10em;\n",
       "             height:  80%;\n",
       "            background:  linear-gradient(90deg, transparent 0%, transparent 0.0%, #d65f5f 0.0%, #d65f5f 82.6%, transparent 82.6%);\n",
       "        }    #T_3a442502_9b42_11e9_870d_000d3afd63d8row2_col3 {\n",
       "            width:  10em;\n",
       "             height:  80%;\n",
       "            background:  linear-gradient(90deg, transparent 0%, transparent 16.0%, #d65f5f 16.0%, #d65f5f 100.0%, transparent 100.0%);\n",
       "        }    #T_3a442502_9b42_11e9_870d_000d3afd63d8row3_col1 {\n",
       "            width:  10em;\n",
       "             height:  80%;\n",
       "            background:  linear-gradient(90deg, transparent 0%, transparent 0.0%, #d65f5f 0.0%, #d65f5f 82.6%, transparent 82.6%);\n",
       "        }    #T_3a442502_9b42_11e9_870d_000d3afd63d8row3_col3 {\n",
       "            width:  10em;\n",
       "             height:  80%;\n",
       "            background:  linear-gradient(90deg, transparent 0%, transparent 17.4%, #d65f5f 17.4%, #d65f5f 100.0%, transparent 100.0%);\n",
       "        }    #T_3a442502_9b42_11e9_870d_000d3afd63d8row4_col1 {\n",
       "            width:  10em;\n",
       "             height:  80%;\n",
       "            background:  linear-gradient(90deg, transparent 0%, transparent 0.0%, #d65f5f 0.0%, #d65f5f 74.4%, transparent 74.4%);\n",
       "        }    #T_3a442502_9b42_11e9_870d_000d3afd63d8row4_col3 {\n",
       "            width:  10em;\n",
       "             height:  80%;\n",
       "            background:  linear-gradient(90deg, transparent 0%, transparent 18.5%, #d65f5f 18.5%, #d65f5f 100.0%, transparent 100.0%);\n",
       "        }</style>  \n",
       "<table id=\"T_3a442502_9b42_11e9_870d_000d3afd63d8\" > \n",
       "<thead>    <tr> \n",
       "        <th class=\"blank level0\" ></th> \n",
       "        <th class=\"col_heading level0 col0\" >top_pos_col</th> \n",
       "        <th class=\"col_heading level0 col1\" >top_pos_col_weight</th> \n",
       "        <th class=\"col_heading level0 col2\" >top_neg_col</th> \n",
       "        <th class=\"col_heading level0 col3\" >top_neg_col_weight</th> \n",
       "    </tr></thead> \n",
       "<tbody>    <tr> \n",
       "        <th id=\"T_3a442502_9b42_11e9_870d_000d3afd63d8level0_row0\" class=\"row_heading level0 row0\" >0</th> \n",
       "        <td id=\"T_3a442502_9b42_11e9_870d_000d3afd63d8row0_col0\" class=\"data row0 col0\" >GREEN_AVANTGARDE</td> \n",
       "        <td id=\"T_3a442502_9b42_11e9_870d_000d3afd63d8row0_col1\" class=\"data row0 col1\" >0.2823</td> \n",
       "        <td id=\"T_3a442502_9b42_11e9_870d_000d3afd63d8row0_col2\" class=\"data row0 col2\" >LP_STATUS_GROB4.0</td> \n",
       "        <td id=\"T_3a442502_9b42_11e9_870d_000d3afd63d8row0_col3\" class=\"data row0 col3\" >-0.2037</td> \n",
       "    </tr>    <tr> \n",
       "        <th id=\"T_3a442502_9b42_11e9_870d_000d3afd63d8level0_row1\" class=\"row_heading level0 row1\" >1</th> \n",
       "        <td id=\"T_3a442502_9b42_11e9_870d_000d3afd63d8row1_col0\" class=\"data row1 col0\" >MOVEMENT</td> \n",
       "        <td id=\"T_3a442502_9b42_11e9_870d_000d3afd63d8row1_col1\" class=\"data row1 col1\" >0.2822</td> \n",
       "        <td id=\"T_3a442502_9b42_11e9_870d_000d3afd63d8row1_col2\" class=\"data row1 col2\" >LP_STATUS_FEIN9.0</td> \n",
       "        <td id=\"T_3a442502_9b42_11e9_870d_000d3afd63d8row1_col3\" class=\"data row1 col3\" >-0.1914</td> \n",
       "    </tr>    <tr> \n",
       "        <th id=\"T_3a442502_9b42_11e9_870d_000d3afd63d8level0_row2\" class=\"row_heading level0 row2\" >2</th> \n",
       "        <td id=\"T_3a442502_9b42_11e9_870d_000d3afd63d8row2_col0\" class=\"data row2 col0\" >LP_STATUS_GROB5.0</td> \n",
       "        <td id=\"T_3a442502_9b42_11e9_870d_000d3afd63d8row2_col1\" class=\"data row2 col1\" >0.2332</td> \n",
       "        <td id=\"T_3a442502_9b42_11e9_870d_000d3afd63d8row2_col2\" class=\"data row2 col2\" >BALLRAUM</td> \n",
       "        <td id=\"T_3a442502_9b42_11e9_870d_000d3afd63d8row2_col3\" class=\"data row2 col3\" >-0.1711</td> \n",
       "    </tr>    <tr> \n",
       "        <th id=\"T_3a442502_9b42_11e9_870d_000d3afd63d8level0_row3\" class=\"row_heading level0 row3\" >3</th> \n",
       "        <td id=\"T_3a442502_9b42_11e9_870d_000d3afd63d8row3_col0\" class=\"data row3 col0\" >LP_STATUS_FEIN10.0</td> \n",
       "        <td id=\"T_3a442502_9b42_11e9_870d_000d3afd63d8row3_col1\" class=\"data row3 col1\" >0.2332</td> \n",
       "        <td id=\"T_3a442502_9b42_11e9_870d_000d3afd63d8row3_col2\" class=\"data row3 col2\" >INNENSTADT</td> \n",
       "        <td id=\"T_3a442502_9b42_11e9_870d_000d3afd63d8row3_col3\" class=\"data row3 col3\" >-0.1682</td> \n",
       "    </tr>    <tr> \n",
       "        <th id=\"T_3a442502_9b42_11e9_870d_000d3afd63d8level0_row4\" class=\"row_heading level0 row4\" >4</th> \n",
       "        <td id=\"T_3a442502_9b42_11e9_870d_000d3afd63d8row4_col0\" class=\"data row4 col0\" >EWDICHTE</td> \n",
       "        <td id=\"T_3a442502_9b42_11e9_870d_000d3afd63d8row4_col1\" class=\"data row4 col1\" >0.21</td> \n",
       "        <td id=\"T_3a442502_9b42_11e9_870d_000d3afd63d8row4_col2\" class=\"data row4 col2\" >HH_EINKOMMEN_SCORE</td> \n",
       "        <td id=\"T_3a442502_9b42_11e9_870d_000d3afd63d8row4_col3\" class=\"data row4 col3\" >-0.166</td> \n",
       "    </tr></tbody> \n",
       "</table> "
      ],
      "text/plain": [
       "<pandas.io.formats.style.Styler at 0x7f81c19904e0>"
      ]
     },
     "execution_count": 286,
     "metadata": {},
     "output_type": "execute_result"
    }
   ],
   "source": [
    "# Map weights for the third principal component to corresponding feature names\n",
    "# and then print the linked values, sorted by weight.\n",
    "cpn_wgt_4th = get_cpn_feat_wgt(pca_50,dem_scale,4)\n",
    "get_topn_feat(cpn_wgt_4th).style.bar(align='mid')\n"
   ]
  },
  {
   "cell_type": "markdown",
   "metadata": {},
   "source": [
    "### Discussion 2.3: Interpret Principal Components\n",
    "\n",
    "(Double-click this cell and replace this text with your own text, reporting your observations from detailed investigation of the first few principal components generated. Can we interpret positive and negative values from them in a meaningful way?)\n",
    "\n",
    "1. So the first component captures the population density and financial condition\n",
    "Top 5 Positive\n",
    "\n",
    "PLZ8_ANTG3: Number of 6-10 family houses in the PLZ8 region (0: no 6-10 family homes, 3: high share of 6-10 family homes)\n",
    "PLZ8_ANTG4 : Number of 10+ family houses in the PLZ8 region (0: no 10+ family home, 2: high share of 10+ family homes)\n",
    "HH_EINKOMMEN_SCORE: Estimated household net income (1: highest income, 6: very low income)\n",
    "WEALTH: Household wealth - Engineered (1: Wealthy Households, 5: Poorer Households)\n",
    "ORTSGR_KLS9: Size of community (1: <= 2,000 inhabitants, 9: > 700,000 inhabitants)\n",
    "#people live in high share community with low income \n",
    "\n",
    "Top 5 Negative\n",
    "MOBI_REGIO : Movement patterns (1: very high movement, 6: none)\n",
    "PLZ8_ANTG1: Number of 1-2 family houses in the PLZ8 region (0: no 1-2 family homes, 4: very high share of 1-2 family homes)\n",
    "KBA05_ANTG1 : Number of 1-2 family houses in the microcell (0: no 1-2 family homes, 4: very high share of 1-2 family homes)\n",
    "FINANZ_MINIMALIST : Financial typology - MINIMALIST: low financial interest (1: very high, 5: very low)\n",
    "KBA05_GBZ: Number of buildings in the microcell(1: 1-2 buildings;5: >=23 buildings)\n",
    "#people live in less dense region with higher financial ability\n",
    "\n",
    "2. So the second component seems to indicate age,personality\n",
    "Top 5 Positive:\n",
    "ALTERSKATEGORIE_GROB: Estimated age based on given name analysis (1: < 30 years old, 4: > 60 years old, 9: uniformly distributed)\n",
    "FINANZ_VORSORGER: Financial typology - Be prepared (1: Very high, 5: Very low)\n",
    "SEMIO_ERL: Personality typology - event-oriented ( 1: highest affinity, 7: lowest affinity)\n",
    "SEMIO_LUST: Personality typology - sensual-minded ( 1: highest affinity, 7: lowest affinity)\n",
    "RETOURTYP_BK_S: Return type (1: influenceable Crazy-Shopper, 5: determined Minimal-Returner)\n",
    "#people who are older, less prepared in financial,low affinity,determined Minimal-Returner\n",
    "    \n",
    "Top 5 Negative\n",
    "SEMIO_REL: Personality typology - religious ( 1: highest affinity, 7: lowest affinity)\n",
    "DECADE: Person’s decade of youth (1: 40s , 6: 90s)\n",
    "FINANZ_SPARER: Financial typology - money-saver (1: Very high, 5: Very low)\n",
    "FINANZ_UNAUFFAELLIGER: Financial typology - inconspicuous (1: Very high, 5: Very low)\n",
    "SEMIO_TRADV: Personality typology - tradional-minded ( 1: highest affinity, 7: lowest affinity)\n",
    "\n",
    "3. So The third component seems to indicate gender,personality\n",
    "Top 5 Positive:\n",
    "SEMIO_VERT: Personality typology - VERT: dreamful (1: highest affinity, 7: lowest affinity)\n",
    "SEMIO_SOZ: Personality typology - SOZ: socially-minded (1: highest affinity, 7: lowest affinity)\n",
    "SEMIO_FAM: Personality typology - family-minded ( 1: highest affinity, 7: lowest affinity)\n",
    "SEMIO_KULT: Personality typology - cultural-minded ( 1: highest affinity, 7: lowest affinity)\n",
    "FINANZ_MINIMALIST : Financial typology - MINIMALIST: low financial interest (1: very high, 5: very low)\n",
    "\n",
    "Top 5 Negative\n",
    "ANREDE_KZ: Gender ( 1: male, 2: female)\n",
    "SEMIO_KAEM: Personality typology - KAEM: combative attitude ( 1: highest affinity, 7: lowest affinity)\n",
    "SEMIO_DOM: Personality typology - DOM: dominant-minded ( 1: highest affinity, 7: lowest affinity)\n",
    "SEMIO_KRIT: Personality typology - KRIT: critical-minded ( 1: highest affinity, 7: lowest affinity)\n",
    "SEMIO_RAT: Personality typology - RAT: rational ( 1: highest affinity, 7: lowest affinity)\n"
   ]
  },
  {
   "cell_type": "markdown",
   "metadata": {},
   "source": [
    "## Step 3: Clustering\n",
    "\n",
    "### Step 3.1: Apply Clustering to General Population\n",
    "\n",
    "You've assessed and cleaned the demographics data, then scaled and transformed them. Now, it's time to see how the data clusters in the principal components space. In this substep, you will apply k-means clustering to the dataset and use the average within-cluster distances from each point to their assigned cluster's centroid to decide on a number of clusters to keep.\n",
    "\n",
    "- Use sklearn's [KMeans](http://scikit-learn.org/stable/modules/generated/sklearn.cluster.KMeans.html#sklearn.cluster.KMeans) class to perform k-means clustering on the PCA-transformed data.\n",
    "- Then, compute the average difference from each point to its assigned cluster's center. **Hint**: The KMeans object's `.score()` method might be useful here, but note that in sklearn, scores tend to be defined so that larger is better. Try applying it to a small, toy dataset, or use an internet search to help your understanding.\n",
    "- Perform the above two steps for a number of different cluster counts. You can then see how the average distance decreases with an increasing number of clusters. However, each additional cluster provides a smaller net benefit. Use this fact to select a final number of clusters in which to group the data. **Warning**: because of the large size of the dataset, it can take a long time for the algorithm to resolve. The more clusters to fit, the longer the algorithm will take. You should test for cluster counts through at least 10 clusters to get the full picture, but you shouldn't need to test for a number of clusters above about 30.\n",
    "- Once you've selected a final number of clusters to use, re-fit a KMeans instance to perform the clustering operation. Make sure that you also obtain the cluster assignments for the general demographics data, since you'll be using them in the final Step 3.3."
   ]
  },
  {
   "cell_type": "code",
   "execution_count": 238,
   "metadata": {},
   "outputs": [
    {
     "name": "stdout",
     "output_type": "stream",
     "text": [
      "2\n",
      "3\n",
      "4\n",
      "5\n",
      "6\n",
      "7\n",
      "8\n",
      "9\n",
      "10\n",
      "11\n",
      "12\n",
      "13\n",
      "14\n",
      "15\n",
      "16\n",
      "17\n",
      "18\n",
      "19\n"
     ]
    }
   ],
   "source": [
    "# For different cluster counts run k-means clustering on the data \n",
    "# and compute the average within-cluster distances to select a final number of clusters\n",
    "max_cluster = 20  \n",
    "scores = {}\n",
    "for i in range(2, max_cluster):\n",
    "    # run k-means clustering on the data and keep the score\n",
    "    print(i)\n",
    "    scores[i] = np.abs(KMeans(n_clusters=i).fit(dem_pca_50).score(dem_pca_50))\n"
   ]
  },
  {
   "cell_type": "code",
   "execution_count": 239,
   "metadata": {},
   "outputs": [
    {
     "data": {
      "image/png": "[encoded data removed]",
      "text/plain": [
       "<Figure size 1152x720 with 1 Axes>"
      ]
     },
     "metadata": {},
     "output_type": "display_data"
    }
   ],
   "source": [
    "# Investigate the change in within-cluster distance across number of clusters.\n",
    "fig, ax = plt.subplots(figsize=(16,10))    \n",
    "ax = pd.Series(scores).plot(marker='o', color='slategray')\n",
    "ax.set_xticks(np.arange(2, max_cluster), minor=False);\n",
    "ax.set_xlabel(\"Number of Clusters\")\n",
    "ax.set_ylabel(\"SSE\");"
   ]
  },
  {
   "cell_type": "code",
   "execution_count": 240,
   "metadata": {},
   "outputs": [],
   "source": [
    "# Re-fit the k-means model with the selected number of clusters and obtain\n",
    "# cluster predictions for the general population demographics data.\n",
    "kmeans_model = KMeans(n_clusters=10, n_jobs=-1, random_state=0).fit(dem_pca_50)\n",
    "dem_pca_50_df[\"labels\"] = kmeans_model.labels_"
   ]
  },
  {
   "cell_type": "code",
   "execution_count": 242,
   "metadata": {},
   "outputs": [
    {
     "name": "stdout",
     "output_type": "stream",
     "text": [
      "[4 6 3 ... 5 2 7]\n",
      "          0         1         2         3         4         5         6  \\\n",
      "0  4.968671 -3.793472 -3.119509  1.109620  0.662955  2.039105 -0.186651   \n",
      "1 -0.408437 -0.704757 -3.260172  1.454046 -3.891989  1.343059 -0.902581   \n",
      "2 -5.250664  1.288029 -1.431573 -1.877851  0.382238 -3.277919  1.265076   \n",
      "3 -0.165134  0.276604  3.092018  1.011592  2.790236  2.842519 -3.051400   \n",
      "4 -0.550641 -0.719956 -1.272337 -3.298255 -2.486062  2.479841 -2.190358   \n",
      "\n",
      "          7         8         9   ...          41        42        43  \\\n",
      "0  1.397799 -0.077418  2.816842   ...    2.045204 -4.848326  1.455423   \n",
      "1 -0.083266 -0.826476 -1.318924   ...    2.233502  0.757709  0.223825   \n",
      "2  1.605471  0.103840  2.448169   ...   -0.803126  0.139921  0.467051   \n",
      "3 -2.308720 -1.859582 -2.703642   ...   -0.080694  0.575939  0.198630   \n",
      "4  0.908701 -0.231357  0.266655   ...   -1.502472 -0.270466  0.263784   \n",
      "\n",
      "         44        45        46        47        48        49  labels  \n",
      "0 -2.859050  1.314174  2.024593  0.699030 -0.553876 -1.608651       4  \n",
      "1 -0.737382 -0.265336  1.114180  0.087526  0.051906 -0.834966       6  \n",
      "2  0.454116 -0.351713  1.308886 -1.167657  0.408983  0.566949       3  \n",
      "3  0.476185 -0.223395  0.904594 -0.836885  0.942328 -0.635651       7  \n",
      "4 -0.354795  1.716258  0.372411  0.071258  0.015382  0.314157       6  \n",
      "\n",
      "[5 rows x 51 columns]\n"
     ]
    }
   ],
   "source": [
    "print(kmeans_model.labels_)\n",
    "print(dem_pca_50_df.head())"
   ]
  },
  {
   "cell_type": "markdown",
   "metadata": {},
   "source": [
    "### Discussion 3.1: Apply Clustering to General Population\n",
    "\n",
    "(Double-click this cell and replace this text with your own text, reporting your findings and decisions regarding clustering. Into how many clusters have you decided to segment the population?)\n",
    "\n",
    "I have tested with a range of the number of clusters from 2 to 19 and plot SSE against cluster number. And from the plot we can see there is a shift in the rate at which SSE decreases in the range of 6 to 10 clusters. So I decide to use 9 clusters."
   ]
  },
  {
   "cell_type": "markdown",
   "metadata": {},
   "source": [
    "### Step 3.2: Apply All Steps to the Customer Data\n",
    "\n",
    "Now that you have clusters and cluster centers for the general population, it's time to see how the customer data maps on to those clusters. Take care to not confuse this for re-fitting all of the models to the customer data. Instead, you're going to use the fits from the general population to clean, transform, and cluster the customer data. In the last step of the project, you will interpret how the general population fits apply to the customer data.\n",
    "\n",
    "- Don't forget when loading in the customers data, that it is semicolon (`;`) delimited.\n",
    "- Apply the same feature wrangling, selection, and engineering steps to the customer demographics using the `clean_data()` function you created earlier. (You can assume that the customer demographics data has similar meaning behind missing data patterns as the general demographics data.)\n",
    "- Use the sklearn objects from the general demographics data, and apply their transformations to the customers data. That is, you should not be using a `.fit()` or `.fit_transform()` method to re-fit the old objects, nor should you be creating new sklearn objects! Carry the data through the feature scaling, PCA, and clustering steps, obtaining cluster assignments for all of the data in the customer demographics data."
   ]
  },
  {
   "cell_type": "code",
   "execution_count": 244,
   "metadata": {},
   "outputs": [
    {
     "name": "stdout",
     "output_type": "stream",
     "text": [
      "(191652, 85)\n"
     ]
    }
   ],
   "source": [
    "# Load in the customer demographics data.\n",
    "customers = pd.read_csv('./data/Udacity_CUSTOMERS_Subset.csv', sep=';') \n",
    "print(customers.shape)"
   ]
  },
  {
   "cell_type": "code",
   "execution_count": 245,
   "metadata": {},
   "outputs": [
    {
     "name": "stdout",
     "output_type": "stream",
     "text": [
      "process done missing code to nan\n",
      "process done remove high missing rate colunms and rows\n",
      "process done re-encode and engineer\n"
     ]
    }
   ],
   "source": [
    "# Apply preprocessing, feature transformation, and clustering from the general\n",
    "# demographics onto the customer data, obtaining cluster predictions for the\n",
    "# customer demographics data.\n",
    "cus_df, cust_highna_df = clean_data(customers,missing_data_encode,cols_remove,feat_info)\n"
   ]
  },
  {
   "cell_type": "code",
   "execution_count": 252,
   "metadata": {},
   "outputs": [
    {
     "ename": "AssertionError",
     "evalue": "",
     "output_type": "error",
     "traceback": [
      "\u001b[0;31m---------------------------------------------------------------------------\u001b[0m",
      "\u001b[0;31mAssertionError\u001b[0m                            Traceback (most recent call last)",
      "\u001b[0;32m<ipython-input-252-b70371de4036>\u001b[0m in \u001b[0;36m<module>\u001b[0;34m()\u001b[0m\n\u001b[1;32m      1\u001b[0m \u001b[0;31m# check dimision\u001b[0m\u001b[0;34m\u001b[0m\u001b[0;34m\u001b[0m\u001b[0m\n\u001b[0;32m----> 2\u001b[0;31m \u001b[0;32massert\u001b[0m\u001b[0;34m(\u001b[0m\u001b[0mcus_df\u001b[0m\u001b[0;34m.\u001b[0m\u001b[0mshape\u001b[0m\u001b[0;34m[\u001b[0m\u001b[0;36m1\u001b[0m\u001b[0;34m]\u001b[0m \u001b[0;34m==\u001b[0m \u001b[0mdem_df\u001b[0m\u001b[0;34m.\u001b[0m\u001b[0mshape\u001b[0m\u001b[0;34m[\u001b[0m\u001b[0;36m1\u001b[0m\u001b[0;34m]\u001b[0m\u001b[0;34m)\u001b[0m\u001b[0;34m\u001b[0m\u001b[0m\n\u001b[0m",
      "\u001b[0;31mAssertionError\u001b[0m: "
     ]
    }
   ],
   "source": [
    "# check dimision\n",
    "assert(cus_df.shape[1] == dem_df.shape[1])"
   ]
  },
  {
   "cell_type": "code",
   "execution_count": 250,
   "metadata": {},
   "outputs": [
    {
     "data": {
      "text/plain": [
       "{'GEBAEUDETYP5.0'}"
      ]
     },
     "execution_count": 250,
     "metadata": {},
     "output_type": "execute_result"
    }
   ],
   "source": [
    "# dimision not equal check what colunms are missing.\n",
    "set(dem_df.columns) - set(cus_df.columns)"
   ]
  },
  {
   "cell_type": "code",
   "execution_count": 257,
   "metadata": {},
   "outputs": [],
   "source": [
    "# The missing columns are due to customer data has no value 5 in column GEBAEUDETYPE\n",
    "# So add this column with all missing values\n",
    "cus_df['GEBAEUDETYP5.0'] = 0\n",
    "assert(cus_df.shape[1] == dem_df.shape[1])"
   ]
  },
  {
   "cell_type": "code",
   "execution_count": 258,
   "metadata": {},
   "outputs": [
    {
     "name": "stdout",
     "output_type": "stream",
     "text": [
      "[ True  True  True  True  True  True  True  True  True  True  True  True\n",
      "  True  True  True  True  True  True  True  True  True  True  True  True\n",
      "  True  True  True  True  True  True  True  True  True  True  True  True\n",
      "  True  True  True  True  True  True  True  True  True  True  True  True\n",
      "  True  True  True  True  True  True  True  True  True  True  True  True\n",
      "  True  True  True  True  True  True  True  True  True  True  True  True\n",
      "  True  True  True  True  True  True  True  True  True  True  True  True\n",
      "  True  True  True  True  True  True  True  True  True  True  True  True\n",
      "  True  True  True  True  True  True  True  True  True  True  True  True\n",
      "  True  True  True  True  True  True  True  True  True  True  True  True\n",
      "  True  True  True  True  True  True  True  True  True  True  True  True\n",
      "  True  True  True  True  True  True  True  True  True  True  True  True\n",
      "  True  True  True  True  True  True  True  True  True  True  True  True\n",
      "  True  True  True  True  True  True  True  True  True  True  True  True\n",
      "  True  True  True  True  True  True  True  True  True  True  True  True\n",
      "  True  True  True  True  True  True  True  True  True  True  True  True]\n"
     ]
    }
   ],
   "source": [
    "# re-ordering column sequences\n",
    "# better solution would be clean train and test together\n",
    "cus_df = cus_df[dem_df.columns]\n",
    "print(cus_df.columns == dem_df.columns)"
   ]
  },
  {
   "cell_type": "code",
   "execution_count": 259,
   "metadata": {},
   "outputs": [
    {
     "data": {
      "text/html": [
       "<div>\n",
       "<style scoped>\n",
       "    .dataframe tbody tr th:only-of-type {\n",
       "        vertical-align: middle;\n",
       "    }\n",
       "\n",
       "    .dataframe tbody tr th {\n",
       "        vertical-align: top;\n",
       "    }\n",
       "\n",
       "    .dataframe thead th {\n",
       "        text-align: right;\n",
       "    }\n",
       "</style>\n",
       "<table border=\"1\" class=\"dataframe\">\n",
       "  <thead>\n",
       "    <tr style=\"text-align: right;\">\n",
       "      <th></th>\n",
       "      <th>ALTERSKATEGORIE_GROB</th>\n",
       "      <th>ANREDE_KZ</th>\n",
       "      <th>FINANZ_MINIMALIST</th>\n",
       "      <th>FINANZ_SPARER</th>\n",
       "      <th>FINANZ_VORSORGER</th>\n",
       "      <th>FINANZ_ANLEGER</th>\n",
       "      <th>FINANZ_UNAUFFAELLIGER</th>\n",
       "      <th>FINANZ_HAUSBAUER</th>\n",
       "      <th>GREEN_AVANTGARDE</th>\n",
       "      <th>HEALTH_TYP</th>\n",
       "      <th>...</th>\n",
       "      <th>CAMEO_DEU_20158D</th>\n",
       "      <th>CAMEO_DEU_20159A</th>\n",
       "      <th>CAMEO_DEU_20159B</th>\n",
       "      <th>CAMEO_DEU_20159C</th>\n",
       "      <th>CAMEO_DEU_20159D</th>\n",
       "      <th>CAMEO_DEU_20159E</th>\n",
       "      <th>DECADE</th>\n",
       "      <th>MOVEMENT</th>\n",
       "      <th>WEALTH</th>\n",
       "      <th>LIFE_STAGE</th>\n",
       "    </tr>\n",
       "  </thead>\n",
       "  <tbody>\n",
       "    <tr>\n",
       "      <th>0</th>\n",
       "      <td>4.0</td>\n",
       "      <td>1.0</td>\n",
       "      <td>5.0</td>\n",
       "      <td>1.0</td>\n",
       "      <td>5.0</td>\n",
       "      <td>1.0</td>\n",
       "      <td>2.0</td>\n",
       "      <td>2.0</td>\n",
       "      <td>1.0</td>\n",
       "      <td>1.0</td>\n",
       "      <td>...</td>\n",
       "      <td>0</td>\n",
       "      <td>0</td>\n",
       "      <td>0</td>\n",
       "      <td>0</td>\n",
       "      <td>0</td>\n",
       "      <td>0</td>\n",
       "      <td>2.0</td>\n",
       "      <td>2.0</td>\n",
       "      <td>1.0</td>\n",
       "      <td>3.0</td>\n",
       "    </tr>\n",
       "    <tr>\n",
       "      <th>2</th>\n",
       "      <td>4.0</td>\n",
       "      <td>2.0</td>\n",
       "      <td>5.0</td>\n",
       "      <td>1.0</td>\n",
       "      <td>5.0</td>\n",
       "      <td>1.0</td>\n",
       "      <td>4.0</td>\n",
       "      <td>4.0</td>\n",
       "      <td>1.0</td>\n",
       "      <td>2.0</td>\n",
       "      <td>...</td>\n",
       "      <td>0</td>\n",
       "      <td>0</td>\n",
       "      <td>0</td>\n",
       "      <td>0</td>\n",
       "      <td>0</td>\n",
       "      <td>0</td>\n",
       "      <td>2.0</td>\n",
       "      <td>2.0</td>\n",
       "      <td>3.0</td>\n",
       "      <td>4.0</td>\n",
       "    </tr>\n",
       "    <tr>\n",
       "      <th>3</th>\n",
       "      <td>4.0</td>\n",
       "      <td>1.0</td>\n",
       "      <td>5.0</td>\n",
       "      <td>1.0</td>\n",
       "      <td>5.0</td>\n",
       "      <td>2.0</td>\n",
       "      <td>1.0</td>\n",
       "      <td>2.0</td>\n",
       "      <td>0.0</td>\n",
       "      <td>2.0</td>\n",
       "      <td>...</td>\n",
       "      <td>0</td>\n",
       "      <td>0</td>\n",
       "      <td>0</td>\n",
       "      <td>0</td>\n",
       "      <td>0</td>\n",
       "      <td>0</td>\n",
       "      <td>1.0</td>\n",
       "      <td>1.0</td>\n",
       "      <td>2.0</td>\n",
       "      <td>4.0</td>\n",
       "    </tr>\n",
       "    <tr>\n",
       "      <th>4</th>\n",
       "      <td>3.0</td>\n",
       "      <td>1.0</td>\n",
       "      <td>3.0</td>\n",
       "      <td>1.0</td>\n",
       "      <td>4.0</td>\n",
       "      <td>4.0</td>\n",
       "      <td>5.0</td>\n",
       "      <td>2.0</td>\n",
       "      <td>0.0</td>\n",
       "      <td>3.0</td>\n",
       "      <td>...</td>\n",
       "      <td>0</td>\n",
       "      <td>0</td>\n",
       "      <td>0</td>\n",
       "      <td>0</td>\n",
       "      <td>0</td>\n",
       "      <td>0</td>\n",
       "      <td>4.0</td>\n",
       "      <td>1.0</td>\n",
       "      <td>4.0</td>\n",
       "      <td>1.0</td>\n",
       "    </tr>\n",
       "    <tr>\n",
       "      <th>5</th>\n",
       "      <td>3.0</td>\n",
       "      <td>1.0</td>\n",
       "      <td>5.0</td>\n",
       "      <td>1.0</td>\n",
       "      <td>5.0</td>\n",
       "      <td>1.0</td>\n",
       "      <td>2.0</td>\n",
       "      <td>3.0</td>\n",
       "      <td>1.0</td>\n",
       "      <td>3.0</td>\n",
       "      <td>...</td>\n",
       "      <td>0</td>\n",
       "      <td>0</td>\n",
       "      <td>0</td>\n",
       "      <td>0</td>\n",
       "      <td>0</td>\n",
       "      <td>0</td>\n",
       "      <td>2.0</td>\n",
       "      <td>2.0</td>\n",
       "      <td>3.0</td>\n",
       "      <td>4.0</td>\n",
       "    </tr>\n",
       "  </tbody>\n",
       "</table>\n",
       "<p>5 rows × 192 columns</p>\n",
       "</div>"
      ],
      "text/plain": [
       "   ALTERSKATEGORIE_GROB  ANREDE_KZ  FINANZ_MINIMALIST  FINANZ_SPARER  \\\n",
       "0                   4.0        1.0                5.0            1.0   \n",
       "2                   4.0        2.0                5.0            1.0   \n",
       "3                   4.0        1.0                5.0            1.0   \n",
       "4                   3.0        1.0                3.0            1.0   \n",
       "5                   3.0        1.0                5.0            1.0   \n",
       "\n",
       "   FINANZ_VORSORGER  FINANZ_ANLEGER  FINANZ_UNAUFFAELLIGER  FINANZ_HAUSBAUER  \\\n",
       "0               5.0             1.0                    2.0               2.0   \n",
       "2               5.0             1.0                    4.0               4.0   \n",
       "3               5.0             2.0                    1.0               2.0   \n",
       "4               4.0             4.0                    5.0               2.0   \n",
       "5               5.0             1.0                    2.0               3.0   \n",
       "\n",
       "   GREEN_AVANTGARDE  HEALTH_TYP     ...      CAMEO_DEU_20158D  \\\n",
       "0               1.0         1.0     ...                     0   \n",
       "2               1.0         2.0     ...                     0   \n",
       "3               0.0         2.0     ...                     0   \n",
       "4               0.0         3.0     ...                     0   \n",
       "5               1.0         3.0     ...                     0   \n",
       "\n",
       "   CAMEO_DEU_20159A  CAMEO_DEU_20159B  CAMEO_DEU_20159C  CAMEO_DEU_20159D  \\\n",
       "0                 0                 0                 0                 0   \n",
       "2                 0                 0                 0                 0   \n",
       "3                 0                 0                 0                 0   \n",
       "4                 0                 0                 0                 0   \n",
       "5                 0                 0                 0                 0   \n",
       "\n",
       "   CAMEO_DEU_20159E  DECADE  MOVEMENT  WEALTH  LIFE_STAGE  \n",
       "0                 0     2.0       2.0     1.0         3.0  \n",
       "2                 0     2.0       2.0     3.0         4.0  \n",
       "3                 0     1.0       1.0     2.0         4.0  \n",
       "4                 0     4.0       1.0     4.0         1.0  \n",
       "5                 0     2.0       2.0     3.0         4.0  \n",
       "\n",
       "[5 rows x 192 columns]"
      ]
     },
     "execution_count": 259,
     "metadata": {},
     "output_type": "execute_result"
    }
   ],
   "source": [
    "cus_df.head()"
   ]
  },
  {
   "cell_type": "code",
   "execution_count": 263,
   "metadata": {},
   "outputs": [],
   "source": [
    "def trans_data(df,imp,scaler,pca):\n",
    "    \"\"\"Apply transform data procedure to data frame\n",
    "    \n",
    "    Args:\n",
    "    df: data.frame. The data to be transformed\n",
    "    imp:imputer object. The trained imputer\n",
    "    scaler: scaler object. The trained scaler\n",
    "    pca: pca object. The trianed pca\n",
    "    \n",
    "    Returns:\n",
    "    df_pca: data.frame. The transformed data frame\n",
    "    \"\"\"\n",
    "    df_imp = imp.transform(df)\n",
    "    \n",
    "    df_scaler = scaler.transform(df_imp)\n",
    "    df_scaler = pd.DataFrame(df_scaler,columns = df.columns)\n",
    "    \n",
    "    df_pca = pd.DataFrame(pca.transform(df_scaler))\n",
    "    return df_pca\n",
    "    \n",
    "    "
   ]
  },
  {
   "cell_type": "code",
   "execution_count": 265,
   "metadata": {},
   "outputs": [
    {
     "name": "stdout",
     "output_type": "stream",
     "text": [
      "(133427, 50)\n"
     ]
    }
   ],
   "source": [
    "cus_pca = trans_data(cus_df,imp,scaler,pca_50)\n",
    "print(cus_pca.shape)"
   ]
  },
  {
   "cell_type": "code",
   "execution_count": 267,
   "metadata": {},
   "outputs": [
    {
     "name": "stdout",
     "output_type": "stream",
     "text": [
      "[0 1 2 3 4 5 6 7 8 9]\n"
     ]
    }
   ],
   "source": [
    "# Clustering\n",
    "cus_kmeans = kmeans_model.predict(cus_pca)\n",
    "cus_pca[\"labels\"] = cus_kmeans\n",
    "print(np.unique(cus_kmeans))"
   ]
  },
  {
   "cell_type": "markdown",
   "metadata": {},
   "source": [
    "### Step 3.3: Compare Customer Data to Demographics Data\n",
    "\n",
    "At this point, you have clustered data based on demographics of the general population of Germany, and seen how the customer data for a mail-order sales company maps onto those demographic clusters. In this final substep, you will compare the two cluster distributions to see where the strongest customer base for the company is.\n",
    "\n",
    "Consider the proportion of persons in each cluster for the general population, and the proportions for the customers. If we think the company's customer base to be universal, then the cluster assignment proportions should be fairly similar between the two. If there are only particular segments of the population that are interested in the company's products, then we should see a mismatch from one to the other. If there is a higher proportion of persons in a cluster for the customer data compared to the general population (e.g. 5% of persons are assigned to a cluster for the general population, but 15% of the customer data is closest to that cluster's centroid) then that suggests the people in that cluster to be a target audience for the company. On the other hand, the proportion of the data in a cluster being larger in the general population than the customer data (e.g. only 2% of customers closest to a population centroid that captures 6% of the data) suggests that group of persons to be outside of the target demographics.\n",
    "\n",
    "Take a look at the following points in this step:\n",
    "\n",
    "- Compute the proportion of data points in each cluster for the general population and the customer data. Visualizations will be useful here: both for the individual dataset proportions, but also to visualize the ratios in cluster representation between groups. Seaborn's [`countplot()`](https://seaborn.pydata.org/generated/seaborn.countplot.html) or [`barplot()`](https://seaborn.pydata.org/generated/seaborn.barplot.html) function could be handy.\n",
    "  - Recall the analysis you performed in step 1.1.3 of the project, where you separated out certain data points from the dataset if they had more than a specified threshold of missing values. If you found that this group was qualitatively different from the main bulk of the data, you should treat this as an additional data cluster in this analysis. Make sure that you account for the number of data points in this subset, for both the general population and customer datasets, when making your computations!\n",
    "- Which cluster or clusters are overrepresented in the customer dataset compared to the general population? Select at least one such cluster and infer what kind of people might be represented by that cluster. Use the principal component interpretations from step 2.3 or look at additional components to help you make this inference. Alternatively, you can use the `.inverse_transform()` method of the PCA and StandardScaler objects to transform centroids back to the original data space and interpret the retrieved values directly.\n",
    "- Perform a similar investigation for the underrepresented clusters. Which cluster or clusters are underrepresented in the customer dataset compared to the general population, and what kinds of people are typified by these clusters?"
   ]
  },
  {
   "cell_type": "code",
   "execution_count": 270,
   "metadata": {},
   "outputs": [],
   "source": [
    "def count_group(df,group_name):\n",
    "    \"\"\"Compute the proportion of data points in each cluster for the data\n",
    "    \n",
    "    Args:\n",
    "    df: data.frame. The clustered data\n",
    "    group_name: char. The name of the data \n",
    "    \n",
    "    Returns:\n",
    "    per_group: data.frame. The percentage of each group of the data\n",
    "    \n",
    "    \"\"\"\n",
    "    per_group = pd.DataFrame(itemfreq(df[\"labels\"]),columns=['label','freq'])\n",
    "    per_group['group'] = group_name\n",
    "    per_group['freq'] = per_group['freq']/per_group['freq'].sum()\n",
    "    return per_group"
   ]
  },
  {
   "cell_type": "code",
   "execution_count": 272,
   "metadata": {},
   "outputs": [
    {
     "name": "stdout",
     "output_type": "stream",
     "text": [
      "   label      freq group\n",
      "0      0  0.044213   pop\n",
      "1      1  0.110138   pop\n",
      "2      2  0.093613   pop\n",
      "3      3  0.113159   pop\n",
      "4      4  0.125058   pop\n",
      "5      5  0.081589   pop\n",
      "6      6  0.096504   pop\n",
      "7      7  0.130164   pop\n",
      "8      8  0.135516   pop\n",
      "9      9  0.070046   pop\n",
      "0      0  0.110922   cus\n",
      "1      1  0.079609   cus\n",
      "2      2  0.008289   cus\n",
      "3      3  0.191416   cus\n",
      "4      4  0.009841   cus\n",
      "5      5  0.010927   cus\n",
      "6      6  0.077301   cus\n",
      "7      7  0.100992   cus\n",
      "8      8  0.379623   cus\n",
      "9      9  0.031081   cus\n"
     ]
    },
    {
     "name": "stderr",
     "output_type": "stream",
     "text": [
      "/home/jinpwa/anaconda3/lib/python3.6/site-packages/ipykernel_launcher.py:12: DeprecationWarning: `itemfreq` is deprecated!\n",
      "`itemfreq` is deprecated and will be removed in a future version. Use instead `np.unique(..., return_counts=True)`\n",
      "  if sys.path[0] == '':\n"
     ]
    }
   ],
   "source": [
    "pop_per_group = count_group(dem_pca_50_df,'pop')\n",
    "cus_per_group = count_group(cus_pca,'cus')\n",
    "total_per_group = pop_per_group.append(cus_per_group)\n",
    "print(total_per_group)"
   ]
  },
  {
   "cell_type": "code",
   "execution_count": 273,
   "metadata": {},
   "outputs": [
    {
     "data": {
      "image/png": "[encoded data removed]",
      "text/plain": [
       "<Figure size 432x288 with 1 Axes>"
      ]
     },
     "metadata": {},
     "output_type": "display_data"
    }
   ],
   "source": [
    "# make a visual plot\n",
    "ax=sns.barplot(x='label', y='freq', hue='group', data=total_per_group)"
   ]
  },
  {
   "cell_type": "code",
   "execution_count": 275,
   "metadata": {},
   "outputs": [
    {
     "data": {
      "image/png": "[encoded data removed]",
      "text/plain": [
       "<Figure size 432x288 with 1 Axes>"
      ]
     },
     "metadata": {},
     "output_type": "display_data"
    }
   ],
   "source": [
    "# make a visual plot about customer freq - population freq\n",
    "ax=sns.barplot(x=cus_per_group.label, y=cus_per_group.freq - pop_per_group.freq)"
   ]
  },
  {
   "cell_type": "code",
   "execution_count": 282,
   "metadata": {},
   "outputs": [],
   "source": [
    "# better understanding of clusters.\n",
    "def map_cluster_to_feats(kmeans, df, cnum):\n",
    "    '''Map pca weights to  individual features\n",
    "    and return two pd.Series on with the highest\n",
    "    positive weights and one with the lowest negative\n",
    "    weights\n",
    "    \n",
    "    Args:\n",
    "    kmeans: kmeans object.\n",
    "    df: data frame. The pca data frame of original data.\n",
    "    cnum: int. The n-th cluster.\n",
    "    \n",
    "    Returns:\n",
    "    top_pca_feat: data frame. The top N positive and negative pca features. \n",
    "    '''\n",
    "    \n",
    "    # get coordinates of cluster centers\n",
    "    weights = pd.DataFrame(np.round(kmeans.cluster_centers_, 4), columns=df.keys())\n",
    "    # the centroid of cluster cnum\n",
    "    centroid = weights.iloc[cnum, :]\n",
    "    # postive pca feature\n",
    "    cent_pos = centroid[centroid > 0].sort_values(ascending=False).to_frame()\n",
    "    cent_pos.reset_index(level=0, inplace=True)\n",
    "    cent_pos.columns = ['top_pos_col','top_pos_col_weight']\n",
    "    # negative pca feature\n",
    "    cent_neg = centroid[centroid < 0].sort_values(ascending=True).to_frame()\n",
    "    cent_neg.reset_index(level=0, inplace=True)\n",
    "    cent_neg.columns = ['top_neg_col','top_neg_col_weight']\n",
    "    # concat postive and negative\n",
    "    top_pca_feat = pd.concat([cent_pos, cent_neg], axis=1)\n",
    "    top_pca_feat['top_neg_col'] = top_pca_feat['top_neg_col'].apply(str)\n",
    "    top_pca_feat['top_pos_col'] = top_pca_feat['top_pos_col'].apply(str)\n",
    "    return top_pca_feat\n",
    "\n"
   ]
  },
  {
   "cell_type": "code",
   "execution_count": 284,
   "metadata": {},
   "outputs": [
    {
     "data": {
      "text/html": [
       "<style  type=\"text/css\" >\n",
       "    #T_a109f402_9b41_11e9_870d_000d3afd63d8row0_col1 {\n",
       "            width:  10em;\n",
       "             height:  80%;\n",
       "            background:  linear-gradient(90deg, transparent 0%, transparent 0.0%, #d65f5f 0.0%, #d65f5f 100.0%, transparent 100.0%);\n",
       "        }    #T_a109f402_9b41_11e9_870d_000d3afd63d8row0_col3 {\n",
       "            width:  10em;\n",
       "             height:  80%;\n",
       "            background:  linear-gradient(90deg, transparent 0%, transparent 0.0%, #d65f5f 0.0%, #d65f5f 100.0%, transparent 100.0%);\n",
       "        }    #T_a109f402_9b41_11e9_870d_000d3afd63d8row1_col1 {\n",
       "            width:  10em;\n",
       "             height:  80%;\n",
       "            background:  linear-gradient(90deg, transparent 0%, transparent 0.0%, #d65f5f 0.0%, #d65f5f 31.0%, transparent 31.0%);\n",
       "        }    #T_a109f402_9b41_11e9_870d_000d3afd63d8row1_col3 {\n",
       "            width:  10em;\n",
       "             height:  80%;\n",
       "            background:  linear-gradient(90deg, transparent 0%, transparent 76.5%, #d65f5f 76.5%, #d65f5f 100.0%, transparent 100.0%);\n",
       "        }    #T_a109f402_9b41_11e9_870d_000d3afd63d8row2_col1 {\n",
       "            width:  10em;\n",
       "             height:  80%;\n",
       "            background:  linear-gradient(90deg, transparent 0%, transparent 0.0%, #d65f5f 0.0%, #d65f5f 18.4%, transparent 18.4%);\n",
       "        }    #T_a109f402_9b41_11e9_870d_000d3afd63d8row2_col3 {\n",
       "            width:  10em;\n",
       "             height:  80%;\n",
       "            background:  linear-gradient(90deg, transparent 0%, transparent 77.3%, #d65f5f 77.3%, #d65f5f 100.0%, transparent 100.0%);\n",
       "        }    #T_a109f402_9b41_11e9_870d_000d3afd63d8row3_col1 {\n",
       "            width:  10em;\n",
       "             height:  80%;\n",
       "            background:  linear-gradient(90deg, transparent 0%, transparent 0.0%, #d65f5f 0.0%, #d65f5f 11.8%, transparent 11.8%);\n",
       "        }    #T_a109f402_9b41_11e9_870d_000d3afd63d8row3_col3 {\n",
       "            width:  10em;\n",
       "             height:  80%;\n",
       "            background:  linear-gradient(90deg, transparent 0%, transparent 80.6%, #d65f5f 80.6%, #d65f5f 100.0%, transparent 100.0%);\n",
       "        }    #T_a109f402_9b41_11e9_870d_000d3afd63d8row4_col1 {\n",
       "            width:  10em;\n",
       "             height:  80%;\n",
       "            background:  linear-gradient(90deg, transparent 0%, transparent 0.0%, #d65f5f 0.0%, #d65f5f 11.0%, transparent 11.0%);\n",
       "        }    #T_a109f402_9b41_11e9_870d_000d3afd63d8row4_col3 {\n",
       "            width:  10em;\n",
       "             height:  80%;\n",
       "            background:  linear-gradient(90deg, transparent 0%, transparent 85.6%, #d65f5f 85.6%, #d65f5f 100.0%, transparent 100.0%);\n",
       "        }    #T_a109f402_9b41_11e9_870d_000d3afd63d8row5_col1 {\n",
       "            width:  10em;\n",
       "             height:  80%;\n",
       "            background:  linear-gradient(90deg, transparent 0%, transparent 0.0%, #d65f5f 0.0%, #d65f5f 10.0%, transparent 10.0%);\n",
       "        }    #T_a109f402_9b41_11e9_870d_000d3afd63d8row5_col3 {\n",
       "            width:  10em;\n",
       "             height:  80%;\n",
       "            background:  linear-gradient(90deg, transparent 0%, transparent 89.0%, #d65f5f 89.0%, #d65f5f 100.0%, transparent 100.0%);\n",
       "        }    #T_a109f402_9b41_11e9_870d_000d3afd63d8row6_col1 {\n",
       "            width:  10em;\n",
       "             height:  80%;\n",
       "            background:  linear-gradient(90deg, transparent 0%, transparent 0.0%, #d65f5f 0.0%, #d65f5f 10.0%, transparent 10.0%);\n",
       "        }    #T_a109f402_9b41_11e9_870d_000d3afd63d8row6_col3 {\n",
       "            width:  10em;\n",
       "             height:  80%;\n",
       "            background:  linear-gradient(90deg, transparent 0%, transparent 90.8%, #d65f5f 90.8%, #d65f5f 100.0%, transparent 100.0%);\n",
       "        }    #T_a109f402_9b41_11e9_870d_000d3afd63d8row7_col1 {\n",
       "            width:  10em;\n",
       "             height:  80%;\n",
       "            background:  linear-gradient(90deg, transparent 0%, transparent 0.0%, #d65f5f 0.0%, #d65f5f 9.4%, transparent 9.4%);\n",
       "        }    #T_a109f402_9b41_11e9_870d_000d3afd63d8row7_col3 {\n",
       "            width:  10em;\n",
       "             height:  80%;\n",
       "            background:  linear-gradient(90deg, transparent 0%, transparent 91.9%, #d65f5f 91.9%, #d65f5f 100.0%, transparent 100.0%);\n",
       "        }    #T_a109f402_9b41_11e9_870d_000d3afd63d8row8_col1 {\n",
       "            width:  10em;\n",
       "             height:  80%;\n",
       "            background:  linear-gradient(90deg, transparent 0%, transparent 0.0%, #d65f5f 0.0%, #d65f5f 8.5%, transparent 8.5%);\n",
       "        }    #T_a109f402_9b41_11e9_870d_000d3afd63d8row8_col3 {\n",
       "            width:  10em;\n",
       "             height:  80%;\n",
       "            background:  linear-gradient(90deg, transparent 0%, transparent 95.3%, #d65f5f 95.3%, #d65f5f 100.0%, transparent 100.0%);\n",
       "        }    #T_a109f402_9b41_11e9_870d_000d3afd63d8row9_col1 {\n",
       "            width:  10em;\n",
       "             height:  80%;\n",
       "            background:  linear-gradient(90deg, transparent 0%, transparent 0.0%, #d65f5f 0.0%, #d65f5f 8.4%, transparent 8.4%);\n",
       "        }    #T_a109f402_9b41_11e9_870d_000d3afd63d8row9_col3 {\n",
       "            width:  10em;\n",
       "             height:  80%;\n",
       "            background:  linear-gradient(90deg, transparent 0%, transparent 95.8%, #d65f5f 95.8%, #d65f5f 100.0%, transparent 100.0%);\n",
       "        }    #T_a109f402_9b41_11e9_870d_000d3afd63d8row10_col1 {\n",
       "            width:  10em;\n",
       "             height:  80%;\n",
       "            background:  linear-gradient(90deg, transparent 0%, transparent 0.0%, #d65f5f 0.0%, #d65f5f 6.5%, transparent 6.5%);\n",
       "        }    #T_a109f402_9b41_11e9_870d_000d3afd63d8row10_col3 {\n",
       "            width:  10em;\n",
       "             height:  80%;\n",
       "            background:  linear-gradient(90deg, transparent 0%, transparent 96.0%, #d65f5f 96.0%, #d65f5f 100.0%, transparent 100.0%);\n",
       "        }    #T_a109f402_9b41_11e9_870d_000d3afd63d8row11_col1 {\n",
       "            width:  10em;\n",
       "             height:  80%;\n",
       "            background:  linear-gradient(90deg, transparent 0%, transparent 0.0%, #d65f5f 0.0%, #d65f5f 6.2%, transparent 6.2%);\n",
       "        }    #T_a109f402_9b41_11e9_870d_000d3afd63d8row11_col3 {\n",
       "            width:  10em;\n",
       "             height:  80%;\n",
       "            background:  linear-gradient(90deg, transparent 0%, transparent 97.1%, #d65f5f 97.1%, #d65f5f 100.0%, transparent 100.0%);\n",
       "        }    #T_a109f402_9b41_11e9_870d_000d3afd63d8row12_col1 {\n",
       "            width:  10em;\n",
       "             height:  80%;\n",
       "            background:  linear-gradient(90deg, transparent 0%, transparent 0.0%, #d65f5f 0.0%, #d65f5f 5.1%, transparent 5.1%);\n",
       "        }    #T_a109f402_9b41_11e9_870d_000d3afd63d8row12_col3 {\n",
       "            width:  10em;\n",
       "             height:  80%;\n",
       "            background:  linear-gradient(90deg, transparent 0%, transparent 97.3%, #d65f5f 97.3%, #d65f5f 100.0%, transparent 100.0%);\n",
       "        }    #T_a109f402_9b41_11e9_870d_000d3afd63d8row13_col1 {\n",
       "            width:  10em;\n",
       "             height:  80%;\n",
       "            background:  linear-gradient(90deg, transparent 0%, transparent 0.0%, #d65f5f 0.0%, #d65f5f 4.1%, transparent 4.1%);\n",
       "        }    #T_a109f402_9b41_11e9_870d_000d3afd63d8row13_col3 {\n",
       "            width:  10em;\n",
       "             height:  80%;\n",
       "            background:  linear-gradient(90deg, transparent 0%, transparent 97.8%, #d65f5f 97.8%, #d65f5f 100.0%, transparent 100.0%);\n",
       "        }    #T_a109f402_9b41_11e9_870d_000d3afd63d8row14_col1 {\n",
       "            width:  10em;\n",
       "             height:  80%;\n",
       "            background:  linear-gradient(90deg, transparent 0%, transparent 0.0%, #d65f5f 0.0%, #d65f5f 2.6%, transparent 2.6%);\n",
       "        }    #T_a109f402_9b41_11e9_870d_000d3afd63d8row14_col3 {\n",
       "            width:  10em;\n",
       "             height:  80%;\n",
       "            background:  linear-gradient(90deg, transparent 0%, transparent 98.1%, #d65f5f 98.1%, #d65f5f 100.0%, transparent 100.0%);\n",
       "        }    #T_a109f402_9b41_11e9_870d_000d3afd63d8row15_col1 {\n",
       "            width:  10em;\n",
       "             height:  80%;\n",
       "            background:  linear-gradient(90deg, transparent 0%, transparent 0.0%, #d65f5f 0.0%, #d65f5f 2.5%, transparent 2.5%);\n",
       "        }    #T_a109f402_9b41_11e9_870d_000d3afd63d8row15_col3 {\n",
       "            width:  10em;\n",
       "             height:  80%;\n",
       "            background:  linear-gradient(90deg, transparent 0%, transparent 98.9%, #d65f5f 98.9%, #d65f5f 100.0%, transparent 100.0%);\n",
       "        }    #T_a109f402_9b41_11e9_870d_000d3afd63d8row16_col1 {\n",
       "            width:  10em;\n",
       "             height:  80%;\n",
       "            background:  linear-gradient(90deg, transparent 0%, transparent 0.0%, #d65f5f 0.0%, #d65f5f 2.5%, transparent 2.5%);\n",
       "        }    #T_a109f402_9b41_11e9_870d_000d3afd63d8row16_col3 {\n",
       "            width:  10em;\n",
       "             height:  80%;\n",
       "            background:  linear-gradient(90deg, transparent 0%, transparent 98.9%, #d65f5f 98.9%, #d65f5f 100.0%, transparent 100.0%);\n",
       "        }    #T_a109f402_9b41_11e9_870d_000d3afd63d8row17_col1 {\n",
       "            width:  10em;\n",
       "             height:  80%;\n",
       "            background:  linear-gradient(90deg, transparent 0%, transparent 0.0%, #d65f5f 0.0%, #d65f5f 2.4%, transparent 2.4%);\n",
       "        }    #T_a109f402_9b41_11e9_870d_000d3afd63d8row17_col3 {\n",
       "            width:  10em;\n",
       "             height:  80%;\n",
       "            background:  linear-gradient(90deg, transparent 0%, transparent 99.1%, #d65f5f 99.1%, #d65f5f 100.0%, transparent 100.0%);\n",
       "        }    #T_a109f402_9b41_11e9_870d_000d3afd63d8row18_col1 {\n",
       "            width:  10em;\n",
       "             height:  80%;\n",
       "            background:  linear-gradient(90deg, transparent 0%, transparent 0.0%, #d65f5f 0.0%, #d65f5f 2.1%, transparent 2.1%);\n",
       "        }    #T_a109f402_9b41_11e9_870d_000d3afd63d8row18_col3 {\n",
       "            width:  10em;\n",
       "             height:  80%;\n",
       "            background:  linear-gradient(90deg, transparent 0%, transparent 99.1%, #d65f5f 99.1%, #d65f5f 100.0%, transparent 100.0%);\n",
       "        }    #T_a109f402_9b41_11e9_870d_000d3afd63d8row19_col1 {\n",
       "            width:  10em;\n",
       "             height:  80%;\n",
       "            background:  linear-gradient(90deg, transparent 0%, transparent 0.0%, #d65f5f 0.0%, #d65f5f 1.8%, transparent 1.8%);\n",
       "        }    #T_a109f402_9b41_11e9_870d_000d3afd63d8row19_col3 {\n",
       "            width:  10em;\n",
       "             height:  80%;\n",
       "            background:  linear-gradient(90deg, transparent 0%, transparent 99.4%, #d65f5f 99.4%, #d65f5f 100.0%, transparent 100.0%);\n",
       "        }    #T_a109f402_9b41_11e9_870d_000d3afd63d8row20_col1 {\n",
       "            width:  10em;\n",
       "             height:  80%;\n",
       "            background:  linear-gradient(90deg, transparent 0%, transparent 0.0%, #d65f5f 0.0%, #d65f5f 1.3%, transparent 1.3%);\n",
       "        }    #T_a109f402_9b41_11e9_870d_000d3afd63d8row20_col3 {\n",
       "            width:  10em;\n",
       "             height:  80%;\n",
       "            background:  linear-gradient(90deg, transparent 0%, transparent 99.4%, #d65f5f 99.4%, #d65f5f 100.0%, transparent 100.0%);\n",
       "        }    #T_a109f402_9b41_11e9_870d_000d3afd63d8row21_col1 {\n",
       "            width:  10em;\n",
       "             height:  80%;\n",
       "            background:  linear-gradient(90deg, transparent 0%, transparent 0.0%, #d65f5f 0.0%, #d65f5f 0.9%, transparent 0.9%);\n",
       "        }    #T_a109f402_9b41_11e9_870d_000d3afd63d8row21_col3 {\n",
       "            width:  10em;\n",
       "             height:  80%;\n",
       "            background:  linear-gradient(90deg, transparent 0%, transparent 99.5%, #d65f5f 99.5%, #d65f5f 100.0%, transparent 100.0%);\n",
       "        }    #T_a109f402_9b41_11e9_870d_000d3afd63d8row22_col1 {\n",
       "            width:  10em;\n",
       "             height:  80%;\n",
       "            background:  linear-gradient(90deg, transparent 0%, transparent 0.0%, #d65f5f 0.0%, #d65f5f 0.7%, transparent 0.7%);\n",
       "        }    #T_a109f402_9b41_11e9_870d_000d3afd63d8row22_col3 {\n",
       "            width:  10em;\n",
       "             height:  80%;\n",
       "            background:  linear-gradient(90deg, transparent 0%, transparent 99.6%, #d65f5f 99.6%, #d65f5f 100.0%, transparent 100.0%);\n",
       "        }    #T_a109f402_9b41_11e9_870d_000d3afd63d8row23_col1 {\n",
       "            width:  10em;\n",
       "             height:  80%;\n",
       "            background:  linear-gradient(90deg, transparent 0%, transparent 0.0%, #d65f5f 0.0%, #d65f5f 0.5%, transparent 0.5%);\n",
       "        }    #T_a109f402_9b41_11e9_870d_000d3afd63d8row23_col3 {\n",
       "            width:  10em;\n",
       "             height:  80%;\n",
       "            background:  linear-gradient(90deg, transparent 0%, transparent 99.7%, #d65f5f 99.7%, #d65f5f 100.0%, transparent 100.0%);\n",
       "        }    #T_a109f402_9b41_11e9_870d_000d3afd63d8row24_col1 {\n",
       "            width:  10em;\n",
       "             height:  80%;\n",
       "            background:  linear-gradient(90deg, transparent 0%, transparent nan%, #d65f5f nan%, #d65f5f 0.0%, transparent 0.0%);\n",
       "        }    #T_a109f402_9b41_11e9_870d_000d3afd63d8row24_col3 {\n",
       "            width:  10em;\n",
       "             height:  80%;\n",
       "            background:  linear-gradient(90deg, transparent 0%, transparent 99.9%, #d65f5f 99.9%, #d65f5f 100.0%, transparent 100.0%);\n",
       "        }    #T_a109f402_9b41_11e9_870d_000d3afd63d8row25_col1 {\n",
       "            width:  10em;\n",
       "             height:  80%;\n",
       "            background:  linear-gradient(90deg, transparent 0%, transparent nan%, #d65f5f nan%, #d65f5f 0.0%, transparent 0.0%);\n",
       "        }    #T_a109f402_9b41_11e9_870d_000d3afd63d8row25_col3 {\n",
       "            width:  10em;\n",
       "             height:  80%;\n",
       "            background:  linear-gradient(90deg, transparent 0%, transparent 100.0%, #d65f5f 100.0%, #d65f5f 100.0%, transparent 100.0%);\n",
       "        }</style>  \n",
       "<table id=\"T_a109f402_9b41_11e9_870d_000d3afd63d8\" > \n",
       "<thead>    <tr> \n",
       "        <th class=\"blank level0\" ></th> \n",
       "        <th class=\"col_heading level0 col0\" >top_pos_col</th> \n",
       "        <th class=\"col_heading level0 col1\" >top_pos_col_weight</th> \n",
       "        <th class=\"col_heading level0 col2\" >top_neg_col</th> \n",
       "        <th class=\"col_heading level0 col3\" >top_neg_col_weight</th> \n",
       "    </tr></thead> \n",
       "<tbody>    <tr> \n",
       "        <th id=\"T_a109f402_9b41_11e9_870d_000d3afd63d8level0_row0\" class=\"row_heading level0 row0\" >0</th> \n",
       "        <td id=\"T_a109f402_9b41_11e9_870d_000d3afd63d8row0_col0\" class=\"data row0 col0\" >3.0</td> \n",
       "        <td id=\"T_a109f402_9b41_11e9_870d_000d3afd63d8row0_col1\" class=\"data row0 col1\" >3.1329</td> \n",
       "        <td id=\"T_a109f402_9b41_11e9_870d_000d3afd63d8row0_col2\" class=\"data row0 col2\" >0</td> \n",
       "        <td id=\"T_a109f402_9b41_11e9_870d_000d3afd63d8row0_col3\" class=\"data row0 col3\" >-4.5481</td> \n",
       "    </tr>    <tr> \n",
       "        <th id=\"T_a109f402_9b41_11e9_870d_000d3afd63d8level0_row1\" class=\"row_heading level0 row1\" >1</th> \n",
       "        <td id=\"T_a109f402_9b41_11e9_870d_000d3afd63d8row1_col0\" class=\"data row1 col0\" >2.0</td> \n",
       "        <td id=\"T_a109f402_9b41_11e9_870d_000d3afd63d8row1_col1\" class=\"data row1 col1\" >0.9703</td> \n",
       "        <td id=\"T_a109f402_9b41_11e9_870d_000d3afd63d8row1_col2\" class=\"data row1 col2\" >5</td> \n",
       "        <td id=\"T_a109f402_9b41_11e9_870d_000d3afd63d8row1_col3\" class=\"data row1 col3\" >-1.0695</td> \n",
       "    </tr>    <tr> \n",
       "        <th id=\"T_a109f402_9b41_11e9_870d_000d3afd63d8level0_row2\" class=\"row_heading level0 row2\" >2</th> \n",
       "        <td id=\"T_a109f402_9b41_11e9_870d_000d3afd63d8row2_col0\" class=\"data row2 col0\" >17.0</td> \n",
       "        <td id=\"T_a109f402_9b41_11e9_870d_000d3afd63d8row2_col1\" class=\"data row2 col1\" >0.5752</td> \n",
       "        <td id=\"T_a109f402_9b41_11e9_870d_000d3afd63d8row2_col2\" class=\"data row2 col2\" >6</td> \n",
       "        <td id=\"T_a109f402_9b41_11e9_870d_000d3afd63d8row2_col3\" class=\"data row2 col3\" >-1.0345</td> \n",
       "    </tr>    <tr> \n",
       "        <th id=\"T_a109f402_9b41_11e9_870d_000d3afd63d8level0_row3\" class=\"row_heading level0 row3\" >3</th> \n",
       "        <td id=\"T_a109f402_9b41_11e9_870d_000d3afd63d8row3_col0\" class=\"data row3 col0\" >7.0</td> \n",
       "        <td id=\"T_a109f402_9b41_11e9_870d_000d3afd63d8row3_col1\" class=\"data row3 col1\" >0.3693</td> \n",
       "        <td id=\"T_a109f402_9b41_11e9_870d_000d3afd63d8row3_col2\" class=\"data row3 col2\" >21</td> \n",
       "        <td id=\"T_a109f402_9b41_11e9_870d_000d3afd63d8row3_col3\" class=\"data row3 col3\" >-0.8844</td> \n",
       "    </tr>    <tr> \n",
       "        <th id=\"T_a109f402_9b41_11e9_870d_000d3afd63d8level0_row4\" class=\"row_heading level0 row4\" >4</th> \n",
       "        <td id=\"T_a109f402_9b41_11e9_870d_000d3afd63d8row4_col0\" class=\"data row4 col0\" >22.0</td> \n",
       "        <td id=\"T_a109f402_9b41_11e9_870d_000d3afd63d8row4_col1\" class=\"data row4 col1\" >0.3461</td> \n",
       "        <td id=\"T_a109f402_9b41_11e9_870d_000d3afd63d8row4_col2\" class=\"data row4 col2\" >4</td> \n",
       "        <td id=\"T_a109f402_9b41_11e9_870d_000d3afd63d8row4_col3\" class=\"data row4 col3\" >-0.6534</td> \n",
       "    </tr>    <tr> \n",
       "        <th id=\"T_a109f402_9b41_11e9_870d_000d3afd63d8level0_row5\" class=\"row_heading level0 row5\" >5</th> \n",
       "        <td id=\"T_a109f402_9b41_11e9_870d_000d3afd63d8row5_col0\" class=\"data row5 col0\" >11.0</td> \n",
       "        <td id=\"T_a109f402_9b41_11e9_870d_000d3afd63d8row5_col1\" class=\"data row5 col1\" >0.3138</td> \n",
       "        <td id=\"T_a109f402_9b41_11e9_870d_000d3afd63d8row5_col2\" class=\"data row5 col2\" >19</td> \n",
       "        <td id=\"T_a109f402_9b41_11e9_870d_000d3afd63d8row5_col3\" class=\"data row5 col3\" >-0.5004</td> \n",
       "    </tr>    <tr> \n",
       "        <th id=\"T_a109f402_9b41_11e9_870d_000d3afd63d8level0_row6\" class=\"row_heading level0 row6\" >6</th> \n",
       "        <td id=\"T_a109f402_9b41_11e9_870d_000d3afd63d8row6_col0\" class=\"data row6 col0\" >8.0</td> \n",
       "        <td id=\"T_a109f402_9b41_11e9_870d_000d3afd63d8row6_col1\" class=\"data row6 col1\" >0.3122</td> \n",
       "        <td id=\"T_a109f402_9b41_11e9_870d_000d3afd63d8row6_col2\" class=\"data row6 col2\" >10</td> \n",
       "        <td id=\"T_a109f402_9b41_11e9_870d_000d3afd63d8row6_col3\" class=\"data row6 col3\" >-0.4183</td> \n",
       "    </tr>    <tr> \n",
       "        <th id=\"T_a109f402_9b41_11e9_870d_000d3afd63d8level0_row7\" class=\"row_heading level0 row7\" >7</th> \n",
       "        <td id=\"T_a109f402_9b41_11e9_870d_000d3afd63d8row7_col0\" class=\"data row7 col0\" >1.0</td> \n",
       "        <td id=\"T_a109f402_9b41_11e9_870d_000d3afd63d8row7_col1\" class=\"data row7 col1\" >0.2953</td> \n",
       "        <td id=\"T_a109f402_9b41_11e9_870d_000d3afd63d8row7_col2\" class=\"data row7 col2\" >14</td> \n",
       "        <td id=\"T_a109f402_9b41_11e9_870d_000d3afd63d8row7_col3\" class=\"data row7 col3\" >-0.3683</td> \n",
       "    </tr>    <tr> \n",
       "        <th id=\"T_a109f402_9b41_11e9_870d_000d3afd63d8level0_row8\" class=\"row_heading level0 row8\" >8</th> \n",
       "        <td id=\"T_a109f402_9b41_11e9_870d_000d3afd63d8row8_col0\" class=\"data row8 col0\" >15.0</td> \n",
       "        <td id=\"T_a109f402_9b41_11e9_870d_000d3afd63d8row8_col1\" class=\"data row8 col1\" >0.2657</td> \n",
       "        <td id=\"T_a109f402_9b41_11e9_870d_000d3afd63d8row8_col2\" class=\"data row8 col2\" >20</td> \n",
       "        <td id=\"T_a109f402_9b41_11e9_870d_000d3afd63d8row8_col3\" class=\"data row8 col3\" >-0.2145</td> \n",
       "    </tr>    <tr> \n",
       "        <th id=\"T_a109f402_9b41_11e9_870d_000d3afd63d8level0_row9\" class=\"row_heading level0 row9\" >9</th> \n",
       "        <td id=\"T_a109f402_9b41_11e9_870d_000d3afd63d8row9_col0\" class=\"data row9 col0\" >12.0</td> \n",
       "        <td id=\"T_a109f402_9b41_11e9_870d_000d3afd63d8row9_col1\" class=\"data row9 col1\" >0.2638</td> \n",
       "        <td id=\"T_a109f402_9b41_11e9_870d_000d3afd63d8row9_col2\" class=\"data row9 col2\" >32</td> \n",
       "        <td id=\"T_a109f402_9b41_11e9_870d_000d3afd63d8row9_col3\" class=\"data row9 col3\" >-0.1931</td> \n",
       "    </tr>    <tr> \n",
       "        <th id=\"T_a109f402_9b41_11e9_870d_000d3afd63d8level0_row10\" class=\"row_heading level0 row10\" >10</th> \n",
       "        <td id=\"T_a109f402_9b41_11e9_870d_000d3afd63d8row10_col0\" class=\"data row10 col0\" >16.0</td> \n",
       "        <td id=\"T_a109f402_9b41_11e9_870d_000d3afd63d8row10_col1\" class=\"data row10 col1\" >0.2027</td> \n",
       "        <td id=\"T_a109f402_9b41_11e9_870d_000d3afd63d8row10_col2\" class=\"data row10 col2\" >30</td> \n",
       "        <td id=\"T_a109f402_9b41_11e9_870d_000d3afd63d8row10_col3\" class=\"data row10 col3\" >-0.1811</td> \n",
       "    </tr>    <tr> \n",
       "        <th id=\"T_a109f402_9b41_11e9_870d_000d3afd63d8level0_row11\" class=\"row_heading level0 row11\" >11</th> \n",
       "        <td id=\"T_a109f402_9b41_11e9_870d_000d3afd63d8row11_col0\" class=\"data row11 col0\" >13.0</td> \n",
       "        <td id=\"T_a109f402_9b41_11e9_870d_000d3afd63d8row11_col1\" class=\"data row11 col1\" >0.1944</td> \n",
       "        <td id=\"T_a109f402_9b41_11e9_870d_000d3afd63d8row11_col2\" class=\"data row11 col2\" >18</td> \n",
       "        <td id=\"T_a109f402_9b41_11e9_870d_000d3afd63d8row11_col3\" class=\"data row11 col3\" >-0.1308</td> \n",
       "    </tr>    <tr> \n",
       "        <th id=\"T_a109f402_9b41_11e9_870d_000d3afd63d8level0_row12\" class=\"row_heading level0 row12\" >12</th> \n",
       "        <td id=\"T_a109f402_9b41_11e9_870d_000d3afd63d8row12_col0\" class=\"data row12 col0\" >26.0</td> \n",
       "        <td id=\"T_a109f402_9b41_11e9_870d_000d3afd63d8row12_col1\" class=\"data row12 col1\" >0.1606</td> \n",
       "        <td id=\"T_a109f402_9b41_11e9_870d_000d3afd63d8row12_col2\" class=\"data row12 col2\" >23</td> \n",
       "        <td id=\"T_a109f402_9b41_11e9_870d_000d3afd63d8row12_col3\" class=\"data row12 col3\" >-0.1215</td> \n",
       "    </tr>    <tr> \n",
       "        <th id=\"T_a109f402_9b41_11e9_870d_000d3afd63d8level0_row13\" class=\"row_heading level0 row13\" >13</th> \n",
       "        <td id=\"T_a109f402_9b41_11e9_870d_000d3afd63d8row13_col0\" class=\"data row13 col0\" >24.0</td> \n",
       "        <td id=\"T_a109f402_9b41_11e9_870d_000d3afd63d8row13_col1\" class=\"data row13 col1\" >0.1285</td> \n",
       "        <td id=\"T_a109f402_9b41_11e9_870d_000d3afd63d8row13_col2\" class=\"data row13 col2\" >35</td> \n",
       "        <td id=\"T_a109f402_9b41_11e9_870d_000d3afd63d8row13_col3\" class=\"data row13 col3\" >-0.1022</td> \n",
       "    </tr>    <tr> \n",
       "        <th id=\"T_a109f402_9b41_11e9_870d_000d3afd63d8level0_row14\" class=\"row_heading level0 row14\" >14</th> \n",
       "        <td id=\"T_a109f402_9b41_11e9_870d_000d3afd63d8row14_col0\" class=\"data row14 col0\" >9.0</td> \n",
       "        <td id=\"T_a109f402_9b41_11e9_870d_000d3afd63d8row14_col1\" class=\"data row14 col1\" >0.0823</td> \n",
       "        <td id=\"T_a109f402_9b41_11e9_870d_000d3afd63d8row14_col2\" class=\"data row14 col2\" >41</td> \n",
       "        <td id=\"T_a109f402_9b41_11e9_870d_000d3afd63d8row14_col3\" class=\"data row14 col3\" >-0.088</td> \n",
       "    </tr>    <tr> \n",
       "        <th id=\"T_a109f402_9b41_11e9_870d_000d3afd63d8level0_row15\" class=\"row_heading level0 row15\" >15</th> \n",
       "        <td id=\"T_a109f402_9b41_11e9_870d_000d3afd63d8row15_col0\" class=\"data row15 col0\" >36.0</td> \n",
       "        <td id=\"T_a109f402_9b41_11e9_870d_000d3afd63d8row15_col1\" class=\"data row15 col1\" >0.0791</td> \n",
       "        <td id=\"T_a109f402_9b41_11e9_870d_000d3afd63d8row15_col2\" class=\"data row15 col2\" >39</td> \n",
       "        <td id=\"T_a109f402_9b41_11e9_870d_000d3afd63d8row15_col3\" class=\"data row15 col3\" >-0.0514</td> \n",
       "    </tr>    <tr> \n",
       "        <th id=\"T_a109f402_9b41_11e9_870d_000d3afd63d8level0_row16\" class=\"row_heading level0 row16\" >16</th> \n",
       "        <td id=\"T_a109f402_9b41_11e9_870d_000d3afd63d8row16_col0\" class=\"data row16 col0\" >34.0</td> \n",
       "        <td id=\"T_a109f402_9b41_11e9_870d_000d3afd63d8row16_col1\" class=\"data row16 col1\" >0.0783</td> \n",
       "        <td id=\"T_a109f402_9b41_11e9_870d_000d3afd63d8row16_col2\" class=\"data row16 col2\" >38</td> \n",
       "        <td id=\"T_a109f402_9b41_11e9_870d_000d3afd63d8row16_col3\" class=\"data row16 col3\" >-0.048</td> \n",
       "    </tr>    <tr> \n",
       "        <th id=\"T_a109f402_9b41_11e9_870d_000d3afd63d8level0_row17\" class=\"row_heading level0 row17\" >17</th> \n",
       "        <td id=\"T_a109f402_9b41_11e9_870d_000d3afd63d8row17_col0\" class=\"data row17 col0\" >33.0</td> \n",
       "        <td id=\"T_a109f402_9b41_11e9_870d_000d3afd63d8row17_col1\" class=\"data row17 col1\" >0.0748</td> \n",
       "        <td id=\"T_a109f402_9b41_11e9_870d_000d3afd63d8row17_col2\" class=\"data row17 col2\" >37</td> \n",
       "        <td id=\"T_a109f402_9b41_11e9_870d_000d3afd63d8row17_col3\" class=\"data row17 col3\" >-0.0424</td> \n",
       "    </tr>    <tr> \n",
       "        <th id=\"T_a109f402_9b41_11e9_870d_000d3afd63d8level0_row18\" class=\"row_heading level0 row18\" >18</th> \n",
       "        <td id=\"T_a109f402_9b41_11e9_870d_000d3afd63d8row18_col0\" class=\"data row18 col0\" >43.0</td> \n",
       "        <td id=\"T_a109f402_9b41_11e9_870d_000d3afd63d8row18_col1\" class=\"data row18 col1\" >0.0671</td> \n",
       "        <td id=\"T_a109f402_9b41_11e9_870d_000d3afd63d8row18_col2\" class=\"data row18 col2\" >48</td> \n",
       "        <td id=\"T_a109f402_9b41_11e9_870d_000d3afd63d8row18_col3\" class=\"data row18 col3\" >-0.04</td> \n",
       "    </tr>    <tr> \n",
       "        <th id=\"T_a109f402_9b41_11e9_870d_000d3afd63d8level0_row19\" class=\"row_heading level0 row19\" >19</th> \n",
       "        <td id=\"T_a109f402_9b41_11e9_870d_000d3afd63d8row19_col0\" class=\"data row19 col0\" >42.0</td> \n",
       "        <td id=\"T_a109f402_9b41_11e9_870d_000d3afd63d8row19_col1\" class=\"data row19 col1\" >0.0556</td> \n",
       "        <td id=\"T_a109f402_9b41_11e9_870d_000d3afd63d8row19_col2\" class=\"data row19 col2\" >49</td> \n",
       "        <td id=\"T_a109f402_9b41_11e9_870d_000d3afd63d8row19_col3\" class=\"data row19 col3\" >-0.028</td> \n",
       "    </tr>    <tr> \n",
       "        <th id=\"T_a109f402_9b41_11e9_870d_000d3afd63d8level0_row20\" class=\"row_heading level0 row20\" >20</th> \n",
       "        <td id=\"T_a109f402_9b41_11e9_870d_000d3afd63d8row20_col0\" class=\"data row20 col0\" >47.0</td> \n",
       "        <td id=\"T_a109f402_9b41_11e9_870d_000d3afd63d8row20_col1\" class=\"data row20 col1\" >0.0399</td> \n",
       "        <td id=\"T_a109f402_9b41_11e9_870d_000d3afd63d8row20_col2\" class=\"data row20 col2\" >44</td> \n",
       "        <td id=\"T_a109f402_9b41_11e9_870d_000d3afd63d8row20_col3\" class=\"data row20 col3\" >-0.0263</td> \n",
       "    </tr>    <tr> \n",
       "        <th id=\"T_a109f402_9b41_11e9_870d_000d3afd63d8level0_row21\" class=\"row_heading level0 row21\" >21</th> \n",
       "        <td id=\"T_a109f402_9b41_11e9_870d_000d3afd63d8row21_col0\" class=\"data row21 col0\" >29.0</td> \n",
       "        <td id=\"T_a109f402_9b41_11e9_870d_000d3afd63d8row21_col1\" class=\"data row21 col1\" >0.0267</td> \n",
       "        <td id=\"T_a109f402_9b41_11e9_870d_000d3afd63d8row21_col2\" class=\"data row21 col2\" >25</td> \n",
       "        <td id=\"T_a109f402_9b41_11e9_870d_000d3afd63d8row21_col3\" class=\"data row21 col3\" >-0.0248</td> \n",
       "    </tr>    <tr> \n",
       "        <th id=\"T_a109f402_9b41_11e9_870d_000d3afd63d8level0_row22\" class=\"row_heading level0 row22\" >22</th> \n",
       "        <td id=\"T_a109f402_9b41_11e9_870d_000d3afd63d8row22_col0\" class=\"data row22 col0\" >27.0</td> \n",
       "        <td id=\"T_a109f402_9b41_11e9_870d_000d3afd63d8row22_col1\" class=\"data row22 col1\" >0.0234</td> \n",
       "        <td id=\"T_a109f402_9b41_11e9_870d_000d3afd63d8row22_col2\" class=\"data row22 col2\" >46</td> \n",
       "        <td id=\"T_a109f402_9b41_11e9_870d_000d3afd63d8row22_col3\" class=\"data row22 col3\" >-0.0171</td> \n",
       "    </tr>    <tr> \n",
       "        <th id=\"T_a109f402_9b41_11e9_870d_000d3afd63d8level0_row23\" class=\"row_heading level0 row23\" >23</th> \n",
       "        <td id=\"T_a109f402_9b41_11e9_870d_000d3afd63d8row23_col0\" class=\"data row23 col0\" >31.0</td> \n",
       "        <td id=\"T_a109f402_9b41_11e9_870d_000d3afd63d8row23_col1\" class=\"data row23 col1\" >0.0154</td> \n",
       "        <td id=\"T_a109f402_9b41_11e9_870d_000d3afd63d8row23_col2\" class=\"data row23 col2\" >40</td> \n",
       "        <td id=\"T_a109f402_9b41_11e9_870d_000d3afd63d8row23_col3\" class=\"data row23 col3\" >-0.0127</td> \n",
       "    </tr>    <tr> \n",
       "        <th id=\"T_a109f402_9b41_11e9_870d_000d3afd63d8level0_row24\" class=\"row_heading level0 row24\" >24</th> \n",
       "        <td id=\"T_a109f402_9b41_11e9_870d_000d3afd63d8row24_col0\" class=\"data row24 col0\" >nan</td> \n",
       "        <td id=\"T_a109f402_9b41_11e9_870d_000d3afd63d8row24_col1\" class=\"data row24 col1\" >nan</td> \n",
       "        <td id=\"T_a109f402_9b41_11e9_870d_000d3afd63d8row24_col2\" class=\"data row24 col2\" >28</td> \n",
       "        <td id=\"T_a109f402_9b41_11e9_870d_000d3afd63d8row24_col3\" class=\"data row24 col3\" >-0.0026</td> \n",
       "    </tr>    <tr> \n",
       "        <th id=\"T_a109f402_9b41_11e9_870d_000d3afd63d8level0_row25\" class=\"row_heading level0 row25\" >25</th> \n",
       "        <td id=\"T_a109f402_9b41_11e9_870d_000d3afd63d8row25_col0\" class=\"data row25 col0\" >nan</td> \n",
       "        <td id=\"T_a109f402_9b41_11e9_870d_000d3afd63d8row25_col1\" class=\"data row25 col1\" >nan</td> \n",
       "        <td id=\"T_a109f402_9b41_11e9_870d_000d3afd63d8row25_col2\" class=\"data row25 col2\" >45</td> \n",
       "        <td id=\"T_a109f402_9b41_11e9_870d_000d3afd63d8row25_col3\" class=\"data row25 col3\" >-0.0003</td> \n",
       "    </tr></tbody> \n",
       "</table> "
      ],
      "text/plain": [
       "<pandas.io.formats.style.Styler at 0x7f81c239b0b8>"
      ]
     },
     "execution_count": 284,
     "metadata": {},
     "output_type": "execute_result"
    }
   ],
   "source": [
    "# Overrepresented are cluster 8 by barplot\n",
    "top_pca_feat = map_cluster_to_feats(kmeans_model, cus_pca.iloc[:, :-1], 8)\n",
    "top_pca_feat.style.bar(align='mid')\n",
    "#pca component 3,2 has positive effect and component 0 has negative effect"
   ]
  },
  {
   "cell_type": "code",
   "execution_count": 285,
   "metadata": {},
   "outputs": [
    {
     "data": {
      "text/html": [
       "<style  type=\"text/css\" >\n",
       "    #T_ac51a5b2_9b41_11e9_870d_000d3afd63d8row0_col1 {\n",
       "            width:  10em;\n",
       "             height:  80%;\n",
       "            background:  linear-gradient(90deg, transparent 0%, transparent 0.0%, #d65f5f 0.0%, #d65f5f 100.0%, transparent 100.0%);\n",
       "        }    #T_ac51a5b2_9b41_11e9_870d_000d3afd63d8row0_col3 {\n",
       "            width:  10em;\n",
       "             height:  80%;\n",
       "            background:  linear-gradient(90deg, transparent 0%, transparent 0.0%, #d65f5f 0.0%, #d65f5f 100.0%, transparent 100.0%);\n",
       "        }    #T_ac51a5b2_9b41_11e9_870d_000d3afd63d8row1_col1 {\n",
       "            width:  10em;\n",
       "             height:  80%;\n",
       "            background:  linear-gradient(90deg, transparent 0%, transparent 0.0%, #d65f5f 0.0%, #d65f5f 16.3%, transparent 16.3%);\n",
       "        }    #T_ac51a5b2_9b41_11e9_870d_000d3afd63d8row1_col3 {\n",
       "            width:  10em;\n",
       "             height:  80%;\n",
       "            background:  linear-gradient(90deg, transparent 0%, transparent 10.3%, #d65f5f 10.3%, #d65f5f 100.0%, transparent 100.0%);\n",
       "        }    #T_ac51a5b2_9b41_11e9_870d_000d3afd63d8row2_col1 {\n",
       "            width:  10em;\n",
       "             height:  80%;\n",
       "            background:  linear-gradient(90deg, transparent 0%, transparent 0.0%, #d65f5f 0.0%, #d65f5f 12.5%, transparent 12.5%);\n",
       "        }    #T_ac51a5b2_9b41_11e9_870d_000d3afd63d8row2_col3 {\n",
       "            width:  10em;\n",
       "             height:  80%;\n",
       "            background:  linear-gradient(90deg, transparent 0%, transparent 84.0%, #d65f5f 84.0%, #d65f5f 100.0%, transparent 100.0%);\n",
       "        }    #T_ac51a5b2_9b41_11e9_870d_000d3afd63d8row3_col1 {\n",
       "            width:  10em;\n",
       "             height:  80%;\n",
       "            background:  linear-gradient(90deg, transparent 0%, transparent 0.0%, #d65f5f 0.0%, #d65f5f 8.4%, transparent 8.4%);\n",
       "        }    #T_ac51a5b2_9b41_11e9_870d_000d3afd63d8row3_col3 {\n",
       "            width:  10em;\n",
       "             height:  80%;\n",
       "            background:  linear-gradient(90deg, transparent 0%, transparent 87.1%, #d65f5f 87.1%, #d65f5f 100.0%, transparent 100.0%);\n",
       "        }    #T_ac51a5b2_9b41_11e9_870d_000d3afd63d8row4_col1 {\n",
       "            width:  10em;\n",
       "             height:  80%;\n",
       "            background:  linear-gradient(90deg, transparent 0%, transparent 0.0%, #d65f5f 0.0%, #d65f5f 7.7%, transparent 7.7%);\n",
       "        }    #T_ac51a5b2_9b41_11e9_870d_000d3afd63d8row4_col3 {\n",
       "            width:  10em;\n",
       "             height:  80%;\n",
       "            background:  linear-gradient(90deg, transparent 0%, transparent 87.5%, #d65f5f 87.5%, #d65f5f 100.0%, transparent 100.0%);\n",
       "        }    #T_ac51a5b2_9b41_11e9_870d_000d3afd63d8row5_col1 {\n",
       "            width:  10em;\n",
       "             height:  80%;\n",
       "            background:  linear-gradient(90deg, transparent 0%, transparent 0.0%, #d65f5f 0.0%, #d65f5f 7.6%, transparent 7.6%);\n",
       "        }    #T_ac51a5b2_9b41_11e9_870d_000d3afd63d8row5_col3 {\n",
       "            width:  10em;\n",
       "             height:  80%;\n",
       "            background:  linear-gradient(90deg, transparent 0%, transparent 88.2%, #d65f5f 88.2%, #d65f5f 100.0%, transparent 100.0%);\n",
       "        }    #T_ac51a5b2_9b41_11e9_870d_000d3afd63d8row6_col1 {\n",
       "            width:  10em;\n",
       "             height:  80%;\n",
       "            background:  linear-gradient(90deg, transparent 0%, transparent 0.0%, #d65f5f 0.0%, #d65f5f 6.3%, transparent 6.3%);\n",
       "        }    #T_ac51a5b2_9b41_11e9_870d_000d3afd63d8row6_col3 {\n",
       "            width:  10em;\n",
       "             height:  80%;\n",
       "            background:  linear-gradient(90deg, transparent 0%, transparent 89.3%, #d65f5f 89.3%, #d65f5f 100.0%, transparent 100.0%);\n",
       "        }    #T_ac51a5b2_9b41_11e9_870d_000d3afd63d8row7_col1 {\n",
       "            width:  10em;\n",
       "             height:  80%;\n",
       "            background:  linear-gradient(90deg, transparent 0%, transparent 0.0%, #d65f5f 0.0%, #d65f5f 4.3%, transparent 4.3%);\n",
       "        }    #T_ac51a5b2_9b41_11e9_870d_000d3afd63d8row7_col3 {\n",
       "            width:  10em;\n",
       "             height:  80%;\n",
       "            background:  linear-gradient(90deg, transparent 0%, transparent 90.8%, #d65f5f 90.8%, #d65f5f 100.0%, transparent 100.0%);\n",
       "        }    #T_ac51a5b2_9b41_11e9_870d_000d3afd63d8row8_col1 {\n",
       "            width:  10em;\n",
       "             height:  80%;\n",
       "            background:  linear-gradient(90deg, transparent 0%, transparent 0.0%, #d65f5f 0.0%, #d65f5f 3.6%, transparent 3.6%);\n",
       "        }    #T_ac51a5b2_9b41_11e9_870d_000d3afd63d8row8_col3 {\n",
       "            width:  10em;\n",
       "             height:  80%;\n",
       "            background:  linear-gradient(90deg, transparent 0%, transparent 91.5%, #d65f5f 91.5%, #d65f5f 100.0%, transparent 100.0%);\n",
       "        }    #T_ac51a5b2_9b41_11e9_870d_000d3afd63d8row9_col1 {\n",
       "            width:  10em;\n",
       "             height:  80%;\n",
       "            background:  linear-gradient(90deg, transparent 0%, transparent 0.0%, #d65f5f 0.0%, #d65f5f 2.3%, transparent 2.3%);\n",
       "        }    #T_ac51a5b2_9b41_11e9_870d_000d3afd63d8row9_col3 {\n",
       "            width:  10em;\n",
       "             height:  80%;\n",
       "            background:  linear-gradient(90deg, transparent 0%, transparent 93.0%, #d65f5f 93.0%, #d65f5f 100.0%, transparent 100.0%);\n",
       "        }    #T_ac51a5b2_9b41_11e9_870d_000d3afd63d8row10_col1 {\n",
       "            width:  10em;\n",
       "             height:  80%;\n",
       "            background:  linear-gradient(90deg, transparent 0%, transparent 0.0%, #d65f5f 0.0%, #d65f5f 1.8%, transparent 1.8%);\n",
       "        }    #T_ac51a5b2_9b41_11e9_870d_000d3afd63d8row10_col3 {\n",
       "            width:  10em;\n",
       "             height:  80%;\n",
       "            background:  linear-gradient(90deg, transparent 0%, transparent 94.2%, #d65f5f 94.2%, #d65f5f 100.0%, transparent 100.0%);\n",
       "        }    #T_ac51a5b2_9b41_11e9_870d_000d3afd63d8row11_col1 {\n",
       "            width:  10em;\n",
       "             height:  80%;\n",
       "            background:  linear-gradient(90deg, transparent 0%, transparent 0.0%, #d65f5f 0.0%, #d65f5f 1.7%, transparent 1.7%);\n",
       "        }    #T_ac51a5b2_9b41_11e9_870d_000d3afd63d8row11_col3 {\n",
       "            width:  10em;\n",
       "             height:  80%;\n",
       "            background:  linear-gradient(90deg, transparent 0%, transparent 94.2%, #d65f5f 94.2%, #d65f5f 100.0%, transparent 100.0%);\n",
       "        }    #T_ac51a5b2_9b41_11e9_870d_000d3afd63d8row12_col1 {\n",
       "            width:  10em;\n",
       "             height:  80%;\n",
       "            background:  linear-gradient(90deg, transparent 0%, transparent 0.0%, #d65f5f 0.0%, #d65f5f 1.3%, transparent 1.3%);\n",
       "        }    #T_ac51a5b2_9b41_11e9_870d_000d3afd63d8row12_col3 {\n",
       "            width:  10em;\n",
       "             height:  80%;\n",
       "            background:  linear-gradient(90deg, transparent 0%, transparent 94.2%, #d65f5f 94.2%, #d65f5f 100.0%, transparent 100.0%);\n",
       "        }    #T_ac51a5b2_9b41_11e9_870d_000d3afd63d8row13_col1 {\n",
       "            width:  10em;\n",
       "             height:  80%;\n",
       "            background:  linear-gradient(90deg, transparent 0%, transparent 0.0%, #d65f5f 0.0%, #d65f5f 1.2%, transparent 1.2%);\n",
       "        }    #T_ac51a5b2_9b41_11e9_870d_000d3afd63d8row13_col3 {\n",
       "            width:  10em;\n",
       "             height:  80%;\n",
       "            background:  linear-gradient(90deg, transparent 0%, transparent 96.0%, #d65f5f 96.0%, #d65f5f 100.0%, transparent 100.0%);\n",
       "        }    #T_ac51a5b2_9b41_11e9_870d_000d3afd63d8row14_col1 {\n",
       "            width:  10em;\n",
       "             height:  80%;\n",
       "            background:  linear-gradient(90deg, transparent 0%, transparent 0.0%, #d65f5f 0.0%, #d65f5f 1.0%, transparent 1.0%);\n",
       "        }    #T_ac51a5b2_9b41_11e9_870d_000d3afd63d8row14_col3 {\n",
       "            width:  10em;\n",
       "             height:  80%;\n",
       "            background:  linear-gradient(90deg, transparent 0%, transparent 96.1%, #d65f5f 96.1%, #d65f5f 100.0%, transparent 100.0%);\n",
       "        }    #T_ac51a5b2_9b41_11e9_870d_000d3afd63d8row15_col1 {\n",
       "            width:  10em;\n",
       "             height:  80%;\n",
       "            background:  linear-gradient(90deg, transparent 0%, transparent 0.0%, #d65f5f 0.0%, #d65f5f 0.9%, transparent 0.9%);\n",
       "        }    #T_ac51a5b2_9b41_11e9_870d_000d3afd63d8row15_col3 {\n",
       "            width:  10em;\n",
       "             height:  80%;\n",
       "            background:  linear-gradient(90deg, transparent 0%, transparent 97.4%, #d65f5f 97.4%, #d65f5f 100.0%, transparent 100.0%);\n",
       "        }    #T_ac51a5b2_9b41_11e9_870d_000d3afd63d8row16_col1 {\n",
       "            width:  10em;\n",
       "             height:  80%;\n",
       "            background:  linear-gradient(90deg, transparent 0%, transparent 0.0%, #d65f5f 0.0%, #d65f5f 0.9%, transparent 0.9%);\n",
       "        }    #T_ac51a5b2_9b41_11e9_870d_000d3afd63d8row16_col3 {\n",
       "            width:  10em;\n",
       "             height:  80%;\n",
       "            background:  linear-gradient(90deg, transparent 0%, transparent 97.7%, #d65f5f 97.7%, #d65f5f 100.0%, transparent 100.0%);\n",
       "        }    #T_ac51a5b2_9b41_11e9_870d_000d3afd63d8row17_col1 {\n",
       "            width:  10em;\n",
       "             height:  80%;\n",
       "            background:  linear-gradient(90deg, transparent 0%, transparent 0.0%, #d65f5f 0.0%, #d65f5f 0.7%, transparent 0.7%);\n",
       "        }    #T_ac51a5b2_9b41_11e9_870d_000d3afd63d8row17_col3 {\n",
       "            width:  10em;\n",
       "             height:  80%;\n",
       "            background:  linear-gradient(90deg, transparent 0%, transparent 97.7%, #d65f5f 97.7%, #d65f5f 100.0%, transparent 100.0%);\n",
       "        }    #T_ac51a5b2_9b41_11e9_870d_000d3afd63d8row18_col1 {\n",
       "            width:  10em;\n",
       "             height:  80%;\n",
       "            background:  linear-gradient(90deg, transparent 0%, transparent 0.0%, #d65f5f 0.0%, #d65f5f 0.7%, transparent 0.7%);\n",
       "        }    #T_ac51a5b2_9b41_11e9_870d_000d3afd63d8row18_col3 {\n",
       "            width:  10em;\n",
       "             height:  80%;\n",
       "            background:  linear-gradient(90deg, transparent 0%, transparent 98.0%, #d65f5f 98.0%, #d65f5f 100.0%, transparent 100.0%);\n",
       "        }    #T_ac51a5b2_9b41_11e9_870d_000d3afd63d8row19_col1 {\n",
       "            width:  10em;\n",
       "             height:  80%;\n",
       "            background:  linear-gradient(90deg, transparent 0%, transparent 0.0%, #d65f5f 0.0%, #d65f5f 0.4%, transparent 0.4%);\n",
       "        }    #T_ac51a5b2_9b41_11e9_870d_000d3afd63d8row19_col3 {\n",
       "            width:  10em;\n",
       "             height:  80%;\n",
       "            background:  linear-gradient(90deg, transparent 0%, transparent 98.0%, #d65f5f 98.0%, #d65f5f 100.0%, transparent 100.0%);\n",
       "        }    #T_ac51a5b2_9b41_11e9_870d_000d3afd63d8row20_col1 {\n",
       "            width:  10em;\n",
       "             height:  80%;\n",
       "            background:  linear-gradient(90deg, transparent 0%, transparent 0.0%, #d65f5f 0.0%, #d65f5f 0.3%, transparent 0.3%);\n",
       "        }    #T_ac51a5b2_9b41_11e9_870d_000d3afd63d8row20_col3 {\n",
       "            width:  10em;\n",
       "             height:  80%;\n",
       "            background:  linear-gradient(90deg, transparent 0%, transparent 98.1%, #d65f5f 98.1%, #d65f5f 100.0%, transparent 100.0%);\n",
       "        }    #T_ac51a5b2_9b41_11e9_870d_000d3afd63d8row21_col1 {\n",
       "            width:  10em;\n",
       "             height:  80%;\n",
       "            background:  linear-gradient(90deg, transparent 0%, transparent 0.0%, #d65f5f 0.0%, #d65f5f 0.3%, transparent 0.3%);\n",
       "        }    #T_ac51a5b2_9b41_11e9_870d_000d3afd63d8row21_col3 {\n",
       "            width:  10em;\n",
       "             height:  80%;\n",
       "            background:  linear-gradient(90deg, transparent 0%, transparent 98.2%, #d65f5f 98.2%, #d65f5f 100.0%, transparent 100.0%);\n",
       "        }    #T_ac51a5b2_9b41_11e9_870d_000d3afd63d8row22_col1 {\n",
       "            width:  10em;\n",
       "             height:  80%;\n",
       "            background:  linear-gradient(90deg, transparent 0%, transparent 0.0%, #d65f5f 0.0%, #d65f5f 0.1%, transparent 0.1%);\n",
       "        }    #T_ac51a5b2_9b41_11e9_870d_000d3afd63d8row22_col3 {\n",
       "            width:  10em;\n",
       "             height:  80%;\n",
       "            background:  linear-gradient(90deg, transparent 0%, transparent 98.4%, #d65f5f 98.4%, #d65f5f 100.0%, transparent 100.0%);\n",
       "        }    #T_ac51a5b2_9b41_11e9_870d_000d3afd63d8row23_col1 {\n",
       "            width:  10em;\n",
       "             height:  80%;\n",
       "            background:  linear-gradient(90deg, transparent 0%, transparent nan%, #d65f5f nan%, #d65f5f 0.0%, transparent 0.0%);\n",
       "        }    #T_ac51a5b2_9b41_11e9_870d_000d3afd63d8row23_col3 {\n",
       "            width:  10em;\n",
       "             height:  80%;\n",
       "            background:  linear-gradient(90deg, transparent 0%, transparent 98.9%, #d65f5f 98.9%, #d65f5f 100.0%, transparent 100.0%);\n",
       "        }    #T_ac51a5b2_9b41_11e9_870d_000d3afd63d8row24_col1 {\n",
       "            width:  10em;\n",
       "             height:  80%;\n",
       "            background:  linear-gradient(90deg, transparent 0%, transparent nan%, #d65f5f nan%, #d65f5f 0.0%, transparent 0.0%);\n",
       "        }    #T_ac51a5b2_9b41_11e9_870d_000d3afd63d8row24_col3 {\n",
       "            width:  10em;\n",
       "             height:  80%;\n",
       "            background:  linear-gradient(90deg, transparent 0%, transparent 99.0%, #d65f5f 99.0%, #d65f5f 100.0%, transparent 100.0%);\n",
       "        }    #T_ac51a5b2_9b41_11e9_870d_000d3afd63d8row25_col1 {\n",
       "            width:  10em;\n",
       "             height:  80%;\n",
       "            background:  linear-gradient(90deg, transparent 0%, transparent nan%, #d65f5f nan%, #d65f5f 0.0%, transparent 0.0%);\n",
       "        }    #T_ac51a5b2_9b41_11e9_870d_000d3afd63d8row25_col3 {\n",
       "            width:  10em;\n",
       "             height:  80%;\n",
       "            background:  linear-gradient(90deg, transparent 0%, transparent 99.5%, #d65f5f 99.5%, #d65f5f 100.0%, transparent 100.0%);\n",
       "        }    #T_ac51a5b2_9b41_11e9_870d_000d3afd63d8row26_col1 {\n",
       "            width:  10em;\n",
       "             height:  80%;\n",
       "            background:  linear-gradient(90deg, transparent 0%, transparent nan%, #d65f5f nan%, #d65f5f 0.0%, transparent 0.0%);\n",
       "        }    #T_ac51a5b2_9b41_11e9_870d_000d3afd63d8row26_col3 {\n",
       "            width:  10em;\n",
       "             height:  80%;\n",
       "            background:  linear-gradient(90deg, transparent 0%, transparent 99.5%, #d65f5f 99.5%, #d65f5f 100.0%, transparent 100.0%);\n",
       "        }</style>  \n",
       "<table id=\"T_ac51a5b2_9b41_11e9_870d_000d3afd63d8\" > \n",
       "<thead>    <tr> \n",
       "        <th class=\"blank level0\" ></th> \n",
       "        <th class=\"col_heading level0 col0\" >top_pos_col</th> \n",
       "        <th class=\"col_heading level0 col1\" >top_pos_col_weight</th> \n",
       "        <th class=\"col_heading level0 col2\" >top_neg_col</th> \n",
       "        <th class=\"col_heading level0 col3\" >top_neg_col_weight</th> \n",
       "    </tr></thead> \n",
       "<tbody>    <tr> \n",
       "        <th id=\"T_ac51a5b2_9b41_11e9_870d_000d3afd63d8level0_row0\" class=\"row_heading level0 row0\" >0</th> \n",
       "        <td id=\"T_ac51a5b2_9b41_11e9_870d_000d3afd63d8row0_col0\" class=\"data row0 col0\" >0.0</td> \n",
       "        <td id=\"T_ac51a5b2_9b41_11e9_870d_000d3afd63d8row0_col1\" class=\"data row0 col1\" >4.6621</td> \n",
       "        <td id=\"T_ac51a5b2_9b41_11e9_870d_000d3afd63d8row0_col2\" class=\"data row0 col2\" >2</td> \n",
       "        <td id=\"T_ac51a5b2_9b41_11e9_870d_000d3afd63d8row0_col3\" class=\"data row0 col3\" >-2.5346</td> \n",
       "    </tr>    <tr> \n",
       "        <th id=\"T_ac51a5b2_9b41_11e9_870d_000d3afd63d8level0_row1\" class=\"row_heading level0 row1\" >1</th> \n",
       "        <td id=\"T_ac51a5b2_9b41_11e9_870d_000d3afd63d8row1_col0\" class=\"data row1 col0\" >3.0</td> \n",
       "        <td id=\"T_ac51a5b2_9b41_11e9_870d_000d3afd63d8row1_col1\" class=\"data row1 col1\" >0.7582</td> \n",
       "        <td id=\"T_ac51a5b2_9b41_11e9_870d_000d3afd63d8row1_col2\" class=\"data row1 col2\" >1</td> \n",
       "        <td id=\"T_ac51a5b2_9b41_11e9_870d_000d3afd63d8row1_col3\" class=\"data row1 col3\" >-2.2726</td> \n",
       "    </tr>    <tr> \n",
       "        <th id=\"T_ac51a5b2_9b41_11e9_870d_000d3afd63d8level0_row2\" class=\"row_heading level0 row2\" >2</th> \n",
       "        <td id=\"T_ac51a5b2_9b41_11e9_870d_000d3afd63d8row2_col0\" class=\"data row2 col0\" >10.0</td> \n",
       "        <td id=\"T_ac51a5b2_9b41_11e9_870d_000d3afd63d8row2_col1\" class=\"data row2 col1\" >0.5817</td> \n",
       "        <td id=\"T_ac51a5b2_9b41_11e9_870d_000d3afd63d8row2_col2\" class=\"data row2 col2\" >24</td> \n",
       "        <td id=\"T_ac51a5b2_9b41_11e9_870d_000d3afd63d8row2_col3\" class=\"data row2 col3\" >-0.4044</td> \n",
       "    </tr>    <tr> \n",
       "        <th id=\"T_ac51a5b2_9b41_11e9_870d_000d3afd63d8level0_row3\" class=\"row_heading level0 row3\" >3</th> \n",
       "        <td id=\"T_ac51a5b2_9b41_11e9_870d_000d3afd63d8row3_col0\" class=\"data row3 col0\" >22.0</td> \n",
       "        <td id=\"T_ac51a5b2_9b41_11e9_870d_000d3afd63d8row3_col1\" class=\"data row3 col1\" >0.3903</td> \n",
       "        <td id=\"T_ac51a5b2_9b41_11e9_870d_000d3afd63d8row3_col2\" class=\"data row3 col2\" >26</td> \n",
       "        <td id=\"T_ac51a5b2_9b41_11e9_870d_000d3afd63d8row3_col3\" class=\"data row3 col3\" >-0.3274</td> \n",
       "    </tr>    <tr> \n",
       "        <th id=\"T_ac51a5b2_9b41_11e9_870d_000d3afd63d8level0_row4\" class=\"row_heading level0 row4\" >4</th> \n",
       "        <td id=\"T_ac51a5b2_9b41_11e9_870d_000d3afd63d8row4_col0\" class=\"data row4 col0\" >16.0</td> \n",
       "        <td id=\"T_ac51a5b2_9b41_11e9_870d_000d3afd63d8row4_col1\" class=\"data row4 col1\" >0.3607</td> \n",
       "        <td id=\"T_ac51a5b2_9b41_11e9_870d_000d3afd63d8row4_col2\" class=\"data row4 col2\" >6</td> \n",
       "        <td id=\"T_ac51a5b2_9b41_11e9_870d_000d3afd63d8row4_col3\" class=\"data row4 col3\" >-0.316</td> \n",
       "    </tr>    <tr> \n",
       "        <th id=\"T_ac51a5b2_9b41_11e9_870d_000d3afd63d8level0_row5\" class=\"row_heading level0 row5\" >5</th> \n",
       "        <td id=\"T_ac51a5b2_9b41_11e9_870d_000d3afd63d8row5_col0\" class=\"data row5 col0\" >7.0</td> \n",
       "        <td id=\"T_ac51a5b2_9b41_11e9_870d_000d3afd63d8row5_col1\" class=\"data row5 col1\" >0.3548</td> \n",
       "        <td id=\"T_ac51a5b2_9b41_11e9_870d_000d3afd63d8row5_col2\" class=\"data row5 col2\" >11</td> \n",
       "        <td id=\"T_ac51a5b2_9b41_11e9_870d_000d3afd63d8row5_col3\" class=\"data row5 col3\" >-0.2994</td> \n",
       "    </tr>    <tr> \n",
       "        <th id=\"T_ac51a5b2_9b41_11e9_870d_000d3afd63d8level0_row6\" class=\"row_heading level0 row6\" >6</th> \n",
       "        <td id=\"T_ac51a5b2_9b41_11e9_870d_000d3afd63d8row6_col0\" class=\"data row6 col0\" >8.0</td> \n",
       "        <td id=\"T_ac51a5b2_9b41_11e9_870d_000d3afd63d8row6_col1\" class=\"data row6 col1\" >0.2948</td> \n",
       "        <td id=\"T_ac51a5b2_9b41_11e9_870d_000d3afd63d8row6_col2\" class=\"data row6 col2\" >5</td> \n",
       "        <td id=\"T_ac51a5b2_9b41_11e9_870d_000d3afd63d8row6_col3\" class=\"data row6 col3\" >-0.2714</td> \n",
       "    </tr>    <tr> \n",
       "        <th id=\"T_ac51a5b2_9b41_11e9_870d_000d3afd63d8level0_row7\" class=\"row_heading level0 row7\" >7</th> \n",
       "        <td id=\"T_ac51a5b2_9b41_11e9_870d_000d3afd63d8row7_col0\" class=\"data row7 col0\" >23.0</td> \n",
       "        <td id=\"T_ac51a5b2_9b41_11e9_870d_000d3afd63d8row7_col1\" class=\"data row7 col1\" >0.2012</td> \n",
       "        <td id=\"T_ac51a5b2_9b41_11e9_870d_000d3afd63d8row7_col2\" class=\"data row7 col2\" >32</td> \n",
       "        <td id=\"T_ac51a5b2_9b41_11e9_870d_000d3afd63d8row7_col3\" class=\"data row7 col3\" >-0.2325</td> \n",
       "    </tr>    <tr> \n",
       "        <th id=\"T_ac51a5b2_9b41_11e9_870d_000d3afd63d8level0_row8\" class=\"row_heading level0 row8\" >8</th> \n",
       "        <td id=\"T_ac51a5b2_9b41_11e9_870d_000d3afd63d8row8_col0\" class=\"data row8 col0\" >39.0</td> \n",
       "        <td id=\"T_ac51a5b2_9b41_11e9_870d_000d3afd63d8row8_col1\" class=\"data row8 col1\" >0.1701</td> \n",
       "        <td id=\"T_ac51a5b2_9b41_11e9_870d_000d3afd63d8row8_col2\" class=\"data row8 col2\" >30</td> \n",
       "        <td id=\"T_ac51a5b2_9b41_11e9_870d_000d3afd63d8row8_col3\" class=\"data row8 col3\" >-0.2144</td> \n",
       "    </tr>    <tr> \n",
       "        <th id=\"T_ac51a5b2_9b41_11e9_870d_000d3afd63d8level0_row9\" class=\"row_heading level0 row9\" >9</th> \n",
       "        <td id=\"T_ac51a5b2_9b41_11e9_870d_000d3afd63d8row9_col0\" class=\"data row9 col0\" >28.0</td> \n",
       "        <td id=\"T_ac51a5b2_9b41_11e9_870d_000d3afd63d8row9_col1\" class=\"data row9 col1\" >0.109</td> \n",
       "        <td id=\"T_ac51a5b2_9b41_11e9_870d_000d3afd63d8row9_col2\" class=\"data row9 col2\" >40</td> \n",
       "        <td id=\"T_ac51a5b2_9b41_11e9_870d_000d3afd63d8row9_col3\" class=\"data row9 col3\" >-0.1773</td> \n",
       "    </tr>    <tr> \n",
       "        <th id=\"T_ac51a5b2_9b41_11e9_870d_000d3afd63d8level0_row10\" class=\"row_heading level0 row10\" >10</th> \n",
       "        <td id=\"T_ac51a5b2_9b41_11e9_870d_000d3afd63d8row10_col0\" class=\"data row10 col0\" >20.0</td> \n",
       "        <td id=\"T_ac51a5b2_9b41_11e9_870d_000d3afd63d8row10_col1\" class=\"data row10 col1\" >0.085</td> \n",
       "        <td id=\"T_ac51a5b2_9b41_11e9_870d_000d3afd63d8row10_col2\" class=\"data row10 col2\" >21</td> \n",
       "        <td id=\"T_ac51a5b2_9b41_11e9_870d_000d3afd63d8row10_col3\" class=\"data row10 col3\" >-0.1479</td> \n",
       "    </tr>    <tr> \n",
       "        <th id=\"T_ac51a5b2_9b41_11e9_870d_000d3afd63d8level0_row11\" class=\"row_heading level0 row11\" >11</th> \n",
       "        <td id=\"T_ac51a5b2_9b41_11e9_870d_000d3afd63d8row11_col0\" class=\"data row11 col0\" >42.0</td> \n",
       "        <td id=\"T_ac51a5b2_9b41_11e9_870d_000d3afd63d8row11_col1\" class=\"data row11 col1\" >0.0791</td> \n",
       "        <td id=\"T_ac51a5b2_9b41_11e9_870d_000d3afd63d8row11_col2\" class=\"data row11 col2\" >25</td> \n",
       "        <td id=\"T_ac51a5b2_9b41_11e9_870d_000d3afd63d8row11_col3\" class=\"data row11 col3\" >-0.1469</td> \n",
       "    </tr>    <tr> \n",
       "        <th id=\"T_ac51a5b2_9b41_11e9_870d_000d3afd63d8level0_row12\" class=\"row_heading level0 row12\" >12</th> \n",
       "        <td id=\"T_ac51a5b2_9b41_11e9_870d_000d3afd63d8row12_col0\" class=\"data row12 col0\" >13.0</td> \n",
       "        <td id=\"T_ac51a5b2_9b41_11e9_870d_000d3afd63d8row12_col1\" class=\"data row12 col1\" >0.0599</td> \n",
       "        <td id=\"T_ac51a5b2_9b41_11e9_870d_000d3afd63d8row12_col2\" class=\"data row12 col2\" >4</td> \n",
       "        <td id=\"T_ac51a5b2_9b41_11e9_870d_000d3afd63d8row12_col3\" class=\"data row12 col3\" >-0.1469</td> \n",
       "    </tr>    <tr> \n",
       "        <th id=\"T_ac51a5b2_9b41_11e9_870d_000d3afd63d8level0_row13\" class=\"row_heading level0 row13\" >13</th> \n",
       "        <td id=\"T_ac51a5b2_9b41_11e9_870d_000d3afd63d8row13_col0\" class=\"data row13 col0\" >12.0</td> \n",
       "        <td id=\"T_ac51a5b2_9b41_11e9_870d_000d3afd63d8row13_col1\" class=\"data row13 col1\" >0.0574</td> \n",
       "        <td id=\"T_ac51a5b2_9b41_11e9_870d_000d3afd63d8row13_col2\" class=\"data row13 col2\" >15</td> \n",
       "        <td id=\"T_ac51a5b2_9b41_11e9_870d_000d3afd63d8row13_col3\" class=\"data row13 col3\" >-0.1021</td> \n",
       "    </tr>    <tr> \n",
       "        <th id=\"T_ac51a5b2_9b41_11e9_870d_000d3afd63d8level0_row14\" class=\"row_heading level0 row14\" >14</th> \n",
       "        <td id=\"T_ac51a5b2_9b41_11e9_870d_000d3afd63d8row14_col0\" class=\"data row14 col0\" >31.0</td> \n",
       "        <td id=\"T_ac51a5b2_9b41_11e9_870d_000d3afd63d8row14_col1\" class=\"data row14 col1\" >0.0486</td> \n",
       "        <td id=\"T_ac51a5b2_9b41_11e9_870d_000d3afd63d8row14_col2\" class=\"data row14 col2\" >37</td> \n",
       "        <td id=\"T_ac51a5b2_9b41_11e9_870d_000d3afd63d8row14_col3\" class=\"data row14 col3\" >-0.0996</td> \n",
       "    </tr>    <tr> \n",
       "        <th id=\"T_ac51a5b2_9b41_11e9_870d_000d3afd63d8level0_row15\" class=\"row_heading level0 row15\" >15</th> \n",
       "        <td id=\"T_ac51a5b2_9b41_11e9_870d_000d3afd63d8row15_col0\" class=\"data row15 col0\" >33.0</td> \n",
       "        <td id=\"T_ac51a5b2_9b41_11e9_870d_000d3afd63d8row15_col1\" class=\"data row15 col1\" >0.0427</td> \n",
       "        <td id=\"T_ac51a5b2_9b41_11e9_870d_000d3afd63d8row15_col2\" class=\"data row15 col2\" >29</td> \n",
       "        <td id=\"T_ac51a5b2_9b41_11e9_870d_000d3afd63d8row15_col3\" class=\"data row15 col3\" >-0.0656</td> \n",
       "    </tr>    <tr> \n",
       "        <th id=\"T_ac51a5b2_9b41_11e9_870d_000d3afd63d8level0_row16\" class=\"row_heading level0 row16\" >16</th> \n",
       "        <td id=\"T_ac51a5b2_9b41_11e9_870d_000d3afd63d8row16_col0\" class=\"data row16 col0\" >41.0</td> \n",
       "        <td id=\"T_ac51a5b2_9b41_11e9_870d_000d3afd63d8row16_col1\" class=\"data row16 col1\" >0.0414</td> \n",
       "        <td id=\"T_ac51a5b2_9b41_11e9_870d_000d3afd63d8row16_col2\" class=\"data row16 col2\" >9</td> \n",
       "        <td id=\"T_ac51a5b2_9b41_11e9_870d_000d3afd63d8row16_col3\" class=\"data row16 col3\" >-0.0585</td> \n",
       "    </tr>    <tr> \n",
       "        <th id=\"T_ac51a5b2_9b41_11e9_870d_000d3afd63d8level0_row17\" class=\"row_heading level0 row17\" >17</th> \n",
       "        <td id=\"T_ac51a5b2_9b41_11e9_870d_000d3afd63d8row17_col0\" class=\"data row17 col0\" >43.0</td> \n",
       "        <td id=\"T_ac51a5b2_9b41_11e9_870d_000d3afd63d8row17_col1\" class=\"data row17 col1\" >0.0336</td> \n",
       "        <td id=\"T_ac51a5b2_9b41_11e9_870d_000d3afd63d8row17_col2\" class=\"data row17 col2\" >38</td> \n",
       "        <td id=\"T_ac51a5b2_9b41_11e9_870d_000d3afd63d8row17_col3\" class=\"data row17 col3\" >-0.0583</td> \n",
       "    </tr>    <tr> \n",
       "        <th id=\"T_ac51a5b2_9b41_11e9_870d_000d3afd63d8level0_row18\" class=\"row_heading level0 row18\" >18</th> \n",
       "        <td id=\"T_ac51a5b2_9b41_11e9_870d_000d3afd63d8row18_col0\" class=\"data row18 col0\" >36.0</td> \n",
       "        <td id=\"T_ac51a5b2_9b41_11e9_870d_000d3afd63d8row18_col1\" class=\"data row18 col1\" >0.033</td> \n",
       "        <td id=\"T_ac51a5b2_9b41_11e9_870d_000d3afd63d8row18_col2\" class=\"data row18 col2\" >35</td> \n",
       "        <td id=\"T_ac51a5b2_9b41_11e9_870d_000d3afd63d8row18_col3\" class=\"data row18 col3\" >-0.051</td> \n",
       "    </tr>    <tr> \n",
       "        <th id=\"T_ac51a5b2_9b41_11e9_870d_000d3afd63d8level0_row19\" class=\"row_heading level0 row19\" >19</th> \n",
       "        <td id=\"T_ac51a5b2_9b41_11e9_870d_000d3afd63d8row19_col0\" class=\"data row19 col0\" >34.0</td> \n",
       "        <td id=\"T_ac51a5b2_9b41_11e9_870d_000d3afd63d8row19_col1\" class=\"data row19 col1\" >0.0177</td> \n",
       "        <td id=\"T_ac51a5b2_9b41_11e9_870d_000d3afd63d8row19_col2\" class=\"data row19 col2\" >48</td> \n",
       "        <td id=\"T_ac51a5b2_9b41_11e9_870d_000d3afd63d8row19_col3\" class=\"data row19 col3\" >-0.0497</td> \n",
       "    </tr>    <tr> \n",
       "        <th id=\"T_ac51a5b2_9b41_11e9_870d_000d3afd63d8level0_row20\" class=\"row_heading level0 row20\" >20</th> \n",
       "        <td id=\"T_ac51a5b2_9b41_11e9_870d_000d3afd63d8row20_col0\" class=\"data row20 col0\" >19.0</td> \n",
       "        <td id=\"T_ac51a5b2_9b41_11e9_870d_000d3afd63d8row20_col1\" class=\"data row20 col1\" >0.0158</td> \n",
       "        <td id=\"T_ac51a5b2_9b41_11e9_870d_000d3afd63d8row20_col2\" class=\"data row20 col2\" >47</td> \n",
       "        <td id=\"T_ac51a5b2_9b41_11e9_870d_000d3afd63d8row20_col3\" class=\"data row20 col3\" >-0.0491</td> \n",
       "    </tr>    <tr> \n",
       "        <th id=\"T_ac51a5b2_9b41_11e9_870d_000d3afd63d8level0_row21\" class=\"row_heading level0 row21\" >21</th> \n",
       "        <td id=\"T_ac51a5b2_9b41_11e9_870d_000d3afd63d8row21_col0\" class=\"data row21 col0\" >44.0</td> \n",
       "        <td id=\"T_ac51a5b2_9b41_11e9_870d_000d3afd63d8row21_col1\" class=\"data row21 col1\" >0.0118</td> \n",
       "        <td id=\"T_ac51a5b2_9b41_11e9_870d_000d3afd63d8row21_col2\" class=\"data row21 col2\" >27</td> \n",
       "        <td id=\"T_ac51a5b2_9b41_11e9_870d_000d3afd63d8row21_col3\" class=\"data row21 col3\" >-0.0464</td> \n",
       "    </tr>    <tr> \n",
       "        <th id=\"T_ac51a5b2_9b41_11e9_870d_000d3afd63d8level0_row22\" class=\"row_heading level0 row22\" >22</th> \n",
       "        <td id=\"T_ac51a5b2_9b41_11e9_870d_000d3afd63d8row22_col0\" class=\"data row22 col0\" >45.0</td> \n",
       "        <td id=\"T_ac51a5b2_9b41_11e9_870d_000d3afd63d8row22_col1\" class=\"data row22 col1\" >0.0065</td> \n",
       "        <td id=\"T_ac51a5b2_9b41_11e9_870d_000d3afd63d8row22_col2\" class=\"data row22 col2\" >46</td> \n",
       "        <td id=\"T_ac51a5b2_9b41_11e9_870d_000d3afd63d8row22_col3\" class=\"data row22 col3\" >-0.0393</td> \n",
       "    </tr>    <tr> \n",
       "        <th id=\"T_ac51a5b2_9b41_11e9_870d_000d3afd63d8level0_row23\" class=\"row_heading level0 row23\" >23</th> \n",
       "        <td id=\"T_ac51a5b2_9b41_11e9_870d_000d3afd63d8row23_col0\" class=\"data row23 col0\" >nan</td> \n",
       "        <td id=\"T_ac51a5b2_9b41_11e9_870d_000d3afd63d8row23_col1\" class=\"data row23 col1\" >nan</td> \n",
       "        <td id=\"T_ac51a5b2_9b41_11e9_870d_000d3afd63d8row23_col2\" class=\"data row23 col2\" >14</td> \n",
       "        <td id=\"T_ac51a5b2_9b41_11e9_870d_000d3afd63d8row23_col3\" class=\"data row23 col3\" >-0.0283</td> \n",
       "    </tr>    <tr> \n",
       "        <th id=\"T_ac51a5b2_9b41_11e9_870d_000d3afd63d8level0_row24\" class=\"row_heading level0 row24\" >24</th> \n",
       "        <td id=\"T_ac51a5b2_9b41_11e9_870d_000d3afd63d8row24_col0\" class=\"data row24 col0\" >nan</td> \n",
       "        <td id=\"T_ac51a5b2_9b41_11e9_870d_000d3afd63d8row24_col1\" class=\"data row24 col1\" >nan</td> \n",
       "        <td id=\"T_ac51a5b2_9b41_11e9_870d_000d3afd63d8row24_col2\" class=\"data row24 col2\" >18</td> \n",
       "        <td id=\"T_ac51a5b2_9b41_11e9_870d_000d3afd63d8row24_col3\" class=\"data row24 col3\" >-0.0259</td> \n",
       "    </tr>    <tr> \n",
       "        <th id=\"T_ac51a5b2_9b41_11e9_870d_000d3afd63d8level0_row25\" class=\"row_heading level0 row25\" >25</th> \n",
       "        <td id=\"T_ac51a5b2_9b41_11e9_870d_000d3afd63d8row25_col0\" class=\"data row25 col0\" >nan</td> \n",
       "        <td id=\"T_ac51a5b2_9b41_11e9_870d_000d3afd63d8row25_col1\" class=\"data row25 col1\" >nan</td> \n",
       "        <td id=\"T_ac51a5b2_9b41_11e9_870d_000d3afd63d8row25_col2\" class=\"data row25 col2\" >17</td> \n",
       "        <td id=\"T_ac51a5b2_9b41_11e9_870d_000d3afd63d8row25_col3\" class=\"data row25 col3\" >-0.0137</td> \n",
       "    </tr>    <tr> \n",
       "        <th id=\"T_ac51a5b2_9b41_11e9_870d_000d3afd63d8level0_row26\" class=\"row_heading level0 row26\" >26</th> \n",
       "        <td id=\"T_ac51a5b2_9b41_11e9_870d_000d3afd63d8row26_col0\" class=\"data row26 col0\" >nan</td> \n",
       "        <td id=\"T_ac51a5b2_9b41_11e9_870d_000d3afd63d8row26_col1\" class=\"data row26 col1\" >nan</td> \n",
       "        <td id=\"T_ac51a5b2_9b41_11e9_870d_000d3afd63d8row26_col2\" class=\"data row26 col2\" >49</td> \n",
       "        <td id=\"T_ac51a5b2_9b41_11e9_870d_000d3afd63d8row26_col3\" class=\"data row26 col3\" >-0.0122</td> \n",
       "    </tr></tbody> \n",
       "</table> "
      ],
      "text/plain": [
       "<pandas.io.formats.style.Styler at 0x7f81ba5bf748>"
      ]
     },
     "execution_count": 285,
     "metadata": {},
     "output_type": "execute_result"
    }
   ],
   "source": [
    "# What kinds of people are part of a cluster that is underrepresented in the\n",
    "# customer data compared to the general population?\n",
    "# cluster 3 are most underrepresented\n",
    "top_pca_feat_under = map_cluster_to_feats(kmeans_model, cus_pca.iloc[:, :-1], 4)\n",
    "top_pca_feat_under.style.bar(align='mid')\n",
    "# component 0 has positive effect and 2,1 have negative effect"
   ]
  },
  {
   "cell_type": "code",
   "execution_count": null,
   "metadata": {},
   "outputs": [],
   "source": [
    "# add cluster comfirm visual here"
   ]
  },
  {
   "cell_type": "markdown",
   "metadata": {},
   "source": [
    "### Discussion 3.3: Compare Customer Data to Demographics Data\n",
    "\n",
    "(Double-click this cell and replace this text with your own text, reporting findings and conclusions from the clustering analysis. Can we describe segments of the population that are relatively popular with the mail-order company, or relatively unpopular with the company?)\n",
    "\n",
    "1. popular segements\n",
    "First component has the greatest negative influence,which means that someone that ,is low movement(MOBI_REGIO) ,live in less dense area(PLZ8_ANTG3,PLZ8_ANTG4) with a lot small family houses(PLZ8_ANTG1,KBA05_ANTG1),in good finanical conditions are target users.\n",
    "\n",
    "1. unpopular segements\n",
    "First component has the greatest positive influence which means the opposite feature mentioned in popular segements are unpopular segements.The Third component has the greatest negative effect,which means people who are female, very dreamful are less likely to be target customer."
   ]
  },
  {
   "cell_type": "markdown",
   "metadata": {},
   "source": [
    "> Congratulations on making it this far in the project! Before you finish, make sure to check through the entire notebook from top to bottom to make sure that your analysis follows a logical flow and all of your findings are documented in **Discussion** cells. Once you've checked over all of your work, you should export the notebook as an HTML document to submit for evaluation. You can do this from the menu, navigating to **File -> Download as -> HTML (.html)**. You will submit both that document and this notebook for your project submission."
   ]
  },
  {
   "cell_type": "code",
   "execution_count": null,
   "metadata": {},
   "outputs": [],
   "source": []
  }
 ],
 "metadata": {
  "kernelspec": {
   "display_name": "Python 3",
   "language": "python",
   "name": "python3"
  },
  "language_info": {
   "codemirror_mode": {
    "name": "ipython",
    "version": 3
   },
   "file_extension": ".py",
   "mimetype": "text/x-python",
   "name": "python",
   "nbconvert_exporter": "python",
   "pygments_lexer": "ipython3",
   "version": "3.6.5"
  }
 },
 "nbformat": 4,
 "nbformat_minor": 2
}
