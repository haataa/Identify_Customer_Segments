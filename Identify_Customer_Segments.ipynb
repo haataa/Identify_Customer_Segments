{
 "cells": [
  {
   "cell_type": "markdown",
   "metadata": {},
   "source": [
    "# Project: Identify Customer Segments\n",
    "\n",
    "In this project, you will apply unsupervised learning techniques to identify segments of the population that form the core customer base for a mail-order sales company in Germany. These segments can then be used to direct marketing campaigns towards audiences that will have the highest expected rate of returns. The data that you will use has been provided by our partners at Bertelsmann Arvato Analytics, and represents a real-life data science task.\n",
    "\n",
    "This notebook will help you complete this task by providing a framework within which you will perform your analysis steps. In each step of the project, you will see some text describing the subtask that you will perform, followed by one or more code cells for you to complete your work. **Feel free to add additional code and markdown cells as you go along so that you can explore everything in precise chunks.** The code cells provided in the base template will outline only the major tasks, and will usually not be enough to cover all of the minor tasks that comprise it.\n",
    "\n",
    "It should be noted that while there will be precise guidelines on how you should handle certain tasks in the project, there will also be places where an exact specification is not provided. **There will be times in the project where you will need to make and justify your own decisions on how to treat the data.** These are places where there may not be only one way to handle the data. In real-life tasks, there may be many valid ways to approach an analysis task. One of the most important things you can do is clearly document your approach so that other scientists can understand the decisions you've made.\n",
    "\n",
    "At the end of most sections, there will be a Markdown cell labeled **Discussion**. In these cells, you will report your findings for the completed section, as well as document the decisions that you made in your approach to each subtask. **Your project will be evaluated not just on the code used to complete the tasks outlined, but also your communication about your observations and conclusions at each stage.**"
   ]
  },
  {
   "cell_type": "code",
   "execution_count": 1,
   "metadata": {},
   "outputs": [],
   "source": [
    "# import libraries here; add more as necessary\n",
    "import numpy as np\n",
    "import pandas as pd\n",
    "import matplotlib.pyplot as plt\n",
    "import seaborn as sns\n",
    "import ast\n",
    "from sklearn.preprocessing import Imputer\n",
    "from sklearn.preprocessing import StandardScaler\n",
    "from sklearn.decomposition import PCA\n",
    "from sklearn.cluster import KMeans\n",
    "from scipy.stats import itemfreq, chisquare\n",
    "# magic word for producing visualizations in notebook\n",
    "%matplotlib inline"
   ]
  },
  {
   "cell_type": "markdown",
   "metadata": {},
   "source": [
    "### Step 0: Load the Data\n",
    "\n",
    "There are four files associated with this project (not including this one):\n",
    "\n",
    "- `Udacity_AZDIAS_Subset.csv`: Demographics data for the general population of Germany; 891211 persons (rows) x 85 features (columns).\n",
    "- `Udacity_CUSTOMERS_Subset.csv`: Demographics data for customers of a mail-order company; 191652 persons (rows) x 85 features (columns).\n",
    "- `Data_Dictionary.md`: Detailed information file about the features in the provided datasets.\n",
    "- `AZDIAS_Feature_Summary.csv`: Summary of feature attributes for demographics data; 85 features (rows) x 4 columns\n",
    "\n",
    "Each row of the demographics files represents a single person, but also includes information outside of individuals, including information about their household, building, and neighborhood. You will use this information to cluster the general population into groups with similar demographic properties. Then, you will see how the people in the customers dataset fit into those created clusters. The hope here is that certain clusters are over-represented in the customers data, as compared to the general population; those over-represented clusters will be assumed to be part of the core userbase. This information can then be used for further applications, such as targeting for a marketing campaign.\n",
    "\n",
    "To start off with, load in the demographics data for the general population into a pandas DataFrame, and do the same for the feature attributes summary. Note for all of the `.csv` data files in this project: they're semicolon (`;`) delimited, so you'll need an additional argument in your [`read_csv()`](https://pandas.pydata.org/pandas-docs/stable/generated/pandas.read_csv.html) call to read in the data properly. Also, considering the size of the main dataset, it may take some time for it to load completely.\n",
    "\n",
    "Once the dataset is loaded, it's recommended that you take a little bit of time just browsing the general structure of the dataset and feature summary file. You'll be getting deep into the innards of the cleaning in the first major step of the project, so gaining some general familiarity can help you get your bearings."
   ]
  },
  {
   "cell_type": "code",
   "execution_count": 2,
   "metadata": {},
   "outputs": [],
   "source": [
    "# Load in the general demographics data.\n",
    "azdias = pd.read_csv('Udacity_AZDIAS_Subset.csv', sep=';') \n",
    "\n",
    "# Load in the feature summary file.\n",
    "feat_info = pd.read_csv('AZDIAS_Feature_Summary.csv', sep=';') "
   ]
  },
  {
   "cell_type": "code",
   "execution_count": 3,
   "metadata": {},
   "outputs": [
    {
     "name": "stdout",
     "output_type": "stream",
     "text": [
      "(891221, 85)\n",
      "<class 'pandas.core.frame.DataFrame'>\n",
      "RangeIndex: 891221 entries, 0 to 891220\n",
      "Data columns (total 85 columns):\n",
      "AGER_TYP                 891221 non-null int64\n",
      "ALTERSKATEGORIE_GROB     891221 non-null int64\n",
      "ANREDE_KZ                891221 non-null int64\n",
      "CJT_GESAMTTYP            886367 non-null float64\n",
      "FINANZ_MINIMALIST        891221 non-null int64\n",
      "FINANZ_SPARER            891221 non-null int64\n",
      "FINANZ_VORSORGER         891221 non-null int64\n",
      "FINANZ_ANLEGER           891221 non-null int64\n",
      "FINANZ_UNAUFFAELLIGER    891221 non-null int64\n",
      "FINANZ_HAUSBAUER         891221 non-null int64\n",
      "FINANZTYP                891221 non-null int64\n",
      "GEBURTSJAHR              891221 non-null int64\n",
      "GFK_URLAUBERTYP          886367 non-null float64\n",
      "GREEN_AVANTGARDE         891221 non-null int64\n",
      "HEALTH_TYP               891221 non-null int64\n",
      "LP_LEBENSPHASE_FEIN      886367 non-null float64\n",
      "LP_LEBENSPHASE_GROB      886367 non-null float64\n",
      "LP_FAMILIE_FEIN          886367 non-null float64\n",
      "LP_FAMILIE_GROB          886367 non-null float64\n",
      "LP_STATUS_FEIN           886367 non-null float64\n",
      "LP_STATUS_GROB           886367 non-null float64\n",
      "NATIONALITAET_KZ         891221 non-null int64\n",
      "PRAEGENDE_JUGENDJAHRE    891221 non-null int64\n",
      "RETOURTYP_BK_S           886367 non-null float64\n",
      "SEMIO_SOZ                891221 non-null int64\n",
      "SEMIO_FAM                891221 non-null int64\n",
      "SEMIO_REL                891221 non-null int64\n",
      "SEMIO_MAT                891221 non-null int64\n",
      "SEMIO_VERT               891221 non-null int64\n",
      "SEMIO_LUST               891221 non-null int64\n",
      "SEMIO_ERL                891221 non-null int64\n",
      "SEMIO_KULT               891221 non-null int64\n",
      "SEMIO_RAT                891221 non-null int64\n",
      "SEMIO_KRIT               891221 non-null int64\n",
      "SEMIO_DOM                891221 non-null int64\n",
      "SEMIO_KAEM               891221 non-null int64\n",
      "SEMIO_PFLICHT            891221 non-null int64\n",
      "SEMIO_TRADV              891221 non-null int64\n",
      "SHOPPER_TYP              891221 non-null int64\n",
      "SOHO_KZ                  817722 non-null float64\n",
      "TITEL_KZ                 817722 non-null float64\n",
      "VERS_TYP                 891221 non-null int64\n",
      "ZABEOTYP                 891221 non-null int64\n",
      "ALTER_HH                 817722 non-null float64\n",
      "ANZ_PERSONEN             817722 non-null float64\n",
      "ANZ_TITEL                817722 non-null float64\n",
      "HH_EINKOMMEN_SCORE       872873 non-null float64\n",
      "KK_KUNDENTYP             306609 non-null float64\n",
      "W_KEIT_KIND_HH           783619 non-null float64\n",
      "WOHNDAUER_2008           817722 non-null float64\n",
      "ANZ_HAUSHALTE_AKTIV      798073 non-null float64\n",
      "ANZ_HH_TITEL             794213 non-null float64\n",
      "GEBAEUDETYP              798073 non-null float64\n",
      "KONSUMNAEHE              817252 non-null float64\n",
      "MIN_GEBAEUDEJAHR         798073 non-null float64\n",
      "OST_WEST_KZ              798073 non-null object\n",
      "WOHNLAGE                 798073 non-null float64\n",
      "CAMEO_DEUG_2015          792242 non-null object\n",
      "CAMEO_DEU_2015           792242 non-null object\n",
      "CAMEO_INTL_2015          792242 non-null object\n",
      "KBA05_ANTG1              757897 non-null float64\n",
      "KBA05_ANTG2              757897 non-null float64\n",
      "KBA05_ANTG3              757897 non-null float64\n",
      "KBA05_ANTG4              757897 non-null float64\n",
      "KBA05_BAUMAX             757897 non-null float64\n",
      "KBA05_GBZ                757897 non-null float64\n",
      "BALLRAUM                 797481 non-null float64\n",
      "EWDICHTE                 797481 non-null float64\n",
      "INNENSTADT               797481 non-null float64\n",
      "GEBAEUDETYP_RASTER       798066 non-null float64\n",
      "KKK                      770025 non-null float64\n",
      "MOBI_REGIO               757897 non-null float64\n",
      "ONLINE_AFFINITAET        886367 non-null float64\n",
      "REGIOTYP                 770025 non-null float64\n",
      "KBA13_ANZAHL_PKW         785421 non-null float64\n",
      "PLZ8_ANTG1               774706 non-null float64\n",
      "PLZ8_ANTG2               774706 non-null float64\n",
      "PLZ8_ANTG3               774706 non-null float64\n",
      "PLZ8_ANTG4               774706 non-null float64\n",
      "PLZ8_BAUMAX              774706 non-null float64\n",
      "PLZ8_HHZ                 774706 non-null float64\n",
      "PLZ8_GBZ                 774706 non-null float64\n",
      "ARBEIT                   794005 non-null float64\n",
      "ORTSGR_KLS9              794005 non-null float64\n",
      "RELAT_AB                 794005 non-null float64\n",
      "dtypes: float64(49), int64(32), object(4)\n",
      "memory usage: 578.0+ MB\n",
      "None\n"
     ]
    }
   ],
   "source": [
    "# Check the structure of the data after it's loaded (e.g. print the number of\n",
    "# rows and columns, print the first few rows).\n",
    "# azdias data has shape (891221, 85)\n",
    "print(azdias.shape)\n",
    "print(azdias.info())"
   ]
  },
  {
   "cell_type": "code",
   "execution_count": 4,
   "metadata": {},
   "outputs": [
    {
     "name": "stdout",
     "output_type": "stream",
     "text": [
      "   AGER_TYP  ALTERSKATEGORIE_GROB  ANREDE_KZ  CJT_GESAMTTYP  \\\n",
      "0        -1                     2          1            2.0   \n",
      "1        -1                     1          2            5.0   \n",
      "\n",
      "   FINANZ_MINIMALIST  FINANZ_SPARER  FINANZ_VORSORGER  FINANZ_ANLEGER  \\\n",
      "0                  3              4                 3               5   \n",
      "1                  1              5                 2               5   \n",
      "\n",
      "   FINANZ_UNAUFFAELLIGER  FINANZ_HAUSBAUER    ...     PLZ8_ANTG1  PLZ8_ANTG2  \\\n",
      "0                      5                 3    ...            NaN         NaN   \n",
      "1                      4                 5    ...            2.0         3.0   \n",
      "\n",
      "   PLZ8_ANTG3  PLZ8_ANTG4  PLZ8_BAUMAX  PLZ8_HHZ  PLZ8_GBZ  ARBEIT  \\\n",
      "0         NaN         NaN          NaN       NaN       NaN     NaN   \n",
      "1         2.0         1.0          1.0       5.0       4.0     3.0   \n",
      "\n",
      "   ORTSGR_KLS9  RELAT_AB  \n",
      "0          NaN       NaN  \n",
      "1          5.0       4.0  \n",
      "\n",
      "[2 rows x 85 columns]\n"
     ]
    }
   ],
   "source": [
    "# check first two rows\n",
    "print(azdias.head(2))"
   ]
  },
  {
   "cell_type": "code",
   "execution_count": 5,
   "metadata": {},
   "outputs": [
    {
     "name": "stdout",
     "output_type": "stream",
     "text": [
      "AGER_TYP                      0\n",
      "ALTERSKATEGORIE_GROB          0\n",
      "ANREDE_KZ                     0\n",
      "CJT_GESAMTTYP              4854\n",
      "FINANZ_MINIMALIST             0\n",
      "FINANZ_SPARER                 0\n",
      "FINANZ_VORSORGER              0\n",
      "FINANZ_ANLEGER                0\n",
      "FINANZ_UNAUFFAELLIGER         0\n",
      "FINANZ_HAUSBAUER              0\n",
      "FINANZTYP                     0\n",
      "GEBURTSJAHR                   0\n",
      "GFK_URLAUBERTYP            4854\n",
      "GREEN_AVANTGARDE              0\n",
      "HEALTH_TYP                    0\n",
      "LP_LEBENSPHASE_FEIN        4854\n",
      "LP_LEBENSPHASE_GROB        4854\n",
      "LP_FAMILIE_FEIN            4854\n",
      "LP_FAMILIE_GROB            4854\n",
      "LP_STATUS_FEIN             4854\n",
      "LP_STATUS_GROB             4854\n",
      "NATIONALITAET_KZ              0\n",
      "PRAEGENDE_JUGENDJAHRE         0\n",
      "RETOURTYP_BK_S             4854\n",
      "SEMIO_SOZ                     0\n",
      "SEMIO_FAM                     0\n",
      "SEMIO_REL                     0\n",
      "SEMIO_MAT                     0\n",
      "SEMIO_VERT                    0\n",
      "SEMIO_LUST                    0\n",
      "                          ...  \n",
      "OST_WEST_KZ               93148\n",
      "WOHNLAGE                  93148\n",
      "CAMEO_DEUG_2015           98979\n",
      "CAMEO_DEU_2015            98979\n",
      "CAMEO_INTL_2015           98979\n",
      "KBA05_ANTG1              133324\n",
      "KBA05_ANTG2              133324\n",
      "KBA05_ANTG3              133324\n",
      "KBA05_ANTG4              133324\n",
      "KBA05_BAUMAX             133324\n",
      "KBA05_GBZ                133324\n",
      "BALLRAUM                  93740\n",
      "EWDICHTE                  93740\n",
      "INNENSTADT                93740\n",
      "GEBAEUDETYP_RASTER        93155\n",
      "KKK                      121196\n",
      "MOBI_REGIO               133324\n",
      "ONLINE_AFFINITAET          4854\n",
      "REGIOTYP                 121196\n",
      "KBA13_ANZAHL_PKW         105800\n",
      "PLZ8_ANTG1               116515\n",
      "PLZ8_ANTG2               116515\n",
      "PLZ8_ANTG3               116515\n",
      "PLZ8_ANTG4               116515\n",
      "PLZ8_BAUMAX              116515\n",
      "PLZ8_HHZ                 116515\n",
      "PLZ8_GBZ                 116515\n",
      "ARBEIT                    97216\n",
      "ORTSGR_KLS9               97216\n",
      "RELAT_AB                  97216\n",
      "Length: 85, dtype: int64\n"
     ]
    }
   ],
   "source": [
    "# check null number for each col\n",
    "print(azdias.isnull().sum())"
   ]
  },
  {
   "cell_type": "code",
   "execution_count": 6,
   "metadata": {},
   "outputs": [
    {
     "name": "stdout",
     "output_type": "stream",
     "text": [
      "              attribute information_level         type missing_or_unknown\n",
      "0              AGER_TYP            person  categorical             [-1,0]\n",
      "1  ALTERSKATEGORIE_GROB            person      ordinal           [-1,0,9]\n",
      "2             ANREDE_KZ            person  categorical             [-1,0]\n",
      "3         CJT_GESAMTTYP            person  categorical                [0]\n",
      "4     FINANZ_MINIMALIST            person      ordinal               [-1]\n"
     ]
    }
   ],
   "source": [
    "# check feat_info data\n",
    "print(feat_info.head(5))"
   ]
  },
  {
   "cell_type": "markdown",
   "metadata": {},
   "source": [
    "> **Tip**: Add additional cells to keep everything in reasonably-sized chunks! Keyboard shortcut `esc --> a` (press escape to enter command mode, then press the 'A' key) adds a new cell before the active cell, and `esc --> b` adds a new cell after the active cell. If you need to convert an active cell to a markdown cell, use `esc --> m` and to convert to a code cell, use `esc --> y`. \n",
    "\n",
    "## Step 1: Preprocessing\n",
    "\n",
    "### Step 1.1: Assess Missing Data\n",
    "\n",
    "The feature summary file contains a summary of properties for each demographics data column. You will use this file to help you make cleaning decisions during this stage of the project. First of all, you should assess the demographics data in terms of missing data. Pay attention to the following points as you perform your analysis, and take notes on what you observe. Make sure that you fill in the **Discussion** cell with your findings and decisions at the end of each step that has one!\n",
    "\n",
    "#### Step 1.1.1: Convert Missing Value Codes to NaNs\n",
    "The fourth column of the feature attributes summary (loaded in above as `feat_info`) documents the codes from the data dictionary that indicate missing or unknown data. While the file encodes this as a list (e.g. `[-1,0]`), this will get read in as a string object. You'll need to do a little bit of parsing to make use of it to identify and clean the data. Convert data that matches a 'missing' or 'unknown' value code into a numpy NaN value. You might want to see how much data takes on a 'missing' or 'unknown' code, and how much data is naturally missing, as a point of interest.\n",
    "\n",
    "**As one more reminder, you are encouraged to add additional cells to break up your analysis into manageable chunks.**"
   ]
  },
  {
   "cell_type": "code",
   "execution_count": 7,
   "metadata": {},
   "outputs": [
    {
     "data": {
      "text/plain": [
       "array(['[-1,0]', '[-1,0,9]', '[0]', '[-1]', '[]', '[-1,9]', '[-1,X]',\n",
       "       '[XX]', '[-1,XX]'], dtype=object)"
      ]
     },
     "execution_count": 7,
     "metadata": {},
     "output_type": "execute_result"
    }
   ],
   "source": [
    "# Identify missing or unknown data values and convert them to NaNs.\n",
    "# check unique values\n",
    "# notice dtype is object\n",
    "feat_info.missing_or_unknown.unique()"
   ]
  },
  {
   "cell_type": "code",
   "execution_count": 8,
   "metadata": {},
   "outputs": [],
   "source": [
    "# function to convert feat_info.missing_or_unknown into list type\n",
    "def object_to_list(s):\n",
    "    if s=='[-1,X]':\n",
    "        return [-1,'X']\n",
    "    elif s=='[XX]':\n",
    "        return ['XX']\n",
    "    elif s=='[-1,XX]':\n",
    "        return [-1,'XX']\n",
    "    else:\n",
    "        return eval(s)"
   ]
  },
  {
   "cell_type": "code",
   "execution_count": 9,
   "metadata": {},
   "outputs": [],
   "source": [
    "# convert value type for feat_info.missing_or_unknown\n",
    "feat_info.missing_or_unknown = feat_info.missing_or_unknown.apply(object_to_list)"
   ]
  },
  {
   "cell_type": "code",
   "execution_count": 10,
   "metadata": {},
   "outputs": [],
   "source": [
    "# Create a dictionary to map column names to missing data encodings\n",
    "missing_data_encode = dict(zip(feat_info.attribute, feat_info.missing_or_unknown))"
   ]
  },
  {
   "cell_type": "code",
   "execution_count": 11,
   "metadata": {},
   "outputs": [
    {
     "name": "stdout",
     "output_type": "stream",
     "text": [
      "AGER_TYP\n",
      "AGER_TYP nans before:  0\n",
      "AGER_TYP nans after:  685843 \n",
      "\n",
      "ALTERSKATEGORIE_GROB\n",
      "ALTERSKATEGORIE_GROB nans before:  0\n",
      "ALTERSKATEGORIE_GROB nans after:  2881 \n",
      "\n",
      "ANREDE_KZ\n",
      "CJT_GESAMTTYP\n",
      "FINANZ_MINIMALIST\n",
      "FINANZ_SPARER\n",
      "FINANZ_VORSORGER\n",
      "FINANZ_ANLEGER\n",
      "FINANZ_UNAUFFAELLIGER\n",
      "FINANZ_HAUSBAUER\n",
      "FINANZTYP\n",
      "GEBURTSJAHR\n",
      "GEBURTSJAHR nans before:  0\n",
      "GEBURTSJAHR nans after:  392318 \n",
      "\n",
      "GFK_URLAUBERTYP\n",
      "GREEN_AVANTGARDE\n",
      "HEALTH_TYP\n",
      "HEALTH_TYP nans before:  0\n",
      "HEALTH_TYP nans after:  111196 \n",
      "\n",
      "LP_LEBENSPHASE_FEIN\n",
      "LP_LEBENSPHASE_FEIN nans before:  4854\n",
      "LP_LEBENSPHASE_FEIN nans after:  97632 \n",
      "\n",
      "LP_LEBENSPHASE_GROB\n",
      "LP_LEBENSPHASE_GROB nans before:  4854\n",
      "LP_LEBENSPHASE_GROB nans after:  94572 \n",
      "\n",
      "LP_FAMILIE_FEIN\n",
      "LP_FAMILIE_FEIN nans before:  4854\n",
      "LP_FAMILIE_FEIN nans after:  77792 \n",
      "\n",
      "LP_FAMILIE_GROB\n",
      "LP_FAMILIE_GROB nans before:  4854\n",
      "LP_FAMILIE_GROB nans after:  77792 \n",
      "\n",
      "LP_STATUS_FEIN\n",
      "LP_STATUS_GROB\n",
      "NATIONALITAET_KZ\n",
      "NATIONALITAET_KZ nans before:  0\n",
      "NATIONALITAET_KZ nans after:  108315 \n",
      "\n",
      "PRAEGENDE_JUGENDJAHRE\n",
      "PRAEGENDE_JUGENDJAHRE nans before:  0\n",
      "PRAEGENDE_JUGENDJAHRE nans after:  108164 \n",
      "\n",
      "RETOURTYP_BK_S\n",
      "SEMIO_SOZ\n",
      "SEMIO_FAM\n",
      "SEMIO_REL\n",
      "SEMIO_MAT\n",
      "SEMIO_VERT\n",
      "SEMIO_LUST\n",
      "SEMIO_ERL\n",
      "SEMIO_KULT\n",
      "SEMIO_RAT\n",
      "SEMIO_KRIT\n",
      "SEMIO_DOM\n",
      "SEMIO_KAEM\n",
      "SEMIO_PFLICHT\n",
      "SEMIO_TRADV\n",
      "SHOPPER_TYP\n",
      "SHOPPER_TYP nans before:  0\n",
      "SHOPPER_TYP nans after:  111196 \n",
      "\n",
      "SOHO_KZ\n",
      "TITEL_KZ\n",
      "TITEL_KZ nans before:  73499\n",
      "TITEL_KZ nans after:  889061 \n",
      "\n",
      "VERS_TYP\n",
      "VERS_TYP nans before:  0\n",
      "VERS_TYP nans after:  111196 \n",
      "\n",
      "ZABEOTYP\n",
      "ALTER_HH\n",
      "ALTER_HH nans before:  73499\n",
      "ALTER_HH nans after:  310267 \n",
      "\n",
      "ANZ_PERSONEN\n",
      "ANZ_TITEL\n",
      "HH_EINKOMMEN_SCORE\n",
      "KK_KUNDENTYP\n",
      "W_KEIT_KIND_HH\n",
      "W_KEIT_KIND_HH nans before:  107602\n",
      "W_KEIT_KIND_HH nans after:  147988 \n",
      "\n",
      "WOHNDAUER_2008\n",
      "ANZ_HAUSHALTE_AKTIV\n",
      "ANZ_HAUSHALTE_AKTIV nans before:  93148\n",
      "ANZ_HAUSHALTE_AKTIV nans after:  99611 \n",
      "\n",
      "ANZ_HH_TITEL\n",
      "GEBAEUDETYP\n",
      "KONSUMNAEHE\n",
      "MIN_GEBAEUDEJAHR\n",
      "OST_WEST_KZ\n",
      "WOHNLAGE\n",
      "CAMEO_DEUG_2015\n",
      "CAMEO_DEUG_2015 nans before:  98979\n",
      "CAMEO_DEUG_2015 nans after:  99352 \n",
      "\n",
      "CAMEO_DEU_2015\n",
      "CAMEO_DEU_2015 nans before:  98979\n",
      "CAMEO_DEU_2015 nans after:  99352 \n",
      "\n",
      "CAMEO_INTL_2015\n",
      "CAMEO_INTL_2015 nans before:  98979\n",
      "CAMEO_INTL_2015 nans after:  99352 \n",
      "\n",
      "KBA05_ANTG1\n",
      "KBA05_ANTG2\n",
      "KBA05_ANTG3\n",
      "KBA05_ANTG4\n",
      "KBA05_BAUMAX\n",
      "KBA05_BAUMAX nans before:  133324\n",
      "KBA05_BAUMAX nans after:  476524 \n",
      "\n",
      "KBA05_GBZ\n",
      "BALLRAUM\n",
      "EWDICHTE\n",
      "INNENSTADT\n",
      "GEBAEUDETYP_RASTER\n",
      "KKK\n",
      "KKK nans before:  121196\n",
      "KKK nans after:  158064 \n",
      "\n",
      "MOBI_REGIO\n",
      "ONLINE_AFFINITAET\n",
      "REGIOTYP\n",
      "REGIOTYP nans before:  121196\n",
      "REGIOTYP nans after:  158064 \n",
      "\n",
      "KBA13_ANZAHL_PKW\n",
      "PLZ8_ANTG1\n",
      "PLZ8_ANTG2\n",
      "PLZ8_ANTG3\n",
      "PLZ8_ANTG4\n",
      "PLZ8_BAUMAX\n",
      "PLZ8_HHZ\n",
      "PLZ8_GBZ\n",
      "ARBEIT\n",
      "ARBEIT nans before:  97216\n",
      "ARBEIT nans after:  97375 \n",
      "\n",
      "ORTSGR_KLS9\n",
      "ORTSGR_KLS9 nans before:  97216\n",
      "ORTSGR_KLS9 nans after:  97274 \n",
      "\n",
      "RELAT_AB\n",
      "RELAT_AB nans before:  97216\n",
      "RELAT_AB nans after:  97375 \n",
      "\n"
     ]
    }
   ],
   "source": [
    "# Convert to nans using the missing_data_encode dictionary\n",
    "# refer to this blog https://jkarakas.github.io/Customer-Demographics-Segmentation-/Customer_Segmentation.html\n",
    "dem_df = azdias.copy()\n",
    "for col in missing_data_encode.keys():\n",
    "    print(col)\n",
    "    nans_before = dem_df[col].isnull().sum()\n",
    "    # get missing value for the current col\n",
    "    missing_values = missing_data_encode[col]\n",
    "    # current col values\n",
    "    col_values = dem_df[col]\n",
    "    # get row index for missing values in col\n",
    "    missing_values_ridx = col_values.isin(missing_values)\n",
    "    # set missing values to nan\n",
    "    dem_df.loc[missing_values_ridx, col] = np.nan\n",
    "    nans_after = dem_df[col].isnull().sum()\n",
    "    if nans_after != nans_before:\n",
    "        print(col, 'nans before: ', nans_before)\n",
    "        print(col, 'nans after: ', nans_after, '\\n')"
   ]
  },
  {
   "cell_type": "markdown",
   "metadata": {},
   "source": [
    "#### Step 1.1.2: Assess Missing Data in Each Column\n",
    "\n",
    "How much missing data is present in each column? There are a few columns that are outliers in terms of the proportion of values that are missing. You will want to use matplotlib's [`hist()`](https://matplotlib.org/api/_as_gen/matplotlib.pyplot.hist.html) function to visualize the distribution of missing value counts to find these columns. Identify and document these columns. While some of these columns might have justifications for keeping or re-encoding the data, for this project you should just remove them from the dataframe. (Feel free to make remarks about these outlier columns in the discussion, however!)\n",
    "\n",
    "For the remaining features, are there any patterns in which columns have, or share, missing data?"
   ]
  },
  {
   "cell_type": "code",
   "execution_count": 12,
   "metadata": {},
   "outputs": [
    {
     "name": "stdout",
     "output_type": "stream",
     "text": [
      "count        85.000000\n",
      "mean      98516.811765\n",
      "std      146604.203317\n",
      "min           0.000000\n",
      "25%           0.000000\n",
      "50%       93148.000000\n",
      "75%      116515.000000\n",
      "max      889061.000000\n",
      "dtype: float64\n",
      "count    85.000000\n",
      "mean      0.110541\n",
      "std       0.164498\n",
      "min       0.000000\n",
      "25%       0.000000\n",
      "50%       0.104517\n",
      "75%       0.130736\n",
      "max       0.997576\n",
      "dtype: float64\n"
     ]
    }
   ],
   "source": [
    "# Perform an assessment of how much missing data there is in each column of the\n",
    "# dataset.\n",
    "col_miss_num = dem_df.isnull().sum()\n",
    "col_miss_per = (dem_df.isnull().mean())\n",
    "print(col_miss_num.describe())\n",
    "print(col_miss_per.describe())"
   ]
  },
  {
   "cell_type": "code",
   "execution_count": 13,
   "metadata": {},
   "outputs": [
    {
     "data": {
      "text/html": [
       "<div>\n",
       "<style>\n",
       "    .dataframe thead tr:only-child th {\n",
       "        text-align: right;\n",
       "    }\n",
       "\n",
       "    .dataframe thead th {\n",
       "        text-align: left;\n",
       "    }\n",
       "\n",
       "    .dataframe tbody tr th {\n",
       "        vertical-align: top;\n",
       "    }\n",
       "</style>\n",
       "<table border=\"1\" class=\"dataframe\">\n",
       "  <thead>\n",
       "    <tr style=\"text-align: right;\">\n",
       "      <th></th>\n",
       "      <th>colname</th>\n",
       "      <th>misspre</th>\n",
       "      <th>information_level</th>\n",
       "      <th>type</th>\n",
       "    </tr>\n",
       "  </thead>\n",
       "  <tbody>\n",
       "    <tr>\n",
       "      <th>0</th>\n",
       "      <td>AGER_TYP</td>\n",
       "      <td>0.769554</td>\n",
       "      <td>person</td>\n",
       "      <td>categorical</td>\n",
       "    </tr>\n",
       "    <tr>\n",
       "      <th>1</th>\n",
       "      <td>ALTERSKATEGORIE_GROB</td>\n",
       "      <td>0.003233</td>\n",
       "      <td>person</td>\n",
       "      <td>ordinal</td>\n",
       "    </tr>\n",
       "  </tbody>\n",
       "</table>\n",
       "</div>"
      ],
      "text/plain": [
       "                colname   misspre information_level         type\n",
       "0              AGER_TYP  0.769554            person  categorical\n",
       "1  ALTERSKATEGORIE_GROB  0.003233            person      ordinal"
      ]
     },
     "execution_count": 13,
     "metadata": {},
     "output_type": "execute_result"
    }
   ],
   "source": [
    "# Investigate patterns in the amount of missing data in each column.\n",
    "col_miss_per = col_miss_per.to_frame()\n",
    "col_miss_per.reset_index(level=0, inplace=True)\n",
    "col_miss_per.columns = ['colname','misspre']\n",
    "col_miss_per['information_level'] = feat_info.information_level\n",
    "col_miss_per['type'] = feat_info.type\n",
    "col_miss_per.head(2)"
   ]
  },
  {
   "cell_type": "code",
   "execution_count": 14,
   "metadata": {},
   "outputs": [
    {
     "data": {
      "text/plain": [
       "(array([ 39.,  40.,   0.,   1.,   1.,   1.,   1.,   1.,   0.,   1.]),\n",
       " array([ 0.        ,  0.09975764,  0.19951527,  0.29927291,  0.39903054,\n",
       "         0.49878818,  0.59854582,  0.69830345,  0.79806109,  0.89781872,\n",
       "         0.99757636]),\n",
       " <a list of 10 Patch objects>)"
      ]
     },
     "execution_count": 14,
     "metadata": {},
     "output_type": "execute_result"
    },
    {
     "data": {
      "image/png": "[encoded data removed]",
      "text/plain": [
       "<matplotlib.figure.Figure at 0x7f26dc50d908>"
      ]
     },
     "metadata": {
      "needs_background": "light"
     },
     "output_type": "display_data"
    }
   ],
   "source": [
    "# plot histgram to visualize distribution of missing rate\n",
    "plt.hist(col_miss_per.misspre)\n",
    "# according to both this historgram and the descriptive statistics above we can see that most missing rate are lower than 20%\n",
    "# so we should drop colunms that have missing rate larger than 20%"
   ]
  },
  {
   "cell_type": "code",
   "execution_count": 69,
   "metadata": {},
   "outputs": [
    {
     "name": "stdout",
     "output_type": "stream",
     "text": [
      "                colname   misspre information_level         type\n",
      "0              AGER_TYP  0.769554            person  categorical\n",
      "1  ALTERSKATEGORIE_GROB  0.003233            person      ordinal\n",
      "                       mean       max\n",
      "information_level                    \n",
      "building           0.103098  0.111769\n",
      "community          0.109222  0.109260\n",
      "household          0.205450  0.655967\n",
      "macrocell_plz8     0.129234  0.130736\n",
      "microcell_rr3      0.213779  0.534687\n",
      "microcell_rr4      0.111479  0.111479\n",
      "person             0.077389  0.997576\n",
      "postcode           0.105182  0.105182\n",
      "region_rr1         0.122856  0.177357\n",
      "                 mean       max\n",
      "type                           \n",
      "categorical  0.166904  0.997576\n",
      "interval     0.348137  0.348137\n",
      "mixed        0.174064  0.534687\n",
      "numeric      0.149856  0.440203\n",
      "ordinal      0.066846  0.177357\n"
     ]
    },
    {
     "name": "stderr",
     "output_type": "stream",
     "text": [
      "/opt/conda/lib/python3.6/site-packages/ipykernel_launcher.py:3: FutureWarning: using a dict on a Series for aggregation\n",
      "is deprecated and will be removed in a future version\n",
      "  This is separate from the ipykernel package so we can avoid doing imports until\n",
      "/opt/conda/lib/python3.6/site-packages/ipykernel_launcher.py:4: FutureWarning: using a dict on a Series for aggregation\n",
      "is deprecated and will be removed in a future version\n",
      "  after removing the cwd from sys.path.\n"
     ]
    }
   ],
   "source": [
    "# explore pattern by group\n",
    "print(col_miss_per.head(2))\n",
    "print(col_miss_per.groupby('information_level').misspre.agg({\"mean\" : \"mean\",\"max\":\"max\"}))\n",
    "print(col_miss_per.groupby('type').misspre.agg({\"mean\" : \"mean\",\"max\":\"max\"}))"
   ]
  },
  {
   "cell_type": "code",
   "execution_count": 15,
   "metadata": {},
   "outputs": [
    {
     "data": {
      "text/plain": [
       "<matplotlib.axes._subplots.AxesSubplot at 0x7f26dc4a5ba8>"
      ]
     },
     "execution_count": 15,
     "metadata": {},
     "output_type": "execute_result"
    },
    {
     "data": {
      "image/png": "[encoded data removed]",
      "text/plain": [
       "<matplotlib.figure.Figure at 0x7f26dc50de80>"
      ]
     },
     "metadata": {
      "needs_background": "light"
     },
     "output_type": "display_data"
    }
   ],
   "source": [
    "# draw boxplot \n",
    "#col_miss_per.boxplot(by='information_level', column=['misspre'], grid=False)\n",
    "sns.boxplot(y='information_level', x='misspre', data=col_miss_per, \n",
    "            width=0.5,palette=\"colorblind\")"
   ]
  },
  {
   "cell_type": "code",
   "execution_count": 16,
   "metadata": {},
   "outputs": [
    {
     "data": {
      "text/plain": [
       "<matplotlib.axes._subplots.AxesSubplot at 0x7f26da321908>"
      ]
     },
     "execution_count": 16,
     "metadata": {},
     "output_type": "execute_result"
    },
    {
     "data": {
      "image/png": "[encoded data removed]",
      "text/plain": [
       "<matplotlib.figure.Figure at 0x7f26da3ccef0>"
      ]
     },
     "metadata": {
      "needs_background": "light"
     },
     "output_type": "display_data"
    }
   ],
   "source": [
    "sns.boxplot(y='type', x='misspre', data=col_miss_per, \n",
    "            width=0.5,palette=\"colorblind\")"
   ]
  },
  {
   "cell_type": "code",
   "execution_count": 17,
   "metadata": {},
   "outputs": [
    {
     "data": {
      "text/plain": [
       "0         AGER_TYP\n",
       "11     GEBURTSJAHR\n",
       "40        TITEL_KZ\n",
       "43        ALTER_HH\n",
       "47    KK_KUNDENTYP\n",
       "64    KBA05_BAUMAX\n",
       "Name: colname, dtype: object"
      ]
     },
     "execution_count": 17,
     "metadata": {},
     "output_type": "execute_result"
    }
   ],
   "source": [
    "# Remove the outlier columns from the dataset. (You'll perform other data\n",
    "# engineering tasks such as re-encoding and imputation later.)\n",
    "# find colnames that have high missing rate\n",
    "cols_remove = col_miss_per[col_miss_per.misspre > 0.2].colname            \n",
    "cols_remove\n"
   ]
  },
  {
   "cell_type": "code",
   "execution_count": 18,
   "metadata": {},
   "outputs": [
    {
     "data": {
      "text/plain": [
       "(891221, 79)"
      ]
     },
     "execution_count": 18,
     "metadata": {},
     "output_type": "execute_result"
    }
   ],
   "source": [
    "dem_df = dem_df.drop(cols_remove, axis=1)\n",
    "dem_df.shape"
   ]
  },
  {
   "cell_type": "code",
   "execution_count": 19,
   "metadata": {},
   "outputs": [
    {
     "data": {
      "text/plain": [
       "(array([ 31.,   1.,   0.,   0.,   7.,   9.,  12.,  10.,   6.,   3.]),\n",
       " array([ 0.        ,  0.01773567,  0.03547134,  0.053207  ,  0.07094267,\n",
       "         0.08867834,  0.10641401,  0.12414968,  0.14188535,  0.15962101,\n",
       "         0.17735668]),\n",
       " <a list of 10 Patch objects>)"
      ]
     },
     "execution_count": 19,
     "metadata": {},
     "output_type": "execute_result"
    },
    {
     "data": {
      "image/png": "[encoded data removed]",
      "text/plain": [
       "<matplotlib.figure.Figure at 0x7f26da2bf5c0>"
      ]
     },
     "metadata": {
      "needs_background": "light"
     },
     "output_type": "display_data"
    }
   ],
   "source": [
    "# check histgram again\n",
    "col_miss_per_after = (dem_df.isnull().sum()/891221)\n",
    "col_miss_per_after = col_miss_per_after.to_frame()\n",
    "col_miss_per_after.reset_index(level=0, inplace=True)\n",
    "col_miss_per_after.columns = ['colname','misspre']\n",
    "col_miss_per_after['information_level'] = feat_info.information_level\n",
    "col_miss_per_after['type'] = feat_info.type\n",
    "plt.hist(col_miss_per_after.misspre)"
   ]
  },
  {
   "cell_type": "code",
   "execution_count": 20,
   "metadata": {},
   "outputs": [
    {
     "data": {
      "text/plain": [
       "<matplotlib.axes._subplots.AxesSubplot at 0x7f26da327588>"
      ]
     },
     "execution_count": 20,
     "metadata": {},
     "output_type": "execute_result"
    },
    {
     "data": {
      "image/png": "[encoded data removed]",
      "text/plain": [
       "<matplotlib.figure.Figure at 0x7f26da3cc198>"
      ]
     },
     "metadata": {
      "needs_background": "light"
     },
     "output_type": "display_data"
    }
   ],
   "source": [
    "sns.boxplot(y='information_level', x='misspre', data=col_miss_per_after, \n",
    "            width=0.5,palette=\"colorblind\")"
   ]
  },
  {
   "cell_type": "code",
   "execution_count": 21,
   "metadata": {},
   "outputs": [
    {
     "data": {
      "text/plain": [
       "<matplotlib.axes._subplots.AxesSubplot at 0x7f26da26cb70>"
      ]
     },
     "execution_count": 21,
     "metadata": {},
     "output_type": "execute_result"
    },
    {
     "data": {
      "image/png": "[encoded data removed]",
      "text/plain": [
       "<matplotlib.figure.Figure at 0x7f26da428630>"
      ]
     },
     "metadata": {
      "needs_background": "light"
     },
     "output_type": "display_data"
    }
   ],
   "source": [
    "sns.boxplot(y='type', x='misspre', data=col_miss_per_after, \n",
    "            width=0.5,palette=\"colorblind\")"
   ]
  },
  {
   "cell_type": "markdown",
   "metadata": {},
   "source": [
    "#### Discussion 1.1.2: Assess Missing Data in Each Column\n",
    "\n",
    "(Double click this cell and replace this text with your own text, reporting your observations regarding the amount of missing data in each column. Are there any patterns in missing values? Which columns were removed from the dataset?)\n",
    "\n",
    "According to descriptive statistics:\n",
    "1)there are on average 11.05% missing rate across colunms\n",
    "2)75% colunms has missing rate less than 13.07%\n",
    "\n",
    "According to boxplot of information level\n",
    "3)information level person tend to have higher unusual missing rates\n",
    "\n",
    "According to boxplot of type\n",
    "4)categorical type data tend to have higher unusual missing rates\n",
    "\n",
    "The colunms that are removed are those with missing rate higher than 20% :AGER_TYP,GEBURTSJAHR,TITEL_KZ,ALTER_HH,KK_KUNDENTYP,KBA05_BAUMAX\n",
    "\n"
   ]
  },
  {
   "cell_type": "markdown",
   "metadata": {},
   "source": [
    "#### Step 1.1.3: Assess Missing Data in Each Row\n",
    "\n",
    "Now, you'll perform a similar assessment for the rows of the dataset. How much data is missing in each row? As with the columns, you should see some groups of points that have a very different numbers of missing values. Divide the data into two subsets: one for data points that are above some threshold for missing values, and a second subset for points below that threshold.\n",
    "\n",
    "In order to know what to do with the outlier rows, we should see if the distribution of data values on columns that are not missing data (or are missing very little data) are similar or different between the two groups. Select at least five of these columns and compare the distribution of values.\n",
    "- You can use seaborn's [`countplot()`](https://seaborn.pydata.org/generated/seaborn.countplot.html) function to create a bar chart of code frequencies and matplotlib's [`subplot()`](https://matplotlib.org/api/_as_gen/matplotlib.pyplot.subplot.html) function to put bar charts for the two subplots side by side.\n",
    "- To reduce repeated code, you might want to write a function that can perform this comparison, taking as one of its arguments a column to be compared.\n",
    "\n",
    "Depending on what you observe in your comparison, this will have implications on how you approach your conclusions later in the analysis. If the distributions of non-missing features look similar between the data with many missing values and the data with few or no missing values, then we could argue that simply dropping those points from the analysis won't present a major issue. On the other hand, if the data with many missing values looks very different from the data with few or no missing values, then we should make a note on those data as special. We'll revisit these data later on. **Either way, you should continue your analysis for now using just the subset of the data with few or no missing values.**"
   ]
  },
  {
   "cell_type": "code",
   "execution_count": 22,
   "metadata": {},
   "outputs": [
    {
     "name": "stdout",
     "output_type": "stream",
     "text": [
      "count    891221.000000\n",
      "mean          0.071518\n",
      "std           0.167528\n",
      "min           0.000000\n",
      "25%           0.000000\n",
      "50%           0.000000\n",
      "75%           0.037975\n",
      "max           0.620253\n",
      "Name: row_miss_per, dtype: float64\n"
     ]
    },
    {
     "data": {
      "text/plain": [
       "(array([  6.38947000e+05,   4.55550000e+04,   1.26070000e+04,\n",
       "          3.62860000e+04,   3.83060000e+04,   3.04200000e+03,\n",
       "          6.53700000e+03,   4.02100000e+03,   2.24300000e+03,\n",
       "          7.24800000e+03,   6.77000000e+02,   1.60800000e+03,\n",
       "          4.99000000e+02,   1.29000000e+02,   2.01000000e+02,\n",
       "          1.14000000e+02,   2.40000000e+01,   1.70000000e+01,\n",
       "          9.00000000e+00,   2.06000000e+02,   1.38010000e+04,\n",
       "          3.91100000e+03,   6.22000000e+02,   4.98000000e+02,\n",
       "          1.37000000e+02,   3.77000000e+02,   2.75240000e+04,\n",
       "          4.94000000e+02,   4.55780000e+04,   3.00000000e+00]),\n",
       " array([ 0.        ,  0.02067511,  0.04135021,  0.06202532,  0.08270042,\n",
       "         0.10337553,  0.12405063,  0.14472574,  0.16540084,  0.18607595,\n",
       "         0.20675105,  0.22742616,  0.24810127,  0.26877637,  0.28945148,\n",
       "         0.31012658,  0.33080169,  0.35147679,  0.3721519 ,  0.392827  ,\n",
       "         0.41350211,  0.43417722,  0.45485232,  0.47552743,  0.49620253,\n",
       "         0.51687764,  0.53755274,  0.55822785,  0.57890295,  0.59957806,\n",
       "         0.62025316]),\n",
       " <a list of 30 Patch objects>)"
      ]
     },
     "execution_count": 22,
     "metadata": {},
     "output_type": "execute_result"
    },
    {
     "data": {
      "image/png": "[encoded data removed]",
      "text/plain": [
       "<matplotlib.figure.Figure at 0x7f26ba2dc390>"
      ]
     },
     "metadata": {
      "needs_background": "light"
     },
     "output_type": "display_data"
    }
   ],
   "source": [
    "# How much data is missing in each row of the dataset?\n",
    "dem_df['row_miss_per'] = dem_df.isnull().mean(axis=1)\n",
    "print(dem_df.row_miss_per.describe())\n",
    "plt.hist(dem_df.row_miss_per, bins=30)\n"
   ]
  },
  {
   "cell_type": "code",
   "execution_count": 23,
   "metadata": {},
   "outputs": [
    {
     "name": "stdout",
     "output_type": "stream",
     "text": [
      "(747109, 80)\n",
      "(144112, 80)\n"
     ]
    }
   ],
   "source": [
    "# Write code to divide the data into two subsets based on the number of missing\n",
    "# values in each row.\n",
    "threshhold = 0.1\n",
    "\n",
    "dem_df_lowna = dem_df.loc[dem_df['row_miss_per'] < threshhold]\n",
    "dem_df_highna = dem_df.loc[dem_df['row_miss_per'] > threshhold]\n",
    "print(dem_df_lowna.shape)\n",
    "print(dem_df_highna.shape)"
   ]
  },
  {
   "cell_type": "code",
   "execution_count": 24,
   "metadata": {},
   "outputs": [
    {
     "name": "stdout",
     "output_type": "stream",
     "text": [
      "['ANREDE_KZ', 'FINANZ_MINIMALIST', 'FINANZ_SPARER', 'FINANZ_VORSORGER', 'FINANZ_ANLEGER', 'FINANZ_UNAUFFAELLIGER', 'FINANZ_HAUSBAUER', 'FINANZTYP', 'GREEN_AVANTGARDE', 'SEMIO_SOZ', 'SEMIO_FAM', 'SEMIO_REL', 'SEMIO_MAT', 'SEMIO_VERT', 'SEMIO_LUST', 'SEMIO_ERL', 'SEMIO_KULT', 'SEMIO_RAT', 'SEMIO_KRIT', 'SEMIO_DOM', 'SEMIO_KAEM', 'SEMIO_PFLICHT', 'SEMIO_TRADV', 'ZABEOTYP', 'row_miss_per']\n",
      "25\n"
     ]
    }
   ],
   "source": [
    "# Compare the distribution of values for at least five columns where there are\n",
    "# no or few missing values, between the two subsets.\n",
    "\n",
    "# find five columns that have no missing values for both data set\n",
    "common_col = ((dem_df_lowna.isnull().sum() == 0)&(dem_df_highna.isnull().sum() == 0))\n",
    "common_col = list(common_col[common_col == True].index)\n",
    "print(common_col)\n",
    "print(len(common_col))"
   ]
  },
  {
   "cell_type": "code",
   "execution_count": 25,
   "metadata": {},
   "outputs": [
    {
     "data": {
      "image/png": "[encoded data removed]",
      "text/plain": [
       "<matplotlib.figure.Figure at 0x7f26ba1d5f98>"
      ]
     },
     "metadata": {
      "needs_background": "light"
     },
     "output_type": "display_data"
    },
    {
     "data": {
      "image/png": "[encoded data removed]",
      "text/plain": [
       "<matplotlib.figure.Figure at 0x7f26ba38e7f0>"
      ]
     },
     "metadata": {
      "needs_background": "light"
     },
     "output_type": "display_data"
    },
    {
     "data": {
      "image/png": "[encoded data removed]",
      "text/plain": [
       "<matplotlib.figure.Figure at 0x7f26ba42ef28>"
      ]
     },
     "metadata": {
      "needs_background": "light"
     },
     "output_type": "display_data"
    },
    {
     "data": {
      "image/png": "[encoded data removed]",
      "text/plain": [
       "<matplotlib.figure.Figure at 0x7f26bedd8ef0>"
      ]
     },
     "metadata": {
      "needs_background": "light"
     },
     "output_type": "display_data"
    },
    {
     "data": {
      "image/png": "[encoded data removed]",
      "text/plain": [
       "<matplotlib.figure.Figure at 0x7f26beec5f98>"
      ]
     },
     "metadata": {
      "needs_background": "light"
     },
     "output_type": "display_data"
    },
    {
     "data": {
      "image/png": "[encoded data removed]",
      "text/plain": [
       "<matplotlib.figure.Figure at 0x7f26bedf8898>"
      ]
     },
     "metadata": {
      "needs_background": "light"
     },
     "output_type": "display_data"
    },
    {
     "data": {
      "image/png": "[encoded data removed]",
      "text/plain": [
       "<matplotlib.figure.Figure at 0x7f26beadf710>"
      ]
     },
     "metadata": {
      "needs_background": "light"
     },
     "output_type": "display_data"
    },
    {
     "data": {
      "image/png": "[encoded data removed]",
      "text/plain": [
       "<matplotlib.figure.Figure at 0x7f26bea27ba8>"
      ]
     },
     "metadata": {
      "needs_background": "light"
     },
     "output_type": "display_data"
    },
    {
     "data": {
      "image/png": "[encoded data removed]",
      "text/plain": [
       "<matplotlib.figure.Figure at 0x7f26be99ba90>"
      ]
     },
     "metadata": {
      "needs_background": "light"
     },
     "output_type": "display_data"
    },
    {
     "data": {
      "image/png": "[encoded data removed]",
      "text/plain": [
       "<matplotlib.figure.Figure at 0x7f26bed154a8>"
      ]
     },
     "metadata": {
      "needs_background": "light"
     },
     "output_type": "display_data"
    },
    {
     "data": {
      "image/png": "[encoded data removed]",
      "text/plain": [
       "<matplotlib.figure.Figure at 0x7f26bec06080>"
      ]
     },
     "metadata": {
      "needs_background": "light"
     },
     "output_type": "display_data"
    },
    {
     "data": {
      "image/png": "[encoded data removed]",
      "text/plain": [
       "<matplotlib.figure.Figure at 0x7f26bf072dd8>"
      ]
     },
     "metadata": {
      "needs_background": "light"
     },
     "output_type": "display_data"
    },
    {
     "data": {
      "image/png": "[encoded data removed]",
      "text/plain": [
       "<matplotlib.figure.Figure at 0x7f26bedf9a20>"
      ]
     },
     "metadata": {
      "needs_background": "light"
     },
     "output_type": "display_data"
    },
    {
     "data": {
      "image/png": "[encoded data removed]",
      "text/plain": [
       "<matplotlib.figure.Figure at 0x7f26bf0452b0>"
      ]
     },
     "metadata": {
      "needs_background": "light"
     },
     "output_type": "display_data"
    },
    {
     "data": {
      "image/png": "[encoded data removed]",
      "text/plain": [
       "<matplotlib.figure.Figure at 0x7f26ba1c1c50>"
      ]
     },
     "metadata": {
      "needs_background": "light"
     },
     "output_type": "display_data"
    },
    {
     "data": {
      "image/png": "[encoded data removed]",
      "text/plain": [
       "<matplotlib.figure.Figure at 0x7f26beae9748>"
      ]
     },
     "metadata": {
      "needs_background": "light"
     },
     "output_type": "display_data"
    },
    {
     "data": {
      "image/png": "[encoded data removed]",
      "text/plain": [
       "<matplotlib.figure.Figure at 0x7f26bf0d9860>"
      ]
     },
     "metadata": {
      "needs_background": "light"
     },
     "output_type": "display_data"
    },
    {
     "data": {
      "image/png": "[encoded data removed]",
      "text/plain": [
       "<matplotlib.figure.Figure at 0x7f26bec4f5f8>"
      ]
     },
     "metadata": {
      "needs_background": "light"
     },
     "output_type": "display_data"
    },
    {
     "data": {
      "image/png": "[encoded data removed]",
      "text/plain": [
       "<matplotlib.figure.Figure at 0x7f26becc7f28>"
      ]
     },
     "metadata": {
      "needs_background": "light"
     },
     "output_type": "display_data"
    },
    {
     "data": {
      "image/png": "[encoded data removed]",
      "text/plain": [
       "<matplotlib.figure.Figure at 0x7f26be982ef0>"
      ]
     },
     "metadata": {
      "needs_background": "light"
     },
     "output_type": "display_data"
    },
    {
     "data": {
      "image/png": "[encoded data removed]",
      "text/plain": [
       "<matplotlib.figure.Figure at 0x7f26bebbfac8>"
      ]
     },
     "metadata": {
      "needs_background": "light"
     },
     "output_type": "display_data"
    },
    {
     "data": {
      "image/png": "[encoded data removed]",
      "text/plain": [
       "<matplotlib.figure.Figure at 0x7f26bebbdfd0>"
      ]
     },
     "metadata": {
      "needs_background": "light"
     },
     "output_type": "display_data"
    },
    {
     "data": {
      "image/png": "[encoded data removed]",
      "text/plain": [
       "<matplotlib.figure.Figure at 0x7f26be9e17f0>"
      ]
     },
     "metadata": {
      "needs_background": "light"
     },
     "output_type": "display_data"
    },
    {
     "data": {
      "image/png": "[encoded data removed]",
      "text/plain": [
       "<matplotlib.figure.Figure at 0x7f26beedb550>"
      ]
     },
     "metadata": {
      "needs_background": "light"
     },
     "output_type": "display_data"
    },
    {
     "data": {
      "image/png": "[encoded data removed]",
      "text/plain": [
       "<matplotlib.figure.Figure at 0x7f26bf0328d0>"
      ]
     },
     "metadata": {
      "needs_background": "light"
     },
     "output_type": "display_data"
    }
   ],
   "source": [
    "# draw count plot to compare between two groups\n",
    "def draw_compare(colname,dem_df_lowna,dem_df_highna):\n",
    "    fig, axes = plt.subplots(1,2, figsize=(12, 3))\n",
    "    ax1 = plt.subplot(1,2,1)\n",
    "    ax1 = sns.countplot(dem_df_lowna[colname],color='g')\n",
    "    ax2 = plt.subplot(1,2,2,sharey=ax1)\n",
    "    ax2 = sns.countplot(dem_df_highna[colname],color='r')\n",
    "    plt.show()\n",
    "    \n",
    "for col in common_col:\n",
    "    draw_compare(col,dem_df_lowna,dem_df_highna)"
   ]
  },
  {
   "cell_type": "code",
   "execution_count": 26,
   "metadata": {},
   "outputs": [
    {
     "name": "stdout",
     "output_type": "stream",
     "text": [
      "(747109, 79)\n"
     ]
    }
   ],
   "source": [
    "# keep only the rows with low missing rate\n",
    "dem_df = dem_df_lowna\n",
    "# drop row missing rate colunm\n",
    "dem_df = dem_df.drop('row_miss_per', axis=1)\n",
    "print(dem_df.shape)"
   ]
  },
  {
   "cell_type": "markdown",
   "metadata": {},
   "source": [
    "#### Discussion 1.1.3: Assess Missing Data in Each Row\n",
    "\n",
    "(Double-click this cell and replace this text with your own text, reporting your observations regarding missing data in rows. Are the data with lots of missing values are qualitatively different from data with few or no missing values?)\n",
    "Yes, they are quite different in all colunms. The high missing value data should be remarked as special"
   ]
  },
  {
   "cell_type": "markdown",
   "metadata": {},
   "source": [
    "### Step 1.2: Select and Re-Encode Features\n",
    "\n",
    "Checking for missing data isn't the only way in which you can prepare a dataset for analysis. Since the unsupervised learning techniques to be used will only work on data that is encoded numerically, you need to make a few encoding changes or additional assumptions to be able to make progress. In addition, while almost all of the values in the dataset are encoded using numbers, not all of them represent numeric values. Check the third column of the feature summary (`feat_info`) for a summary of types of measurement.\n",
    "- For numeric and interval data, these features can be kept without changes.\n",
    "- Most of the variables in the dataset are ordinal in nature. While ordinal values may technically be non-linear in spacing, make the simplifying assumption that the ordinal variables can be treated as being interval in nature (that is, kept without any changes).\n",
    "- Special handling may be necessary for the remaining two variable types: categorical, and 'mixed'.\n",
    "\n",
    "In the first two parts of this sub-step, you will perform an investigation of the categorical and mixed-type features and make a decision on each of them, whether you will keep, drop, or re-encode each. Then, in the last part, you will create a new data frame with only the selected and engineered columns.\n",
    "\n",
    "Data wrangling is often the trickiest part of the data analysis process, and there's a lot of it to be done here. But stick with it: once you're done with this step, you'll be ready to get to the machine learning parts of the project!"
   ]
  },
  {
   "cell_type": "code",
   "execution_count": 27,
   "metadata": {},
   "outputs": [
    {
     "data": {
      "text/plain": [
       "type\n",
       "categorical    18\n",
       "mixed           6\n",
       "numeric         6\n",
       "ordinal        49\n",
       "Name: attribute, dtype: int64"
      ]
     },
     "execution_count": 27,
     "metadata": {},
     "output_type": "execute_result"
    }
   ],
   "source": [
    "# How many features are there of each data type?\n",
    "# drop the dropped colunms\n",
    "feat_info = feat_info[feat_info.attribute.isin(dem_df.columns)]\n",
    "# group by type and count\n",
    "feat_info.groupby('type').attribute.count()\n",
    "# so there are 18 colunms that belong to categorical and 6 belong to mixed\n"
   ]
  },
  {
   "cell_type": "markdown",
   "metadata": {},
   "source": [
    "#### Step 1.2.1: Re-Encode Categorical Features\n",
    "\n",
    "For categorical data, you would ordinarily need to encode the levels as dummy variables. Depending on the number of categories, perform one of the following:\n",
    "- For binary (two-level) categoricals that take numeric values, you can keep them without needing to do anything.\n",
    "- There is one binary variable that takes on non-numeric values. For this one, you need to re-encode the values as numbers or create a dummy variable.\n",
    "- For multi-level categoricals (three or more values), you can choose to encode the values using multiple dummy variables (e.g. via [OneHotEncoder](http://scikit-learn.org/stable/modules/generated/sklearn.preprocessing.OneHotEncoder.html)), or (to keep things straightforward) just drop them from the analysis. As always, document your choices in the Discussion section."
   ]
  },
  {
   "cell_type": "code",
   "execution_count": 28,
   "metadata": {},
   "outputs": [
    {
     "name": "stdout",
     "output_type": "stream",
     "text": [
      "             colname  uniquen     type\n",
      "0          ANREDE_KZ        2  float64\n",
      "1        OST_WEST_KZ        2   object\n",
      "2           VERS_TYP        2  float64\n",
      "3            SOHO_KZ        2  float64\n",
      "4   GREEN_AVANTGARDE        2  float64\n",
      "5   NATIONALITAET_KZ        3  float64\n",
      "6        SHOPPER_TYP        4  float64\n",
      "7     LP_STATUS_GROB        5  float64\n",
      "8    LP_FAMILIE_GROB        5  float64\n",
      "9          FINANZTYP        6  float64\n",
      "10          ZABEOTYP        6  float64\n",
      "11     CJT_GESAMTTYP        6  float64\n",
      "12       GEBAEUDETYP        7  float64\n",
      "13   CAMEO_DEUG_2015        9   object\n",
      "14    LP_STATUS_FEIN       10  float64\n",
      "15   LP_FAMILIE_FEIN       11  float64\n",
      "16   GFK_URLAUBERTYP       12  float64\n",
      "17    CAMEO_DEU_2015       44   object\n"
     ]
    }
   ],
   "source": [
    "# Assess categorical variables: which are binary, which are multi-level, and\n",
    "# which one needs to be re-encoded?\n",
    "col_cate_num = dem_df[feat_info[feat_info.type=='categorical'].attribute].nunique().sort_values()\n",
    "col_cate_num = col_cate_num.to_frame()\n",
    "col_cate_num.reset_index(level=0, inplace=True)\n",
    "col_cate_num.columns = ['colname','uniquen']\n",
    "col_cate_num['type'] = list(dem_df[list(col_cate_num.colname)].dtypes)\n",
    "print(col_cate_num)\n",
    "# there are five columns that are binary and colunms 'OST_WEST_KZ' is of type object need to change that one."
   ]
  },
  {
   "cell_type": "code",
   "execution_count": 29,
   "metadata": {},
   "outputs": [
    {
     "data": {
      "text/plain": [
       "array(['W', 'O'], dtype=object)"
      ]
     },
     "execution_count": 29,
     "metadata": {},
     "output_type": "execute_result"
    }
   ],
   "source": [
    "# check OST_WEST_KZ value\n",
    "dem_df['OST_WEST_KZ'].unique()"
   ]
  },
  {
   "cell_type": "code",
   "execution_count": 30,
   "metadata": {},
   "outputs": [],
   "source": [
    "# Re-encode categorical variable(s) to be kept in the analysis.\n",
    "# re-encode OST_WEST_KZ\n",
    "dem_df['OST_WEST_KZ'] = dem_df['OST_WEST_KZ'].map({'O':0,'W':1})"
   ]
  },
  {
   "cell_type": "code",
   "execution_count": 31,
   "metadata": {},
   "outputs": [
    {
     "data": {
      "text/plain": [
       "array([1, 0])"
      ]
     },
     "execution_count": 31,
     "metadata": {},
     "output_type": "execute_result"
    }
   ],
   "source": [
    "# check value change\n",
    "dem_df['OST_WEST_KZ'].unique()"
   ]
  },
  {
   "cell_type": "code",
   "execution_count": 32,
   "metadata": {},
   "outputs": [
    {
     "data": {
      "text/plain": [
       "(747109, 66)"
      ]
     },
     "execution_count": 32,
     "metadata": {},
     "output_type": "execute_result"
    }
   ],
   "source": [
    "# drop other multi level features.\n",
    "dem_df = dem_df.drop(col_cate_num[col_cate_num.uniquen>2].colname, axis=1)\n",
    "dem_df.shape\n"
   ]
  },
  {
   "cell_type": "markdown",
   "metadata": {},
   "source": [
    "#### Discussion 1.2.1: Re-Encode Categorical Features\n",
    "\n",
    "(Double-click this cell and replace this text with your own text, reporting your findings and decisions regarding categorical features. Which ones did you keep, which did you drop, and what engineering steps did you perform?)\n",
    "\n",
    "There are 18 categorical features, five of them are binary features. And data type of feature OST_WEST_KZ is object. So I change it to numeric type. Other binary features stay the way they are. And to keep the data straight forward I drop features that contain multiple categories."
   ]
  },
  {
   "cell_type": "markdown",
   "metadata": {},
   "source": [
    "#### Step 1.2.2: Engineer Mixed-Type Features\n",
    "\n",
    "There are a handful of features that are marked as \"mixed\" in the feature summary that require special treatment in order to be included in the analysis. There are two in particular that deserve attention; the handling of the rest are up to your own choices:\n",
    "- \"PRAEGENDE_JUGENDJAHRE\" combines information on three dimensions: generation by decade, movement (mainstream vs. avantgarde), and nation (east vs. west). While there aren't enough levels to disentangle east from west, you should create two new variables to capture the other two dimensions: an interval-type variable for decade, and a binary variable for movement.\n",
    "- \"CAMEO_INTL_2015\" combines information on two axes: wealth and life stage. Break up the two-digit codes by their 'tens'-place and 'ones'-place digits into two new ordinal variables (which, for the purposes of this project, is equivalent to just treating them as their raw numeric values).\n",
    "- If you decide to keep or engineer new features around the other mixed-type features, make sure you note your steps in the Discussion section.\n",
    "\n",
    "Be sure to check `Data_Dictionary.md` for the details needed to finish these tasks."
   ]
  },
  {
   "cell_type": "code",
   "execution_count": 33,
   "metadata": {},
   "outputs": [
    {
     "data": {
      "text/plain": [
       "PLZ8_BAUMAX               5\n",
       "WOHNLAGE                  8\n",
       "LP_LEBENSPHASE_GROB      12\n",
       "PRAEGENDE_JUGENDJAHRE    15\n",
       "CAMEO_INTL_2015          21\n",
       "LP_LEBENSPHASE_FEIN      40\n",
       "dtype: int64"
      ]
     },
     "execution_count": 33,
     "metadata": {},
     "output_type": "execute_result"
    }
   ],
   "source": [
    "# check general situation about mixed-type features\n",
    "dem_df[feat_info[feat_info.type=='mixed'].attribute].nunique().sort_values()"
   ]
  },
  {
   "cell_type": "code",
   "execution_count": 34,
   "metadata": {},
   "outputs": [
    {
     "name": "stdout",
     "output_type": "stream",
     "text": [
      "14.0    172952\n",
      "8.0     134165\n",
      "5.0      81722\n",
      "10.0     80527\n",
      "3.0      51784\n",
      "15.0     39536\n",
      "11.0     33173\n",
      "9.0      32493\n",
      "6.0      25120\n",
      "12.0     23337\n",
      "4.0      20068\n",
      "1.0      19583\n",
      "2.0       7340\n",
      "13.0      5300\n",
      "7.0       3888\n",
      "Name: PRAEGENDE_JUGENDJAHRE, dtype: int64\n"
     ]
    }
   ],
   "source": [
    "# Investigate \"PRAEGENDE_JUGENDJAHRE\" and engineer two new variables.\n",
    "print(dem_df.PRAEGENDE_JUGENDJAHRE.value_counts())\n"
   ]
  },
  {
   "cell_type": "code",
   "execution_count": 39,
   "metadata": {},
   "outputs": [
    {
     "ename": "SyntaxError",
     "evalue": "invalid syntax (<ipython-input-39-3da107396359>, line 4)",
     "output_type": "error",
     "traceback": [
      "\u001b[0;36m  File \u001b[0;32m\"<ipython-input-39-3da107396359>\"\u001b[0;36m, line \u001b[0;32m4\u001b[0m\n\u001b[0;31m    1: 40s - war years (Mainstream, E+W)\u001b[0m\n\u001b[0m         ^\u001b[0m\n\u001b[0;31mSyntaxError\u001b[0m\u001b[0;31m:\u001b[0m invalid syntax\n"
     ]
    }
   ],
   "source": [
    "# data dictionary\n",
    "-1: unknown\n",
    "0: unknown\n",
    "1: 40s - war years (Mainstream, E+W)\n",
    "2: 40s - reconstruction years (Avantgarde, E+W)\n",
    "3: 50s - economic miracle (Mainstream, E+W)\n",
    "4: 50s - milk bar / Individualisation (Avantgarde, E+W)\n",
    "5: 60s - economic miracle (Mainstream, E+W)\n",
    "6: 60s - generation 68 / student protestors (Avantgarde, W)\n",
    "7: 60s - opponents to the building of the Wall (Avantgarde, E)\n",
    "8: 70s - family orientation (Mainstream, E+W)\n",
    "9: 70s - peace movement (Avantgarde, E+W)\n",
    "10: 80s - Generation Golf (Mainstream, W)\n",
    "11: 80s - ecological awareness (Avantgarde, W)\n",
    "12: 80s - FDJ / communist party youth organisation (Mainstream, E)\n",
    "13: 80s - Swords into ploughshares (Avantgarde, E)\n",
    "14: 90s - digital media kids (Mainstream, E+W)\n",
    "15: 90s - ecological awareness (Avantgarde, E+W)"
   ]
  },
  {
   "cell_type": "code",
   "execution_count": 34,
   "metadata": {},
   "outputs": [],
   "source": [
    "# code for decade: \n",
    "# 1:40s\n",
    "# 2:50s\n",
    "# 3:60s\n",
    "# 4:70s\n",
    "# 5:80s\n",
    "# 6:90s\n",
    "# code for movement\n",
    "# 1:Mainstream\n",
    "# 2:Avantgarde"
   ]
  },
  {
   "cell_type": "code",
   "execution_count": 35,
   "metadata": {},
   "outputs": [],
   "source": [
    "# create map\n",
    "decade_map ={1: 1, 2: 1, \n",
    "             3: 2, 4: 2, \n",
    "             5: 3, 6: 3, 7:  3,\n",
    "             8: 4, 9: 4, \n",
    "             10: 5, 11: 5, 12: 5, 13: 5,\n",
    "             14: 6, 15: 6}\n",
    "movement_map = {1: 1, 3: 1, 5: 1, 8: 1, 10: 1, 12: 1, 14: 1,\n",
    "                2: 2, 4: 2, 6: 2, 7: 2, 9: 2, 11: 2, 13: 2, 15: 2}"
   ]
  },
  {
   "cell_type": "code",
   "execution_count": 36,
   "metadata": {},
   "outputs": [],
   "source": [
    "# transform values\n",
    "dem_df['DECADE'] = dem_df['PRAEGENDE_JUGENDJAHRE'].map(decade_map)\n",
    "dem_df['MOVEMENT'] = dem_df['PRAEGENDE_JUGENDJAHRE'].map(movement_map)"
   ]
  },
  {
   "cell_type": "code",
   "execution_count": 37,
   "metadata": {},
   "outputs": [
    {
     "name": "stdout",
     "output_type": "stream",
     "text": [
      "6.0    212488\n",
      "4.0    166658\n",
      "5.0    142337\n",
      "3.0    110730\n",
      "2.0     71852\n",
      "1.0     26923\n",
      "Name: DECADE, dtype: int64\n",
      "1.0    564070\n",
      "2.0    166918\n",
      "Name: MOVEMENT, dtype: int64\n"
     ]
    }
   ],
   "source": [
    "print(dem_df['DECADE'].value_counts())\n",
    "print(dem_df['MOVEMENT'].value_counts())"
   ]
  },
  {
   "cell_type": "code",
   "execution_count": 38,
   "metadata": {},
   "outputs": [
    {
     "name": "stdout",
     "output_type": "stream",
     "text": [
      "51    128033\n",
      "41     87902\n",
      "24     85759\n",
      "14     59027\n",
      "43     54044\n",
      "54     43637\n",
      "25     37564\n",
      "22     30589\n",
      "45     25124\n",
      "13     24528\n",
      "55     22681\n",
      "23     20328\n",
      "52     19627\n",
      "34     17537\n",
      "15     16296\n",
      "31     16285\n",
      "44     14117\n",
      "12     11980\n",
      "35      9882\n",
      "32      9777\n",
      "33      9161\n",
      "Name: CAMEO_INTL_2015, dtype: int64\n",
      "['51' '24' '12' '43' '54' '22' '14' '13' '15' '41' '34' '55' '33' '25' nan\n",
      " '23' '31' '52' '35' '45' '44' '32']\n"
     ]
    }
   ],
   "source": [
    "# Investigate \"CAMEO_INTL_2015\" and engineer two new variables.\n",
    "print(dem_df.CAMEO_INTL_2015.value_counts())\n",
    "print(dem_df.CAMEO_INTL_2015.unique())\n"
   ]
  },
  {
   "cell_type": "code",
   "execution_count": null,
   "metadata": {},
   "outputs": [],
   "source": [
    "# Data Dictionary:\n",
    "-1: unknown\n",
    "11: Wealthy Households - Pre-Family Couples & Singles\n",
    "12: Wealthy Households - Young Couples With Children\n",
    "13: Wealthy Households - Families With School Age Children\n",
    "14: Wealthy Households - Older Families & Mature Couples\n",
    "15: Wealthy Households - Elders In Retirement\n",
    "21: Prosperous Households - Pre-Family Couples & Singles\n",
    "22: Prosperous Households - Young Couples With Children\n",
    "23: Prosperous Households - Families With School Age Children\n",
    "24: Prosperous Households - Older Families & Mature Couples\n",
    "25: Prosperous Households - Elders In Retirement\n",
    "31: Comfortable Households - Pre-Family Couples & Singles\n",
    "32: Comfortable Households - Young Couples With Children\n",
    "33: Comfortable Households - Families With School Age Children\n",
    "34: Comfortable Households - Older Families & Mature Couples\n",
    "35: Comfortable Households - Elders In Retirement\n",
    "41: Less Affluent Households - Pre-Family Couples & Singles\n",
    "42: Less Affluent Households - Young Couples With Children\n",
    "43: Less Affluent Households - Families With School Age Children\n",
    "44: Less Affluent Households - Older Families & Mature Couples\n",
    "45: Less Affluent Households - Elders In Retirement\n",
    "51: Poorer Households - Pre-Family Couples & Singles\n",
    "52: Poorer Households - Young Couples With Children\n",
    "53: Poorer Households - Families With School Age Children\n",
    "54: Poorer Households - Older Families & Mature Couples\n",
    "55: Poorer Households - Elders In Retirement\n",
    "XX: unknown"
   ]
  },
  {
   "cell_type": "code",
   "execution_count": 39,
   "metadata": {},
   "outputs": [],
   "source": [
    "def get_digit(num,digit):\n",
    "    if not pd.isnull(num):\n",
    "        num = int(str(num)[digit])\n",
    "    return num\n",
    "dem_df['WEALTH'] = dem_df['CAMEO_INTL_2015'].apply(get_digit, digit=0)\n",
    "dem_df['LIFE_STAGE'] = dem_df['CAMEO_INTL_2015'].apply(get_digit, digit=1)"
   ]
  },
  {
   "cell_type": "code",
   "execution_count": 40,
   "metadata": {},
   "outputs": [
    {
     "name": "stdout",
     "output_type": "stream",
     "text": [
      "5.0    213978\n",
      "4.0    181187\n",
      "2.0    174240\n",
      "1.0    111831\n",
      "3.0     62642\n",
      "Name: WEALTH, dtype: int64\n",
      "1.0    232220\n",
      "4.0    220077\n",
      "5.0    111547\n",
      "3.0    108061\n",
      "2.0     71973\n",
      "Name: LIFE_STAGE, dtype: int64\n"
     ]
    }
   ],
   "source": [
    "print(dem_df['WEALTH'].value_counts())\n",
    "print(dem_df['LIFE_STAGE'].value_counts())"
   ]
  },
  {
   "cell_type": "code",
   "execution_count": 41,
   "metadata": {},
   "outputs": [
    {
     "data": {
      "text/plain": [
       "(747109, 64)"
      ]
     },
     "execution_count": 41,
     "metadata": {},
     "output_type": "execute_result"
    }
   ],
   "source": [
    "# drop mix-type features\n",
    "dem_df = dem_df.drop(feat_info[feat_info.type=='mixed'].attribute, axis=1)\n",
    "dem_df.shape"
   ]
  },
  {
   "cell_type": "markdown",
   "metadata": {},
   "source": [
    "#### Discussion 1.2.2: Engineer Mixed-Type Features\n",
    "\n",
    "(Double-click this cell and replace this text with your own text, reporting your findings and decisions regarding mixed-value features. Which ones did you keep, which did you drop, and what engineering steps did you perform?)\n",
    "\n",
    "There are six colunms that belong to mixed type. And I look into feature \"PRAEGENDE_JUGENDJAHRE\" ,which combines information on three dimensions: generation by decade, movement (mainstream vs. avantgarde), and nation (east vs. west). And I create two new features 'DECADE','MOVEMENT' to capture the two dimensions of original feature: an interval-type variable for decade, and a binary variable for movement.\n",
    "I also look into feature \"CAMEO_INTL_2015\" which combines information on two axes: wealth and life stage. Again I creat two new features 'WEALTH' and 'LIFE_STAGE' to capture meaning from the original feature. I break up the original two-digit codes by their 'tens'-place and 'ones'-place digits into two new ordinal variables.\n",
    "Other mixed type features are dropped for now."
   ]
  },
  {
   "cell_type": "markdown",
   "metadata": {},
   "source": [
    "#### Step 1.2.3: Complete Feature Selection\n",
    "\n",
    "In order to finish this step up, you need to make sure that your data frame now only has the columns that you want to keep. To summarize, the dataframe should consist of the following:\n",
    "- All numeric, interval, and ordinal type columns from the original dataset.\n",
    "- Binary categorical features (all numerically-encoded).\n",
    "- Engineered features from other multi-level categorical features and mixed features.\n",
    "\n",
    "Make sure that for any new columns that you have engineered, that you've excluded the original columns from the final dataset. Otherwise, their values will interfere with the analysis later on the project. For example, you should not keep \"PRAEGENDE_JUGENDJAHRE\", since its values won't be useful for the algorithm: only the values derived from it in the engineered features you created should be retained. As a reminder, your data should only be from **the subset with few or no missing values**."
   ]
  },
  {
   "cell_type": "code",
   "execution_count": 42,
   "metadata": {},
   "outputs": [
    {
     "data": {
      "text/plain": [
       "(747109, 64)"
      ]
     },
     "execution_count": 42,
     "metadata": {},
     "output_type": "execute_result"
    }
   ],
   "source": [
    "# If there are other re-engineering tasks you need to perform, make sure you\n",
    "# take care of them here. (Dealing with missing data will come in step 2.1.)\n",
    "# check shape\n",
    "dem_df.shape"
   ]
  },
  {
   "cell_type": "code",
   "execution_count": 43,
   "metadata": {},
   "outputs": [
    {
     "data": {
      "text/plain": [
       "Index(['ALTERSKATEGORIE_GROB', 'ANREDE_KZ', 'FINANZ_MINIMALIST',\n",
       "       'FINANZ_SPARER', 'FINANZ_VORSORGER', 'FINANZ_ANLEGER',\n",
       "       'FINANZ_UNAUFFAELLIGER', 'FINANZ_HAUSBAUER', 'GREEN_AVANTGARDE',\n",
       "       'HEALTH_TYP', 'RETOURTYP_BK_S', 'SEMIO_SOZ', 'SEMIO_FAM', 'SEMIO_REL',\n",
       "       'SEMIO_MAT', 'SEMIO_VERT', 'SEMIO_LUST', 'SEMIO_ERL', 'SEMIO_KULT',\n",
       "       'SEMIO_RAT', 'SEMIO_KRIT', 'SEMIO_DOM', 'SEMIO_KAEM', 'SEMIO_PFLICHT',\n",
       "       'SEMIO_TRADV', 'SOHO_KZ', 'VERS_TYP', 'ANZ_PERSONEN', 'ANZ_TITEL',\n",
       "       'HH_EINKOMMEN_SCORE', 'W_KEIT_KIND_HH', 'WOHNDAUER_2008',\n",
       "       'ANZ_HAUSHALTE_AKTIV', 'ANZ_HH_TITEL', 'KONSUMNAEHE',\n",
       "       'MIN_GEBAEUDEJAHR', 'OST_WEST_KZ', 'KBA05_ANTG1', 'KBA05_ANTG2',\n",
       "       'KBA05_ANTG3', 'KBA05_ANTG4', 'KBA05_GBZ', 'BALLRAUM', 'EWDICHTE',\n",
       "       'INNENSTADT', 'GEBAEUDETYP_RASTER', 'KKK', 'MOBI_REGIO',\n",
       "       'ONLINE_AFFINITAET', 'REGIOTYP', 'KBA13_ANZAHL_PKW', 'PLZ8_ANTG1',\n",
       "       'PLZ8_ANTG2', 'PLZ8_ANTG3', 'PLZ8_ANTG4', 'PLZ8_HHZ', 'PLZ8_GBZ',\n",
       "       'ARBEIT', 'ORTSGR_KLS9', 'RELAT_AB', 'DECADE', 'MOVEMENT', 'WEALTH',\n",
       "       'LIFE_STAGE'],\n",
       "      dtype='object')"
      ]
     },
     "execution_count": 43,
     "metadata": {},
     "output_type": "execute_result"
    }
   ],
   "source": [
    "# check colunms\n",
    "dem_df.columns"
   ]
  },
  {
   "cell_type": "code",
   "execution_count": 44,
   "metadata": {},
   "outputs": [
    {
     "data": {
      "text/plain": [
       "array([dtype('float64'), dtype('int64')], dtype=object)"
      ]
     },
     "execution_count": 44,
     "metadata": {},
     "output_type": "execute_result"
    }
   ],
   "source": [
    "# Do whatever you need to in order to ensure that the dataframe only contains\n",
    "# the columns that should be passed to the algorithm functions.\n",
    "dem_df.dtypes.unique()\n"
   ]
  },
  {
   "cell_type": "markdown",
   "metadata": {},
   "source": [
    "### Step 1.3: Create a Cleaning Function\n",
    "\n",
    "Even though you've finished cleaning up the general population demographics data, it's important to look ahead to the future and realize that you'll need to perform the same cleaning steps on the customer demographics data. In this substep, complete the function below to execute the main feature selection, encoding, and re-engineering steps you performed above. Then, when it comes to looking at the customer data in Step 3, you can just run this function on that DataFrame to get the trimmed dataset in a single step."
   ]
  },
  {
   "cell_type": "code",
   "execution_count": 45,
   "metadata": {},
   "outputs": [],
   "source": [
    "def clean_data(df,missing_data_encode,col_remove_highmissing,feat_info):\n",
    "    \"\"\"\n",
    "    Perform feature trimming, re-encoding, and engineering for demographics\n",
    "    data\n",
    "    \n",
    "    INPUT: Demographics DataFrame\n",
    "    OUTPUT: Trimmed and cleaned demographics DataFrame\n",
    "    \"\"\"\n",
    "    \n",
    "    # Put in code here to execute all main cleaning steps:\n",
    "    # convert missing value codes into NaNs, ...\n",
    "    df = missing_code_to_nan(df,missing_data_encode)\n",
    "    print('process done missing code to nan')\n",
    "    \n",
    "    # remove selected columns and rows, ...\n",
    "    df = drop_high_missing_col(df,col_remove_highmissing)\n",
    "    df,df_highna = drop_high_missing_row(df,threshhold=0.1)\n",
    "    print('process done remove high missing rate colunms and rows')\n",
    "    \n",
    "    # select, re-encode, and engineer column values.\n",
    "    df = re_encode_categorical_feature(df,feat_info)\n",
    "    df = engineer_mixed_feature(df,feat_info)\n",
    "    print('process done re-encode and engineer')\n",
    "    \n",
    "    # Return the cleaned dataframe.\n",
    "    return df, df_highna\n",
    "    \n",
    "    \n",
    "def missing_code_to_nan(df,missing_data_encode):\n",
    "    for col in missing_data_encode.keys():\n",
    "        # get row index for missing values in col\n",
    "        missing_values_ridx = df[col].isin(missing_data_encode[col])\n",
    "        # set missing values to nan\n",
    "        df.loc[missing_values_ridx, col] = np.nan    \n",
    "    return df\n",
    "\n",
    "    \n",
    "def drop_high_missing_col(df,col_remove):\n",
    "    return df.drop(col_remove, axis=1)\n",
    "\n",
    "def drop_high_missing_row(df,threshhold=0.1):\n",
    "    df['row_miss_per'] = df.isnull().mean(axis=1)\n",
    "    df_lowna = df.loc[df['row_miss_per'] < threshhold].drop(['row_miss_per'], axis=1)\n",
    "    df_highna = df.loc[df['row_miss_per'] > threshhold].drop(['row_miss_per'], axis=1)\n",
    "    return df_lowna,df_highna\n",
    "    \n",
    "def re_encode_categorical_feature(df,feat_info):\n",
    "    # change binary feature OST_WEST_KZ to numeric\n",
    "    df['OST_WEST_KZ'] = df['OST_WEST_KZ'].map({'O':0,'W':1})\n",
    "    \n",
    "    # drop multi-level features\n",
    "    col_cate_num = df[feat_info[feat_info.type=='categorical'].attribute].nunique().sort_values()\n",
    "    col_cate_num = col_cate_num.to_frame()\n",
    "    col_cate_num.reset_index(level=0, inplace=True)\n",
    "    col_cate_num.columns = ['colname','uniquen']\n",
    "    \n",
    "    df = df.drop(col_cate_num[col_cate_num.uniquen>2].colname, axis=1)\n",
    "    return df\n",
    "\n",
    "def engineer_mixed_feature(df,feat_info):\n",
    "    # engineer two features\n",
    "    df = enginee_PRAEGENDE_JUGENDJAHRE(df)\n",
    "    df = enginee_CAMEO_INTL_2015(df)\n",
    "    # drop mixed features\n",
    "    df = df.drop(feat_info[feat_info.type=='mixed'].attribute, axis=1)\n",
    "    return df\n",
    "\n",
    "def enginee_PRAEGENDE_JUGENDJAHRE(df):\n",
    "    decade_map ={1: 1, 2: 1, \n",
    "             3: 2, 4: 2, \n",
    "             5: 3, 6: 3, 7:  3,\n",
    "             8: 4, 9: 4, \n",
    "             10: 5, 11: 5, 12: 5, 13: 5,\n",
    "             14: 6, 15: 6}\n",
    "    movement_map = {1: 1, 3: 1, 5: 1, 8: 1, 10: 1, 12: 1, 14: 1,\n",
    "                2: 2, 4: 2, 6: 2, 7: 2, 9: 2, 11: 2, 13: 2, 15: 2}\n",
    "    \n",
    "    df['DECADE'] = df['PRAEGENDE_JUGENDJAHRE'].map(decade_map)\n",
    "    df['MOVEMENT'] = df['PRAEGENDE_JUGENDJAHRE'].map(movement_map)\n",
    "    return df\n",
    "\n",
    "def enginee_CAMEO_INTL_2015(df):\n",
    "    df['WEALTH'] = df['CAMEO_INTL_2015'].apply(get_digit, digit=0)\n",
    "    df['LIFE_STAGE'] = df['CAMEO_INTL_2015'].apply(get_digit, digit=1)\n",
    "    return df"
   ]
  },
  {
   "cell_type": "markdown",
   "metadata": {},
   "source": [
    "## Step 2: Feature Transformation\n",
    "\n",
    "### Step 2.1: Apply Feature Scaling\n",
    "\n",
    "Before we apply dimensionality reduction techniques to the data, we need to perform feature scaling so that the principal component vectors are not influenced by the natural differences in scale for features. Starting from this part of the project, you'll want to keep an eye on the [API reference page for sklearn](http://scikit-learn.org/stable/modules/classes.html) to help you navigate to all of the classes and functions that you'll need. In this substep, you'll need to check the following:\n",
    "\n",
    "- sklearn requires that data not have missing values in order for its estimators to work properly. So, before applying the scaler to your data, make sure that you've cleaned the DataFrame of the remaining missing values. This can be as simple as just removing all data points with missing data, or applying an [Imputer](http://scikit-learn.org/stable/modules/generated/sklearn.preprocessing.Imputer.html) to replace all missing values. You might also try a more complicated procedure where you temporarily remove missing values in order to compute the scaling parameters before re-introducing those missing values and applying imputation. Think about how much missing data you have and what possible effects each approach might have on your analysis, and justify your decision in the discussion section below.\n",
    "- For the actual scaling function, a [StandardScaler](http://scikit-learn.org/stable/modules/generated/sklearn.preprocessing.StandardScaler.html) instance is suggested, scaling each feature to mean 0 and standard deviation 1.\n",
    "- For these classes, you can make use of the `.fit_transform()` method to both fit a procedure to the data as well as apply the transformation to the data at the same time. Don't forget to keep the fit sklearn objects handy, since you'll be applying them to the customer demographics data towards the end of the project."
   ]
  },
  {
   "cell_type": "code",
   "execution_count": 46,
   "metadata": {},
   "outputs": [
    {
     "data": {
      "text/plain": [
       "count    64.000000\n",
       "mean      0.006708\n",
       "std       0.013393\n",
       "min       0.000000\n",
       "25%       0.000000\n",
       "50%       0.000034\n",
       "75%       0.004917\n",
       "max       0.060785\n",
       "dtype: float64"
      ]
     },
     "execution_count": 46,
     "metadata": {},
     "output_type": "execute_result"
    }
   ],
   "source": [
    "# check missing rate\n",
    "dem_df.isnull().mean().describe()"
   ]
  },
  {
   "cell_type": "code",
   "execution_count": 47,
   "metadata": {},
   "outputs": [],
   "source": [
    "# If you've not yet cleaned the dataset of all NaN values, then investigate and\n",
    "# do that now.\n",
    "# computue possible scaling with temporarily removing missing values\n",
    "scaler = StandardScaler()\n",
    "scaler.fit(dem_df.dropna(axis=0))\n",
    "# imput missing values with mean\n",
    "imp = Imputer(missing_values=np.nan , strategy='mean', axis=0)\n",
    "dem_impute = imp.fit_transform(dem_df)\n"
   ]
  },
  {
   "cell_type": "code",
   "execution_count": 48,
   "metadata": {},
   "outputs": [
    {
     "data": {
      "text/html": [
       "<div>\n",
       "<style>\n",
       "    .dataframe thead tr:only-child th {\n",
       "        text-align: right;\n",
       "    }\n",
       "\n",
       "    .dataframe thead th {\n",
       "        text-align: left;\n",
       "    }\n",
       "\n",
       "    .dataframe tbody tr th {\n",
       "        vertical-align: top;\n",
       "    }\n",
       "</style>\n",
       "<table border=\"1\" class=\"dataframe\">\n",
       "  <thead>\n",
       "    <tr style=\"text-align: right;\">\n",
       "      <th></th>\n",
       "      <th>ALTERSKATEGORIE_GROB</th>\n",
       "      <th>ANREDE_KZ</th>\n",
       "      <th>FINANZ_MINIMALIST</th>\n",
       "      <th>FINANZ_SPARER</th>\n",
       "      <th>FINANZ_VORSORGER</th>\n",
       "      <th>FINANZ_ANLEGER</th>\n",
       "      <th>FINANZ_UNAUFFAELLIGER</th>\n",
       "      <th>FINANZ_HAUSBAUER</th>\n",
       "      <th>GREEN_AVANTGARDE</th>\n",
       "      <th>HEALTH_TYP</th>\n",
       "      <th>...</th>\n",
       "      <th>PLZ8_ANTG4</th>\n",
       "      <th>PLZ8_HHZ</th>\n",
       "      <th>PLZ8_GBZ</th>\n",
       "      <th>ARBEIT</th>\n",
       "      <th>ORTSGR_KLS9</th>\n",
       "      <th>RELAT_AB</th>\n",
       "      <th>DECADE</th>\n",
       "      <th>MOVEMENT</th>\n",
       "      <th>WEALTH</th>\n",
       "      <th>LIFE_STAGE</th>\n",
       "    </tr>\n",
       "  </thead>\n",
       "  <tbody>\n",
       "    <tr>\n",
       "      <th>count</th>\n",
       "      <td>747109.000000</td>\n",
       "      <td>747109.000000</td>\n",
       "      <td>747109.000000</td>\n",
       "      <td>747109.000000</td>\n",
       "      <td>747109.000000</td>\n",
       "      <td>747109.000000</td>\n",
       "      <td>747109.000000</td>\n",
       "      <td>747109.000000</td>\n",
       "      <td>747109.000000</td>\n",
       "      <td>747109.000000</td>\n",
       "      <td>...</td>\n",
       "      <td>747109.000000</td>\n",
       "      <td>747109.000000</td>\n",
       "      <td>747109.000000</td>\n",
       "      <td>747109.000000</td>\n",
       "      <td>747109.000000</td>\n",
       "      <td>747109.000000</td>\n",
       "      <td>747109.000000</td>\n",
       "      <td>747109.000000</td>\n",
       "      <td>747109.000000</td>\n",
       "      <td>747109.000000</td>\n",
       "    </tr>\n",
       "    <tr>\n",
       "      <th>mean</th>\n",
       "      <td>0.003698</td>\n",
       "      <td>0.015413</td>\n",
       "      <td>0.001930</td>\n",
       "      <td>0.008389</td>\n",
       "      <td>-0.000648</td>\n",
       "      <td>0.030617</td>\n",
       "      <td>0.024543</td>\n",
       "      <td>-0.011613</td>\n",
       "      <td>-0.026449</td>\n",
       "      <td>0.000891</td>\n",
       "      <td>...</td>\n",
       "      <td>-0.020237</td>\n",
       "      <td>-0.002344</td>\n",
       "      <td>0.020456</td>\n",
       "      <td>-0.019430</td>\n",
       "      <td>-0.034443</td>\n",
       "      <td>-0.021471</td>\n",
       "      <td>0.005359</td>\n",
       "      <td>-0.014822</td>\n",
       "      <td>-0.029240</td>\n",
       "      <td>-0.000760</td>\n",
       "    </tr>\n",
       "    <tr>\n",
       "      <th>std</th>\n",
       "      <td>0.997498</td>\n",
       "      <td>0.999536</td>\n",
       "      <td>1.006980</td>\n",
       "      <td>1.008161</td>\n",
       "      <td>0.995106</td>\n",
       "      <td>1.011898</td>\n",
       "      <td>1.009243</td>\n",
       "      <td>1.015730</td>\n",
       "      <td>0.982942</td>\n",
       "      <td>0.979313</td>\n",
       "      <td>...</td>\n",
       "      <td>0.993209</td>\n",
       "      <td>1.009009</td>\n",
       "      <td>0.996363</td>\n",
       "      <td>1.003865</td>\n",
       "      <td>0.999515</td>\n",
       "      <td>1.002373</td>\n",
       "      <td>0.995194</td>\n",
       "      <td>0.979819</td>\n",
       "      <td>1.003429</td>\n",
       "      <td>0.992829</td>\n",
       "    </tr>\n",
       "    <tr>\n",
       "      <th>min</th>\n",
       "      <td>-1.746287</td>\n",
       "      <td>-1.022678</td>\n",
       "      <td>-1.512226</td>\n",
       "      <td>-1.141397</td>\n",
       "      <td>-1.765054</td>\n",
       "      <td>-1.221852</td>\n",
       "      <td>-1.139026</td>\n",
       "      <td>-1.588887</td>\n",
       "      <td>-0.553672</td>\n",
       "      <td>-1.591635</td>\n",
       "      <td>...</td>\n",
       "      <td>-0.981973</td>\n",
       "      <td>-2.721004</td>\n",
       "      <td>-2.111170</td>\n",
       "      <td>-2.223015</td>\n",
       "      <td>-1.914219</td>\n",
       "      <td>-1.563993</td>\n",
       "      <td>-2.280170</td>\n",
       "      <td>-0.553672</td>\n",
       "      <td>-1.595951</td>\n",
       "      <td>-1.251111</td>\n",
       "    </tr>\n",
       "    <tr>\n",
       "      <th>25%</th>\n",
       "      <td>-0.772089</td>\n",
       "      <td>-1.022678</td>\n",
       "      <td>-0.777350</td>\n",
       "      <td>-1.141397</td>\n",
       "      <td>-1.045045</td>\n",
       "      <td>-1.221852</td>\n",
       "      <td>-1.139026</td>\n",
       "      <td>-0.856544</td>\n",
       "      <td>-0.553672</td>\n",
       "      <td>-0.273495</td>\n",
       "      <td>...</td>\n",
       "      <td>-0.981973</td>\n",
       "      <td>-0.639701</td>\n",
       "      <td>-0.314765</td>\n",
       "      <td>-0.201175</td>\n",
       "      <td>-0.607437</td>\n",
       "      <td>-0.823841</td>\n",
       "      <td>-0.902320</td>\n",
       "      <td>-0.553672</td>\n",
       "      <td>-0.909992</td>\n",
       "      <td>-1.251111</td>\n",
       "    </tr>\n",
       "    <tr>\n",
       "      <th>50%</th>\n",
       "      <td>0.202108</td>\n",
       "      <td>0.977825</td>\n",
       "      <td>-0.042475</td>\n",
       "      <td>0.219832</td>\n",
       "      <td>0.394972</td>\n",
       "      <td>0.158605</td>\n",
       "      <td>-0.410325</td>\n",
       "      <td>-0.124201</td>\n",
       "      <td>-0.553672</td>\n",
       "      <td>-0.273495</td>\n",
       "      <td>...</td>\n",
       "      <td>0.384671</td>\n",
       "      <td>-0.002344</td>\n",
       "      <td>-0.314765</td>\n",
       "      <td>-0.201175</td>\n",
       "      <td>-0.171843</td>\n",
       "      <td>-0.083688</td>\n",
       "      <td>-0.213395</td>\n",
       "      <td>-0.553672</td>\n",
       "      <td>0.461926</td>\n",
       "      <td>0.082843</td>\n",
       "    </tr>\n",
       "    <tr>\n",
       "      <th>75%</th>\n",
       "      <td>1.176305</td>\n",
       "      <td>0.977825</td>\n",
       "      <td>0.692400</td>\n",
       "      <td>0.900446</td>\n",
       "      <td>1.114980</td>\n",
       "      <td>0.848833</td>\n",
       "      <td>1.047076</td>\n",
       "      <td>0.608142</td>\n",
       "      <td>-0.553672</td>\n",
       "      <td>1.044646</td>\n",
       "      <td>...</td>\n",
       "      <td>0.384671</td>\n",
       "      <td>0.400951</td>\n",
       "      <td>0.583438</td>\n",
       "      <td>0.809745</td>\n",
       "      <td>0.699344</td>\n",
       "      <td>0.656464</td>\n",
       "      <td>1.164455</td>\n",
       "      <td>-0.553672</td>\n",
       "      <td>1.147884</td>\n",
       "      <td>0.749820</td>\n",
       "    </tr>\n",
       "    <tr>\n",
       "      <th>max</th>\n",
       "      <td>1.176305</td>\n",
       "      <td>0.977825</td>\n",
       "      <td>1.427276</td>\n",
       "      <td>1.581061</td>\n",
       "      <td>1.114980</td>\n",
       "      <td>1.539061</td>\n",
       "      <td>1.775776</td>\n",
       "      <td>1.340485</td>\n",
       "      <td>1.806125</td>\n",
       "      <td>1.044646</td>\n",
       "      <td>...</td>\n",
       "      <td>1.751315</td>\n",
       "      <td>1.441603</td>\n",
       "      <td>1.481641</td>\n",
       "      <td>1.820665</td>\n",
       "      <td>1.570532</td>\n",
       "      <td>1.396616</td>\n",
       "      <td>1.164455</td>\n",
       "      <td>1.806125</td>\n",
       "      <td>1.147884</td>\n",
       "      <td>1.416797</td>\n",
       "    </tr>\n",
       "  </tbody>\n",
       "</table>\n",
       "<p>8 rows × 64 columns</p>\n",
       "</div>"
      ],
      "text/plain": [
       "       ALTERSKATEGORIE_GROB      ANREDE_KZ  FINANZ_MINIMALIST  FINANZ_SPARER  \\\n",
       "count         747109.000000  747109.000000      747109.000000  747109.000000   \n",
       "mean               0.003698       0.015413           0.001930       0.008389   \n",
       "std                0.997498       0.999536           1.006980       1.008161   \n",
       "min               -1.746287      -1.022678          -1.512226      -1.141397   \n",
       "25%               -0.772089      -1.022678          -0.777350      -1.141397   \n",
       "50%                0.202108       0.977825          -0.042475       0.219832   \n",
       "75%                1.176305       0.977825           0.692400       0.900446   \n",
       "max                1.176305       0.977825           1.427276       1.581061   \n",
       "\n",
       "       FINANZ_VORSORGER  FINANZ_ANLEGER  FINANZ_UNAUFFAELLIGER  \\\n",
       "count     747109.000000   747109.000000          747109.000000   \n",
       "mean          -0.000648        0.030617               0.024543   \n",
       "std            0.995106        1.011898               1.009243   \n",
       "min           -1.765054       -1.221852              -1.139026   \n",
       "25%           -1.045045       -1.221852              -1.139026   \n",
       "50%            0.394972        0.158605              -0.410325   \n",
       "75%            1.114980        0.848833               1.047076   \n",
       "max            1.114980        1.539061               1.775776   \n",
       "\n",
       "       FINANZ_HAUSBAUER  GREEN_AVANTGARDE     HEALTH_TYP      ...        \\\n",
       "count     747109.000000     747109.000000  747109.000000      ...         \n",
       "mean          -0.011613         -0.026449       0.000891      ...         \n",
       "std            1.015730          0.982942       0.979313      ...         \n",
       "min           -1.588887         -0.553672      -1.591635      ...         \n",
       "25%           -0.856544         -0.553672      -0.273495      ...         \n",
       "50%           -0.124201         -0.553672      -0.273495      ...         \n",
       "75%            0.608142         -0.553672       1.044646      ...         \n",
       "max            1.340485          1.806125       1.044646      ...         \n",
       "\n",
       "          PLZ8_ANTG4       PLZ8_HHZ       PLZ8_GBZ         ARBEIT  \\\n",
       "count  747109.000000  747109.000000  747109.000000  747109.000000   \n",
       "mean       -0.020237      -0.002344       0.020456      -0.019430   \n",
       "std         0.993209       1.009009       0.996363       1.003865   \n",
       "min        -0.981973      -2.721004      -2.111170      -2.223015   \n",
       "25%        -0.981973      -0.639701      -0.314765      -0.201175   \n",
       "50%         0.384671      -0.002344      -0.314765      -0.201175   \n",
       "75%         0.384671       0.400951       0.583438       0.809745   \n",
       "max         1.751315       1.441603       1.481641       1.820665   \n",
       "\n",
       "         ORTSGR_KLS9       RELAT_AB         DECADE       MOVEMENT  \\\n",
       "count  747109.000000  747109.000000  747109.000000  747109.000000   \n",
       "mean       -0.034443      -0.021471       0.005359      -0.014822   \n",
       "std         0.999515       1.002373       0.995194       0.979819   \n",
       "min        -1.914219      -1.563993      -2.280170      -0.553672   \n",
       "25%        -0.607437      -0.823841      -0.902320      -0.553672   \n",
       "50%        -0.171843      -0.083688      -0.213395      -0.553672   \n",
       "75%         0.699344       0.656464       1.164455      -0.553672   \n",
       "max         1.570532       1.396616       1.164455       1.806125   \n",
       "\n",
       "              WEALTH     LIFE_STAGE  \n",
       "count  747109.000000  747109.000000  \n",
       "mean       -0.029240      -0.000760  \n",
       "std         1.003429       0.992829  \n",
       "min        -1.595951      -1.251111  \n",
       "25%        -0.909992      -1.251111  \n",
       "50%         0.461926       0.082843  \n",
       "75%         1.147884       0.749820  \n",
       "max         1.147884       1.416797  \n",
       "\n",
       "[8 rows x 64 columns]"
      ]
     },
     "execution_count": 48,
     "metadata": {},
     "output_type": "execute_result"
    }
   ],
   "source": [
    "# Apply feature scaling to the general population demographics data.\n",
    "# transform data with the fitted scaler\n",
    "dem_scale = scaler.transform(dem_impute)\n",
    "dem_scale = pd.DataFrame(dem_scale, columns=dem_df.columns)\n",
    "dem_scale.describe()\n"
   ]
  },
  {
   "cell_type": "markdown",
   "metadata": {},
   "source": [
    "### Discussion 2.1: Apply Feature Scaling\n",
    "\n",
    "(Double-click this cell and replace this text with your own text, reporting your decisions regarding feature scaling.)\n",
    "\n",
    "There are 0.67% data that contain nan values. Simply drop the rows with nan values will lose critical information about the data. Impute with mean however will reduce variance. So best option is that train the scaler before impute. "
   ]
  },
  {
   "cell_type": "markdown",
   "metadata": {},
   "source": [
    "### Step 2.2: Perform Dimensionality Reduction\n",
    "\n",
    "On your scaled data, you are now ready to apply dimensionality reduction techniques.\n",
    "\n",
    "- Use sklearn's [PCA](http://scikit-learn.org/stable/modules/generated/sklearn.decomposition.PCA.html) class to apply principal component analysis on the data, thus finding the vectors of maximal variance in the data. To start, you should not set any parameters (so all components are computed) or set a number of components that is at least half the number of features (so there's enough features to see the general trend in variability).\n",
    "- Check out the ratio of variance explained by each principal component as well as the cumulative variance explained. Try plotting the cumulative or sequential values using matplotlib's [`plot()`](https://matplotlib.org/api/_as_gen/matplotlib.pyplot.plot.html) function. Based on what you find, select a value for the number of transformed features you'll retain for the clustering part of the project.\n",
    "- Once you've made a choice for the number of components to keep, make sure you re-fit a PCA instance to perform the decided-on transformation."
   ]
  },
  {
   "cell_type": "code",
   "execution_count": 49,
   "metadata": {},
   "outputs": [],
   "source": [
    "# Apply PCA to the data.\n",
    "pca = PCA()\n",
    "dem_pca = pca.fit_transform(dem_scale)"
   ]
  },
  {
   "cell_type": "code",
   "execution_count": 50,
   "metadata": {},
   "outputs": [
    {
     "data": {
      "text/plain": [
       "Text(0.5,1,'Cumulative Explained Variance vs No. of Principal Components')"
      ]
     },
     "execution_count": 50,
     "metadata": {},
     "output_type": "execute_result"
    },
    {
     "data": {
      "image/png": "[encoded data removed]",
      "text/plain": [
       "<matplotlib.figure.Figure at 0x7f26beb01400>"
      ]
     },
     "metadata": {
      "needs_background": "light"
     },
     "output_type": "display_data"
    }
   ],
   "source": [
    "# Investigate the variance accounted for by each principal component.\n",
    "# refer to this blog:https://github.com/S-Tabor/udacity-customer-segmentation-project/blob/master/identify_customer_segments_final.ipynb\n",
    "components_total = len(pca.explained_variance_ratio_)\n",
    "components = np.arange(components_total)\n",
    "\n",
    "fig, ax1 = plt.subplots(figsize=(15,5))\n",
    "\n",
    "ax1.bar(components,pca.explained_variance_ratio_)\n",
    "ax1.set_ylabel('Explained Variance', color=\"blue\")\n",
    "ax1.set_xlabel('Number of Components')\n",
    "\n",
    "ax2 = ax1.twinx() \n",
    "ax2.plot(np.cumsum(pca.explained_variance_ratio_), color=\"red\",marker='o')\n",
    "ax2.set_ylabel('Cumulative Explained Variance', color=\"red\")\n",
    "plt.title(\"Cumulative Explained Variance vs No. of Principal Components\")\n"
   ]
  },
  {
   "cell_type": "code",
   "execution_count": 51,
   "metadata": {},
   "outputs": [],
   "source": [
    "# Re-apply PCA to the data while selecting for number of components to retain.\n",
    "pca_26 = PCA(n_components=26)\n",
    "dem_pca_26 = pca_26.fit_transform(dem_scale)\n",
    "dem_pca_26_df = pd.DataFrame(dem_pca_26)\n"
   ]
  },
  {
   "cell_type": "code",
   "execution_count": 52,
   "metadata": {},
   "outputs": [
    {
     "data": {
      "text/plain": [
       "0.62139365731246221"
      ]
     },
     "execution_count": 52,
     "metadata": {},
     "output_type": "execute_result"
    }
   ],
   "source": [
    "np.cumsum(pca.explained_variance_ratio_[:10])[-1]"
   ]
  },
  {
   "cell_type": "markdown",
   "metadata": {},
   "source": [
    "### Discussion 2.2: Perform Dimensionality Reduction\n",
    "\n",
    "(Double-click this cell and replace this text with your own text, reporting your findings and decisions regarding dimensionality reduction. How many principal components / transformed features are you retaining for the next step of the analysis?)\n",
    "\n",
    "I use PCA method on the scaled dataset and plot explained variance against the number of components together with cumulative explained variance. I choose to keep 26 components to acheive a higher model accuracy. And I discover that the first ten components give a cum variance of 62%."
   ]
  },
  {
   "cell_type": "markdown",
   "metadata": {},
   "source": [
    "### Step 2.3: Interpret Principal Components\n",
    "\n",
    "Now that we have our transformed principal components, it's a nice idea to check out the weight of each variable on the first few components to see if they can be interpreted in some fashion.\n",
    "\n",
    "As a reminder, each principal component is a unit vector that points in the direction of highest variance (after accounting for the variance captured by earlier principal components). The further a weight is from zero, the more the principal component is in the direction of the corresponding feature. If two features have large weights of the same sign (both positive or both negative), then increases in one tend expect to be associated with increases in the other. To contrast, features with different signs can be expected to show a negative correlation: increases in one variable should result in a decrease in the other.\n",
    "\n",
    "- To investigate the features, you should map each weight to their corresponding feature name, then sort the features according to weight. The most interesting features for each principal component, then, will be those at the beginning and end of the sorted list. Use the data dictionary document to help you understand these most prominent features, their relationships, and what a positive or negative value on the principal component might indicate.\n",
    "- You should investigate and interpret feature associations from the first three principal components in this substep. To help facilitate this, you should write a function that you can call at any time to print the sorted list of feature weights, for the *i*-th principal component. This might come in handy in the next step of the project, when you interpret the tendencies of the discovered clusters."
   ]
  },
  {
   "cell_type": "code",
   "execution_count": 53,
   "metadata": {},
   "outputs": [
    {
     "name": "stdout",
     "output_type": "stream",
     "text": [
      "(26, 64)\n"
     ]
    },
    {
     "data": {
      "text/html": [
       "<div>\n",
       "<style>\n",
       "    .dataframe thead tr:only-child th {\n",
       "        text-align: right;\n",
       "    }\n",
       "\n",
       "    .dataframe thead th {\n",
       "        text-align: left;\n",
       "    }\n",
       "\n",
       "    .dataframe tbody tr th {\n",
       "        vertical-align: top;\n",
       "    }\n",
       "</style>\n",
       "<table border=\"1\" class=\"dataframe\">\n",
       "  <thead>\n",
       "    <tr style=\"text-align: right;\">\n",
       "      <th></th>\n",
       "      <th>ALTERSKATEGORIE_GROB</th>\n",
       "      <th>ANREDE_KZ</th>\n",
       "      <th>FINANZ_MINIMALIST</th>\n",
       "      <th>FINANZ_SPARER</th>\n",
       "      <th>FINANZ_VORSORGER</th>\n",
       "      <th>FINANZ_ANLEGER</th>\n",
       "      <th>FINANZ_UNAUFFAELLIGER</th>\n",
       "      <th>FINANZ_HAUSBAUER</th>\n",
       "      <th>GREEN_AVANTGARDE</th>\n",
       "      <th>HEALTH_TYP</th>\n",
       "      <th>...</th>\n",
       "      <th>PLZ8_ANTG4</th>\n",
       "      <th>PLZ8_HHZ</th>\n",
       "      <th>PLZ8_GBZ</th>\n",
       "      <th>ARBEIT</th>\n",
       "      <th>ORTSGR_KLS9</th>\n",
       "      <th>RELAT_AB</th>\n",
       "      <th>DECADE</th>\n",
       "      <th>MOVEMENT</th>\n",
       "      <th>WEALTH</th>\n",
       "      <th>LIFE_STAGE</th>\n",
       "    </tr>\n",
       "  </thead>\n",
       "  <tbody>\n",
       "    <tr>\n",
       "      <th>0</th>\n",
       "      <td>-0.1175</td>\n",
       "      <td>0.0057</td>\n",
       "      <td>-0.2193</td>\n",
       "      <td>0.1436</td>\n",
       "      <td>-0.1105</td>\n",
       "      <td>0.0650</td>\n",
       "      <td>0.0734</td>\n",
       "      <td>0.1645</td>\n",
       "      <td>-0.1083</td>\n",
       "      <td>0.0283</td>\n",
       "      <td>...</td>\n",
       "      <td>0.2178</td>\n",
       "      <td>0.0419</td>\n",
       "      <td>-0.1672</td>\n",
       "      <td>0.1441</td>\n",
       "      <td>0.1970</td>\n",
       "      <td>0.1353</td>\n",
       "      <td>0.0997</td>\n",
       "      <td>-0.1068</td>\n",
       "      <td>0.2078</td>\n",
       "      <td>-0.1236</td>\n",
       "    </tr>\n",
       "    <tr>\n",
       "      <th>1</th>\n",
       "      <td>0.2604</td>\n",
       "      <td>0.0864</td>\n",
       "      <td>0.0719</td>\n",
       "      <td>-0.2418</td>\n",
       "      <td>0.2337</td>\n",
       "      <td>-0.2121</td>\n",
       "      <td>-0.2312</td>\n",
       "      <td>0.1161</td>\n",
       "      <td>-0.0134</td>\n",
       "      <td>-0.0581</td>\n",
       "      <td>...</td>\n",
       "      <td>0.0861</td>\n",
       "      <td>0.0130</td>\n",
       "      <td>-0.0694</td>\n",
       "      <td>0.0652</td>\n",
       "      <td>0.0882</td>\n",
       "      <td>0.0630</td>\n",
       "      <td>-0.2515</td>\n",
       "      <td>-0.0113</td>\n",
       "      <td>0.0709</td>\n",
       "      <td>0.0028</td>\n",
       "    </tr>\n",
       "    <tr>\n",
       "      <th>2</th>\n",
       "      <td>0.0765</td>\n",
       "      <td>-0.3727</td>\n",
       "      <td>0.1599</td>\n",
       "      <td>-0.1035</td>\n",
       "      <td>0.0975</td>\n",
       "      <td>-0.1905</td>\n",
       "      <td>-0.0951</td>\n",
       "      <td>-0.0495</td>\n",
       "      <td>0.0501</td>\n",
       "      <td>-0.0151</td>\n",
       "      <td>...</td>\n",
       "      <td>0.0432</td>\n",
       "      <td>0.0052</td>\n",
       "      <td>-0.0358</td>\n",
       "      <td>0.0323</td>\n",
       "      <td>0.0462</td>\n",
       "      <td>0.0305</td>\n",
       "      <td>-0.1049</td>\n",
       "      <td>0.0493</td>\n",
       "      <td>0.0237</td>\n",
       "      <td>-0.0079</td>\n",
       "    </tr>\n",
       "    <tr>\n",
       "      <th>3</th>\n",
       "      <td>-0.0435</td>\n",
       "      <td>0.0403</td>\n",
       "      <td>0.0639</td>\n",
       "      <td>-0.0002</td>\n",
       "      <td>-0.0163</td>\n",
       "      <td>-0.1265</td>\n",
       "      <td>0.0906</td>\n",
       "      <td>-0.1095</td>\n",
       "      <td>0.3894</td>\n",
       "      <td>0.0054</td>\n",
       "      <td>...</td>\n",
       "      <td>0.0795</td>\n",
       "      <td>0.1483</td>\n",
       "      <td>0.0426</td>\n",
       "      <td>0.0463</td>\n",
       "      <td>0.2498</td>\n",
       "      <td>0.0939</td>\n",
       "      <td>0.0399</td>\n",
       "      <td>0.3876</td>\n",
       "      <td>-0.1281</td>\n",
       "      <td>0.0596</td>\n",
       "    </tr>\n",
       "    <tr>\n",
       "      <th>4</th>\n",
       "      <td>0.0054</td>\n",
       "      <td>0.0079</td>\n",
       "      <td>0.0860</td>\n",
       "      <td>-0.0064</td>\n",
       "      <td>-0.0647</td>\n",
       "      <td>0.0360</td>\n",
       "      <td>-0.0460</td>\n",
       "      <td>-0.0978</td>\n",
       "      <td>0.0636</td>\n",
       "      <td>0.0130</td>\n",
       "      <td>...</td>\n",
       "      <td>0.0316</td>\n",
       "      <td>-0.4701</td>\n",
       "      <td>-0.3933</td>\n",
       "      <td>0.2176</td>\n",
       "      <td>0.0950</td>\n",
       "      <td>0.1407</td>\n",
       "      <td>0.0284</td>\n",
       "      <td>0.0613</td>\n",
       "      <td>-0.0117</td>\n",
       "      <td>0.0211</td>\n",
       "    </tr>\n",
       "  </tbody>\n",
       "</table>\n",
       "<p>5 rows × 64 columns</p>\n",
       "</div>"
      ],
      "text/plain": [
       "   ALTERSKATEGORIE_GROB  ANREDE_KZ  FINANZ_MINIMALIST  FINANZ_SPARER  \\\n",
       "0               -0.1175     0.0057            -0.2193         0.1436   \n",
       "1                0.2604     0.0864             0.0719        -0.2418   \n",
       "2                0.0765    -0.3727             0.1599        -0.1035   \n",
       "3               -0.0435     0.0403             0.0639        -0.0002   \n",
       "4                0.0054     0.0079             0.0860        -0.0064   \n",
       "\n",
       "   FINANZ_VORSORGER  FINANZ_ANLEGER  FINANZ_UNAUFFAELLIGER  FINANZ_HAUSBAUER  \\\n",
       "0           -0.1105          0.0650                 0.0734            0.1645   \n",
       "1            0.2337         -0.2121                -0.2312            0.1161   \n",
       "2            0.0975         -0.1905                -0.0951           -0.0495   \n",
       "3           -0.0163         -0.1265                 0.0906           -0.1095   \n",
       "4           -0.0647          0.0360                -0.0460           -0.0978   \n",
       "\n",
       "   GREEN_AVANTGARDE  HEALTH_TYP     ...      PLZ8_ANTG4  PLZ8_HHZ  PLZ8_GBZ  \\\n",
       "0           -0.1083      0.0283     ...          0.2178    0.0419   -0.1672   \n",
       "1           -0.0134     -0.0581     ...          0.0861    0.0130   -0.0694   \n",
       "2            0.0501     -0.0151     ...          0.0432    0.0052   -0.0358   \n",
       "3            0.3894      0.0054     ...          0.0795    0.1483    0.0426   \n",
       "4            0.0636      0.0130     ...          0.0316   -0.4701   -0.3933   \n",
       "\n",
       "   ARBEIT  ORTSGR_KLS9  RELAT_AB  DECADE  MOVEMENT  WEALTH  LIFE_STAGE  \n",
       "0  0.1441       0.1970    0.1353  0.0997   -0.1068  0.2078     -0.1236  \n",
       "1  0.0652       0.0882    0.0630 -0.2515   -0.0113  0.0709      0.0028  \n",
       "2  0.0323       0.0462    0.0305 -0.1049    0.0493  0.0237     -0.0079  \n",
       "3  0.0463       0.2498    0.0939  0.0399    0.3876 -0.1281      0.0596  \n",
       "4  0.2176       0.0950    0.1407  0.0284    0.0613 -0.0117      0.0211  \n",
       "\n",
       "[5 rows x 64 columns]"
      ]
     },
     "execution_count": 53,
     "metadata": {},
     "output_type": "execute_result"
    }
   ],
   "source": [
    "# Map weights for the first principal component to corresponding feature names\n",
    "# and then print the linked values, sorted by weight.\n",
    "# HINT: Try defining a function here or in a new cell that you can reuse in the\n",
    "# other cells.\n",
    "\n",
    "# check general weights condition\n",
    "weights = pd.DataFrame(np.round(pca_26.components_, 4), columns = dem_scale.columns)\n",
    "print(weights.shape)\n",
    "weights.head()"
   ]
  },
  {
   "cell_type": "code",
   "execution_count": 54,
   "metadata": {},
   "outputs": [
    {
     "data": {
      "text/plain": [
       "<matplotlib.axes._subplots.AxesSubplot at 0x7f26be9b36a0>"
      ]
     },
     "execution_count": 54,
     "metadata": {},
     "output_type": "execute_result"
    },
    {
     "data": {
      "image/png": "[encoded data removed]",
      "text/plain": [
       "<matplotlib.figure.Figure at 0x7f26bf0f45c0>"
      ]
     },
     "metadata": {
      "needs_background": "light"
     },
     "output_type": "display_data"
    }
   ],
   "source": [
    "# check general weights condition\n",
    "f, ax = plt.subplots(figsize=(15, 5))\n",
    "cmap = sns.diverging_palette(220, 10, as_cmap=True)\n",
    "sns.heatmap(weights,cmap=cmap)"
   ]
  },
  {
   "cell_type": "code",
   "execution_count": 55,
   "metadata": {},
   "outputs": [],
   "source": [
    "def get_com_weight_on_features(pca,dem_scale,com_num):\n",
    "    \"\"\"\n",
    "    return all weight of the com_num-th component\n",
    "    \"\"\"\n",
    "    weights = pd.DataFrame(np.round(pca_26.components_, 4), columns = dem_scale.columns)\n",
    "    weight_n = weights.iloc[com_num - 1, :].sort_values()\n",
    "    weight_n = weight_n.to_frame()\n",
    "    weight_n.reset_index(level=0, inplace=True)\n",
    "    weight_n.columns = ['colname','weight']\n",
    "    return weight_n\n"
   ]
  },
  {
   "cell_type": "code",
   "execution_count": 56,
   "metadata": {},
   "outputs": [],
   "source": [
    "def get_top_N_features(com_weight,n):\n",
    "    \"\"\"\n",
    "    return top/down N features weight\n",
    "    \"\"\"\n",
    "    tail_n = com_weight.head(5).reset_index(drop=True)\n",
    "    head_n = com_weight.tail(5).sort_values(by='weight',ascending=False).reset_index(drop=True)\n",
    "    top_n = pd.concat([head_n, tail_n], axis=1)\n",
    "    top_n.columns = ['top_pos_col','top_pos_col_weight','top_neg_col','top_neg_col_weight']\n",
    "    return top_n"
   ]
  },
  {
   "cell_type": "code",
   "execution_count": 57,
   "metadata": {},
   "outputs": [
    {
     "data": {
      "text/html": [
       "<style  type=\"text/css\" >\n",
       "    #T_9d7f8fda_100f_11e9_a8a6_0242ac120002row0_col1 {\n",
       "            width:  10em;\n",
       "             height:  80%;\n",
       "            background:  linear-gradient(90deg, transparent 0%, transparent 0.0%, #d65f5f 0.0%, #d65f5f 100.0%, transparent 100.0%);\n",
       "        }    #T_9d7f8fda_100f_11e9_a8a6_0242ac120002row0_col3 {\n",
       "            width:  10em;\n",
       "             height:  80%;\n",
       "            background:  linear-gradient(90deg, transparent 0%, transparent 0.0%, #d65f5f 0.0%, #d65f5f 100.0%, transparent 100.0%);\n",
       "        }    #T_9d7f8fda_100f_11e9_a8a6_0242ac120002row1_col1 {\n",
       "            width:  10em;\n",
       "             height:  80%;\n",
       "            background:  linear-gradient(90deg, transparent 0%, transparent 0.0%, #d65f5f 0.0%, #d65f5f 96.2%, transparent 96.2%);\n",
       "        }    #T_9d7f8fda_100f_11e9_a8a6_0242ac120002row1_col3 {\n",
       "            width:  10em;\n",
       "             height:  80%;\n",
       "            background:  linear-gradient(90deg, transparent 0%, transparent 7.4%, #d65f5f 7.4%, #d65f5f 100.0%, transparent 100.0%);\n",
       "        }    #T_9d7f8fda_100f_11e9_a8a6_0242ac120002row2_col1 {\n",
       "            width:  10em;\n",
       "             height:  80%;\n",
       "            background:  linear-gradient(90deg, transparent 0%, transparent 0.0%, #d65f5f 0.0%, #d65f5f 92.0%, transparent 92.0%);\n",
       "        }    #T_9d7f8fda_100f_11e9_a8a6_0242ac120002row2_col3 {\n",
       "            width:  10em;\n",
       "             height:  80%;\n",
       "            background:  linear-gradient(90deg, transparent 0%, transparent 8.0%, #d65f5f 8.0%, #d65f5f 100.0%, transparent 100.0%);\n",
       "        }    #T_9d7f8fda_100f_11e9_a8a6_0242ac120002row3_col1 {\n",
       "            width:  10em;\n",
       "             height:  80%;\n",
       "            background:  linear-gradient(90deg, transparent 0%, transparent 0.0%, #d65f5f 0.0%, #d65f5f 91.8%, transparent 91.8%);\n",
       "        }    #T_9d7f8fda_100f_11e9_a8a6_0242ac120002row3_col3 {\n",
       "            width:  10em;\n",
       "             height:  80%;\n",
       "            background:  linear-gradient(90deg, transparent 0%, transparent 9.6%, #d65f5f 9.6%, #d65f5f 100.0%, transparent 100.0%);\n",
       "        }    #T_9d7f8fda_100f_11e9_a8a6_0242ac120002row4_col1 {\n",
       "            width:  10em;\n",
       "             height:  80%;\n",
       "            background:  linear-gradient(90deg, transparent 0%, transparent 0.0%, #d65f5f 0.0%, #d65f5f 87.0%, transparent 87.0%);\n",
       "        }    #T_9d7f8fda_100f_11e9_a8a6_0242ac120002row4_col3 {\n",
       "            width:  10em;\n",
       "             height:  80%;\n",
       "            background:  linear-gradient(90deg, transparent 0%, transparent 10.0%, #d65f5f 10.0%, #d65f5f 100.0%, transparent 100.0%);\n",
       "        }</style>  \n",
       "<table id=\"T_9d7f8fda_100f_11e9_a8a6_0242ac120002\" > \n",
       "<thead>    <tr> \n",
       "        <th class=\"blank level0\" ></th> \n",
       "        <th class=\"col_heading level0 col0\" >top_pos_col</th> \n",
       "        <th class=\"col_heading level0 col1\" >top_pos_col_weight</th> \n",
       "        <th class=\"col_heading level0 col2\" >top_neg_col</th> \n",
       "        <th class=\"col_heading level0 col3\" >top_neg_col_weight</th> \n",
       "    </tr></thead> \n",
       "<tbody>    <tr> \n",
       "        <th id=\"T_9d7f8fda_100f_11e9_a8a6_0242ac120002level0_row0\" class=\"row_heading level0 row0\" >0</th> \n",
       "        <td id=\"T_9d7f8fda_100f_11e9_a8a6_0242ac120002row0_col0\" class=\"data row0 col0\" >PLZ8_ANTG3</td> \n",
       "        <td id=\"T_9d7f8fda_100f_11e9_a8a6_0242ac120002row0_col1\" class=\"data row0 col1\" >0.2264</td> \n",
       "        <td id=\"T_9d7f8fda_100f_11e9_a8a6_0242ac120002row0_col2\" class=\"data row0 col2\" >MOBI_REGIO</td> \n",
       "        <td id=\"T_9d7f8fda_100f_11e9_a8a6_0242ac120002row0_col3\" class=\"data row0 col3\" >-0.2425</td> \n",
       "    </tr>    <tr> \n",
       "        <th id=\"T_9d7f8fda_100f_11e9_a8a6_0242ac120002level0_row1\" class=\"row_heading level0 row1\" >1</th> \n",
       "        <td id=\"T_9d7f8fda_100f_11e9_a8a6_0242ac120002row1_col0\" class=\"data row1 col0\" >PLZ8_ANTG4</td> \n",
       "        <td id=\"T_9d7f8fda_100f_11e9_a8a6_0242ac120002row1_col1\" class=\"data row1 col1\" >0.2178</td> \n",
       "        <td id=\"T_9d7f8fda_100f_11e9_a8a6_0242ac120002row1_col2\" class=\"data row1 col2\" >PLZ8_ANTG1</td> \n",
       "        <td id=\"T_9d7f8fda_100f_11e9_a8a6_0242ac120002row1_col3\" class=\"data row1 col3\" >-0.2245</td> \n",
       "    </tr>    <tr> \n",
       "        <th id=\"T_9d7f8fda_100f_11e9_a8a6_0242ac120002level0_row2\" class=\"row_heading level0 row2\" >2</th> \n",
       "        <td id=\"T_9d7f8fda_100f_11e9_a8a6_0242ac120002row2_col0\" class=\"data row2 col0\" >HH_EINKOMMEN_SCORE</td> \n",
       "        <td id=\"T_9d7f8fda_100f_11e9_a8a6_0242ac120002row2_col1\" class=\"data row2 col1\" >0.2082</td> \n",
       "        <td id=\"T_9d7f8fda_100f_11e9_a8a6_0242ac120002row2_col2\" class=\"data row2 col2\" >KBA05_ANTG1</td> \n",
       "        <td id=\"T_9d7f8fda_100f_11e9_a8a6_0242ac120002row2_col3\" class=\"data row2 col3\" >-0.223</td> \n",
       "    </tr>    <tr> \n",
       "        <th id=\"T_9d7f8fda_100f_11e9_a8a6_0242ac120002level0_row3\" class=\"row_heading level0 row3\" >3</th> \n",
       "        <td id=\"T_9d7f8fda_100f_11e9_a8a6_0242ac120002row3_col0\" class=\"data row3 col0\" >WEALTH</td> \n",
       "        <td id=\"T_9d7f8fda_100f_11e9_a8a6_0242ac120002row3_col1\" class=\"data row3 col1\" >0.2078</td> \n",
       "        <td id=\"T_9d7f8fda_100f_11e9_a8a6_0242ac120002row3_col2\" class=\"data row3 col2\" >FINANZ_MINIMALIST</td> \n",
       "        <td id=\"T_9d7f8fda_100f_11e9_a8a6_0242ac120002row3_col3\" class=\"data row3 col3\" >-0.2193</td> \n",
       "    </tr>    <tr> \n",
       "        <th id=\"T_9d7f8fda_100f_11e9_a8a6_0242ac120002level0_row4\" class=\"row_heading level0 row4\" >4</th> \n",
       "        <td id=\"T_9d7f8fda_100f_11e9_a8a6_0242ac120002row4_col0\" class=\"data row4 col0\" >ORTSGR_KLS9</td> \n",
       "        <td id=\"T_9d7f8fda_100f_11e9_a8a6_0242ac120002row4_col1\" class=\"data row4 col1\" >0.197</td> \n",
       "        <td id=\"T_9d7f8fda_100f_11e9_a8a6_0242ac120002row4_col2\" class=\"data row4 col2\" >KBA05_GBZ</td> \n",
       "        <td id=\"T_9d7f8fda_100f_11e9_a8a6_0242ac120002row4_col3\" class=\"data row4 col3\" >-0.2183</td> \n",
       "    </tr></tbody> \n",
       "</table> "
      ],
      "text/plain": [
       "<pandas.io.formats.style.Styler at 0x7f26bec48f28>"
      ]
     },
     "execution_count": 57,
     "metadata": {},
     "output_type": "execute_result"
    }
   ],
   "source": [
    "com_weight = get_com_weight_on_features(pca_26,dem_scale,1)\n",
    "com_weight.describe()\n",
    "top_features = get_top_N_features(com_weight,10)\n",
    "top_features.style.bar(align='mid')"
   ]
  },
  {
   "cell_type": "code",
   "execution_count": null,
   "metadata": {},
   "outputs": [],
   "source": [
    "Top 5 Positive\n",
    "\n",
    "PLZ8_ANTG3: Number of 6-10 family houses in the PLZ8 region (0: no 6-10 family homes, 3: high share of 6-10 family homes)\n",
    "PLZ8_ANTG4 : Number of 10+ family houses in the PLZ8 region (0: no 10+ family home, 2: high share of 10+ family homes)\n",
    "HH_EINKOMMEN_SCORE: Estimated household net income (1: highest income, 6: very low income)\n",
    "WEALTH: Household wealth - Engineered (1: Wealthy Households, 5: Poorer Households)\n",
    "ORTSGR_KLS9: Size of community (1: <= 2,000 inhabitants, 9: > 700,000 inhabitants)\n",
    "# people live in high share community with low income \n",
    "\n",
    "Top 5 Negative\n",
    "MOBI_REGIO : Movement patterns (1: very high movement, 6: none)\n",
    "PLZ8_ANTG1: Number of 1-2 family houses in the PLZ8 region (0: no 1-2 family homes, 4: very high share of 1-2 family homes)\n",
    "KBA05_ANTG1 : Number of 1-2 family houses in the microcell (0: no 1-2 family homes, 4: very high share of 1-2 family homes)\n",
    "FINANZ_MINIMALIST : Financial typology - MINIMALIST: low financial interest (1: very high, 5: very low)\n",
    "KBA05_GBZ: Number of buildings in the microcell(1: 1-2 buildings;5: >=23 buildings)\n",
    "# people live in less dense region with higher financial ability\n",
    "\n",
    "So the first component captures the population density and financial condition"
   ]
  },
  {
   "cell_type": "code",
   "execution_count": 58,
   "metadata": {},
   "outputs": [
    {
     "data": {
      "text/html": [
       "<style  type=\"text/css\" >\n",
       "    #T_a01f85b0_100f_11e9_a8a6_0242ac120002row0_col1 {\n",
       "            width:  10em;\n",
       "             height:  80%;\n",
       "            background:  linear-gradient(90deg, transparent 0%, transparent 0.0%, #d65f5f 0.0%, #d65f5f 100.0%, transparent 100.0%);\n",
       "        }    #T_a01f85b0_100f_11e9_a8a6_0242ac120002row0_col3 {\n",
       "            width:  10em;\n",
       "             height:  80%;\n",
       "            background:  linear-gradient(90deg, transparent 0%, transparent 0.0%, #d65f5f 0.0%, #d65f5f 100.0%, transparent 100.0%);\n",
       "        }    #T_a01f85b0_100f_11e9_a8a6_0242ac120002row1_col1 {\n",
       "            width:  10em;\n",
       "             height:  80%;\n",
       "            background:  linear-gradient(90deg, transparent 0%, transparent 0.0%, #d65f5f 0.0%, #d65f5f 89.7%, transparent 89.7%);\n",
       "        }    #T_a01f85b0_100f_11e9_a8a6_0242ac120002row1_col3 {\n",
       "            width:  10em;\n",
       "             height:  80%;\n",
       "            background:  linear-gradient(90deg, transparent 0%, transparent 3.6%, #d65f5f 3.6%, #d65f5f 100.0%, transparent 100.0%);\n",
       "        }    #T_a01f85b0_100f_11e9_a8a6_0242ac120002row2_col1 {\n",
       "            width:  10em;\n",
       "             height:  80%;\n",
       "            background:  linear-gradient(90deg, transparent 0%, transparent 0.0%, #d65f5f 0.0%, #d65f5f 88.2%, transparent 88.2%);\n",
       "        }    #T_a01f85b0_100f_11e9_a8a6_0242ac120002row2_col3 {\n",
       "            width:  10em;\n",
       "             height:  80%;\n",
       "            background:  linear-gradient(90deg, transparent 0%, transparent 7.3%, #d65f5f 7.3%, #d65f5f 100.0%, transparent 100.0%);\n",
       "        }    #T_a01f85b0_100f_11e9_a8a6_0242ac120002row3_col1 {\n",
       "            width:  10em;\n",
       "             height:  80%;\n",
       "            background:  linear-gradient(90deg, transparent 0%, transparent 0.0%, #d65f5f 0.0%, #d65f5f 69.6%, transparent 69.6%);\n",
       "        }    #T_a01f85b0_100f_11e9_a8a6_0242ac120002row3_col3 {\n",
       "            width:  10em;\n",
       "             height:  80%;\n",
       "            background:  linear-gradient(90deg, transparent 0%, transparent 11.4%, #d65f5f 11.4%, #d65f5f 100.0%, transparent 100.0%);\n",
       "        }    #T_a01f85b0_100f_11e9_a8a6_0242ac120002row4_col1 {\n",
       "            width:  10em;\n",
       "             height:  80%;\n",
       "            background:  linear-gradient(90deg, transparent 0%, transparent 0.0%, #d65f5f 0.0%, #d65f5f 64.6%, transparent 64.6%);\n",
       "        }    #T_a01f85b0_100f_11e9_a8a6_0242ac120002row4_col3 {\n",
       "            width:  10em;\n",
       "             height:  80%;\n",
       "            background:  linear-gradient(90deg, transparent 0%, transparent 12.8%, #d65f5f 12.8%, #d65f5f 100.0%, transparent 100.0%);\n",
       "        }</style>  \n",
       "<table id=\"T_a01f85b0_100f_11e9_a8a6_0242ac120002\" > \n",
       "<thead>    <tr> \n",
       "        <th class=\"blank level0\" ></th> \n",
       "        <th class=\"col_heading level0 col0\" >top_pos_col</th> \n",
       "        <th class=\"col_heading level0 col1\" >top_pos_col_weight</th> \n",
       "        <th class=\"col_heading level0 col2\" >top_neg_col</th> \n",
       "        <th class=\"col_heading level0 col3\" >top_neg_col_weight</th> \n",
       "    </tr></thead> \n",
       "<tbody>    <tr> \n",
       "        <th id=\"T_a01f85b0_100f_11e9_a8a6_0242ac120002level0_row0\" class=\"row_heading level0 row0\" >0</th> \n",
       "        <td id=\"T_a01f85b0_100f_11e9_a8a6_0242ac120002row0_col0\" class=\"data row0 col0\" >ALTERSKATEGORIE_GROB</td> \n",
       "        <td id=\"T_a01f85b0_100f_11e9_a8a6_0242ac120002row0_col1\" class=\"data row0 col1\" >0.2604</td> \n",
       "        <td id=\"T_a01f85b0_100f_11e9_a8a6_0242ac120002row0_col2\" class=\"data row0 col2\" >SEMIO_REL</td> \n",
       "        <td id=\"T_a01f85b0_100f_11e9_a8a6_0242ac120002row0_col3\" class=\"data row0 col3\" >-0.2609</td> \n",
       "    </tr>    <tr> \n",
       "        <th id=\"T_a01f85b0_100f_11e9_a8a6_0242ac120002level0_row1\" class=\"row_heading level0 row1\" >1</th> \n",
       "        <td id=\"T_a01f85b0_100f_11e9_a8a6_0242ac120002row1_col0\" class=\"data row1 col0\" >FINANZ_VORSORGER</td> \n",
       "        <td id=\"T_a01f85b0_100f_11e9_a8a6_0242ac120002row1_col1\" class=\"data row1 col1\" >0.2337</td> \n",
       "        <td id=\"T_a01f85b0_100f_11e9_a8a6_0242ac120002row1_col2\" class=\"data row1 col2\" >DECADE</td> \n",
       "        <td id=\"T_a01f85b0_100f_11e9_a8a6_0242ac120002row1_col3\" class=\"data row1 col3\" >-0.2515</td> \n",
       "    </tr>    <tr> \n",
       "        <th id=\"T_a01f85b0_100f_11e9_a8a6_0242ac120002level0_row2\" class=\"row_heading level0 row2\" >2</th> \n",
       "        <td id=\"T_a01f85b0_100f_11e9_a8a6_0242ac120002row2_col0\" class=\"data row2 col0\" >SEMIO_ERL</td> \n",
       "        <td id=\"T_a01f85b0_100f_11e9_a8a6_0242ac120002row2_col1\" class=\"data row2 col1\" >0.2297</td> \n",
       "        <td id=\"T_a01f85b0_100f_11e9_a8a6_0242ac120002row2_col2\" class=\"data row2 col2\" >FINANZ_SPARER</td> \n",
       "        <td id=\"T_a01f85b0_100f_11e9_a8a6_0242ac120002row2_col3\" class=\"data row2 col3\" >-0.2418</td> \n",
       "    </tr>    <tr> \n",
       "        <th id=\"T_a01f85b0_100f_11e9_a8a6_0242ac120002level0_row3\" class=\"row_heading level0 row3\" >3</th> \n",
       "        <td id=\"T_a01f85b0_100f_11e9_a8a6_0242ac120002row3_col0\" class=\"data row3 col0\" >SEMIO_LUST</td> \n",
       "        <td id=\"T_a01f85b0_100f_11e9_a8a6_0242ac120002row3_col1\" class=\"data row3 col1\" >0.1812</td> \n",
       "        <td id=\"T_a01f85b0_100f_11e9_a8a6_0242ac120002row3_col2\" class=\"data row3 col2\" >FINANZ_UNAUFFAELLIGER</td> \n",
       "        <td id=\"T_a01f85b0_100f_11e9_a8a6_0242ac120002row3_col3\" class=\"data row3 col3\" >-0.2312</td> \n",
       "    </tr>    <tr> \n",
       "        <th id=\"T_a01f85b0_100f_11e9_a8a6_0242ac120002level0_row4\" class=\"row_heading level0 row4\" >4</th> \n",
       "        <td id=\"T_a01f85b0_100f_11e9_a8a6_0242ac120002row4_col0\" class=\"data row4 col0\" >RETOURTYP_BK_S</td> \n",
       "        <td id=\"T_a01f85b0_100f_11e9_a8a6_0242ac120002row4_col1\" class=\"data row4 col1\" >0.1681</td> \n",
       "        <td id=\"T_a01f85b0_100f_11e9_a8a6_0242ac120002row4_col2\" class=\"data row4 col2\" >SEMIO_TRADV</td> \n",
       "        <td id=\"T_a01f85b0_100f_11e9_a8a6_0242ac120002row4_col3\" class=\"data row4 col3\" >-0.2276</td> \n",
       "    </tr></tbody> \n",
       "</table> "
      ],
      "text/plain": [
       "<pandas.io.formats.style.Styler at 0x7f26bdc32eb8>"
      ]
     },
     "execution_count": 58,
     "metadata": {},
     "output_type": "execute_result"
    }
   ],
   "source": [
    "# Map weights for the second principal component to corresponding feature names\n",
    "# and then print the linked values, sorted by weight.\n",
    "com_weight = get_com_weight_on_features(pca_26,dem_scale,2)\n",
    "com_weight.describe()\n",
    "top_features = get_top_N_features(com_weight,10)\n",
    "top_features.style.bar(align='mid')\n"
   ]
  },
  {
   "cell_type": "code",
   "execution_count": null,
   "metadata": {},
   "outputs": [],
   "source": [
    "Top 5 Positive:\n",
    "ALTERSKATEGORIE_GROB: Estimated age based on given name analysis (1: < 30 years old, 4: > 60 years old, 9: uniformly distributed)\n",
    "FINANZ_VORSORGER: Financial typology - Be prepared (1: Very high, 5: Very low)\n",
    "SEMIO_ERL: Personality typology - event-oriented ( 1: highest affinity, 7: lowest affinity)\n",
    "SEMIO_LUST: Personality typology - sensual-minded ( 1: highest affinity, 7: lowest affinity)\n",
    "RETOURTYP_BK_S: Return type (1: influenceable Crazy-Shopper, 5: determined Minimal-Returner)\n",
    "# people who are older, less prepared in financial,low affinity,determined Minimal-Returner\n",
    "    \n",
    "Top 5 Negative\n",
    "SEMIO_REL: Personality typology - religious ( 1: highest affinity, 7: lowest affinity)\n",
    "DECADE: Person’s decade of youth (1: 40s , 6: 90s)\n",
    "FINANZ_SPARER: Financial typology - money-saver (1: Very high, 5: Very low)\n",
    "FINANZ_UNAUFFAELLIGER: Financial typology - inconspicuous (1: Very high, 5: Very low)\n",
    "SEMIO_TRADV: Personality typology - tradional-minded ( 1: highest affinity, 7: lowest affinity)\n",
    "\n",
    "# So the second component seems to indicate age,personality\n"
   ]
  },
  {
   "cell_type": "code",
   "execution_count": 59,
   "metadata": {},
   "outputs": [
    {
     "data": {
      "text/html": [
       "<style  type=\"text/css\" >\n",
       "    #T_a3ea4da6_100f_11e9_a8a6_0242ac120002row0_col1 {\n",
       "            width:  10em;\n",
       "             height:  80%;\n",
       "            background:  linear-gradient(90deg, transparent 0%, transparent 0.0%, #d65f5f 0.0%, #d65f5f 100.0%, transparent 100.0%);\n",
       "        }    #T_a3ea4da6_100f_11e9_a8a6_0242ac120002row0_col3 {\n",
       "            width:  10em;\n",
       "             height:  80%;\n",
       "            background:  linear-gradient(90deg, transparent 0%, transparent 0.0%, #d65f5f 0.0%, #d65f5f 100.0%, transparent 100.0%);\n",
       "        }    #T_a3ea4da6_100f_11e9_a8a6_0242ac120002row1_col1 {\n",
       "            width:  10em;\n",
       "             height:  80%;\n",
       "            background:  linear-gradient(90deg, transparent 0%, transparent 0.0%, #d65f5f 0.0%, #d65f5f 75.6%, transparent 75.6%);\n",
       "        }    #T_a3ea4da6_100f_11e9_a8a6_0242ac120002row1_col3 {\n",
       "            width:  10em;\n",
       "             height:  80%;\n",
       "            background:  linear-gradient(90deg, transparent 0%, transparent 10.6%, #d65f5f 10.6%, #d65f5f 100.0%, transparent 100.0%);\n",
       "        }    #T_a3ea4da6_100f_11e9_a8a6_0242ac120002row2_col1 {\n",
       "            width:  10em;\n",
       "             height:  80%;\n",
       "            background:  linear-gradient(90deg, transparent 0%, transparent 0.0%, #d65f5f 0.0%, #d65f5f 71.8%, transparent 71.8%);\n",
       "        }    #T_a3ea4da6_100f_11e9_a8a6_0242ac120002row2_col3 {\n",
       "            width:  10em;\n",
       "             height:  80%;\n",
       "            background:  linear-gradient(90deg, transparent 0%, transparent 17.2%, #d65f5f 17.2%, #d65f5f 100.0%, transparent 100.0%);\n",
       "        }    #T_a3ea4da6_100f_11e9_a8a6_0242ac120002row3_col1 {\n",
       "            width:  10em;\n",
       "             height:  80%;\n",
       "            background:  linear-gradient(90deg, transparent 0%, transparent 0.0%, #d65f5f 0.0%, #d65f5f 66.8%, transparent 66.8%);\n",
       "        }    #T_a3ea4da6_100f_11e9_a8a6_0242ac120002row3_col3 {\n",
       "            width:  10em;\n",
       "             height:  80%;\n",
       "            background:  linear-gradient(90deg, transparent 0%, transparent 27.2%, #d65f5f 27.2%, #d65f5f 100.0%, transparent 100.0%);\n",
       "        }    #T_a3ea4da6_100f_11e9_a8a6_0242ac120002row4_col1 {\n",
       "            width:  10em;\n",
       "             height:  80%;\n",
       "            background:  linear-gradient(90deg, transparent 0%, transparent 0.0%, #d65f5f 0.0%, #d65f5f 45.4%, transparent 45.4%);\n",
       "        }    #T_a3ea4da6_100f_11e9_a8a6_0242ac120002row4_col3 {\n",
       "            width:  10em;\n",
       "             height:  80%;\n",
       "            background:  linear-gradient(90deg, transparent 0%, transparent 43.1%, #d65f5f 43.1%, #d65f5f 100.0%, transparent 100.0%);\n",
       "        }</style>  \n",
       "<table id=\"T_a3ea4da6_100f_11e9_a8a6_0242ac120002\" > \n",
       "<thead>    <tr> \n",
       "        <th class=\"blank level0\" ></th> \n",
       "        <th class=\"col_heading level0 col0\" >top_pos_col</th> \n",
       "        <th class=\"col_heading level0 col1\" >top_pos_col_weight</th> \n",
       "        <th class=\"col_heading level0 col2\" >top_neg_col</th> \n",
       "        <th class=\"col_heading level0 col3\" >top_neg_col_weight</th> \n",
       "    </tr></thead> \n",
       "<tbody>    <tr> \n",
       "        <th id=\"T_a3ea4da6_100f_11e9_a8a6_0242ac120002level0_row0\" class=\"row_heading level0 row0\" >0</th> \n",
       "        <td id=\"T_a3ea4da6_100f_11e9_a8a6_0242ac120002row0_col0\" class=\"data row0 col0\" >SEMIO_VERT</td> \n",
       "        <td id=\"T_a3ea4da6_100f_11e9_a8a6_0242ac120002row0_col1\" class=\"data row0 col1\" >0.3524</td> \n",
       "        <td id=\"T_a3ea4da6_100f_11e9_a8a6_0242ac120002row0_col2\" class=\"data row0 col2\" >ANREDE_KZ</td> \n",
       "        <td id=\"T_a3ea4da6_100f_11e9_a8a6_0242ac120002row0_col3\" class=\"data row0 col3\" >-0.3727</td> \n",
       "    </tr>    <tr> \n",
       "        <th id=\"T_a3ea4da6_100f_11e9_a8a6_0242ac120002level0_row1\" class=\"row_heading level0 row1\" >1</th> \n",
       "        <td id=\"T_a3ea4da6_100f_11e9_a8a6_0242ac120002row1_col0\" class=\"data row1 col0\" >SEMIO_SOZ</td> \n",
       "        <td id=\"T_a3ea4da6_100f_11e9_a8a6_0242ac120002row1_col1\" class=\"data row1 col1\" >0.2664</td> \n",
       "        <td id=\"T_a3ea4da6_100f_11e9_a8a6_0242ac120002row1_col2\" class=\"data row1 col2\" >SEMIO_KAEM</td> \n",
       "        <td id=\"T_a3ea4da6_100f_11e9_a8a6_0242ac120002row1_col3\" class=\"data row1 col3\" >-0.3332</td> \n",
       "    </tr>    <tr> \n",
       "        <th id=\"T_a3ea4da6_100f_11e9_a8a6_0242ac120002level0_row2\" class=\"row_heading level0 row2\" >2</th> \n",
       "        <td id=\"T_a3ea4da6_100f_11e9_a8a6_0242ac120002row2_col0\" class=\"data row2 col0\" >SEMIO_FAM</td> \n",
       "        <td id=\"T_a3ea4da6_100f_11e9_a8a6_0242ac120002row2_col1\" class=\"data row2 col1\" >0.2529</td> \n",
       "        <td id=\"T_a3ea4da6_100f_11e9_a8a6_0242ac120002row2_col2\" class=\"data row2 col2\" >SEMIO_DOM</td> \n",
       "        <td id=\"T_a3ea4da6_100f_11e9_a8a6_0242ac120002row2_col3\" class=\"data row2 col3\" >-0.3087</td> \n",
       "    </tr>    <tr> \n",
       "        <th id=\"T_a3ea4da6_100f_11e9_a8a6_0242ac120002level0_row3\" class=\"row_heading level0 row3\" >3</th> \n",
       "        <td id=\"T_a3ea4da6_100f_11e9_a8a6_0242ac120002row3_col0\" class=\"data row3 col0\" >SEMIO_KULT</td> \n",
       "        <td id=\"T_a3ea4da6_100f_11e9_a8a6_0242ac120002row3_col1\" class=\"data row3 col1\" >0.2354</td> \n",
       "        <td id=\"T_a3ea4da6_100f_11e9_a8a6_0242ac120002row3_col2\" class=\"data row3 col2\" >SEMIO_KRIT</td> \n",
       "        <td id=\"T_a3ea4da6_100f_11e9_a8a6_0242ac120002row3_col3\" class=\"data row3 col3\" >-0.2713</td> \n",
       "    </tr>    <tr> \n",
       "        <th id=\"T_a3ea4da6_100f_11e9_a8a6_0242ac120002level0_row4\" class=\"row_heading level0 row4\" >4</th> \n",
       "        <td id=\"T_a3ea4da6_100f_11e9_a8a6_0242ac120002row4_col0\" class=\"data row4 col0\" >FINANZ_MINIMALIST</td> \n",
       "        <td id=\"T_a3ea4da6_100f_11e9_a8a6_0242ac120002row4_col1\" class=\"data row4 col1\" >0.1599</td> \n",
       "        <td id=\"T_a3ea4da6_100f_11e9_a8a6_0242ac120002row4_col2\" class=\"data row4 col2\" >SEMIO_RAT</td> \n",
       "        <td id=\"T_a3ea4da6_100f_11e9_a8a6_0242ac120002row4_col3\" class=\"data row4 col3\" >-0.2119</td> \n",
       "    </tr></tbody> \n",
       "</table> "
      ],
      "text/plain": [
       "<pandas.io.formats.style.Styler at 0x7f26bdc32b70>"
      ]
     },
     "execution_count": 59,
     "metadata": {},
     "output_type": "execute_result"
    }
   ],
   "source": [
    "# Map weights for the third principal component to corresponding feature names\n",
    "# and then print the linked values, sorted by weight.\n",
    "com_weight = get_com_weight_on_features(pca_26,dem_scale,3)\n",
    "com_weight.describe()\n",
    "top_features = get_top_N_features(com_weight,10)\n",
    "top_features.style.bar(align='mid')\n"
   ]
  },
  {
   "cell_type": "code",
   "execution_count": null,
   "metadata": {},
   "outputs": [],
   "source": [
    "Top 5 Positive:\n",
    "SEMIO_VERT: Personality typology - VERT: dreamful (1: highest affinity, 7: lowest affinity)\n",
    "SEMIO_SOZ: Personality typology - SOZ: socially-minded (1: highest affinity, 7: lowest affinity)\n",
    "SEMIO_FAM: Personality typology - family-minded ( 1: highest affinity, 7: lowest affinity)\n",
    "SEMIO_KULT: Personality typology - cultural-minded ( 1: highest affinity, 7: lowest affinity)\n",
    "FINANZ_MINIMALIST : Financial typology - MINIMALIST: low financial interest (1: very high, 5: very low)\n",
    "\n",
    "Top 5 Negative\n",
    "ANREDE_KZ: Gender ( 1: male, 2: female)\n",
    "SEMIO_KAEM: Personality typology - KAEM: combative attitude ( 1: highest affinity, 7: lowest affinity)\n",
    "SEMIO_DOM: Personality typology - DOM: dominant-minded ( 1: highest affinity, 7: lowest affinity)\n",
    "SEMIO_KRIT: Personality typology - KRIT: critical-minded ( 1: highest affinity, 7: lowest affinity)\n",
    "SEMIO_RAT: Personality typology - RAT: rational ( 1: highest affinity, 7: lowest affinity)\n",
    "\n",
    "# So The third component seems to indicate gender,personality"
   ]
  },
  {
   "cell_type": "markdown",
   "metadata": {},
   "source": [
    "### Discussion 2.3: Interpret Principal Components\n",
    "\n",
    "(Double-click this cell and replace this text with your own text, reporting your observations from detailed investigation of the first few principal components generated. Can we interpret positive and negative values from them in a meaningful way?)\n",
    "\n",
    "1. So the first component captures the population density and financial condition\n",
    "Top 5 Positive\n",
    "\n",
    "PLZ8_ANTG3: Number of 6-10 family houses in the PLZ8 region (0: no 6-10 family homes, 3: high share of 6-10 family homes)\n",
    "PLZ8_ANTG4 : Number of 10+ family houses in the PLZ8 region (0: no 10+ family home, 2: high share of 10+ family homes)\n",
    "HH_EINKOMMEN_SCORE: Estimated household net income (1: highest income, 6: very low income)\n",
    "WEALTH: Household wealth - Engineered (1: Wealthy Households, 5: Poorer Households)\n",
    "ORTSGR_KLS9: Size of community (1: <= 2,000 inhabitants, 9: > 700,000 inhabitants)\n",
    "#people live in high share community with low income \n",
    "\n",
    "Top 5 Negative\n",
    "MOBI_REGIO : Movement patterns (1: very high movement, 6: none)\n",
    "PLZ8_ANTG1: Number of 1-2 family houses in the PLZ8 region (0: no 1-2 family homes, 4: very high share of 1-2 family homes)\n",
    "KBA05_ANTG1 : Number of 1-2 family houses in the microcell (0: no 1-2 family homes, 4: very high share of 1-2 family homes)\n",
    "FINANZ_MINIMALIST : Financial typology - MINIMALIST: low financial interest (1: very high, 5: very low)\n",
    "KBA05_GBZ: Number of buildings in the microcell(1: 1-2 buildings;5: >=23 buildings)\n",
    "#people live in less dense region with higher financial ability\n",
    "\n",
    "2. So the second component seems to indicate age,personality\n",
    "Top 5 Positive:\n",
    "ALTERSKATEGORIE_GROB: Estimated age based on given name analysis (1: < 30 years old, 4: > 60 years old, 9: uniformly distributed)\n",
    "FINANZ_VORSORGER: Financial typology - Be prepared (1: Very high, 5: Very low)\n",
    "SEMIO_ERL: Personality typology - event-oriented ( 1: highest affinity, 7: lowest affinity)\n",
    "SEMIO_LUST: Personality typology - sensual-minded ( 1: highest affinity, 7: lowest affinity)\n",
    "RETOURTYP_BK_S: Return type (1: influenceable Crazy-Shopper, 5: determined Minimal-Returner)\n",
    "#people who are older, less prepared in financial,low affinity,determined Minimal-Returner\n",
    "    \n",
    "Top 5 Negative\n",
    "SEMIO_REL: Personality typology - religious ( 1: highest affinity, 7: lowest affinity)\n",
    "DECADE: Person’s decade of youth (1: 40s , 6: 90s)\n",
    "FINANZ_SPARER: Financial typology - money-saver (1: Very high, 5: Very low)\n",
    "FINANZ_UNAUFFAELLIGER: Financial typology - inconspicuous (1: Very high, 5: Very low)\n",
    "SEMIO_TRADV: Personality typology - tradional-minded ( 1: highest affinity, 7: lowest affinity)\n",
    "\n",
    "3. So The third component seems to indicate gender,personality\n",
    "Top 5 Positive:\n",
    "SEMIO_VERT: Personality typology - VERT: dreamful (1: highest affinity, 7: lowest affinity)\n",
    "SEMIO_SOZ: Personality typology - SOZ: socially-minded (1: highest affinity, 7: lowest affinity)\n",
    "SEMIO_FAM: Personality typology - family-minded ( 1: highest affinity, 7: lowest affinity)\n",
    "SEMIO_KULT: Personality typology - cultural-minded ( 1: highest affinity, 7: lowest affinity)\n",
    "FINANZ_MINIMALIST : Financial typology - MINIMALIST: low financial interest (1: very high, 5: very low)\n",
    "\n",
    "Top 5 Negative\n",
    "ANREDE_KZ: Gender ( 1: male, 2: female)\n",
    "SEMIO_KAEM: Personality typology - KAEM: combative attitude ( 1: highest affinity, 7: lowest affinity)\n",
    "SEMIO_DOM: Personality typology - DOM: dominant-minded ( 1: highest affinity, 7: lowest affinity)\n",
    "SEMIO_KRIT: Personality typology - KRIT: critical-minded ( 1: highest affinity, 7: lowest affinity)\n",
    "SEMIO_RAT: Personality typology - RAT: rational ( 1: highest affinity, 7: lowest affinity)\n"
   ]
  },
  {
   "cell_type": "markdown",
   "metadata": {},
   "source": [
    "## Step 3: Clustering\n",
    "\n",
    "### Step 3.1: Apply Clustering to General Population\n",
    "\n",
    "You've assessed and cleaned the demographics data, then scaled and transformed them. Now, it's time to see how the data clusters in the principal components space. In this substep, you will apply k-means clustering to the dataset and use the average within-cluster distances from each point to their assigned cluster's centroid to decide on a number of clusters to keep.\n",
    "\n",
    "- Use sklearn's [KMeans](http://scikit-learn.org/stable/modules/generated/sklearn.cluster.KMeans.html#sklearn.cluster.KMeans) class to perform k-means clustering on the PCA-transformed data.\n",
    "- Then, compute the average difference from each point to its assigned cluster's center. **Hint**: The KMeans object's `.score()` method might be useful here, but note that in sklearn, scores tend to be defined so that larger is better. Try applying it to a small, toy dataset, or use an internet search to help your understanding.\n",
    "- Perform the above two steps for a number of different cluster counts. You can then see how the average distance decreases with an increasing number of clusters. However, each additional cluster provides a smaller net benefit. Use this fact to select a final number of clusters in which to group the data. **Warning**: because of the large size of the dataset, it can take a long time for the algorithm to resolve. The more clusters to fit, the longer the algorithm will take. You should test for cluster counts through at least 10 clusters to get the full picture, but you shouldn't need to test for a number of clusters above about 30.\n",
    "- Once you've selected a final number of clusters to use, re-fit a KMeans instance to perform the clustering operation. Make sure that you also obtain the cluster assignments for the general demographics data, since you'll be using them in the final Step 3.3."
   ]
  },
  {
   "cell_type": "code",
   "execution_count": 87,
   "metadata": {},
   "outputs": [
    {
     "name": "stdout",
     "output_type": "stream",
     "text": [
      "2\n",
      "3\n",
      "4\n",
      "5\n",
      "6\n",
      "7\n",
      "8\n",
      "9\n",
      "10\n",
      "11\n",
      "12\n",
      "13\n",
      "14\n",
      "15\n",
      "16\n",
      "17\n",
      "18\n",
      "19\n"
     ]
    }
   ],
   "source": [
    "# Over a number of different cluster counts...\n",
    "\n",
    "# run k-means clustering on the data and...\n",
    "    \n",
    "# compute the average within-cluster distances.\n",
    " \n",
    "max_cluster = 20  \n",
    "scores = {}\n",
    "for i in range(2, max_cluster):\n",
    "    # run k-means clustering on the data and...\n",
    "    print(i)\n",
    "    scores[i] = np.abs(KMeans(n_clusters=i).fit(dem_pca_26).score(dem_pca_26))\n"
   ]
  },
  {
   "cell_type": "code",
   "execution_count": 89,
   "metadata": {},
   "outputs": [
    {
     "data": {
      "image/png": "[encoded data removed]",
      "text/plain": [
       "<matplotlib.figure.Figure at 0x7f26bef79cf8>"
      ]
     },
     "metadata": {
      "needs_background": "light"
     },
     "output_type": "display_data"
    }
   ],
   "source": [
    "# Investigate the change in within-cluster distance across number of clusters.\n",
    "# HINT: Use matplotlib's plot function to visualize this relationship.\n",
    "# Plot relationship plot\n",
    "fig, ax = plt.subplots(figsize=(16,10))    \n",
    "ax = pd.Series(scores).plot(marker='o', color='slategray')\n",
    "ax.set_xticks(np.arange(2, max_cluster), minor=False);\n",
    "ax.set_xlabel(\"# of Clusters\")\n",
    "ax.set_ylabel(\"SSE\");"
   ]
  },
  {
   "cell_type": "code",
   "execution_count": 62,
   "metadata": {},
   "outputs": [],
   "source": [
    "# Re-fit the k-means model with the selected number of clusters and obtain\n",
    "# cluster predictions for the general population demographics data.\n",
    "kmeans_model = KMeans(n_clusters=10, n_jobs=-1, random_state=0).fit(dem_pca_26)\n",
    "dem_pca_26_df[\"labels\"] = kmeans_model.labels_"
   ]
  },
  {
   "cell_type": "code",
   "execution_count": 63,
   "metadata": {},
   "outputs": [
    {
     "name": "stdout",
     "output_type": "stream",
     "text": [
      "[3 1 0 ..., 1 2 8]\n",
      "          0         1         2         3         4         5         6  \\\n",
      "0  3.907813 -2.656815 -2.895801 -0.431174 -2.502602  2.186966  0.663503   \n",
      "1 -0.893352  0.179040 -3.051476  2.232254 -0.914788 -0.246077  0.301159   \n",
      "2 -4.068325  1.143320 -0.822066 -0.918259  0.781444  0.890020 -1.684059   \n",
      "3  0.571166  0.223032  3.234550  0.628176  1.396090 -2.795826 -0.616124   \n",
      "4 -0.710984 -1.353124 -1.047913 -1.814107 -3.407436 -1.052930  0.452265   \n",
      "\n",
      "          7         8         9   ...          17        18        19  \\\n",
      "0  0.903875  1.286838 -0.613856   ...   -0.321565 -0.955371  1.278683   \n",
      "1 -0.987770  0.880517 -1.282910   ...   -1.352460  1.024069 -0.228548   \n",
      "2 -0.518068 -1.375962 -0.237681   ...    0.008097  0.385037 -0.469851   \n",
      "3  2.317031  1.317533 -0.632995   ...   -0.502070 -0.334184 -0.296646   \n",
      "4 -0.619557 -2.743609  1.535071   ...    1.116145 -2.371417  0.006345   \n",
      "\n",
      "         20        21        22        23        24        25  labels  \n",
      "0  1.136489 -0.215001  0.290599 -0.585462 -0.695201  0.075591       3  \n",
      "1 -1.726235  0.384653 -0.909043 -1.307605 -0.514359  0.506862       1  \n",
      "2  0.835708 -0.213031  1.830177 -1.395825 -0.859715 -0.289685       0  \n",
      "3  0.275118  1.347586 -0.235265 -0.608944  0.160589  0.381021       7  \n",
      "4  0.343136  0.647152  0.403387 -0.771643 -0.239889  0.044876       1  \n",
      "\n",
      "[5 rows x 27 columns]\n"
     ]
    }
   ],
   "source": [
    "print(kmeans_model.labels_)\n",
    "print(dem_pca_26_df.head())"
   ]
  },
  {
   "cell_type": "markdown",
   "metadata": {},
   "source": [
    "### Discussion 3.1: Apply Clustering to General Population\n",
    "\n",
    "(Double-click this cell and replace this text with your own text, reporting your findings and decisions regarding clustering. Into how many clusters have you decided to segment the population?)\n",
    "\n",
    "I have tested with a range of the number of clusters from 2 to 19 and plot SSE against cluster number. And from the plot we can see there is a shift in the rate at which SSE decreases in the range of 6 to 10 clusters. So I decide to use 9 clusters."
   ]
  },
  {
   "cell_type": "markdown",
   "metadata": {},
   "source": [
    "### Step 3.2: Apply All Steps to the Customer Data\n",
    "\n",
    "Now that you have clusters and cluster centers for the general population, it's time to see how the customer data maps on to those clusters. Take care to not confuse this for re-fitting all of the models to the customer data. Instead, you're going to use the fits from the general population to clean, transform, and cluster the customer data. In the last step of the project, you will interpret how the general population fits apply to the customer data.\n",
    "\n",
    "- Don't forget when loading in the customers data, that it is semicolon (`;`) delimited.\n",
    "- Apply the same feature wrangling, selection, and engineering steps to the customer demographics using the `clean_data()` function you created earlier. (You can assume that the customer demographics data has similar meaning behind missing data patterns as the general demographics data.)\n",
    "- Use the sklearn objects from the general demographics data, and apply their transformations to the customers data. That is, you should not be using a `.fit()` or `.fit_transform()` method to re-fit the old objects, nor should you be creating new sklearn objects! Carry the data through the feature scaling, PCA, and clustering steps, obtaining cluster assignments for all of the data in the customer demographics data."
   ]
  },
  {
   "cell_type": "code",
   "execution_count": 64,
   "metadata": {},
   "outputs": [
    {
     "name": "stdout",
     "output_type": "stream",
     "text": [
      "(191652, 85)\n"
     ]
    }
   ],
   "source": [
    "# Load in the customer demographics data.\n",
    "customers = pd.read_csv('Udacity_CUSTOMERS_Subset.csv', sep=';') \n",
    "print(customers.shape)"
   ]
  },
  {
   "cell_type": "code",
   "execution_count": 65,
   "metadata": {},
   "outputs": [
    {
     "name": "stdout",
     "output_type": "stream",
     "text": [
      "process done missing code to nan\n",
      "process done remove high missing rate colunms and rows\n",
      "process done re-encode and engineer\n"
     ]
    }
   ],
   "source": [
    "# Apply preprocessing, feature transformation, and clustering from the general\n",
    "# demographics onto the customer data, obtaining cluster predictions for the\n",
    "# customer demographics data.\n",
    "cus_df, cust_highna_df = clean_data(customers,missing_data_encode,cols_remove,feat_info)\n"
   ]
  },
  {
   "cell_type": "code",
   "execution_count": 66,
   "metadata": {},
   "outputs": [
    {
     "name": "stdout",
     "output_type": "stream",
     "text": [
      "[ True  True  True  True  True  True  True  True  True  True  True  True\n",
      "  True  True  True  True  True  True  True  True  True  True  True  True\n",
      "  True  True  True  True  True  True  True  True  True  True  True  True\n",
      "  True  True  True  True  True  True  True  True  True  True  True  True\n",
      "  True  True  True  True  True  True  True  True  True  True  True  True\n",
      "  True  True  True  True]\n"
     ]
    }
   ],
   "source": [
    "# check data clean \n",
    "assert(cus_df.shape[1] == dem_df.shape[1])\n",
    "print(cus_df.columns == dem_df.columns)"
   ]
  },
  {
   "cell_type": "code",
   "execution_count": 67,
   "metadata": {},
   "outputs": [
    {
     "data": {
      "text/html": [
       "<div>\n",
       "<style>\n",
       "    .dataframe thead tr:only-child th {\n",
       "        text-align: right;\n",
       "    }\n",
       "\n",
       "    .dataframe thead th {\n",
       "        text-align: left;\n",
       "    }\n",
       "\n",
       "    .dataframe tbody tr th {\n",
       "        vertical-align: top;\n",
       "    }\n",
       "</style>\n",
       "<table border=\"1\" class=\"dataframe\">\n",
       "  <thead>\n",
       "    <tr style=\"text-align: right;\">\n",
       "      <th></th>\n",
       "      <th>ALTERSKATEGORIE_GROB</th>\n",
       "      <th>ANREDE_KZ</th>\n",
       "      <th>FINANZ_MINIMALIST</th>\n",
       "      <th>FINANZ_SPARER</th>\n",
       "      <th>FINANZ_VORSORGER</th>\n",
       "      <th>FINANZ_ANLEGER</th>\n",
       "      <th>FINANZ_UNAUFFAELLIGER</th>\n",
       "      <th>FINANZ_HAUSBAUER</th>\n",
       "      <th>GREEN_AVANTGARDE</th>\n",
       "      <th>HEALTH_TYP</th>\n",
       "      <th>...</th>\n",
       "      <th>PLZ8_ANTG4</th>\n",
       "      <th>PLZ8_HHZ</th>\n",
       "      <th>PLZ8_GBZ</th>\n",
       "      <th>ARBEIT</th>\n",
       "      <th>ORTSGR_KLS9</th>\n",
       "      <th>RELAT_AB</th>\n",
       "      <th>DECADE</th>\n",
       "      <th>MOVEMENT</th>\n",
       "      <th>WEALTH</th>\n",
       "      <th>LIFE_STAGE</th>\n",
       "    </tr>\n",
       "  </thead>\n",
       "  <tbody>\n",
       "    <tr>\n",
       "      <th>count</th>\n",
       "      <td>133427.000000</td>\n",
       "      <td>133427.000000</td>\n",
       "      <td>133427.000000</td>\n",
       "      <td>133427.000000</td>\n",
       "      <td>133427.000000</td>\n",
       "      <td>133427.000000</td>\n",
       "      <td>133427.000000</td>\n",
       "      <td>133427.000000</td>\n",
       "      <td>133427.000000</td>\n",
       "      <td>133427.000000</td>\n",
       "      <td>...</td>\n",
       "      <td>133427.000000</td>\n",
       "      <td>133427.000000</td>\n",
       "      <td>133427.000000</td>\n",
       "      <td>133427.000000</td>\n",
       "      <td>133427.000000</td>\n",
       "      <td>133427.000000</td>\n",
       "      <td>133427.000000</td>\n",
       "      <td>133427.000000</td>\n",
       "      <td>133427.000000</td>\n",
       "      <td>133427.000000</td>\n",
       "    </tr>\n",
       "    <tr>\n",
       "      <th>mean</th>\n",
       "      <td>0.688522</td>\n",
       "      <td>-0.363980</td>\n",
       "      <td>0.891955</td>\n",
       "      <td>-0.860591</td>\n",
       "      <td>0.813680</td>\n",
       "      <td>-0.816789</td>\n",
       "      <td>-0.539144</td>\n",
       "      <td>-0.302508</td>\n",
       "      <td>0.643515</td>\n",
       "      <td>-0.308751</td>\n",
       "      <td>...</td>\n",
       "      <td>-0.242311</td>\n",
       "      <td>0.019533</td>\n",
       "      <td>0.240965</td>\n",
       "      <td>-0.375556</td>\n",
       "      <td>-0.119608</td>\n",
       "      <td>-0.156540</td>\n",
       "      <td>-0.994144</td>\n",
       "      <td>0.646734</td>\n",
       "      <td>-0.499256</td>\n",
       "      <td>0.333220</td>\n",
       "    </tr>\n",
       "    <tr>\n",
       "      <th>std</th>\n",
       "      <td>0.700623</td>\n",
       "      <td>0.940133</td>\n",
       "      <td>0.746176</td>\n",
       "      <td>0.555839</td>\n",
       "      <td>0.597206</td>\n",
       "      <td>0.684123</td>\n",
       "      <td>0.691450</td>\n",
       "      <td>0.958598</td>\n",
       "      <td>1.179776</td>\n",
       "      <td>1.011043</td>\n",
       "      <td>...</td>\n",
       "      <td>0.870094</td>\n",
       "      <td>0.968659</td>\n",
       "      <td>0.904228</td>\n",
       "      <td>1.016882</td>\n",
       "      <td>0.938308</td>\n",
       "      <td>1.049384</td>\n",
       "      <td>0.919622</td>\n",
       "      <td>1.177238</td>\n",
       "      <td>0.965707</td>\n",
       "      <td>0.893255</td>\n",
       "    </tr>\n",
       "    <tr>\n",
       "      <th>min</th>\n",
       "      <td>-1.746287</td>\n",
       "      <td>-1.022678</td>\n",
       "      <td>-1.512226</td>\n",
       "      <td>-1.141397</td>\n",
       "      <td>-1.765054</td>\n",
       "      <td>-1.221852</td>\n",
       "      <td>-1.139026</td>\n",
       "      <td>-1.588887</td>\n",
       "      <td>-0.553672</td>\n",
       "      <td>-1.591635</td>\n",
       "      <td>...</td>\n",
       "      <td>-0.981973</td>\n",
       "      <td>-2.721004</td>\n",
       "      <td>-2.111170</td>\n",
       "      <td>-2.223015</td>\n",
       "      <td>-1.914219</td>\n",
       "      <td>-1.563993</td>\n",
       "      <td>-2.280170</td>\n",
       "      <td>-0.553672</td>\n",
       "      <td>-1.595951</td>\n",
       "      <td>-1.251111</td>\n",
       "    </tr>\n",
       "    <tr>\n",
       "      <th>25%</th>\n",
       "      <td>0.202108</td>\n",
       "      <td>-1.022678</td>\n",
       "      <td>0.692400</td>\n",
       "      <td>-1.141397</td>\n",
       "      <td>0.394972</td>\n",
       "      <td>-1.221852</td>\n",
       "      <td>-1.139026</td>\n",
       "      <td>-0.856544</td>\n",
       "      <td>-0.553672</td>\n",
       "      <td>-1.591635</td>\n",
       "      <td>...</td>\n",
       "      <td>-0.981973</td>\n",
       "      <td>-0.639701</td>\n",
       "      <td>-0.314765</td>\n",
       "      <td>-1.212095</td>\n",
       "      <td>-0.607437</td>\n",
       "      <td>-0.823841</td>\n",
       "      <td>-1.591245</td>\n",
       "      <td>-0.553672</td>\n",
       "      <td>-1.595951</td>\n",
       "      <td>-0.584134</td>\n",
       "    </tr>\n",
       "    <tr>\n",
       "      <th>50%</th>\n",
       "      <td>1.176305</td>\n",
       "      <td>-1.022678</td>\n",
       "      <td>1.427276</td>\n",
       "      <td>-1.141397</td>\n",
       "      <td>1.114980</td>\n",
       "      <td>-1.221852</td>\n",
       "      <td>-0.410325</td>\n",
       "      <td>-0.856544</td>\n",
       "      <td>1.806125</td>\n",
       "      <td>-0.273495</td>\n",
       "      <td>...</td>\n",
       "      <td>-0.981973</td>\n",
       "      <td>-0.002344</td>\n",
       "      <td>0.583438</td>\n",
       "      <td>-0.201175</td>\n",
       "      <td>-0.171843</td>\n",
       "      <td>-0.083688</td>\n",
       "      <td>-0.902320</td>\n",
       "      <td>1.806125</td>\n",
       "      <td>-0.909992</td>\n",
       "      <td>0.749820</td>\n",
       "    </tr>\n",
       "    <tr>\n",
       "      <th>75%</th>\n",
       "      <td>1.176305</td>\n",
       "      <td>0.977825</td>\n",
       "      <td>1.427276</td>\n",
       "      <td>-0.460783</td>\n",
       "      <td>1.114980</td>\n",
       "      <td>-0.531624</td>\n",
       "      <td>-0.410325</td>\n",
       "      <td>0.608142</td>\n",
       "      <td>1.806125</td>\n",
       "      <td>1.044646</td>\n",
       "      <td>...</td>\n",
       "      <td>0.384671</td>\n",
       "      <td>0.400951</td>\n",
       "      <td>0.583438</td>\n",
       "      <td>0.809745</td>\n",
       "      <td>0.699344</td>\n",
       "      <td>0.656464</td>\n",
       "      <td>-0.213395</td>\n",
       "      <td>1.806125</td>\n",
       "      <td>0.461926</td>\n",
       "      <td>0.749820</td>\n",
       "    </tr>\n",
       "    <tr>\n",
       "      <th>max</th>\n",
       "      <td>1.176305</td>\n",
       "      <td>0.977825</td>\n",
       "      <td>1.427276</td>\n",
       "      <td>1.581061</td>\n",
       "      <td>1.114980</td>\n",
       "      <td>1.539061</td>\n",
       "      <td>1.775776</td>\n",
       "      <td>1.340485</td>\n",
       "      <td>1.806125</td>\n",
       "      <td>1.044646</td>\n",
       "      <td>...</td>\n",
       "      <td>1.751315</td>\n",
       "      <td>1.441603</td>\n",
       "      <td>1.481641</td>\n",
       "      <td>1.820665</td>\n",
       "      <td>1.570532</td>\n",
       "      <td>1.396616</td>\n",
       "      <td>1.164455</td>\n",
       "      <td>1.806125</td>\n",
       "      <td>1.147884</td>\n",
       "      <td>1.416797</td>\n",
       "    </tr>\n",
       "  </tbody>\n",
       "</table>\n",
       "<p>8 rows × 64 columns</p>\n",
       "</div>"
      ],
      "text/plain": [
       "       ALTERSKATEGORIE_GROB      ANREDE_KZ  FINANZ_MINIMALIST  FINANZ_SPARER  \\\n",
       "count         133427.000000  133427.000000      133427.000000  133427.000000   \n",
       "mean               0.688522      -0.363980           0.891955      -0.860591   \n",
       "std                0.700623       0.940133           0.746176       0.555839   \n",
       "min               -1.746287      -1.022678          -1.512226      -1.141397   \n",
       "25%                0.202108      -1.022678           0.692400      -1.141397   \n",
       "50%                1.176305      -1.022678           1.427276      -1.141397   \n",
       "75%                1.176305       0.977825           1.427276      -0.460783   \n",
       "max                1.176305       0.977825           1.427276       1.581061   \n",
       "\n",
       "       FINANZ_VORSORGER  FINANZ_ANLEGER  FINANZ_UNAUFFAELLIGER  \\\n",
       "count     133427.000000   133427.000000          133427.000000   \n",
       "mean           0.813680       -0.816789              -0.539144   \n",
       "std            0.597206        0.684123               0.691450   \n",
       "min           -1.765054       -1.221852              -1.139026   \n",
       "25%            0.394972       -1.221852              -1.139026   \n",
       "50%            1.114980       -1.221852              -0.410325   \n",
       "75%            1.114980       -0.531624              -0.410325   \n",
       "max            1.114980        1.539061               1.775776   \n",
       "\n",
       "       FINANZ_HAUSBAUER  GREEN_AVANTGARDE     HEALTH_TYP      ...        \\\n",
       "count     133427.000000     133427.000000  133427.000000      ...         \n",
       "mean          -0.302508          0.643515      -0.308751      ...         \n",
       "std            0.958598          1.179776       1.011043      ...         \n",
       "min           -1.588887         -0.553672      -1.591635      ...         \n",
       "25%           -0.856544         -0.553672      -1.591635      ...         \n",
       "50%           -0.856544          1.806125      -0.273495      ...         \n",
       "75%            0.608142          1.806125       1.044646      ...         \n",
       "max            1.340485          1.806125       1.044646      ...         \n",
       "\n",
       "          PLZ8_ANTG4       PLZ8_HHZ       PLZ8_GBZ         ARBEIT  \\\n",
       "count  133427.000000  133427.000000  133427.000000  133427.000000   \n",
       "mean       -0.242311       0.019533       0.240965      -0.375556   \n",
       "std         0.870094       0.968659       0.904228       1.016882   \n",
       "min        -0.981973      -2.721004      -2.111170      -2.223015   \n",
       "25%        -0.981973      -0.639701      -0.314765      -1.212095   \n",
       "50%        -0.981973      -0.002344       0.583438      -0.201175   \n",
       "75%         0.384671       0.400951       0.583438       0.809745   \n",
       "max         1.751315       1.441603       1.481641       1.820665   \n",
       "\n",
       "         ORTSGR_KLS9       RELAT_AB         DECADE       MOVEMENT  \\\n",
       "count  133427.000000  133427.000000  133427.000000  133427.000000   \n",
       "mean       -0.119608      -0.156540      -0.994144       0.646734   \n",
       "std         0.938308       1.049384       0.919622       1.177238   \n",
       "min        -1.914219      -1.563993      -2.280170      -0.553672   \n",
       "25%        -0.607437      -0.823841      -1.591245      -0.553672   \n",
       "50%        -0.171843      -0.083688      -0.902320       1.806125   \n",
       "75%         0.699344       0.656464      -0.213395       1.806125   \n",
       "max         1.570532       1.396616       1.164455       1.806125   \n",
       "\n",
       "              WEALTH     LIFE_STAGE  \n",
       "count  133427.000000  133427.000000  \n",
       "mean       -0.499256       0.333220  \n",
       "std         0.965707       0.893255  \n",
       "min        -1.595951      -1.251111  \n",
       "25%        -1.595951      -0.584134  \n",
       "50%        -0.909992       0.749820  \n",
       "75%         0.461926       0.749820  \n",
       "max         1.147884       1.416797  \n",
       "\n",
       "[8 rows x 64 columns]"
      ]
     },
     "execution_count": 67,
     "metadata": {},
     "output_type": "execute_result"
    }
   ],
   "source": [
    "# Impute\n",
    "cus_imp = imp.transform(cus_df)\n",
    "# Scale\n",
    "cus_scale = scaler.transform(cus_imp)\n",
    "cus_scale = pd.DataFrame(cus_scale, columns=cus_df.columns)\n",
    "cus_scale.describe()"
   ]
  },
  {
   "cell_type": "code",
   "execution_count": 68,
   "metadata": {},
   "outputs": [
    {
     "name": "stdout",
     "output_type": "stream",
     "text": [
      "(133427, 26)\n"
     ]
    }
   ],
   "source": [
    "# Dimensionality reduction\n",
    "cus_pca = pca_26.transform(cus_scale)\n",
    "cus_pca_df = pd.DataFrame(cus_pca)\n",
    "print(cus_pca.shape)"
   ]
  },
  {
   "cell_type": "code",
   "execution_count": 69,
   "metadata": {},
   "outputs": [
    {
     "name": "stdout",
     "output_type": "stream",
     "text": [
      "[0 1 2 3 4 5 6 7 8 9]\n"
     ]
    }
   ],
   "source": [
    "# Clustering\n",
    "cus_kmeans = kmeans_model.predict(cus_pca)\n",
    "cus_pca_df[\"labels\"] = cus_kmeans\n",
    "print(np.unique(cus_kmeans))"
   ]
  },
  {
   "cell_type": "markdown",
   "metadata": {},
   "source": [
    "### Step 3.3: Compare Customer Data to Demographics Data\n",
    "\n",
    "At this point, you have clustered data based on demographics of the general population of Germany, and seen how the customer data for a mail-order sales company maps onto those demographic clusters. In this final substep, you will compare the two cluster distributions to see where the strongest customer base for the company is.\n",
    "\n",
    "Consider the proportion of persons in each cluster for the general population, and the proportions for the customers. If we think the company's customer base to be universal, then the cluster assignment proportions should be fairly similar between the two. If there are only particular segments of the population that are interested in the company's products, then we should see a mismatch from one to the other. If there is a higher proportion of persons in a cluster for the customer data compared to the general population (e.g. 5% of persons are assigned to a cluster for the general population, but 15% of the customer data is closest to that cluster's centroid) then that suggests the people in that cluster to be a target audience for the company. On the other hand, the proportion of the data in a cluster being larger in the general population than the customer data (e.g. only 2% of customers closest to a population centroid that captures 6% of the data) suggests that group of persons to be outside of the target demographics.\n",
    "\n",
    "Take a look at the following points in this step:\n",
    "\n",
    "- Compute the proportion of data points in each cluster for the general population and the customer data. Visualizations will be useful here: both for the individual dataset proportions, but also to visualize the ratios in cluster representation between groups. Seaborn's [`countplot()`](https://seaborn.pydata.org/generated/seaborn.countplot.html) or [`barplot()`](https://seaborn.pydata.org/generated/seaborn.barplot.html) function could be handy.\n",
    "  - Recall the analysis you performed in step 1.1.3 of the project, where you separated out certain data points from the dataset if they had more than a specified threshold of missing values. If you found that this group was qualitatively different from the main bulk of the data, you should treat this as an additional data cluster in this analysis. Make sure that you account for the number of data points in this subset, for both the general population and customer datasets, when making your computations!\n",
    "- Which cluster or clusters are overrepresented in the customer dataset compared to the general population? Select at least one such cluster and infer what kind of people might be represented by that cluster. Use the principal component interpretations from step 2.3 or look at additional components to help you make this inference. Alternatively, you can use the `.inverse_transform()` method of the PCA and StandardScaler objects to transform centroids back to the original data space and interpret the retrieved values directly.\n",
    "- Perform a similar investigation for the underrepresented clusters. Which cluster or clusters are underrepresented in the customer dataset compared to the general population, and what kinds of people are typified by these clusters?"
   ]
  },
  {
   "cell_type": "code",
   "execution_count": 70,
   "metadata": {},
   "outputs": [
    {
     "name": "stdout",
     "output_type": "stream",
     "text": [
      "   label      freq group\n",
      "0      0  0.107783   pop\n",
      "1      1  0.101084   pop\n",
      "2      2  0.086819   pop\n",
      "3      3  0.102215   pop\n",
      "4      4  0.122137   pop\n",
      "5      5  0.130915   pop\n",
      "6      6  0.033876   pop\n",
      "7      7  0.127166   pop\n",
      "8      8  0.108240   pop\n",
      "9      9  0.079763   pop\n",
      "0      0  0.086459   cus\n",
      "1      1  0.014727   cus\n",
      "2      2  0.009713   cus\n",
      "3      3  0.010125   cus\n",
      "4      4  0.415261   cus\n",
      "5      5  0.099725   cus\n",
      "6      6  0.032025   cus\n",
      "7      7  0.117532   cus\n",
      "8      8  0.192450   cus\n",
      "9      9  0.021982   cus\n"
     ]
    }
   ],
   "source": [
    "# Compare the proportion of data in each cluster for the customer data to the\n",
    "# proportion of data in each cluster for the general population.\n",
    "pop_freq = pd.DataFrame(itemfreq(dem_pca_26_df[\"labels\"]),columns=['label','freq'])\n",
    "pop_freq['group'] = 'pop'\n",
    "pop_freq['freq'] = pop_freq['freq']/pop_freq['freq'].sum()\n",
    "#print(pop_freq)\n",
    "\n",
    "# proportion of data in each cluster for the customer population.\n",
    "cus_freq = pd.DataFrame(itemfreq(cus_pca_df[\"labels\"]),columns=['label','freq'])\n",
    "cus_freq['group'] = 'cus'\n",
    "cus_freq['freq'] = cus_freq['freq']/cus_freq['freq'].sum()\n",
    "#print(cus_freq)\n",
    "\n",
    "# combine two data frame\n",
    "total_freq = pop_freq.append(cus_freq)\n",
    "print(total_freq )"
   ]
  },
  {
   "cell_type": "code",
   "execution_count": 71,
   "metadata": {},
   "outputs": [
    {
     "data": {
      "image/png": "[encoded data removed]",
      "text/plain": [
       "<matplotlib.figure.Figure at 0x7f26bdcdaf98>"
      ]
     },
     "metadata": {
      "needs_background": "light"
     },
     "output_type": "display_data"
    }
   ],
   "source": [
    "# make a visual plot\n",
    "ax=sns.barplot(x='label', y='freq', hue='group', data=total_freq)"
   ]
  },
  {
   "cell_type": "code",
   "execution_count": 72,
   "metadata": {},
   "outputs": [
    {
     "data": {
      "image/png": "[encoded data removed]",
      "text/plain": [
       "<matplotlib.figure.Figure at 0x7f26bc97f860>"
      ]
     },
     "metadata": {
      "needs_background": "light"
     },
     "output_type": "display_data"
    }
   ],
   "source": [
    "# make a visual plot about customer freq - population freq\n",
    "ax=sns.barplot(x=cus_freq.label, y=cus_freq.freq - pop_freq.freq)"
   ]
  },
  {
   "cell_type": "code",
   "execution_count": 84,
   "metadata": {},
   "outputs": [],
   "source": [
    "# What kinds of people are part of a cluster that is overrepresented in the\n",
    "# customer data compared to the general population?\n",
    "# cluster 4 is overrepresented\n",
    "def map_kmeans_weights_to_feats(kmeans, df, clust_no):\n",
    "    '''Map pca weights to  individual features\n",
    "    and return two pd.Series on with the highest\n",
    "    positive weights and one with the lowest negative\n",
    "    weights'''\n",
    "\n",
    "    weights = pd.DataFrame(np.round(kmeans.cluster_centers_, 4), columns=df.keys())\n",
    "    centroid = weights.iloc[clust_no, :]\n",
    "    cent_pos = centroid[centroid > 0].sort_values(ascending=False).to_frame()\n",
    "    cent_pos.reset_index(level=0, inplace=True)\n",
    "    cent_pos.columns = ['top_pos_col','top_pos_col_weight']\n",
    "    cent_neg = centroid[centroid < 0].sort_values(ascending=True).to_frame()\n",
    "    cent_neg.reset_index(level=0, inplace=True)\n",
    "    cent_neg.columns = ['top_neg_col','top_neg_col_weight']\n",
    "    top_pca_feature = pd.concat([cent_pos, cent_neg], axis=1)\n",
    "    top_pca_feature['top_neg_col'] = top_pca_feature['top_neg_col'].apply(str)\n",
    "    top_pca_feature['top_pos_col'] = top_pca_feature['top_pos_col'].apply(str)\n",
    "    return top_pca_feature\n",
    "\n"
   ]
  },
  {
   "cell_type": "code",
   "execution_count": 85,
   "metadata": {},
   "outputs": [
    {
     "data": {
      "text/html": [
       "<style  type=\"text/css\" >\n",
       "    #T_14e76a5e_1013_11e9_a8a6_0242ac120002row0_col1 {\n",
       "            width:  10em;\n",
       "             height:  80%;\n",
       "            background:  linear-gradient(90deg, transparent 0%, transparent 0.0%, #d65f5f 0.0%, #d65f5f 100.0%, transparent 100.0%);\n",
       "        }    #T_14e76a5e_1013_11e9_a8a6_0242ac120002row0_col3 {\n",
       "            width:  10em;\n",
       "             height:  80%;\n",
       "            background:  linear-gradient(90deg, transparent 0%, transparent 0.0%, #d65f5f 0.0%, #d65f5f 100.0%, transparent 100.0%);\n",
       "        }    #T_14e76a5e_1013_11e9_a8a6_0242ac120002row1_col1 {\n",
       "            width:  10em;\n",
       "             height:  80%;\n",
       "            background:  linear-gradient(90deg, transparent 0%, transparent 0.0%, #d65f5f 0.0%, #d65f5f 38.0%, transparent 38.0%);\n",
       "        }    #T_14e76a5e_1013_11e9_a8a6_0242ac120002row1_col3 {\n",
       "            width:  10em;\n",
       "             height:  80%;\n",
       "            background:  linear-gradient(90deg, transparent 0%, transparent 87.9%, #d65f5f 87.9%, #d65f5f 100.0%, transparent 100.0%);\n",
       "        }    #T_14e76a5e_1013_11e9_a8a6_0242ac120002row2_col1 {\n",
       "            width:  10em;\n",
       "             height:  80%;\n",
       "            background:  linear-gradient(90deg, transparent 0%, transparent 0.0%, #d65f5f 0.0%, #d65f5f 25.2%, transparent 25.2%);\n",
       "        }    #T_14e76a5e_1013_11e9_a8a6_0242ac120002row2_col3 {\n",
       "            width:  10em;\n",
       "             height:  80%;\n",
       "            background:  linear-gradient(90deg, transparent 0%, transparent 90.3%, #d65f5f 90.3%, #d65f5f 100.0%, transparent 100.0%);\n",
       "        }    #T_14e76a5e_1013_11e9_a8a6_0242ac120002row3_col1 {\n",
       "            width:  10em;\n",
       "             height:  80%;\n",
       "            background:  linear-gradient(90deg, transparent 0%, transparent 0.0%, #d65f5f 0.0%, #d65f5f 14.4%, transparent 14.4%);\n",
       "        }    #T_14e76a5e_1013_11e9_a8a6_0242ac120002row3_col3 {\n",
       "            width:  10em;\n",
       "             height:  80%;\n",
       "            background:  linear-gradient(90deg, transparent 0%, transparent 90.5%, #d65f5f 90.5%, #d65f5f 100.0%, transparent 100.0%);\n",
       "        }    #T_14e76a5e_1013_11e9_a8a6_0242ac120002row4_col1 {\n",
       "            width:  10em;\n",
       "             height:  80%;\n",
       "            background:  linear-gradient(90deg, transparent 0%, transparent 0.0%, #d65f5f 0.0%, #d65f5f 10.3%, transparent 10.3%);\n",
       "        }    #T_14e76a5e_1013_11e9_a8a6_0242ac120002row4_col3 {\n",
       "            width:  10em;\n",
       "             height:  80%;\n",
       "            background:  linear-gradient(90deg, transparent 0%, transparent 95.7%, #d65f5f 95.7%, #d65f5f 100.0%, transparent 100.0%);\n",
       "        }    #T_14e76a5e_1013_11e9_a8a6_0242ac120002row5_col1 {\n",
       "            width:  10em;\n",
       "             height:  80%;\n",
       "            background:  linear-gradient(90deg, transparent 0%, transparent 0.0%, #d65f5f 0.0%, #d65f5f 10.1%, transparent 10.1%);\n",
       "        }    #T_14e76a5e_1013_11e9_a8a6_0242ac120002row5_col3 {\n",
       "            width:  10em;\n",
       "             height:  80%;\n",
       "            background:  linear-gradient(90deg, transparent 0%, transparent 97.1%, #d65f5f 97.1%, #d65f5f 100.0%, transparent 100.0%);\n",
       "        }    #T_14e76a5e_1013_11e9_a8a6_0242ac120002row6_col1 {\n",
       "            width:  10em;\n",
       "             height:  80%;\n",
       "            background:  linear-gradient(90deg, transparent 0%, transparent 0.0%, #d65f5f 0.0%, #d65f5f 9.2%, transparent 9.2%);\n",
       "        }    #T_14e76a5e_1013_11e9_a8a6_0242ac120002row6_col3 {\n",
       "            width:  10em;\n",
       "             height:  80%;\n",
       "            background:  linear-gradient(90deg, transparent 0%, transparent 98.2%, #d65f5f 98.2%, #d65f5f 100.0%, transparent 100.0%);\n",
       "        }    #T_14e76a5e_1013_11e9_a8a6_0242ac120002row7_col1 {\n",
       "            width:  10em;\n",
       "             height:  80%;\n",
       "            background:  linear-gradient(90deg, transparent 0%, transparent 0.0%, #d65f5f 0.0%, #d65f5f 3.8%, transparent 3.8%);\n",
       "        }    #T_14e76a5e_1013_11e9_a8a6_0242ac120002row7_col3 {\n",
       "            width:  10em;\n",
       "             height:  80%;\n",
       "            background:  linear-gradient(90deg, transparent 0%, transparent 98.8%, #d65f5f 98.8%, #d65f5f 100.0%, transparent 100.0%);\n",
       "        }    #T_14e76a5e_1013_11e9_a8a6_0242ac120002row8_col1 {\n",
       "            width:  10em;\n",
       "             height:  80%;\n",
       "            background:  linear-gradient(90deg, transparent 0%, transparent 0.0%, #d65f5f 0.0%, #d65f5f 3.6%, transparent 3.6%);\n",
       "        }    #T_14e76a5e_1013_11e9_a8a6_0242ac120002row8_col3 {\n",
       "            width:  10em;\n",
       "             height:  80%;\n",
       "            background:  linear-gradient(90deg, transparent 0%, transparent 98.9%, #d65f5f 98.9%, #d65f5f 100.0%, transparent 100.0%);\n",
       "        }    #T_14e76a5e_1013_11e9_a8a6_0242ac120002row9_col1 {\n",
       "            width:  10em;\n",
       "             height:  80%;\n",
       "            background:  linear-gradient(90deg, transparent 0%, transparent 0.0%, #d65f5f 0.0%, #d65f5f 2.2%, transparent 2.2%);\n",
       "        }    #T_14e76a5e_1013_11e9_a8a6_0242ac120002row9_col3 {\n",
       "            width:  10em;\n",
       "             height:  80%;\n",
       "            background:  linear-gradient(90deg, transparent 0%, transparent 99.3%, #d65f5f 99.3%, #d65f5f 100.0%, transparent 100.0%);\n",
       "        }    #T_14e76a5e_1013_11e9_a8a6_0242ac120002row10_col1 {\n",
       "            width:  10em;\n",
       "             height:  80%;\n",
       "            background:  linear-gradient(90deg, transparent 0%, transparent 0.0%, #d65f5f 0.0%, #d65f5f 1.9%, transparent 1.9%);\n",
       "        }    #T_14e76a5e_1013_11e9_a8a6_0242ac120002row10_col3 {\n",
       "            width:  10em;\n",
       "             height:  80%;\n",
       "            background:  linear-gradient(90deg, transparent 0%, transparent 99.5%, #d65f5f 99.5%, #d65f5f 100.0%, transparent 100.0%);\n",
       "        }    #T_14e76a5e_1013_11e9_a8a6_0242ac120002row11_col1 {\n",
       "            width:  10em;\n",
       "             height:  80%;\n",
       "            background:  linear-gradient(90deg, transparent 0%, transparent 0.0%, #d65f5f 0.0%, #d65f5f 0.6%, transparent 0.6%);\n",
       "        }    #T_14e76a5e_1013_11e9_a8a6_0242ac120002row11_col3 {\n",
       "            width:  10em;\n",
       "             height:  80%;\n",
       "            background:  linear-gradient(90deg, transparent 0%, transparent 99.6%, #d65f5f 99.6%, #d65f5f 100.0%, transparent 100.0%);\n",
       "        }    #T_14e76a5e_1013_11e9_a8a6_0242ac120002row12_col1 {\n",
       "            width:  10em;\n",
       "             height:  80%;\n",
       "            background:  linear-gradient(90deg, transparent 0%, transparent 0.0%, #d65f5f 0.0%, #d65f5f 0.0%, transparent 0.0%);\n",
       "        }    #T_14e76a5e_1013_11e9_a8a6_0242ac120002row12_col3 {\n",
       "            width:  10em;\n",
       "             height:  80%;\n",
       "            background:  linear-gradient(90deg, transparent 0%, transparent 99.8%, #d65f5f 99.8%, #d65f5f 100.0%, transparent 100.0%);\n",
       "        }</style>  \n",
       "<table id=\"T_14e76a5e_1013_11e9_a8a6_0242ac120002\" > \n",
       "<thead>    <tr> \n",
       "        <th class=\"blank level0\" ></th> \n",
       "        <th class=\"col_heading level0 col0\" >top_pos_col</th> \n",
       "        <th class=\"col_heading level0 col1\" >top_pos_col_weight</th> \n",
       "        <th class=\"col_heading level0 col2\" >top_neg_col</th> \n",
       "        <th class=\"col_heading level0 col3\" >top_neg_col_weight</th> \n",
       "    </tr></thead> \n",
       "<tbody>    <tr> \n",
       "        <th id=\"T_14e76a5e_1013_11e9_a8a6_0242ac120002level0_row0\" class=\"row_heading level0 row0\" >0</th> \n",
       "        <td id=\"T_14e76a5e_1013_11e9_a8a6_0242ac120002row0_col0\" class=\"data row0 col0\" >3</td> \n",
       "        <td id=\"T_14e76a5e_1013_11e9_a8a6_0242ac120002row0_col1\" class=\"data row0 col1\" >2.5617</td> \n",
       "        <td id=\"T_14e76a5e_1013_11e9_a8a6_0242ac120002row0_col2\" class=\"data row0 col2\" >0</td> \n",
       "        <td id=\"T_14e76a5e_1013_11e9_a8a6_0242ac120002row0_col3\" class=\"data row0 col3\" >-3.5215</td> \n",
       "    </tr>    <tr> \n",
       "        <th id=\"T_14e76a5e_1013_11e9_a8a6_0242ac120002level0_row1\" class=\"row_heading level0 row1\" >1</th> \n",
       "        <td id=\"T_14e76a5e_1013_11e9_a8a6_0242ac120002row1_col0\" class=\"data row1 col0\" >1</td> \n",
       "        <td id=\"T_14e76a5e_1013_11e9_a8a6_0242ac120002row1_col1\" class=\"data row1 col1\" >0.9727</td> \n",
       "        <td id=\"T_14e76a5e_1013_11e9_a8a6_0242ac120002row1_col2\" class=\"data row1 col2\" >14</td> \n",
       "        <td id=\"T_14e76a5e_1013_11e9_a8a6_0242ac120002row1_col3\" class=\"data row1 col3\" >-0.4256</td> \n",
       "    </tr>    <tr> \n",
       "        <th id=\"T_14e76a5e_1013_11e9_a8a6_0242ac120002level0_row2\" class=\"row_heading level0 row2\" >2</th> \n",
       "        <td id=\"T_14e76a5e_1013_11e9_a8a6_0242ac120002row2_col0\" class=\"data row2 col0\" >2</td> \n",
       "        <td id=\"T_14e76a5e_1013_11e9_a8a6_0242ac120002row2_col1\" class=\"data row2 col1\" >0.6457</td> \n",
       "        <td id=\"T_14e76a5e_1013_11e9_a8a6_0242ac120002row2_col2\" class=\"data row2 col2\" >10</td> \n",
       "        <td id=\"T_14e76a5e_1013_11e9_a8a6_0242ac120002row2_col3\" class=\"data row2 col3\" >-0.3403</td> \n",
       "    </tr>    <tr> \n",
       "        <th id=\"T_14e76a5e_1013_11e9_a8a6_0242ac120002level0_row3\" class=\"row_heading level0 row3\" >3</th> \n",
       "        <td id=\"T_14e76a5e_1013_11e9_a8a6_0242ac120002row3_col0\" class=\"data row3 col0\" >15</td> \n",
       "        <td id=\"T_14e76a5e_1013_11e9_a8a6_0242ac120002row3_col1\" class=\"data row3 col1\" >0.3688</td> \n",
       "        <td id=\"T_14e76a5e_1013_11e9_a8a6_0242ac120002row3_col2\" class=\"data row3 col2\" >20</td> \n",
       "        <td id=\"T_14e76a5e_1013_11e9_a8a6_0242ac120002row3_col3\" class=\"data row3 col3\" >-0.3333</td> \n",
       "    </tr>    <tr> \n",
       "        <th id=\"T_14e76a5e_1013_11e9_a8a6_0242ac120002level0_row4\" class=\"row_heading level0 row4\" >4</th> \n",
       "        <td id=\"T_14e76a5e_1013_11e9_a8a6_0242ac120002row4_col0\" class=\"data row4 col0\" >6</td> \n",
       "        <td id=\"T_14e76a5e_1013_11e9_a8a6_0242ac120002row4_col1\" class=\"data row4 col1\" >0.2634</td> \n",
       "        <td id=\"T_14e76a5e_1013_11e9_a8a6_0242ac120002row4_col2\" class=\"data row4 col2\" >22</td> \n",
       "        <td id=\"T_14e76a5e_1013_11e9_a8a6_0242ac120002row4_col3\" class=\"data row4 col3\" >-0.1531</td> \n",
       "    </tr>    <tr> \n",
       "        <th id=\"T_14e76a5e_1013_11e9_a8a6_0242ac120002level0_row5\" class=\"row_heading level0 row5\" >5</th> \n",
       "        <td id=\"T_14e76a5e_1013_11e9_a8a6_0242ac120002row5_col0\" class=\"data row5 col0\" >4</td> \n",
       "        <td id=\"T_14e76a5e_1013_11e9_a8a6_0242ac120002row5_col1\" class=\"data row5 col1\" >0.2583</td> \n",
       "        <td id=\"T_14e76a5e_1013_11e9_a8a6_0242ac120002row5_col2\" class=\"data row5 col2\" >5</td> \n",
       "        <td id=\"T_14e76a5e_1013_11e9_a8a6_0242ac120002row5_col3\" class=\"data row5 col3\" >-0.1034</td> \n",
       "    </tr>    <tr> \n",
       "        <th id=\"T_14e76a5e_1013_11e9_a8a6_0242ac120002level0_row6\" class=\"row_heading level0 row6\" >6</th> \n",
       "        <td id=\"T_14e76a5e_1013_11e9_a8a6_0242ac120002row6_col0\" class=\"data row6 col0\" >17</td> \n",
       "        <td id=\"T_14e76a5e_1013_11e9_a8a6_0242ac120002row6_col1\" class=\"data row6 col1\" >0.2366</td> \n",
       "        <td id=\"T_14e76a5e_1013_11e9_a8a6_0242ac120002row6_col2\" class=\"data row6 col2\" >12</td> \n",
       "        <td id=\"T_14e76a5e_1013_11e9_a8a6_0242ac120002row6_col3\" class=\"data row6 col3\" >-0.0644</td> \n",
       "    </tr>    <tr> \n",
       "        <th id=\"T_14e76a5e_1013_11e9_a8a6_0242ac120002level0_row7\" class=\"row_heading level0 row7\" >7</th> \n",
       "        <td id=\"T_14e76a5e_1013_11e9_a8a6_0242ac120002row7_col0\" class=\"data row7 col0\" >8</td> \n",
       "        <td id=\"T_14e76a5e_1013_11e9_a8a6_0242ac120002row7_col1\" class=\"data row7 col1\" >0.0972</td> \n",
       "        <td id=\"T_14e76a5e_1013_11e9_a8a6_0242ac120002row7_col2\" class=\"data row7 col2\" >25</td> \n",
       "        <td id=\"T_14e76a5e_1013_11e9_a8a6_0242ac120002row7_col3\" class=\"data row7 col3\" >-0.0433</td> \n",
       "    </tr>    <tr> \n",
       "        <th id=\"T_14e76a5e_1013_11e9_a8a6_0242ac120002level0_row8\" class=\"row_heading level0 row8\" >8</th> \n",
       "        <td id=\"T_14e76a5e_1013_11e9_a8a6_0242ac120002row8_col0\" class=\"data row8 col0\" >9</td> \n",
       "        <td id=\"T_14e76a5e_1013_11e9_a8a6_0242ac120002row8_col1\" class=\"data row8 col1\" >0.0934</td> \n",
       "        <td id=\"T_14e76a5e_1013_11e9_a8a6_0242ac120002row8_col2\" class=\"data row8 col2\" >11</td> \n",
       "        <td id=\"T_14e76a5e_1013_11e9_a8a6_0242ac120002row8_col3\" class=\"data row8 col3\" >-0.0391</td> \n",
       "    </tr>    <tr> \n",
       "        <th id=\"T_14e76a5e_1013_11e9_a8a6_0242ac120002level0_row9\" class=\"row_heading level0 row9\" >9</th> \n",
       "        <td id=\"T_14e76a5e_1013_11e9_a8a6_0242ac120002row9_col0\" class=\"data row9 col0\" >19</td> \n",
       "        <td id=\"T_14e76a5e_1013_11e9_a8a6_0242ac120002row9_col1\" class=\"data row9 col1\" >0.0572</td> \n",
       "        <td id=\"T_14e76a5e_1013_11e9_a8a6_0242ac120002row9_col2\" class=\"data row9 col2\" >13</td> \n",
       "        <td id=\"T_14e76a5e_1013_11e9_a8a6_0242ac120002row9_col3\" class=\"data row9 col3\" >-0.0238</td> \n",
       "    </tr>    <tr> \n",
       "        <th id=\"T_14e76a5e_1013_11e9_a8a6_0242ac120002level0_row10\" class=\"row_heading level0 row10\" >10</th> \n",
       "        <td id=\"T_14e76a5e_1013_11e9_a8a6_0242ac120002row10_col0\" class=\"data row10 col0\" >7</td> \n",
       "        <td id=\"T_14e76a5e_1013_11e9_a8a6_0242ac120002row10_col1\" class=\"data row10 col1\" >0.048</td> \n",
       "        <td id=\"T_14e76a5e_1013_11e9_a8a6_0242ac120002row10_col2\" class=\"data row10 col2\" >23</td> \n",
       "        <td id=\"T_14e76a5e_1013_11e9_a8a6_0242ac120002row10_col3\" class=\"data row10 col3\" >-0.0178</td> \n",
       "    </tr>    <tr> \n",
       "        <th id=\"T_14e76a5e_1013_11e9_a8a6_0242ac120002level0_row11\" class=\"row_heading level0 row11\" >11</th> \n",
       "        <td id=\"T_14e76a5e_1013_11e9_a8a6_0242ac120002row11_col0\" class=\"data row11 col0\" >24</td> \n",
       "        <td id=\"T_14e76a5e_1013_11e9_a8a6_0242ac120002row11_col1\" class=\"data row11 col1\" >0.0159</td> \n",
       "        <td id=\"T_14e76a5e_1013_11e9_a8a6_0242ac120002row11_col2\" class=\"data row11 col2\" >18</td> \n",
       "        <td id=\"T_14e76a5e_1013_11e9_a8a6_0242ac120002row11_col3\" class=\"data row11 col3\" >-0.0124</td> \n",
       "    </tr>    <tr> \n",
       "        <th id=\"T_14e76a5e_1013_11e9_a8a6_0242ac120002level0_row12\" class=\"row_heading level0 row12\" >12</th> \n",
       "        <td id=\"T_14e76a5e_1013_11e9_a8a6_0242ac120002row12_col0\" class=\"data row12 col0\" >21</td> \n",
       "        <td id=\"T_14e76a5e_1013_11e9_a8a6_0242ac120002row12_col1\" class=\"data row12 col1\" >0.0003</td> \n",
       "        <td id=\"T_14e76a5e_1013_11e9_a8a6_0242ac120002row12_col2\" class=\"data row12 col2\" >16</td> \n",
       "        <td id=\"T_14e76a5e_1013_11e9_a8a6_0242ac120002row12_col3\" class=\"data row12 col3\" >-0.0076</td> \n",
       "    </tr></tbody> \n",
       "</table> "
      ],
      "text/plain": [
       "<pandas.io.formats.style.Styler at 0x7f26bebe1278>"
      ]
     },
     "execution_count": 85,
     "metadata": {},
     "output_type": "execute_result"
    }
   ],
   "source": [
    "# Overrepresented are cluster 4 by barplot\n",
    "top_pca_feature = map_kmeans_weights_to_feats(kmeans_model, cus_pca_df.iloc[:, :-1], 4)\n",
    "top_pca_feature.style.bar(align='mid')\n",
    "#top_pca_feature.style.apply(highlight_cols, axis=None)\n",
    "# component 1,4,2 have the greatest impact"
   ]
  },
  {
   "cell_type": "code",
   "execution_count": 86,
   "metadata": {},
   "outputs": [
    {
     "data": {
      "text/html": [
       "<style  type=\"text/css\" >\n",
       "    #T_19355b66_1013_11e9_a8a6_0242ac120002row0_col1 {\n",
       "            width:  10em;\n",
       "             height:  80%;\n",
       "            background:  linear-gradient(90deg, transparent 0%, transparent 0.0%, #d65f5f 0.0%, #d65f5f 100.0%, transparent 100.0%);\n",
       "        }    #T_19355b66_1013_11e9_a8a6_0242ac120002row0_col3 {\n",
       "            width:  10em;\n",
       "             height:  80%;\n",
       "            background:  linear-gradient(90deg, transparent 0%, transparent 0.0%, #d65f5f 0.0%, #d65f5f 100.0%, transparent 100.0%);\n",
       "        }    #T_19355b66_1013_11e9_a8a6_0242ac120002row1_col1 {\n",
       "            width:  10em;\n",
       "             height:  80%;\n",
       "            background:  linear-gradient(90deg, transparent 0%, transparent 0.0%, #d65f5f 0.0%, #d65f5f 10.8%, transparent 10.8%);\n",
       "        }    #T_19355b66_1013_11e9_a8a6_0242ac120002row1_col3 {\n",
       "            width:  10em;\n",
       "             height:  80%;\n",
       "            background:  linear-gradient(90deg, transparent 0%, transparent 54.7%, #d65f5f 54.7%, #d65f5f 100.0%, transparent 100.0%);\n",
       "        }    #T_19355b66_1013_11e9_a8a6_0242ac120002row2_col1 {\n",
       "            width:  10em;\n",
       "             height:  80%;\n",
       "            background:  linear-gradient(90deg, transparent 0%, transparent 0.0%, #d65f5f 0.0%, #d65f5f 8.1%, transparent 8.1%);\n",
       "        }    #T_19355b66_1013_11e9_a8a6_0242ac120002row2_col3 {\n",
       "            width:  10em;\n",
       "             height:  80%;\n",
       "            background:  linear-gradient(90deg, transparent 0%, transparent 89.8%, #d65f5f 89.8%, #d65f5f 100.0%, transparent 100.0%);\n",
       "        }    #T_19355b66_1013_11e9_a8a6_0242ac120002row3_col1 {\n",
       "            width:  10em;\n",
       "             height:  80%;\n",
       "            background:  linear-gradient(90deg, transparent 0%, transparent 0.0%, #d65f5f 0.0%, #d65f5f 3.6%, transparent 3.6%);\n",
       "        }    #T_19355b66_1013_11e9_a8a6_0242ac120002row3_col3 {\n",
       "            width:  10em;\n",
       "             height:  80%;\n",
       "            background:  linear-gradient(90deg, transparent 0%, transparent 93.5%, #d65f5f 93.5%, #d65f5f 100.0%, transparent 100.0%);\n",
       "        }    #T_19355b66_1013_11e9_a8a6_0242ac120002row4_col1 {\n",
       "            width:  10em;\n",
       "             height:  80%;\n",
       "            background:  linear-gradient(90deg, transparent 0%, transparent 0.0%, #d65f5f 0.0%, #d65f5f 2.8%, transparent 2.8%);\n",
       "        }    #T_19355b66_1013_11e9_a8a6_0242ac120002row4_col3 {\n",
       "            width:  10em;\n",
       "             height:  80%;\n",
       "            background:  linear-gradient(90deg, transparent 0%, transparent 96.6%, #d65f5f 96.6%, #d65f5f 100.0%, transparent 100.0%);\n",
       "        }    #T_19355b66_1013_11e9_a8a6_0242ac120002row5_col1 {\n",
       "            width:  10em;\n",
       "             height:  80%;\n",
       "            background:  linear-gradient(90deg, transparent 0%, transparent 0.0%, #d65f5f 0.0%, #d65f5f 2.6%, transparent 2.6%);\n",
       "        }    #T_19355b66_1013_11e9_a8a6_0242ac120002row5_col3 {\n",
       "            width:  10em;\n",
       "             height:  80%;\n",
       "            background:  linear-gradient(90deg, transparent 0%, transparent 96.7%, #d65f5f 96.7%, #d65f5f 100.0%, transparent 100.0%);\n",
       "        }    #T_19355b66_1013_11e9_a8a6_0242ac120002row6_col1 {\n",
       "            width:  10em;\n",
       "             height:  80%;\n",
       "            background:  linear-gradient(90deg, transparent 0%, transparent 0.0%, #d65f5f 0.0%, #d65f5f 2.5%, transparent 2.5%);\n",
       "        }    #T_19355b66_1013_11e9_a8a6_0242ac120002row6_col3 {\n",
       "            width:  10em;\n",
       "             height:  80%;\n",
       "            background:  linear-gradient(90deg, transparent 0%, transparent 97.5%, #d65f5f 97.5%, #d65f5f 100.0%, transparent 100.0%);\n",
       "        }    #T_19355b66_1013_11e9_a8a6_0242ac120002row7_col1 {\n",
       "            width:  10em;\n",
       "             height:  80%;\n",
       "            background:  linear-gradient(90deg, transparent 0%, transparent 0.0%, #d65f5f 0.0%, #d65f5f 2.5%, transparent 2.5%);\n",
       "        }    #T_19355b66_1013_11e9_a8a6_0242ac120002row7_col3 {\n",
       "            width:  10em;\n",
       "             height:  80%;\n",
       "            background:  linear-gradient(90deg, transparent 0%, transparent 97.7%, #d65f5f 97.7%, #d65f5f 100.0%, transparent 100.0%);\n",
       "        }    #T_19355b66_1013_11e9_a8a6_0242ac120002row8_col1 {\n",
       "            width:  10em;\n",
       "             height:  80%;\n",
       "            background:  linear-gradient(90deg, transparent 0%, transparent 0.0%, #d65f5f 0.0%, #d65f5f 1.8%, transparent 1.8%);\n",
       "        }    #T_19355b66_1013_11e9_a8a6_0242ac120002row8_col3 {\n",
       "            width:  10em;\n",
       "             height:  80%;\n",
       "            background:  linear-gradient(90deg, transparent 0%, transparent 97.9%, #d65f5f 97.9%, #d65f5f 100.0%, transparent 100.0%);\n",
       "        }    #T_19355b66_1013_11e9_a8a6_0242ac120002row9_col1 {\n",
       "            width:  10em;\n",
       "             height:  80%;\n",
       "            background:  linear-gradient(90deg, transparent 0%, transparent 0.0%, #d65f5f 0.0%, #d65f5f 1.6%, transparent 1.6%);\n",
       "        }    #T_19355b66_1013_11e9_a8a6_0242ac120002row9_col3 {\n",
       "            width:  10em;\n",
       "             height:  80%;\n",
       "            background:  linear-gradient(90deg, transparent 0%, transparent 98.4%, #d65f5f 98.4%, #d65f5f 100.0%, transparent 100.0%);\n",
       "        }    #T_19355b66_1013_11e9_a8a6_0242ac120002row10_col1 {\n",
       "            width:  10em;\n",
       "             height:  80%;\n",
       "            background:  linear-gradient(90deg, transparent 0%, transparent 0.0%, #d65f5f 0.0%, #d65f5f 1.1%, transparent 1.1%);\n",
       "        }    #T_19355b66_1013_11e9_a8a6_0242ac120002row10_col3 {\n",
       "            width:  10em;\n",
       "             height:  80%;\n",
       "            background:  linear-gradient(90deg, transparent 0%, transparent 98.9%, #d65f5f 98.9%, #d65f5f 100.0%, transparent 100.0%);\n",
       "        }    #T_19355b66_1013_11e9_a8a6_0242ac120002row11_col1 {\n",
       "            width:  10em;\n",
       "             height:  80%;\n",
       "            background:  linear-gradient(90deg, transparent 0%, transparent 0.0%, #d65f5f 0.0%, #d65f5f 0.6%, transparent 0.6%);\n",
       "        }    #T_19355b66_1013_11e9_a8a6_0242ac120002row11_col3 {\n",
       "            width:  10em;\n",
       "             height:  80%;\n",
       "            background:  linear-gradient(90deg, transparent 0%, transparent 99.4%, #d65f5f 99.4%, #d65f5f 100.0%, transparent 100.0%);\n",
       "        }    #T_19355b66_1013_11e9_a8a6_0242ac120002row12_col1 {\n",
       "            width:  10em;\n",
       "             height:  80%;\n",
       "            background:  linear-gradient(90deg, transparent 0%, transparent 0.0%, #d65f5f 0.0%, #d65f5f 0.1%, transparent 0.1%);\n",
       "        }    #T_19355b66_1013_11e9_a8a6_0242ac120002row12_col3 {\n",
       "            width:  10em;\n",
       "             height:  80%;\n",
       "            background:  linear-gradient(90deg, transparent 0%, transparent nan%, #d65f5f nan%, #d65f5f 100.0%, transparent 100.0%);\n",
       "        }    #T_19355b66_1013_11e9_a8a6_0242ac120002row13_col1 {\n",
       "            width:  10em;\n",
       "             height:  80%;\n",
       "            background:  linear-gradient(90deg, transparent 0%, transparent 0.0%, #d65f5f 0.0%, #d65f5f 0.0%, transparent 0.0%);\n",
       "        }    #T_19355b66_1013_11e9_a8a6_0242ac120002row13_col3 {\n",
       "            width:  10em;\n",
       "             height:  80%;\n",
       "            background:  linear-gradient(90deg, transparent 0%, transparent nan%, #d65f5f nan%, #d65f5f 100.0%, transparent 100.0%);\n",
       "        }</style>  \n",
       "<table id=\"T_19355b66_1013_11e9_a8a6_0242ac120002\" > \n",
       "<thead>    <tr> \n",
       "        <th class=\"blank level0\" ></th> \n",
       "        <th class=\"col_heading level0 col0\" >top_pos_col</th> \n",
       "        <th class=\"col_heading level0 col1\" >top_pos_col_weight</th> \n",
       "        <th class=\"col_heading level0 col2\" >top_neg_col</th> \n",
       "        <th class=\"col_heading level0 col3\" >top_neg_col_weight</th> \n",
       "    </tr></thead> \n",
       "<tbody>    <tr> \n",
       "        <th id=\"T_19355b66_1013_11e9_a8a6_0242ac120002level0_row0\" class=\"row_heading level0 row0\" >0</th> \n",
       "        <td id=\"T_19355b66_1013_11e9_a8a6_0242ac120002row0_col0\" class=\"data row0 col0\" >0</td> \n",
       "        <td id=\"T_19355b66_1013_11e9_a8a6_0242ac120002row0_col1\" class=\"data row0 col1\" >4.4577</td> \n",
       "        <td id=\"T_19355b66_1013_11e9_a8a6_0242ac120002row0_col2\" class=\"data row0 col2\" >2.0</td> \n",
       "        <td id=\"T_19355b66_1013_11e9_a8a6_0242ac120002row0_col3\" class=\"data row0 col3\" >-2.6027</td> \n",
       "    </tr>    <tr> \n",
       "        <th id=\"T_19355b66_1013_11e9_a8a6_0242ac120002level0_row1\" class=\"row_heading level0 row1\" >1</th> \n",
       "        <td id=\"T_19355b66_1013_11e9_a8a6_0242ac120002row1_col0\" class=\"data row1 col0\" >9</td> \n",
       "        <td id=\"T_19355b66_1013_11e9_a8a6_0242ac120002row1_col1\" class=\"data row1 col1\" >0.4822</td> \n",
       "        <td id=\"T_19355b66_1013_11e9_a8a6_0242ac120002row1_col2\" class=\"data row1 col2\" >1.0</td> \n",
       "        <td id=\"T_19355b66_1013_11e9_a8a6_0242ac120002row1_col3\" class=\"data row1 col3\" >-1.1801</td> \n",
       "    </tr>    <tr> \n",
       "        <th id=\"T_19355b66_1013_11e9_a8a6_0242ac120002level0_row2\" class=\"row_heading level0 row2\" >2</th> \n",
       "        <td id=\"T_19355b66_1013_11e9_a8a6_0242ac120002row2_col0\" class=\"data row2 col0\" >3</td> \n",
       "        <td id=\"T_19355b66_1013_11e9_a8a6_0242ac120002row2_col1\" class=\"data row2 col1\" >0.3607</td> \n",
       "        <td id=\"T_19355b66_1013_11e9_a8a6_0242ac120002row2_col2\" class=\"data row2 col2\" >7.0</td> \n",
       "        <td id=\"T_19355b66_1013_11e9_a8a6_0242ac120002row2_col3\" class=\"data row2 col3\" >-0.2658</td> \n",
       "    </tr>    <tr> \n",
       "        <th id=\"T_19355b66_1013_11e9_a8a6_0242ac120002level0_row3\" class=\"row_heading level0 row3\" >3</th> \n",
       "        <td id=\"T_19355b66_1013_11e9_a8a6_0242ac120002row3_col0\" class=\"data row3 col0\" >17</td> \n",
       "        <td id=\"T_19355b66_1013_11e9_a8a6_0242ac120002row3_col1\" class=\"data row3 col1\" >0.1586</td> \n",
       "        <td id=\"T_19355b66_1013_11e9_a8a6_0242ac120002row3_col2\" class=\"data row3 col2\" >8.0</td> \n",
       "        <td id=\"T_19355b66_1013_11e9_a8a6_0242ac120002row3_col3\" class=\"data row3 col3\" >-0.17</td> \n",
       "    </tr>    <tr> \n",
       "        <th id=\"T_19355b66_1013_11e9_a8a6_0242ac120002level0_row4\" class=\"row_heading level0 row4\" >4</th> \n",
       "        <td id=\"T_19355b66_1013_11e9_a8a6_0242ac120002row4_col0\" class=\"data row4 col0\" >10</td> \n",
       "        <td id=\"T_19355b66_1013_11e9_a8a6_0242ac120002row4_col1\" class=\"data row4 col1\" >0.1264</td> \n",
       "        <td id=\"T_19355b66_1013_11e9_a8a6_0242ac120002row4_col2\" class=\"data row4 col2\" >18.0</td> \n",
       "        <td id=\"T_19355b66_1013_11e9_a8a6_0242ac120002row4_col3\" class=\"data row4 col3\" >-0.0893</td> \n",
       "    </tr>    <tr> \n",
       "        <th id=\"T_19355b66_1013_11e9_a8a6_0242ac120002level0_row5\" class=\"row_heading level0 row5\" >5</th> \n",
       "        <td id=\"T_19355b66_1013_11e9_a8a6_0242ac120002row5_col0\" class=\"data row5 col0\" >15</td> \n",
       "        <td id=\"T_19355b66_1013_11e9_a8a6_0242ac120002row5_col1\" class=\"data row5 col1\" >0.1162</td> \n",
       "        <td id=\"T_19355b66_1013_11e9_a8a6_0242ac120002row5_col2\" class=\"data row5 col2\" >24.0</td> \n",
       "        <td id=\"T_19355b66_1013_11e9_a8a6_0242ac120002row5_col3\" class=\"data row5 col3\" >-0.0846</td> \n",
       "    </tr>    <tr> \n",
       "        <th id=\"T_19355b66_1013_11e9_a8a6_0242ac120002level0_row6\" class=\"row_heading level0 row6\" >6</th> \n",
       "        <td id=\"T_19355b66_1013_11e9_a8a6_0242ac120002row6_col0\" class=\"data row6 col0\" >23</td> \n",
       "        <td id=\"T_19355b66_1013_11e9_a8a6_0242ac120002row6_col1\" class=\"data row6 col1\" >0.1126</td> \n",
       "        <td id=\"T_19355b66_1013_11e9_a8a6_0242ac120002row6_col2\" class=\"data row6 col2\" >25.0</td> \n",
       "        <td id=\"T_19355b66_1013_11e9_a8a6_0242ac120002row6_col3\" class=\"data row6 col3\" >-0.0652</td> \n",
       "    </tr>    <tr> \n",
       "        <th id=\"T_19355b66_1013_11e9_a8a6_0242ac120002level0_row7\" class=\"row_heading level0 row7\" >7</th> \n",
       "        <td id=\"T_19355b66_1013_11e9_a8a6_0242ac120002row7_col0\" class=\"data row7 col0\" >6</td> \n",
       "        <td id=\"T_19355b66_1013_11e9_a8a6_0242ac120002row7_col1\" class=\"data row7 col1\" >0.1118</td> \n",
       "        <td id=\"T_19355b66_1013_11e9_a8a6_0242ac120002row7_col2\" class=\"data row7 col2\" >5.0</td> \n",
       "        <td id=\"T_19355b66_1013_11e9_a8a6_0242ac120002row7_col3\" class=\"data row7 col3\" >-0.0606</td> \n",
       "    </tr>    <tr> \n",
       "        <th id=\"T_19355b66_1013_11e9_a8a6_0242ac120002level0_row8\" class=\"row_heading level0 row8\" >8</th> \n",
       "        <td id=\"T_19355b66_1013_11e9_a8a6_0242ac120002row8_col0\" class=\"data row8 col0\" >4</td> \n",
       "        <td id=\"T_19355b66_1013_11e9_a8a6_0242ac120002row8_col1\" class=\"data row8 col1\" >0.0812</td> \n",
       "        <td id=\"T_19355b66_1013_11e9_a8a6_0242ac120002row8_col2\" class=\"data row8 col2\" >14.0</td> \n",
       "        <td id=\"T_19355b66_1013_11e9_a8a6_0242ac120002row8_col3\" class=\"data row8 col3\" >-0.0557</td> \n",
       "    </tr>    <tr> \n",
       "        <th id=\"T_19355b66_1013_11e9_a8a6_0242ac120002level0_row9\" class=\"row_heading level0 row9\" >9</th> \n",
       "        <td id=\"T_19355b66_1013_11e9_a8a6_0242ac120002row9_col0\" class=\"data row9 col0\" >22</td> \n",
       "        <td id=\"T_19355b66_1013_11e9_a8a6_0242ac120002row9_col1\" class=\"data row9 col1\" >0.0731</td> \n",
       "        <td id=\"T_19355b66_1013_11e9_a8a6_0242ac120002row9_col2\" class=\"data row9 col2\" >11.0</td> \n",
       "        <td id=\"T_19355b66_1013_11e9_a8a6_0242ac120002row9_col3\" class=\"data row9 col3\" >-0.0412</td> \n",
       "    </tr>    <tr> \n",
       "        <th id=\"T_19355b66_1013_11e9_a8a6_0242ac120002level0_row10\" class=\"row_heading level0 row10\" >10</th> \n",
       "        <td id=\"T_19355b66_1013_11e9_a8a6_0242ac120002row10_col0\" class=\"data row10 col0\" >19</td> \n",
       "        <td id=\"T_19355b66_1013_11e9_a8a6_0242ac120002row10_col1\" class=\"data row10 col1\" >0.0494</td> \n",
       "        <td id=\"T_19355b66_1013_11e9_a8a6_0242ac120002row10_col2\" class=\"data row10 col2\" >12.0</td> \n",
       "        <td id=\"T_19355b66_1013_11e9_a8a6_0242ac120002row10_col3\" class=\"data row10 col3\" >-0.0294</td> \n",
       "    </tr>    <tr> \n",
       "        <th id=\"T_19355b66_1013_11e9_a8a6_0242ac120002level0_row11\" class=\"row_heading level0 row11\" >11</th> \n",
       "        <td id=\"T_19355b66_1013_11e9_a8a6_0242ac120002row11_col0\" class=\"data row11 col0\" >20</td> \n",
       "        <td id=\"T_19355b66_1013_11e9_a8a6_0242ac120002row11_col1\" class=\"data row11 col1\" >0.028</td> \n",
       "        <td id=\"T_19355b66_1013_11e9_a8a6_0242ac120002row11_col2\" class=\"data row11 col2\" >13.0</td> \n",
       "        <td id=\"T_19355b66_1013_11e9_a8a6_0242ac120002row11_col3\" class=\"data row11 col3\" >-0.0146</td> \n",
       "    </tr>    <tr> \n",
       "        <th id=\"T_19355b66_1013_11e9_a8a6_0242ac120002level0_row12\" class=\"row_heading level0 row12\" >12</th> \n",
       "        <td id=\"T_19355b66_1013_11e9_a8a6_0242ac120002row12_col0\" class=\"data row12 col0\" >16</td> \n",
       "        <td id=\"T_19355b66_1013_11e9_a8a6_0242ac120002row12_col1\" class=\"data row12 col1\" >0.0047</td> \n",
       "        <td id=\"T_19355b66_1013_11e9_a8a6_0242ac120002row12_col2\" class=\"data row12 col2\" >nan</td> \n",
       "        <td id=\"T_19355b66_1013_11e9_a8a6_0242ac120002row12_col3\" class=\"data row12 col3\" >nan</td> \n",
       "    </tr>    <tr> \n",
       "        <th id=\"T_19355b66_1013_11e9_a8a6_0242ac120002level0_row13\" class=\"row_heading level0 row13\" >13</th> \n",
       "        <td id=\"T_19355b66_1013_11e9_a8a6_0242ac120002row13_col0\" class=\"data row13 col0\" >21</td> \n",
       "        <td id=\"T_19355b66_1013_11e9_a8a6_0242ac120002row13_col1\" class=\"data row13 col1\" >0.002</td> \n",
       "        <td id=\"T_19355b66_1013_11e9_a8a6_0242ac120002row13_col2\" class=\"data row13 col2\" >nan</td> \n",
       "        <td id=\"T_19355b66_1013_11e9_a8a6_0242ac120002row13_col3\" class=\"data row13 col3\" >nan</td> \n",
       "    </tr></tbody> \n",
       "</table> "
      ],
      "text/plain": [
       "<pandas.io.formats.style.Styler at 0x7f26bebe1400>"
      ]
     },
     "execution_count": 86,
     "metadata": {},
     "output_type": "execute_result"
    }
   ],
   "source": [
    "# What kinds of people are part of a cluster that is underrepresented in the\n",
    "# customer data compared to the general population?\n",
    "# cluster 3 are most underrepresented\n",
    "top_pca_feature = map_kmeans_weights_to_feats(kmeans_model, cus_pca_df.iloc[:, :-1], 3)\n",
    "top_pca_feature.style.bar(align='mid')\n",
    "# component 1,3,2 have the greatest impact"
   ]
  },
  {
   "cell_type": "markdown",
   "metadata": {},
   "source": [
    "### Discussion 3.3: Compare Customer Data to Demographics Data\n",
    "\n",
    "(Double-click this cell and replace this text with your own text, reporting findings and conclusions from the clustering analysis. Can we describe segments of the population that are relatively popular with the mail-order company, or relatively unpopular with the company?)\n",
    "\n",
    "1. popular segements\n",
    "First component has the greatest negative influence,which means that someone that ,is low movement(MOBI_REGIO) ,live in less dense area(PLZ8_ANTG3,PLZ8_ANTG4) with a lot small family houses(PLZ8_ANTG1,KBA05_ANTG1),in good finanical conditions are target users.\n",
    "\n",
    "1. unpopular segements\n",
    "First component has the greatest positive influence which means the opposite feature mentioned in popular segements are unpopular segements.The Third component has the greatest negative effect,which means people who are female, very dreamful are less likely to be target customer."
   ]
  },
  {
   "cell_type": "markdown",
   "metadata": {},
   "source": [
    "> Congratulations on making it this far in the project! Before you finish, make sure to check through the entire notebook from top to bottom to make sure that your analysis follows a logical flow and all of your findings are documented in **Discussion** cells. Once you've checked over all of your work, you should export the notebook as an HTML document to submit for evaluation. You can do this from the menu, navigating to **File -> Download as -> HTML (.html)**. You will submit both that document and this notebook for your project submission."
   ]
  },
  {
   "cell_type": "code",
   "execution_count": null,
   "metadata": {},
   "outputs": [],
   "source": []
  }
 ],
 "metadata": {
  "kernelspec": {
   "display_name": "Python 3",
   "language": "python",
   "name": "python3"
  },
  "language_info": {
   "codemirror_mode": {
    "name": "ipython",
    "version": 3
   },
   "file_extension": ".py",
   "mimetype": "text/x-python",
   "name": "python",
   "nbconvert_exporter": "python",
   "pygments_lexer": "ipython3",
   "version": "3.6.5"
  }
 },
 "nbformat": 4,
 "nbformat_minor": 2
}
